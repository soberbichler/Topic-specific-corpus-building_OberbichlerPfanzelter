{
 "cells": [
  {
   "cell_type": "markdown",
   "metadata": {
    "tags": [
     "title"
    ]
   },
   "source": [
    "# Topic-specific corpus building: The creation of a representative newspaper corpus on the topic of return migration using LDA and JSD\n",
    "\n"
   ]
  },
  {
   "cell_type": "markdown",
   "metadata": {
    "tags": [
     "contributor"
    ]
   },
   "source": [
    "\n",
    "#### 0.1 Sarah Oberbichler\n",
    "Author, University of Innsbruck "
   ]
  },
  {
   "cell_type": "markdown",
   "metadata": {
    "tags": [
     "contributor"
    ]
   },
   "source": [
    "\n",
    "#### 0.2 Eva Pfanzelter\n",
    "Author, University of Innsbruck "
   ]
  },
  {
   "cell_type": "markdown",
   "metadata": {
    "tags": [
     "cover"
    ]
   },
   "source": [
    "<div>\n",
    "<img src=\"images/cover.png\" width=\"1000\"/>\n",
    "</div>"
   ]
  },
  {
   "cell_type": "markdown",
   "metadata": {
    "tags": [
     "disclaimer"
    ]
   },
   "source": [
    "This  work has  been  supported  by  the  European  Union  Horizon  2020  research  and innovation programme under grant 770299 (NewsEye)."
   ]
  },
  {
   "cell_type": "markdown",
   "metadata": {
    "tags": [
     "tags"
    ]
   },
   "source": [
    "Corpus Building, Return Migration, Historical Newspapers, Text Mining, Word Sense Disambiguation, Similiarity"
   ]
  },
  {
   "cell_type": "markdown",
   "metadata": {
    "tags": [
     "abstract"
    ]
   },
   "source": [
    "Many researchers have the problem that their specialized corpora, created by keyword searches, either contain documents that are irrelevant to their research question because the search queries are too broad or, on the other hand, miss relevant documents because the search requests are too narrow. The reason for this is to be found in the difficult nature of language, which is characterized by ambiguity and concepts that are difficult, if not impossible, to trace by keyword search alone. This paper shows how text mining methods can support the building of a topic-specific corpus dealing with return migration issues. The aim is, on the one hand, to build a corpus that is as representative as possible and, on the other hand, to avoid complex keyword searches that are often influenced by the researcher's prior knowledge. The paper furthermore gives insights into the motivation and the challenges of corpus building and  gives an outlook on how the created corpus was used to conduct a qualitative, discourse-historical analysis on return migration from the Americas to Europe between 1850 and 1950."
   ]
  },
  {
   "cell_type": "markdown",
   "metadata": {},
   "source": [
    "## 1 Introduction"
   ]
  },
  {
   "cell_type": "markdown",
   "metadata": {},
   "source": [
    "Historiography based on digital sources raises the need to search for complex patterns in masses of information rather than gaps in the historical record (Haber 2012). This development has led to a certain hybridity of classical and digital methods in historical research (Fickers 2020), and goes along with methodological and epistemological challenges for the historical disciplines. It also calls for an extension of the historical method, which guides historical understanding through the three steps heuristics, source criticism and interpretation (Leyh 1977). Especially the update on source criticism (which often goes hand in hand with tool criticism) has received much attention within the emerging field of digital hermeneutics (Fickers 2020) (Föhr 2017) (Koolen, van Gorp, and van Ossenbruggen 2019) (Pfanzelter 2010). Other parts of the historical method, like the critical assessment of adequate corpus creation in the heuristic research step, have so far not been considered enough. "
   ]
  },
  {
   "cell_type": "markdown",
   "metadata": {},
   "source": [
    "Historical research is often based on event- or topic-specific research questions, which is why corpus building is an essential aspect when working with digital sources. However, such corpora often result from time-consuming and complex search processes. Moreover, not every corpus is suitable for historical analysis. Historical corpus-driven/corpus-based studies (quantitative, but also qualitative) rely on the quality and representativeness of the selected collection to provide valid results. Here, a distinction is made between external and internal criteria for corpus design and composition (Corpas Pastor and Seghiri Domínguez 2010). An important external criterion is the quality of the sources. This refers, on the one hand, to the reliability of the sources and, on the other hand, to the Optical Character Recognition (OCR) quality of the data (e.g., if retro-digitized sources are being used). A second important external criterion is the representativeness of sources. In the case of digitized newspapers, this includes the question whether the used digitized newspapers are representative for the needs of the research project or if important newspaper issues are missing out."
   ]
  },
  {
   "cell_type": "markdown",
   "metadata": {},
   "source": [
    "An important internal criterion that affects the representativeness of topic-specific corpora is the number of documents in a collection (Corpas Pastor and Seghiri Domínguez 2010). To improve the completeness (not too many relevant documents are left out) and purity (not too many irrelevant documents are included) of corpora, is an overall goal when creating topic-specific corpora. Although the creation of a 'pure corpus' is an unattainable goal and there can be no such thing as a generically representative corpus (Raineri and Debras, 2019), we define representativeness as a factor that depends very much on the purpose of the corpus and on its ability to allow research questions to be answered without serious bias. In this paper, we rely on this definition while focussing on the internal criterion for representativeness (i.e., the size of the corpus)."
   ]
  },
  {
   "cell_type": "markdown",
   "metadata": {},
   "source": [
    "When keywords are being used to create specialized collections, researchers often have to weight up between a collection that misses relevant articles, and one which contains noise (i.e. irrelevant texts). In other words, there is a conflict between creating a corpus that contains only relevant texts but not all relevant texts available in the entire collection and, on the other hand, creating a corpus that contains all available relevant texts, but at the expense of including many irrelevant texts (Chowdhury 2010) (Gabrielatos 2007). This is especially problematic when search terms are polysemous or ambiguous, as it is the case with German keywords related to return migration. "
   ]
  },
  {
   "cell_type": "markdown",
   "metadata": {},
   "source": [
    "This paper shows how a corpus created with ambiguous search queries related to return migration is successfully classified into relevant and irrelevant articles, i.e., disambiguated. A semi-supervised similarity-based WSD approach using Latent Dirichlet Allocation (LDA), a probabilistic model that calculates the probability distribution over terms (Blei, 2012) and the Jensen-Shannon Divergence (JSD), which measures the divergence between two probability distributions (Lin, 1991), was applied to reach this goal. Both approaches, the training of the LDA algorithm as well as the similarity measurements are unsupervised and based on the whole context of a document. Topics can capture the polysemous or ambiguous use of words, but they do not carry the explicit notion of the correct context that is necessary for WSD ( Boyd-Graber et al, 2007). Therefore, a training and feedback corpus with information (labels) on the “correct” or “incorrect” context (relevant or irrelevant  for the research project) was created for document comparison and clustering. The document labels do not play a role in training the LDA algorithm and finding the most similar set of documents in the feedback corpus, however, they allow the calculation of the overall relevance of the retrieved most similar set of documents based on the numeric labels. This calculation is used to support the final classification into relevant or not relevant documents, as explained step by step in the hermeneutics layers of this paper."
   ]
  },
  {
   "cell_type": "markdown",
   "metadata": {},
   "source": [
    "The motivation of this paper and its underlying hermeneutics steps are to present and describe this process and to exemplary show how the created corpus was used to conduct a qualitative, discourse-historical analysis on return migration from the Americas to Europe between 1850 and 1950. Discourse analysis has always relied on text corpora, and with ever-increasing corpora, automated corpus-driven approaches (such as the calculation of multi-words units) promise to support qualitative interpretative steps in the frame of discourse analysis (Bubenhofer, 2008) (Steyer and Lauer, 2007). Less researched but equally effective are digital methods to support the corpus building, which is why we show how the quality and representativeness of a corpus can be improved using Natural Language Processing (NLP) methods. In doing so, we present a corpus building method to support humanities research, which means that the focus lies on solving a specific problem and not on a comparison or evaluation of different approaches or methods. And although the discussion will draw on the work carried out as part of this project, the approach presented in this paper can be adapted for research projects that deal with similar corpus building issues."
   ]
  },
  {
   "cell_type": "markdown",
   "metadata": {},
   "source": [
    "## 2 Return migration in historical newspapers"
   ]
  },
  {
   "cell_type": "markdown",
   "metadata": {},
   "source": [
    "News coverage on return migration - which can generally be defined as “cross-border migration to the country of origin” (Currle 2006)  - is manifold: Reports on remigration and repatriation give insights into special events, letters from returnees printed in newspapers give glimpses into the thoughts of returnees, appeals give an insight into support efforts, and small advertisements give an idea of what was sold or searched for in connection with return migration. Just as immigration, return migration has always also been a question of negotiation. Especially in reports, letters and appeals we find several characteristic argumentative discourses (discourses can be described as a ‘group of statements that belong to a single system of formation’ (Foucault, 1969)) on return migration, which include (implicit) arguments to support, promote, regulate or prohibit the return of people to their country to origin. Chapter 4.1 gives deeper insights into discourses that accompanied return migration movements. "
   ]
  },
  {
   "cell_type": "markdown",
   "metadata": {},
   "source": [
    "<table>\n",
    "  <tr>\n",
    "     <tr>\n",
    "    <td>Figure 1: Das interessante Blatt, 12.12.1907, p. 1. </td>\n",
    "    <td>Figure 2: Völkischer Beobachter, 15.10.19140, p. 3.</td>\n",
    "  </tr>\n",
    "    <td>\n",
    "      <img src=\"images/return_migration.png\" alt=\"Drawing\" style=\"width: 400px\";>\n",
    "    </td>\n",
    "    <td>\n",
    "      <img src=\"images/rückwanderer.png\" alt=\"Drawing\" style=\"width: 400px;\">\n",
    "    </td>\n",
    "    <td>\n",
    "\n",
    "\n",
    "</table>"
   ]
  },
  {
   "cell_type": "markdown",
   "metadata": {},
   "source": [
    "### 1.2 The motivation for corpus building"
   ]
  },
  {
   "cell_type": "markdown",
   "metadata": {},
   "source": [
    "Newspapers are the ‘predominant social field' for the creation of information, beliefs or arguments, which are necessary ‘for establishing and sustaining economic, social and political systems and orders (Fairclough 2013). While historical return migration movements have been little researched in scholarly contexts, newspapers indicate that return migration has certainly been an important topic within historical migration processes – also in recent times. Examples include the return from overseas in the 19th and 20th century, the return of war veterans or the repatriation of war refugees during and after the First World War, or the return and repatriation of prisoners of war, refugees, exiles, concentration camp survivors, etc. during and after the Second World War. The main motivation, therefore, was to produce empirical material for further qualitative and qualitative analysis on the topic of return migration. The research questions are as follows: What discourses accompanied the newspaper reporting on return migration. Where return migrants welcomed or perceived as a burden and thread when returning back to their country of origin? Can differences between groups of returning migrants be identified and have there been changes over the time? How did returnees depict themselves? "
   ]
  },
  {
   "cell_type": "markdown",
   "metadata": {},
   "source": [
    "In scientific literature, migration was often viewed as a one-way process, beginning with the ‘uprooting’ of people at the point of origin and ending with ‘assimilation’ into their adopted culture and country. (Steidl 2017) phrased this as follows: “Although temporary and circular migration patterns are of a special importance for European people in modern times, they were neglected by migration research for decades”. Still, recent research indicates that many people left their home countries with the notion of returning home at a certain point not so far in the future. This is also true for those who left their home voluntarily to resettle in other countries. Migration is therefore neither a linear process, nor is a model that goes in both directions appropriate. In many cases, emigrants returned only temporarily and left their country of origin again after a while."
   ]
  },
  {
   "cell_type": "markdown",
   "metadata": {},
   "source": [
    "Historical research on return migration considers such patterns of, and motivations for, return migration (Wyman, 2001), examines historical, political, sociological or economic backgrounds (Harper, 2012; Olivier, 2013; Poznan, 2017) or deals with autobiographical questions (Prager & Straub, 2017a). So far, however, the complexity and heterogeneity of sources about return migration has complicated a structured analysis of the topic of return migration. The historical constellations were so diverse that generalizations are difficult to make and thus inherently faulty. What adds to the difficulties is the lack of empirical material.The compilation of a corpus of empirical material (such as newspaper articles) is therefore still an essential factor if the topic of remigration is to be accessible for research."
   ]
  },
  {
   "cell_type": "markdown",
   "metadata": {},
   "source": [
    "### 1.3 The challenges"
   ]
  },
  {
   "cell_type": "markdown",
   "metadata": {},
   "source": [
    "As mentioned earlier, keyword searches often return a significant amount of irrelevant results or exclude too many relevant results. A common reason for this is to be found in the difficult nature of language. Synonymy and polysemy complicate keyword searches, but not alone. Word inflections, and concepts that do not equate to single words also play a significant role, too (Oberbichler and Pfanzelter, 2021)."
   ]
  },
  {
   "cell_type": "markdown",
   "metadata": {},
   "source": [
    "Return migration as defined before and and the concepts associated with it are difficult to trace by keyword searches because of the following reasons:"
   ]
  },
  {
   "cell_type": "markdown",
   "metadata": {},
   "source": [
    "1. Concepts are difficult to find using single keywords alone: There are only a few terms that lead to exclusively relevant articles on return migration, such as 'Rückkehrer', 'Heimkehrer' or 'Rückwanderer' (all German terms for 'returnee'). However, they only cover a small amount of the whole spectrum of return migration news coverage. Return migration in the German language is often also expressed by verbal constructions such as \"kehrten in die Heimat zurück\" (returned home) or phrases such as 'Rückkehr der Emigranten' (return of the emigrants)."
   ]
  },
  {
   "cell_type": "markdown",
   "metadata": {},
   "source": [
    "2. Word flexions complicate phrase searches or the combination of search terms: Phrase searches such as 'heimkehrende Auswanderer' (returning emigrants) or the combination of keywords that occur together in a defined word distance such as \"Rückkehr ... Auswanderer\" (return ... migrants) in a distance of k words, are another way to improve the representativeness of a corpus. However, they involve a number of challenges; Firstly, it is difficult to find all kind of different combinations that would represent the topic in an adequate way. Secondly, it would be very time-consuming to consider all possible word flexions. Finally, even if it were possible to cover the topic of return migration in its entirety, many of the word combinations (e.g., \"heimat zurückkehren\" (returning home) would lead again to results that are not relevant for the research project."
   ]
  },
  {
   "cell_type": "markdown",
   "metadata": {},
   "source": [
    "3. Words have different meanings in different contexts (ambiguity): Expanding the search to more ambiguous words such as “Heimkehr” (returning home) or “Rückkehr” (returning back)  helps to find more relevant articles but often leads to a considerable amount of irrelevant search results as well. The process of identifying the actual meanings of words can be considered as one of the most challenging problems in NLP. The following texts show examples of relevant and non relevant articles on the topic of return migration found by using ambiguous search terms. The first newspaper clipping of the Austrian newspaper *Innsbrucker Nachrichten* from May 1913 contains the search term \"Rückwanderung\" and reports about the return of Slavic workers from America (Return migration to the Balkan states. We received a letter from Bregenz on the 7th of this month. For some days now one has been able to observe many Slavic workers returning from America to their homeland, the Balkan states, on the Lake Constance ships and railway trains). This article is relevant for the present research project:"
   ]
  },
  {
   "cell_type": "code",
   "execution_count": 102,
   "metadata": {},
   "outputs": [
    {
     "data": {
      "text/plain": [
       "\"Der Balkankrteg. Rückwanderung in die Balkanstaaten. Aus Bregenz schreibt man uns vom 7. d. M.. Seit einigen Tagen kann man auf den Bodenseeschiffen und Eisenbahnzügen viele sla wische Arbeiter beobachten, die aus Amerika in ihre Heimat, in die Balkanstaaten, zurückkehren. Nach Aussage eines Auswandereragenten haben diese Staaten, welchen der Krieg viele Männer entrissen hat, eine große Aktion eingeleitet, um die in Amerika ansässigen Landeskinder zur Heimkehr zu bewegen. Auch von den in den Rheinischen Arbei'sgebieten beschäftigten Slawen kehren viele zurück. Der Heimatnaat gewährt ihnen im Wege der eigenen Konsulate weitestgehende Unterstützungen an Geld und Mitteln zur Gründung eines eigenen Herdes. Die Schiffe bringen viele solcher Rückwanderer über Konstanz und Württemberg hieher.\""
      ]
     },
     "execution_count": 102,
     "metadata": {},
     "output_type": "execute_result"
    }
   ],
   "source": [
    "import pandas as pd\n",
    "import re\n",
    "import re, numpy as np, pandas as pd\n",
    "import csv\n",
    "from pprint import pprint\n",
    "df = pd.read_csv('data/export_returnmigration_16_04_2021_21_35.csv', usecols = ['text','relevancy'])\n",
    "df['text'][41].replace(\"\\n\",\" \")"
   ]
  },
  {
   "cell_type": "markdown",
   "metadata": {},
   "source": [
    "The second article of the *Neue Freie Presse*, written in March 1935, contains the word \"Rückwanderung\" as well, but reports on the return of foreign fonts from England as well as on the return of money from the United States (For example, the fixing of the relation between the price of gold and the price of the dollar last year brought about a considerable return of American money to the United States.) This article was labeled as not useful for the research project on human return migration."
   ]
  },
  {
   "cell_type": "code",
   "execution_count": 103,
   "metadata": {},
   "outputs": [
    {
     "data": {
      "text/plain": [
       "'London. von Auslandgeldern aus Londoner Dienst der „Neuen Freien Presse“. London, 4. März. „Times“ schreibt über die Sterlingverkäufe auf den ausländischen Märkten: Das neue Abgleiten des Pfundkurses, das nun auf die etwa 1Oprozentige Abwertung des Jahres 1934 folgt, ist hauptsächlich eine Folge der Rückwanderung der ansländischen Fonds, die in den Jahren 1932 bis 1933 in sehr hohen Beträgen nach London gesandt worden waren. Die Umkehrung dieser Bewegung hat verschiedene Ursachen. Zum Beispiel hat die Fixierung der Relation zwischen Gold= und Dollarpreis im vorigen Jahr eine beträchtliche Rückwanderung amerikansschen Geldes nach den Vereinigten Staaten mit sich gebracht. Ein weiterer Faktor, der zur Abschwächung des Pfundes beitrug, ist die niedrige Zinsrate in London im Verhältnis zu jeuer der Goldblockländer.'"
      ]
     },
     "execution_count": 103,
     "metadata": {},
     "output_type": "execute_result"
    }
   ],
   "source": [
    "df['text'][111].replace(\"\\n\",\" \")"
   ]
  },
  {
   "cell_type": "markdown",
   "metadata": {},
   "source": [
    "All these challenges make it necessary to consider more advanced and complex techniques for the corpus compilation."
   ]
  },
  {
   "cell_type": "markdown",
   "metadata": {},
   "source": [
    "## 2 Methods to improve the representativeness of specialized corpora"
   ]
  },
  {
   "cell_type": "markdown",
   "metadata": {},
   "source": [
    "There are a number of methods to improve the representativeness of specialized corpora. Search techniques such as Boolean queries from the area of information retrieval, for example, can be a great help to refine searches and to find relevant information. However, for the creation of topic-specific corpora, the search for texts containing specific information (e.g., a combination of words) can impose bias (Chowdhury, 2004). Another method that draws on techniques used in information retrieval is the Relative Query Term Relevance (RQTR) method. RQTR is an approach to formulate a complex query for a topic-specific corpusa by calculating the degree of precision and recall of a query. This means that the RQTR method is based on the combination of keywords (candidate term and core query) calculating the relevance of the candidate term (e.g., the relevance of the term Hamas for the topic on refugees). If a candidate term has a clear positive RQTR score, it can add more relevant texts to a corpus. If the score is negative, it would add too much noise to a corpus (Gabrielatos, 2007). This approach can also be adapted to reduce the issue of polysemous query terms, as Daniel Malone (2020) suggests. In this case the RQTR method was used to find good keywords which were combined with an ambiguous search term to reduce the number of irrelevant articles. This method, however, can be very time-consuming and also influenced by the researcher’s choice of candidate terms. Finally, Word Sense Disambiguation (WSD) from the Natural Language Processing (NLP) area includes methods that are meant to disambiguate polysemous search terms. WSD can be described as a \"task of associating the correct meaning with a word in a given context\" (Pasini and Navigli, 2020). WSD techniques further can be knowledge-based (e.g., based on dictionaries), supervised (uses machine-learning technique from manually annotated data) or unsupervised. Unsupervised WSD methods assume that similar senses occur in similar contexts (Pal and Saha, 2015; Navigli 2009) and learn from unlabelled text."
   ]
  },
  {
   "cell_type": "markdown",
   "metadata": {},
   "source": [
    "Word Sense Disambiguation (WSD) can overcome some of the above mentioned challenges. They derive the actual meanings of ambiguous words, and their underlying concepts, rather than by simply matching character strings like keyword search technologies (Pasini and Navigli, 2020). Both topic modeling and the Jensen Shannon Divergence method are used in the context of WSD. Topic modeling as a method for WSD has been described, for example, by Boyd-Graber, Blei and Zhu (2007). They proposed an approach to use “words that share the same hidden topic across many documents” for disambiguation rather than sentence-level or the document-level. Word and context similarity measures for WSD have been evaluated and proposed since a long time. Karov and Edelman (1998), for example, presented a method to find similar contexts (assuming words to be similar if they appear in similar sentences) by computing similarity between the original context of a word and similar sentences in a feedback set. Further similarity based methods for WSD were presented by Dagan, Lee and Pereira (1997), as well as by Patwardhan et al. (2003). The combination of LDA and JSD to group similar articles, documents or groups of documents has been further described in several computer science research papers (Fothergill et al., 2016; Lu et al., 2020; Niekler & Jähnichen, 2012)."
   ]
  },
  {
   "cell_type": "markdown",
   "metadata": {},
   "source": [
    "## 3 Creating a newspaper corpus on historical return migration movements using text mining methods"
   ]
  },
  {
   "cell_type": "markdown",
   "metadata": {},
   "source": [
    "In order to use machine learning to support the building of a representative corpus on return migration, this process started with the creation of a manually annotated training (and feedback) and testing collection - containing relevant as well as non-relevant articles for the topic of return migration. The training/feedback and testing corpus was created with the beta version of the NewsEye Platform (Jean-Caurant & Doucet, 2020). This platform allows to create and manage datasets, to add annotations as well as to export the dataset. In total, 208 newspaper clippings were collected, annotated and exported from the NewsEye platform using following search terms: \"Rückkehr\" (returning back), \"Heimkehr\" (returning home), \"heimgekehrt*\" ((people who) returned home), \"Rückwanderer\" (returnees), \"Rückwanderung\" (return migration), \"Heimkehrer\" (returnees), \"heimkehrend*\" ((people who) are returning). Four Austrian newspapers, which where provided by the National Library of Austria (ONB) in the context of the NewsEye project, were used for the manually created corpus: The Neue Freie Presse, the Arbeiter-Zeitung, the Illustrierte Kronen Zeitung and the Innsbrucker Nachrichten. "
   ]
  },
  {
   "cell_type": "markdown",
   "metadata": {},
   "source": [
    "Attention was paid to ensuring that the collection was representative and of high quality. For representativeness, full newspaper articles from different eras between 1850 and 1950 were considered (also articles where return migration was only a subordinate topic), making sure no important return migration movement was left out. The high quality of Optical Character Recognition (OCR) of the newspaper issues in the platform, on the other hand, allowed it to not have to count with bigger distortions caused by OCR errors. Within the NewsEye project, a dataset of some 1.5 million pages from the participating national libraries of Austria, France, and Finland was re-OCRed with Transkribus, using several specifically trained models that were improved by computer scientists of the project at the University of Rostock. The process led to impressive improvements in OCR quality when compared to the text currently available for the same newspapers, producing output with character error rates below 1 % (cite deliverable)."
   ]
  },
  {
   "cell_type": "markdown",
   "metadata": {},
   "source": [
    "The search and the building of the sample collection was performed with the beta version of the <a href=\"https://platform.newseye.eu\" target=\"_blank\">NewsEye Platform</a> (Jean-Caurant & Doucet, 2020). This platform allows to create and manage datasets as well as adding annotations to the dataset."
   ]
  },
  {
   "cell_type": "markdown",
   "metadata": {
    "tags": [
     "hermeneutics-step"
    ]
   },
   "source": [
    "## Creating a manually annotated collection"
   ]
  },
  {
   "cell_type": "markdown",
   "metadata": {
    "tags": [
     "hermeneutics-step"
    ]
   },
   "source": [
    "Thanks to layout segmentation and article separation, which device OCRed (Optical Character Recognized) text into news-units in the NewsEye platform, it was possible to find and extract newspaper clippings on the topic of return migration. Layout segmentation and article separation for newspapers, however, are still highly error-prone, and computer scientists from the University of Rostock are constantly working on improving automated article separation, the task to computationally identify articles the same way as humans do, remains challenging. In the meantime, to meet the problem of under-/over-segmentation of articles, functionalities that allow to manually merge text blocks have been proven as very useful. For the creation of smaller datasets and subcollections, this is a highly relevant feature, because it allows to create high quality training and testing corpora as it has been done for the project on return migration. Dataset functions further allow to create and organize collections, to mark them as relevant, less relevant or not relevant, and to export a collection as a Zip, JSON or CSV file, which make it possible to import the collection within a coding environment such as Jupyter Notebooks. As can be seen in Figure 3, a total number of 125 articles were manually annotated as relevant (by assigning the number 3) and 82 articles were annotated as irrelevant (by assigning the number 0). While creating and annotating the dataset, value was placed on the representativity of the collection (in covering all possible topics and time frames)."
   ]
  },
  {
   "cell_type": "code",
   "execution_count": 104,
   "metadata": {},
   "outputs": [
    {
     "data": {
      "text/html": [
       "<div>\n",
       "<style scoped>\n",
       "    .dataframe tbody tr th:only-of-type {\n",
       "        vertical-align: middle;\n",
       "    }\n",
       "\n",
       "    .dataframe tbody tr th {\n",
       "        vertical-align: top;\n",
       "    }\n",
       "\n",
       "    .dataframe thead th {\n",
       "        text-align: right;\n",
       "    }\n",
       "</style>\n",
       "<table border=\"1\" class=\"dataframe\">\n",
       "  <thead>\n",
       "    <tr style=\"text-align: right;\">\n",
       "      <th></th>\n",
       "      <th>relevancy</th>\n",
       "      <th>text</th>\n",
       "    </tr>\n",
       "  </thead>\n",
       "  <tbody>\n",
       "    <tr>\n",
       "      <th>0</th>\n",
       "      <td>0</td>\n",
       "      <td>Die Lleche, Fante  umt ja shoarz. de D fiunz i...</td>\n",
       "    </tr>\n",
       "    <tr>\n",
       "      <th>1</th>\n",
       "      <td>0</td>\n",
       "      <td>* Ueber die Kohlenlager auf Spitzbergen wird\\n...</td>\n",
       "    </tr>\n",
       "    <tr>\n",
       "      <th>2</th>\n",
       "      <td>0</td>\n",
       "      <td>(Nächtliche Ruhestörer.) Aus Lana berichtet ma...</td>\n",
       "    </tr>\n",
       "    <tr>\n",
       "      <th>3</th>\n",
       "      <td>3</td>\n",
       "      <td>* Reisegebühren der Heimkehrer. Die aus der\\nK...</td>\n",
       "    </tr>\n",
       "    <tr>\n",
       "      <th>4</th>\n",
       "      <td>3</td>\n",
       "      <td>Die Regierung in Polen.\\nWarschan, 23. Oktober...</td>\n",
       "    </tr>\n",
       "    <tr>\n",
       "      <th>5</th>\n",
       "      <td>3</td>\n",
       "      <td>sitzsteuer — wäre den Ländern und den Gemeinde...</td>\n",
       "    </tr>\n",
       "    <tr>\n",
       "      <th>6</th>\n",
       "      <td>3</td>\n",
       "      <td>Wien, 11. Jannar.\\n[Deutsch=ungarische Schiffa...</td>\n",
       "    </tr>\n",
       "    <tr>\n",
       "      <th>7</th>\n",
       "      <td>3</td>\n",
       "      <td>Zu den Forderungen, deren Befriedigungsfonds i...</td>\n",
       "    </tr>\n",
       "    <tr>\n",
       "      <th>8</th>\n",
       "      <td>3</td>\n",
       "      <td>Der Rechtsvertrag mit Rußland.\\nAuch mit Rußla...</td>\n",
       "    </tr>\n",
       "    <tr>\n",
       "      <th>9</th>\n",
       "      <td>3</td>\n",
       "      <td>Ueber den Verkehr zwischen den besetzten\\nund ...</td>\n",
       "    </tr>\n",
       "  </tbody>\n",
       "</table>\n",
       "</div>"
      ],
      "text/plain": [
       "   relevancy                                               text\n",
       "0          0  Die Lleche, Fante  umt ja shoarz. de D fiunz i...\n",
       "1          0  * Ueber die Kohlenlager auf Spitzbergen wird\\n...\n",
       "2          0  (Nächtliche Ruhestörer.) Aus Lana berichtet ma...\n",
       "3          3  * Reisegebühren der Heimkehrer. Die aus der\\nK...\n",
       "4          3  Die Regierung in Polen.\\nWarschan, 23. Oktober...\n",
       "5          3  sitzsteuer — wäre den Ländern und den Gemeinde...\n",
       "6          3  Wien, 11. Jannar.\\n[Deutsch=ungarische Schiffa...\n",
       "7          3  Zu den Forderungen, deren Befriedigungsfonds i...\n",
       "8          3  Der Rechtsvertrag mit Rußland.\\nAuch mit Rußla...\n",
       "9          3  Ueber den Verkehr zwischen den besetzten\\nund ..."
      ]
     },
     "execution_count": 104,
     "metadata": {},
     "output_type": "execute_result"
    }
   ],
   "source": [
    "df.head(10)"
   ]
  },
  {
   "cell_type": "code",
   "execution_count": 105,
   "metadata": {},
   "outputs": [
    {
     "data": {
      "image/png": "[encoded data removed]",
      "text/plain": [
       "<Figure size 432x288 with 1 Axes>"
      ]
     },
     "metadata": {
      "needs_background": "light"
     },
     "output_type": "display_data"
    }
   ],
   "source": [
    "%matplotlib inline\n",
    "import matplotlib.pyplot as plt\n",
    "my_colors = [(0.20,0.200,0.50), (0.100, 0.75, 0.200)]\n",
    "\n",
    "df.relevancy.value_counts().plot(kind='bar', color = (0.100, 0.75, 0.20))\n",
    "df.relevancy.value_counts().plot(kind='bar', color = my_colors)\n",
    "\n",
    "plt.legend(['Non_Relevant', 'Relevant'])\n",
    "\n",
    "plt.title('Figure 3: Manually annotated newspapers clippings on the topic of return migration')\n",
    "plt.show()"
   ]
  },
  {
   "cell_type": "markdown",
   "metadata": {
    "tags": [
     "hermeneutics-step"
    ]
   },
   "source": [
    "## Cleaning, tokenizing and stemming the text "
   ]
  },
  {
   "cell_type": "markdown",
   "metadata": {
    "tags": [
     "hermeneutics-step"
    ]
   },
   "source": [
    "Before Natural Language Processing (NLP) methods can be applied, the text must be cleaned (discarding punctuation and capitalization of words, removal of stop words, lower case the text), tokenized (breaking text into individual linguistic units) and stemmed (reduction of inflected words to their root words). A further preprocessing step that could be applied is lemmatization (converting words to their lemma form/lexeme). This step, however, had a negative effect on the final result.  The list of German stop words provided by the NLTK package was extended to include more words, which, on the other hand, improved the final results considerably. Therefore, a longer list of German stop words was retrieved from https://countwordsfree.com/stopwords/german and added to the existing list. In addition, highly frequent words such as the search terms (e.g., \"Rückkehr*\" (return)) were also filtered out. "
   ]
  },
  {
   "cell_type": "code",
   "execution_count": 106,
   "metadata": {},
   "outputs": [
    {
     "name": "stderr",
     "output_type": "stream",
     "text": [
      "[nltk_data] Downloading package stopwords to\n",
      "[nltk_data]     C:\\Users\\c62255\\AppData\\Roaming\\nltk_data...\n",
      "[nltk_data]   Package stopwords is already up-to-date!\n",
      "[nltk_data] Downloading package punkt to\n",
      "[nltk_data]     C:\\Users\\c62255\\AppData\\Roaming\\nltk_data...\n",
      "[nltk_data]   Package punkt is already up-to-date!\n"
     ]
    },
    {
     "data": {
      "text/html": [
       "<div>\n",
       "<style scoped>\n",
       "    .dataframe tbody tr th:only-of-type {\n",
       "        vertical-align: middle;\n",
       "    }\n",
       "\n",
       "    .dataframe tbody tr th {\n",
       "        vertical-align: top;\n",
       "    }\n",
       "\n",
       "    .dataframe thead th {\n",
       "        text-align: right;\n",
       "    }\n",
       "</style>\n",
       "<table border=\"1\" class=\"dataframe\">\n",
       "  <thead>\n",
       "    <tr style=\"text-align: right;\">\n",
       "      <th></th>\n",
       "      <th>relevancy</th>\n",
       "      <th>text</th>\n",
       "      <th>tokenized</th>\n",
       "    </tr>\n",
       "  </thead>\n",
       "  <tbody>\n",
       "    <tr>\n",
       "      <th>0</th>\n",
       "      <td>0</td>\n",
       "      <td>Die Lleche, Fante  umt ja shoarz. de D fiunz i...</td>\n",
       "      <td>[llech, fant, umt, shoarz, de, fiunz, nachng, ...</td>\n",
       "    </tr>\n",
       "    <tr>\n",
       "      <th>1</th>\n",
       "      <td>0</td>\n",
       "      <td>* Ueber die Kohlenlager auf Spitzbergen wird\\n...</td>\n",
       "      <td>[ueber, kohlenlag, spitzbergen, deutschen, blä...</td>\n",
       "    </tr>\n",
       "    <tr>\n",
       "      <th>2</th>\n",
       "      <td>0</td>\n",
       "      <td>(Nächtliche Ruhestörer.) Aus Lana berichtet ma...</td>\n",
       "      <td>[nächtlich, ruhestör, lana, berichtet, 13, 14,...</td>\n",
       "    </tr>\n",
       "    <tr>\n",
       "      <th>3</th>\n",
       "      <td>3</td>\n",
       "      <td>* Reisegebühren der Heimkehrer. Die aus der\\nK...</td>\n",
       "      <td>[reisegebühren, heimkehr, kriegsgefangenschaft...</td>\n",
       "    </tr>\n",
       "    <tr>\n",
       "      <th>4</th>\n",
       "      <td>3</td>\n",
       "      <td>Die Regierung in Polen.\\nWarschan, 23. Oktober...</td>\n",
       "      <td>[regierung, polen, warschan, 23, oktob, kabine...</td>\n",
       "    </tr>\n",
       "    <tr>\n",
       "      <th>5</th>\n",
       "      <td>3</td>\n",
       "      <td>sitzsteuer — wäre den Ländern und den Gemeinde...</td>\n",
       "      <td>[sitzsteuer, ländern, gemeinden, zuzuweisen, u...</td>\n",
       "    </tr>\n",
       "    <tr>\n",
       "      <th>6</th>\n",
       "      <td>3</td>\n",
       "      <td>Wien, 11. Jannar.\\n[Deutsch=ungarische Schiffa...</td>\n",
       "      <td>[wien, 11, jannar, deutschungarisch, schiffahr...</td>\n",
       "    </tr>\n",
       "    <tr>\n",
       "      <th>7</th>\n",
       "      <td>3</td>\n",
       "      <td>Zu den Forderungen, deren Befriedigungsfonds i...</td>\n",
       "      <td>[forderungen, befriedigungsfond, milliarden, g...</td>\n",
       "    </tr>\n",
       "    <tr>\n",
       "      <th>8</th>\n",
       "      <td>3</td>\n",
       "      <td>Der Rechtsvertrag mit Rußland.\\nAuch mit Rußla...</td>\n",
       "      <td>[rechtsvertrag, rußland, rußland, zusatzvertra...</td>\n",
       "    </tr>\n",
       "    <tr>\n",
       "      <th>9</th>\n",
       "      <td>3</td>\n",
       "      <td>Ueber den Verkehr zwischen den besetzten\\nund ...</td>\n",
       "      <td>[ueber, verkehr, besetzten, besetzten, gebiete...</td>\n",
       "    </tr>\n",
       "  </tbody>\n",
       "</table>\n",
       "</div>"
      ],
      "text/plain": [
       "   relevancy                                               text  \\\n",
       "0          0  Die Lleche, Fante  umt ja shoarz. de D fiunz i...   \n",
       "1          0  * Ueber die Kohlenlager auf Spitzbergen wird\\n...   \n",
       "2          0  (Nächtliche Ruhestörer.) Aus Lana berichtet ma...   \n",
       "3          3  * Reisegebühren der Heimkehrer. Die aus der\\nK...   \n",
       "4          3  Die Regierung in Polen.\\nWarschan, 23. Oktober...   \n",
       "5          3  sitzsteuer — wäre den Ländern und den Gemeinde...   \n",
       "6          3  Wien, 11. Jannar.\\n[Deutsch=ungarische Schiffa...   \n",
       "7          3  Zu den Forderungen, deren Befriedigungsfonds i...   \n",
       "8          3  Der Rechtsvertrag mit Rußland.\\nAuch mit Rußla...   \n",
       "9          3  Ueber den Verkehr zwischen den besetzten\\nund ...   \n",
       "\n",
       "                                           tokenized  \n",
       "0  [llech, fant, umt, shoarz, de, fiunz, nachng, ...  \n",
       "1  [ueber, kohlenlag, spitzbergen, deutschen, blä...  \n",
       "2  [nächtlich, ruhestör, lana, berichtet, 13, 14,...  \n",
       "3  [reisegebühren, heimkehr, kriegsgefangenschaft...  \n",
       "4  [regierung, polen, warschan, 23, oktob, kabine...  \n",
       "5  [sitzsteuer, ländern, gemeinden, zuzuweisen, u...  \n",
       "6  [wien, 11, jannar, deutschungarisch, schiffahr...  \n",
       "7  [forderungen, befriedigungsfond, milliarden, g...  \n",
       "8  [rechtsvertrag, rußland, rußland, zusatzvertra...  \n",
       "9  [ueber, verkehr, besetzten, besetzten, gebiete...  "
      ]
     },
     "execution_count": 106,
     "metadata": {},
     "output_type": "execute_result"
    }
   ],
   "source": [
    "import numpy as np\n",
    "import nltk\n",
    "from nltk.corpus import stopwords\n",
    "from nltk.stem.porter import PorterStemmer\n",
    "from nltk import FreqDist\n",
    "import spacy\n",
    "\n",
    "# Functions to clean and tokenize the data\n",
    "def initial_clean(text):\n",
    "    text = re.sub(r'[^\\w\\s]','',text)\n",
    "    text = text.lower() \n",
    "    text = nltk.word_tokenize(text)\n",
    "    return text\n",
    "\n",
    "#Remove stop words\n",
    "nltk.download('stopwords')\n",
    "nltk.download('punkt')\n",
    "\n",
    "stop_words = stopwords.words('german')\n",
    "# add stop words manually\n",
    "stop_words.extend([\"Heimkehr\", \"Rückkehr\", \"heimkehren\", \"zurückkehren\", \"a\", \"ab\",\"aber\",\"ach\",\"acht\",\"achte\",\"achten\",\"achter\",\"achtes\",\"ag\",\"alle\",\"allein\",\"allem\",\"allen\",\"aller\",\"allerdings\",\"alles\",\"allgemeinen\",\"als\",\"also\",\"am\",\"an\",\"andere\",\"anderen\",\"andern\",\"anders\",\"au\",\"auch\",\"auf\",\"aus\",\"ausser\",\"außer\",\"ausserdem\",\"außerdem\",\"b\",\"bald\",\"bei\",\"beide\",\"beiden\",\"beim\",\"beispiel\",\"bekannt\",\"bereits\",\"besonders\",\"besser\",\"besten\",\"bin\",\"bis\",\"bisher\",\"bist\",\"c\",\"d\",\"da\",\"dabei\",\"dadurch\",\"dafür\",\"dagegen\",\"daher\",\"dahin\",\"dahinter\",\"damals\",\"damit\",\"danach\",\"daneben\",\"dank\",\"dann\",\"daran\",\"darauf\",\"daraus\",\"darf\",\"darfst\",\"darin\",\"darüber\",\"darum\",\"darunter\",\"das\",\"dasein\",\"daselbst\",\"dass\",\"daß\",\"dasselbe\",\"davon\",\"davor\",\"dazu\",\"dazwischen\",\"dein\",\"deine\",\"deinem\",\"deiner\",\"dem\",\"dementsprechend\",\"demgegenüber\",\"demgemäss\",\"demgemäß\",\"demselben\",\"demzufolge\",\"den\",\"denen\",\"denn\",\"denselben\",\"der\",\"deren\",\"derjenige\",\"derjenigen\",\"dermassen\",\"dermaßen\",\"derselbe\",\"derselben\",\"des\",\"deshalb\",\"desselben\",\"dessen\",\"deswegen\",\"d.h\",\"dich\",\"die\",\"diejenige\",\"diejenigen\",\"dies\",\"diese\",\"dieselbe\",\"dieselben\",\"diesem\",\"diesen\",\"dieser\",\"dieses\",\"dir\",\"doch\",\"dort\",\"drei\",\"drin\",\"dritte\",\"dritten\",\"dritter\",\"drittes\",\"du\",\"durch\",\"durchaus\",\"dürfen\",\"dürft\",\"durfte\",\"durften\",\"e\",\"eben\",\"ebenso\",\"ehrlich\",\"ei\",\"ei,\",\"eigen\",\"eigene\",\"eigenen\",\"eigener\",\"eigenes\",\"ein\",\"einander\",\"eine\",\"einem\",\"einen\",\"einer\",\"eines\",\"einige\",\"einigen\",\"einiger\",\"einiges\",\"einmal\",\"eins\",\"elf\",\"en\",\"ende\",\"endlich\",\"entweder\",\"er\",\"Ernst\",\"erst\",\"erste\",\"ersten\",\"erster\",\"erstes\",\"es\",\"etwa\",\"etwas\",\"euch\",\"f\",\"früher\",\"fünf\",\"fünfte\",\"fünften\",\"fünfter\",\"fünftes\",\"für\",\"g\",\"gab\",\"ganz\",\"ganze\",\"ganzen\",\"ganzer\",\"ganzes\",\"gar\",\"gedurft\",\"gegen\",\"gegenüber\",\"gehabt\",\"gehen\",\"geht\",\"gekannt\",\"gekonnt\",\"gemacht\",\"gemocht\",\"gemusst\",\"genug\",\"gerade\",\"gern\",\"gesagt\",\"geschweige\",\"gewesen\",\"gewollt\",\"geworden\",\"gibt\",\"ging\",\"gleich\",\"gott\",\"gross\",\"groß\",\"grosse\",\"große\",\"grossen\",\"großen\",\"grosser\",\"großer\",\"grosses\",\"großes\",\"gut\",\"gute\",\"guter\",\"gutes\",\"h\",\"habe\",\"haben\",\"habt\",\"hast\",\"hat\",\"hatte\",\"hätte\",\"hatten\",\"hätten\",\"heisst\",\"her\",\"heute\",\"hier\",\"hin\",\"hinter\",\"hoch\",\"i\",\"ich\",\"ihm\",\"ihn\",\"ihnen\",\"ihr\",\"ihre\",\"ihrem\",\"ihren\",\"ihrer\",\"ihres\",\"im\",\"immer\",\"in\",\"indem\",\"infolgedessen\",\"ins\",\"irgend\",\"ist\",\"j\",\"ja\",\"jahr\",\"jahre\",\"jahren\",\"je\",\"jede\",\"jedem\",\"jeden\",\"jeder\",\"jedermann\",\"jedermanns\",\"jedoch\",\"jemand\",\"jemandem\",\"jemanden\",\"jene\",\"jenem\",\"jenen\",\"jener\",\"jenes\",\"jetzt\",\"k\",\"kam\",\"kann\",\"kannst\",\"kaum\",\"kein\",\"keine\",\"keinem\",\"keinen\",\"keiner\",\"kleine\",\"kleinen\",\"kleiner\",\"kleines\",\"kommen\",\"kommt\",\"können\",\"könnt\",\"konnte\",\"könnte\",\"konnten\",\"kurz\",\"l\",\"lang\",\"lange\",\"leicht\",\"leide\",\"lieber\",\"los\",\"m\",\"machen\",\"macht\",\"machte\",\"mag\",\"magst\",\"mahn\",\"man\",\"manche\",\"manchem\",\"manchen\",\"mancher\",\"manches\",\"mann\",\"mehr\",\"mein\",\"meine\",\"meinem\",\"meinen\",\"meiner\",\"meines\",\"mensch\",\"menschen\",\"mich\",\"mir\",\"mit\",\"mittel\",\"mochte\",\"möchte\",\"mochten\",\"mögen\",\"möglich\",\"mögt\",\"morgen\",\"muss\",\"muß\",\"müssen\",\"musst\",\"müsst\",\"musste\",\"mussten\",\"n\",\"na\",\"nach\",\"nachdem\",\"nahm\",\"natürlich\",\"neben\",\"nein\",\"neue\",\"neuen\",\"neun\",\"neunte\",\"neunten\",\"neunter\",\"neuntes\",\"nicht\",\"nichts\",\"nie\",\"niemand\",\"niemandem\",\"niemanden\",\"noch\",\"nun\",\"nur\",\"o\",\"ob\",\"oben\",\"oder\",\"offen\",\"oft\",\"ohne\",\"Ordnung\",\"p\",\"q\",\"r\",\"recht\",\"rechte\",\"rechten\",\"rechter\",\"rechtes\",\"richtig\",\"rund\",\"s\",\"sa\",\"sache\",\"sagt\",\"sagte\",\"sah\",\"satt\",\"schlecht\",\"Schluss\",\"schon\",\"sechs\",\"sechste\",\"sechsten\",\"sechster\",\"sechstes\",\"sehr\",\"sei\",\"seid\",\"seien\",\"sein\",\"seine\",\"seinem\",\"seinen\",\"seiner\",\"seines\",\"seit\",\"seitdem\",\"selbst\",\"sich\",\"sie\",\"sieben\",\"siebente\",\"siebenten\",\"siebenter\",\"siebentes\",\"sind\",\"so\",\"solang\",\"solche\",\"solchem\",\"solchen\",\"solcher\",\"solches\",\"soll\",\"sollen\",\"sollte\",\"sollten\",\"sondern\",\"sonst\",\"sowie\",\"später\",\"statt\",\"t\",\"tag\",\"tage\",\"tagen\",\"tat\",\"teil\",\"tel\",\"tritt\",\"trotzdem\",\"tun\",\"u\",\"über\",\"überhaupt\",\"übrigens\",\"uhr\",\"um\",\"und\",\"und?\",\"uns\",\"unser\",\"unsere\",\"unserer\",\"unter\",\"v\",\"vergangenen\",\"viel\",\"viele\",\"vielem\",\"vielen\",\"vielleicht\",\"vier\",\"vierte\",\"vierten\",\"vierter\",\"viertes\",\"vom\",\"von\",\"vor\",\"w\",\"wahr?\",\"während\",\"währenddem\",\"währenddessen\",\"wann\",\"war\",\"wäre\",\"waren\",\"wart\",\"warum\",\"was\",\"wegen\",\"weil\",\"weit\",\"weiter\",\"weitere\",\"weiteren\",\"weiteres\",\"welche\",\"welchem\",\"welchen\",\"welcher\",\"welches\",\"wem\",\"wen\",\"wenig\",\"wenige\",\"weniger\",\"weniges\",\"wenigstens\",\"wenn\",\"wer\",\"werde\",\"werden\",\"werdet\",\"wessen\",\"wie\",\"wieder\",\"will\",\"willst\",\"wir\",\"wird\",\"wirklich\",\"wirst\",\"wo\",\"wohl\",\"wollen\",\"wollt\",\"wollte\",\"wollten\",\"worden\",\"wurde\",\"würde\",\"wurden\",\"würden\",\"x\",\"y\",\"z\",\"z.b\",\"zehn\",\"zehnte\",\"zehnten\",\"zehnter\",\"zehntes\",\"zeit\",\"zu\",\"zuerst\",\"zugleich\",\"zum\",\"zunächst\",\"zur\",\"zurück\",\"zusammen\",\"zwanzig\",\"zwar\",\"zwei\",\"zweite\",\"zweiten\",\"zweiter\",\"zweites\",\"zwischen\",\"zwölf\",\"euer\",\"eure\",\"hattest\",\"hattet\",\"jedes\",\"mußt\",\"müßt\",\"sollst\",\"sollt\",\"soweit\",\"weshalb\",\"wieso\",\"woher\",\"wohin\"])\n",
    "def remove_stop_words(text):\n",
    "    return [word for word in text if word not in stop_words]\n",
    "\n",
    "#Stemming\n",
    "stemmer = PorterStemmer()\n",
    "def stem_words(text):\n",
    "    try:\n",
    "        text = [stemmer.stem(word) for word in text]\n",
    "        text = [word for word in text if len(word) > 1] \n",
    "    except IndexError: \n",
    "        pass\n",
    "    return text\n",
    "\n",
    "#Apllying all functions \n",
    "def apply_all(text):\n",
    "    return stem_words(remove_stop_words(initial_clean(text)))\n",
    "\n",
    "df['tokenized'] = df['text'].apply(apply_all) \n",
    "df.head(10)"
   ]
  },
  {
   "cell_type": "markdown",
   "metadata": {
    "tags": [
     "hermeneutics-step"
    ]
   },
   "source": [
    "## Splitting the collection into a training and a testing corpus"
   ]
  },
  {
   "cell_type": "markdown",
   "metadata": {
    "tags": [
     "hermeneutics-step"
    ]
   },
   "source": [
    "In a second step, the collection was divided into a training and a test corpus using a mask of binary values. To do this, the numpy.random.rand() function was used to create an array with a specific shape and fill it with random values. This made it possible to get a good mix of relevant and non-relevant articles in each of the corpora. As this function is based on randomness and the split of the corpora can vary with each call, a seed was set to create reproducible calls. This means that all random numbers generated after setting the seed are the same on each machine."
   ]
  },
  {
   "cell_type": "code",
   "execution_count": 107,
   "metadata": {
    "scrolled": true
   },
   "outputs": [
    {
     "name": "stdout",
     "output_type": "stream",
     "text": [
      "The training corpus contains 123 articles, 75 of which are relevant and 48 irrelevant.\n",
      "The test corpus consists of 84 articles, 50 of which are relevant and 34 irrelevant.\n"
     ]
    },
    {
     "data": {
      "image/png": "[encoded data removed]",
      "text/plain": [
       "<Figure size 720x216 with 2 Axes>"
      ]
     },
     "metadata": {
      "needs_background": "light"
     },
     "output_type": "display_data"
    }
   ],
   "source": [
    "my_colors = [(0.20,0.200,0.50), (0.100, 0.75, 0.200)]\n",
    "\n",
    "np.random.seed(1)\n",
    "msk = np.random.rand(len(df)) < 0.599\n",
    "train_df = df[msk]\n",
    "train_df.reset_index(drop=True,inplace=True)\n",
    "test_df = df[~msk]\n",
    "test_df.reset_index(drop=True,inplace=True)\n",
    "\n",
    "\n",
    "fig, axes = plt.subplots(1,2,figsize=(10,3))\n",
    "test_df.relevancy.value_counts().plot(kind='bar', color = (0.100, 0.75, 0.20), ax=axes[1])\n",
    "test_df.relevancy.value_counts().plot(kind='bar', color = my_colors, ax=axes[1])\n",
    "train_df.relevancy.value_counts().plot(kind='bar', color = (0.100, 0.75, 0.20), ax=axes[0])\n",
    "train_df.relevancy.value_counts().plot(kind='bar', color = my_colors, ax=axes[0])\n",
    "axes[1].legend(['Non_Relevant', 'Relevant'])\n",
    "axes[0].legend(['Non_Relevant', 'Relevant'])\n",
    "axes[1].title.set_text('Figure 5: Testing Corpus')\n",
    "axes[0].title.set_text('Figure 4: Training Corpus')\n",
    "\n",
    "\n",
    "\n",
    "print(f\"The training corpus contains {len(train_df)} articles, {train_df.relevancy.value_counts()[3]} of which are relevant and {train_df.relevancy.value_counts()[0]} irrelevant.\")\n",
    "print(f\"The test corpus consists of {len(test_df)} articles, {test_df.relevancy.value_counts()[3]} of which are relevant and {test_df.relevancy.value_counts()[0]} irrelevant.\")   "
   ]
  },
  {
   "cell_type": "markdown",
   "metadata": {},
   "source": [
    "## 3.1 Applying LDA and the Jensen Shannon Divergence (JSD) to classify the testing corpus into relevant and irrelevant articles"
   ]
  },
  {
   "cell_type": "markdown",
   "metadata": {},
   "source": [
    "In order to be able to separate relevant from irrelevant documents, LDA was used to group words and similar expressions that best characterize relevant or irrelevant documents and to provide every article with information on their topic distribution. The Jensen-Shannon Divergence (JSD) method, on the other hand, was used to measure the similarity between the topic distribution of documents. While the training and feedback corpus was used to train the topic modeling algorithm, the test corpus helped to test the efficiency of the similarity measure."
   ]
  },
  {
   "cell_type": "markdown",
   "metadata": {
    "tags": [
     "hermeneutics-step"
    ]
   },
   "source": [
    "## Training the Latent Dirichlet Allocation (LDA) algorithm"
   ]
  },
  {
   "cell_type": "markdown",
   "metadata": {
    "tags": [
     "hermeneutics-step"
    ]
   },
   "source": [
    "For the text classification, Latent Dirichlet Allocation (LDA), which belongs to the broader category of methods called topic models, was used to group semantically related words (Blei, Ng, & Jordan, 2003). For the topic on return migration, a high number of topics (250 in this case) leads to better results, while for chunksize (the number of documents to consider) was adapted to the size of the dataset (200). In order to represent each document by a small number of topics, a low alpha value was chosen. Low beta, on the other hand, means that each topic is only represented by a small number of words. The function random_state serves as a seed in order to make it possible to reproduce the training process. The following example shows the 20 top words of topic number 10. It reflects on mass return migration movements of millions of people to specific counties or cities. This topic is clearly connected to return migration."
   ]
  },
  {
   "cell_type": "code",
   "execution_count": 108,
   "metadata": {},
   "outputs": [
    {
     "name": "stdout",
     "output_type": "stream",
     "text": [
      "LdaModel(num_terms=10097, num_topics=250, decay=0.5, chunksize=200)\n"
     ]
    },
    {
     "data": {
      "text/plain": [
       "[('land', 0.040727224),\n",
       " ('millionen', 0.030635638),\n",
       " ('personen', 0.030566204),\n",
       " ('städten', 0.02058588),\n",
       " ('landbezirken', 0.020506345),\n",
       " ('flachen', 0.020477165),\n",
       " ('rückwanderungsüberschuß', 0.010341919),\n",
       " ('großstädt', 0.010334778),\n",
       " ('ergeben', 0.010331114),\n",
       " ('1932', 0.01032976),\n",
       " ('glich', 0.010321264),\n",
       " ('verlust', 0.01031539),\n",
       " ('656000', 0.010296056),\n",
       " ('dürfte', 0.010289842),\n",
       " ('umkehr', 0.010289561),\n",
       " ('1924', 0.010285091),\n",
       " ('inneramerikanischen', 0.010284919),\n",
       " ('gesamtemigr', 0.010271983),\n",
       " ('betrug', 0.010269103),\n",
       " ('wanderten', 0.010268608)]"
      ]
     },
     "execution_count": 108,
     "metadata": {},
     "output_type": "execute_result"
    }
   ],
   "source": [
    "import gensim\n",
    "from gensim.models import LdaModel\n",
    "from gensim import models, corpora, similarities\n",
    "import gensim.corpora as corpora\n",
    "import gensim, spacy, logging, warnings\n",
    "from gensim.models import CoherenceModel\n",
    "from gensim.utils import lemmatize, simple_preprocess\n",
    "\n",
    "def train_lda(data):\n",
    "    num_topics = 250\n",
    "    chunksize = 200\n",
    "    dictionary = corpora.Dictionary(data['tokenized'])\n",
    "    corpus = [dictionary.doc2bow(doc) for doc in data['tokenized']]\n",
    "    lda = LdaModel(corpus=corpus, num_topics=num_topics, id2word=dictionary,\n",
    "                   alpha=0.2e-2, eta=0.5e-2, chunksize=chunksize, minimum_probability=0.0, passes=5, iterations=200, random_state=14)\n",
    "    return dictionary,corpus,lda\n",
    "dictionary,corpus,lda = train_lda(train_df)\n",
    "print(lda)\n",
    "lda.show_topic(topicid=10, topn=20)"
   ]
  },
  {
   "cell_type": "markdown",
   "metadata": {
    "tags": [
     "hermeneutics-step"
    ]
   },
   "source": [
    "## Finding the dominant topic for each article "
   ]
  },
  {
   "cell_type": "markdown",
   "metadata": {
    "tags": [
     "hermeneutics-step"
    ]
   },
   "source": [
    "In this step, the dominant topic for each article is calculated. As can be seen in Table ... , topic 10 (which is clearly connected to return migration as seen in the last step), is most dominant in document number 43. "
   ]
  },
  {
   "cell_type": "code",
   "execution_count": 109,
   "metadata": {},
   "outputs": [
    {
     "data": {
      "text/html": [
       "<div>\n",
       "<style scoped>\n",
       "    .dataframe tbody tr th:only-of-type {\n",
       "        vertical-align: middle;\n",
       "    }\n",
       "\n",
       "    .dataframe tbody tr th {\n",
       "        vertical-align: top;\n",
       "    }\n",
       "\n",
       "    .dataframe thead th {\n",
       "        text-align: right;\n",
       "    }\n",
       "</style>\n",
       "<table border=\"1\" class=\"dataframe\">\n",
       "  <thead>\n",
       "    <tr style=\"text-align: right;\">\n",
       "      <th></th>\n",
       "      <th>Document_No</th>\n",
       "      <th>Dominant_Topic</th>\n",
       "      <th>Topic_Perc_Contrib</th>\n",
       "      <th>Keywords</th>\n",
       "      <th>Relevancy</th>\n",
       "    </tr>\n",
       "  </thead>\n",
       "  <tbody>\n",
       "    <tr>\n",
       "      <th>43</th>\n",
       "      <td>43</td>\n",
       "      <td>10.0</td>\n",
       "      <td>0.9893</td>\n",
       "      <td>land, millionen, personen, städten, landbezirk...</td>\n",
       "      <td>3</td>\n",
       "    </tr>\n",
       "    <tr>\n",
       "      <th>44</th>\n",
       "      <td>44</td>\n",
       "      <td>243.0</td>\n",
       "      <td>0.9922</td>\n",
       "      <td>gauleit, gau, ostmark, prachatitz, heimat, bay...</td>\n",
       "      <td>3</td>\n",
       "    </tr>\n",
       "    <tr>\n",
       "      <th>45</th>\n",
       "      <td>45</td>\n",
       "      <td>136.0</td>\n",
       "      <td>0.9928</td>\n",
       "      <td>generalfeldmarschal, großdeutschland, könnten,...</td>\n",
       "      <td>3</td>\n",
       "    </tr>\n",
       "    <tr>\n",
       "      <th>46</th>\n",
       "      <td>46</td>\n",
       "      <td>59.0</td>\n",
       "      <td>0.9797</td>\n",
       "      <td>oesterreich, rückwander, flüchtling, verlassen...</td>\n",
       "      <td>0</td>\n",
       "    </tr>\n",
       "    <tr>\n",
       "      <th>47</th>\n",
       "      <td>47</td>\n",
       "      <td>152.0</td>\n",
       "      <td>0.9955</td>\n",
       "      <td>dö, nit, göd, jo, wo, ober, weard, goudl, di, ...</td>\n",
       "      <td>0</td>\n",
       "    </tr>\n",
       "    <tr>\n",
       "      <th>48</th>\n",
       "      <td>48</td>\n",
       "      <td>11.0</td>\n",
       "      <td>0.9877</td>\n",
       "      <td>pg, bauhof, spielen, linz, lask, wiener, heimk...</td>\n",
       "      <td>0</td>\n",
       "    </tr>\n",
       "  </tbody>\n",
       "</table>\n",
       "</div>"
      ],
      "text/plain": [
       "    Document_No  Dominant_Topic  Topic_Perc_Contrib  \\\n",
       "43           43            10.0              0.9893   \n",
       "44           44           243.0              0.9922   \n",
       "45           45           136.0              0.9928   \n",
       "46           46            59.0              0.9797   \n",
       "47           47           152.0              0.9955   \n",
       "48           48            11.0              0.9877   \n",
       "\n",
       "                                             Keywords  Relevancy  \n",
       "43  land, millionen, personen, städten, landbezirk...          3  \n",
       "44  gauleit, gau, ostmark, prachatitz, heimat, bay...          3  \n",
       "45  generalfeldmarschal, großdeutschland, könnten,...          3  \n",
       "46  oesterreich, rückwander, flüchtling, verlassen...          0  \n",
       "47  dö, nit, göd, jo, wo, ober, weard, goudl, di, ...          0  \n",
       "48  pg, bauhof, spielen, linz, lask, wiener, heimk...          0  "
      ]
     },
     "execution_count": 109,
     "metadata": {},
     "output_type": "execute_result"
    }
   ],
   "source": [
    "def format_topics_sentences(ldamodel=None, corpus=corpus, relevancy=df['relevancy']):\n",
    "    # Init output\n",
    "    sent_topics_df = pd.DataFrame()\n",
    "\n",
    "    # Get main topic in each document\n",
    "    for i, row_list in enumerate(ldamodel[corpus]):\n",
    "        row = row_list[0] if ldamodel.per_word_topics else row_list   \n",
    "        row = sorted(row, key=lambda x: (x[1]), reverse=True)\n",
    "        for s, (topic_num, prop_topic) in enumerate(row):\n",
    "            if s == 0:  # => dominant topic\n",
    "                wp = ldamodel.show_topic(topic_num)\n",
    "                topic_keywords = \", \".join([word for word, prop in wp])\n",
    "                sent_topics_df = sent_topics_df.append(pd.Series([int(topic_num), round(prop_topic,4), topic_keywords]), ignore_index=True)\n",
    "            else:\n",
    "                break\n",
    "    sent_topics_df.columns = ['Dominant_Topic', 'Perc_Contribution', 'Topic_Keywords']\n",
    "\n",
    "    # Add relevancy to the end of the output\n",
    "    contents = pd.Series(relevancy)\n",
    "    \n",
    "    sent_topics_df = pd.concat([sent_topics_df, contents], axis=1)\n",
    "    return(sent_topics_df)\n",
    "\n",
    "\n",
    "df_topic_sents_keywords = format_topics_sentences(ldamodel=lda, corpus=corpus, relevancy=df['relevancy'])\n",
    "\n",
    "\n",
    "# Format\n",
    "df_dominant_topic = df_topic_sents_keywords.reset_index()\n",
    "df_dominant_topic.columns = ['Document_No', 'Dominant_Topic', 'Topic_Perc_Contrib', 'Keywords', 'Relevancy']\n",
    "df_dominant_topic[43:49]\n"
   ]
  },
  {
   "cell_type": "markdown",
   "metadata": {
    "tags": [
     "hermeneutics-steps"
    ]
   },
   "source": [
    "## Visualizing the relationship of dominant topics and relevance labels"
   ]
  },
  {
   "cell_type": "markdown",
   "metadata": {
    "tags": [
     "hermeneutics-step"
    ]
   },
   "source": [
    "In order to see how well the dominant topics are separated between relevant (3) and non-relevant (0) articles, a network visualization was plotted using the Python packages Pandas and Networkx. For the network visualization, the most dominant topic for each newspaper clipping in the training corpus was determined. This makes it possible to visualize relevant and non relevant newspaper clippings together with their dominant topics. This visualization helps to see how effective the model was trained. The fewer articles share the same dominant topics, the better the results. Also topic number 10 can be found in the visualization, clearly connected to articles labeled as relevant (=3). "
   ]
  },
  {
   "cell_type": "code",
   "execution_count": 110,
   "metadata": {},
   "outputs": [
    {
     "data": {
      "image/png": "[encoded data removed]",
      "text/plain": [
       "<Figure size 432x288 with 1 Axes>"
      ]
     },
     "metadata": {},
     "output_type": "display_data"
    }
   ],
   "source": [
    "import networkx as nx\n",
    "import seaborn as sns\n",
    "import sys\n",
    "\n",
    "df_dominant_topic.to_csv('topic_relevancy.csv')\n",
    "import csv\n",
    "with open('topic_relevancy.csv',  encoding=\"utf8\") as infile:\n",
    "    reader = csv.reader(infile)    \n",
    "    csv_data = list(reader)\n",
    "df_dominant_topics= pd.read_csv('topic_relevancy.csv', usecols = ['Dominant_Topic', 'Relevancy'])\n",
    "list_topic = []\n",
    "for key in csv_data: \n",
    "    list_topic.append(key[2])\n",
    "topic = list_topic[1:]\n",
    "\n",
    "list_relevancy = []\n",
    "for key in csv_data:\n",
    "    list_relevancy.append(key[5])\n",
    "relevance = list_relevancy[1:]   \n",
    "import pandas as pd\n",
    "import numpy as np\n",
    "import matplotlib.pyplot as plt\n",
    "\n",
    "# Build a dataframe with 4 connections\n",
    "df = pd.DataFrame({ 'from': relevance, 'to': topic})\n",
    "\n",
    "# Build your graph   \n",
    "G = nx.from_pandas_edgelist(df, 'from', 'to')\n",
    "color_map = []\n",
    "for node in G:\n",
    "    if node == \"3\":\n",
    "        color_map.append('#b85399')\n",
    "    if node == \"0\":\n",
    "        color_map.append('#b85399')\n",
    "    else: \n",
    "        color_map.append('#2d95b3') \n",
    "# Plot it\n",
    "nx.draw(G, with_labels=True, node_color=color_map)\n",
    "plt.legend(('Relevancy labels (0= irrelevant, 3= relevant)', 'Relationship between entities'),\n",
    "           loc='upper left')\n",
    "plt.title('Figure 6: This graph hows how well the dominant topics are separated between relevant and irrelevant newspaper clippings.')\n",
    "plt.show()\n"
   ]
  },
  {
   "cell_type": "markdown",
   "metadata": {},
   "source": [
    "Topic models are based on the assumption that a relatively small set of latent topics underlies natural language texts, where a word may belong to several topics. Topic models use the so-called bag-of-words assumption within a document, while documents can be “represented as random mixtures over latent topics, where each topic is characterised by a distribution over words”, as described by Blei et al. (2003). While several statistical algorithms for topic modeling exist, LDA was chosen for this approach because it has shown a good ability to cluster documents (Lu et al., 2020). When using LDA, it needs to be highlighted that the model results are not deterministic. Results are always affected by both, the choice of parameters and the built-in stochastic process. Maier et al. (2018) therefore proposed following guidelines in order to increase reliability, interpretability, and validity of LDA models: 1) Cleaning and preprocessing steps need to be used reasonably as well as in a correct order. A good knowledge of the corpus and close reading of results helps to decide on which steps work well. 2) The selection of LDA parameters is crucial (Maier et al., 2018). The number of topics depends on the corpus and on the research project. Topic modeling, for example, is used for various needs: understanding given topics in a corpus, getting a better insight into the type or genre of documents in a corpus (news, advertisement, etc.), capturing the evolution of topics and trends within multilingual collections (Zosa and Ganroth-Wilding, 2019), or comparing different corpora (Lu et al., 2020). Each of these application areas needs different parameters. While methods to automatically determine the topic number can be helpful in some cases (e.g., Zhao et al., 2020; O’Callaghan, 2015), close reading a considerable amount of documents and words remains most reliable. Finally, 3) Results from topic models are the beginning, not the end of an analysis (Maier et al. 2018). Interpreting the results of topic modelling, for example, as stable thematic discourses, should be viewed critically. Nevertheless, topic modeling does a great job in clustering, which is why it is well suited for corpus building approaches. "
   ]
  },
  {
   "cell_type": "markdown",
   "metadata": {},
   "source": [
    "Just like LDA, JSD also depends on decisions of the researcher, though far less. For example, it needs to be decided on how many of the most similar texts within the training and feedback set are retrieved and used for feedback on the relevancy. LDA measures which documents are statistically “closer” (and therefore more alike) by comparing the divergence of their topic distributions. The smaller the distance, the more similar two articles are (Lin, 1991). Consequently, the topic distribution of each new article (from the test corpus) is compared to the topic distribution of all articles in the feedback set and the ten most similar articles from the feedback set are retrieved. If 60 percent of those articles were labeled as relevant, the new article was marked as relevant, too. Otherwise it was marked as irrelevant (Figure … )"
   ]
  },
  {
   "cell_type": "markdown",
   "metadata": {},
   "source": [
    "<table><tr>\n",
    "    <caption align=\"top\">Figure 7: This example shows the recommendation of the ten most similar articles for one unseen article of the test corpus. The relevance levels tell whether the articles were manually classified as relevant or as irrelevant. </caption>\n",
    "    <td> <img src=\"images/figure.png\" alt=\"Drawing\" style=\"width: 700px;\"/> </td>\n",
    "</tr></table>"
   ]
  },
  {
   "cell_type": "markdown",
   "metadata": {
    "tags": [
     "hermeneutics-steps"
    ]
   },
   "source": [
    "## Finding similar articles in the training corpus using the Jensen-Shannon function"
   ]
  },
  {
   "cell_type": "markdown",
   "metadata": {
    "tags": [
     "hermeneutics-step"
    ]
   },
   "source": [
    "The topic distributions for each document obtained are used to calculate the degree of similarity between documents by using the JSD method. The first function implements a Jensen-Shannon similarity between the input query (an LDA topic distribution for a document) and the entire corpus of topic distributions. It returns an array of length M where M is the number of documents in the corpus. The second function implements the Jensen-Shannon distance above and returns the top k indices of the smallest Jensen-Shannon distances. For example, for the here shown and so far unseen article from the testing corpus, which talks about Russian returnees returning from America to Europe, 10 most similar documents from the training corpus were retrieved. Those documents carry the information on the relevancy,as can be seen in the dataframe. Since more than 60 percent of the most similar articles were annotated as relevant, the article will be classified as relevant. This process will be carried out for all articles in the testing corpus.   "
   ]
  },
  {
   "cell_type": "code",
   "execution_count": 111,
   "metadata": {},
   "outputs": [
    {
     "name": "stdout",
     "output_type": "stream",
     "text": [
      "In der holländischen\n",
      "Hafenstadt Rotterdam\n",
      "und in ganz Holland\n",
      "erregt das Schicksal der\n",
      "russischen Rückwanderer\n",
      "viel Aufsehen, die an\n",
      "Bord des Dampfers\n",
      "„Volturno“ der\n",
      "Uranium=Linie aus\n",
      "Amerika nach Europa\n",
      "zurückgekommen waren\n",
      "und von den deutschen\n",
      "Behörden daran gehindert wurden, durch\n",
      "deutsches Gebiet nach\n",
      "Rußland zu reisen. Diese\n",
      "56 Russen konnten nämlich die von den preußischen Behörden verlangten Dokumente (Durchfahrkarten bis Wirballen\n",
      "und russische Grenzpässe)\n",
      "nicht vorweisen. Die\n",
      "armen Leute mußten\n",
      "also, als der „Volturno“\n",
      "Rotterdam verließ, wieder an Bord gehen, der\n",
      "Kapitän aber ließ sie\n",
      "nochmals ausschiffen.\n",
      "Jetzt werden die Rückwanderer auf Kosten der\n",
      "Uranium= Dampfschifffahrts=Gesellschaft verpflegt. Wie sich ihr\n",
      "Schicksal weiter gestalten\n",
      "wird, muß sich erst noch\n",
      "entscheiden.\n",
      "\n",
      "\n"
     ]
    },
    {
     "data": {
      "text/html": [
       "<div>\n",
       "<style scoped>\n",
       "    .dataframe tbody tr th:only-of-type {\n",
       "        vertical-align: middle;\n",
       "    }\n",
       "\n",
       "    .dataframe tbody tr th {\n",
       "        vertical-align: top;\n",
       "    }\n",
       "\n",
       "    .dataframe thead th {\n",
       "        text-align: right;\n",
       "    }\n",
       "</style>\n",
       "<table border=\"1\" class=\"dataframe\">\n",
       "  <thead>\n",
       "    <tr style=\"text-align: right;\">\n",
       "      <th></th>\n",
       "      <th>relevancy</th>\n",
       "      <th>text</th>\n",
       "      <th>tokenized</th>\n",
       "    </tr>\n",
       "  </thead>\n",
       "  <tbody>\n",
       "    <tr>\n",
       "      <th>7</th>\n",
       "      <td>3</td>\n",
       "      <td>Der Rechtsvertrag mit Rußland.\\nAuch mit Rußla...</td>\n",
       "      <td>[rechtsvertrag, rußland, rußland, zusatzvertra...</td>\n",
       "    </tr>\n",
       "    <tr>\n",
       "      <th>27</th>\n",
       "      <td>3</td>\n",
       "      <td>Krakau, 17. November. Auf dem hiesigen Bahnhof...</td>\n",
       "      <td>[krakau, 17, novemb, hiesigen, bahnhof, neuerl...</td>\n",
       "    </tr>\n",
       "    <tr>\n",
       "      <th>29</th>\n",
       "      <td>0</td>\n",
       "      <td>Triest, 26. Juli. (Privat.) An Bord des die sy...</td>\n",
       "      <td>[triest, 26, juli, privat, bord, syrisch, lini...</td>\n",
       "    </tr>\n",
       "    <tr>\n",
       "      <th>36</th>\n",
       "      <td>3</td>\n",
       "      <td>* Rückwanderer aus Amerika. Samstag früh sind\\...</td>\n",
       "      <td>[rückwander, amerika, samstag, früh, 250, amer...</td>\n",
       "    </tr>\n",
       "    <tr>\n",
       "      <th>73</th>\n",
       "      <td>0</td>\n",
       "      <td>stefft hajek: Mein Dackel erzählt...\\nEine wah...</td>\n",
       "      <td>[stefft, hajek, dackel, erzählt, wahr, geschic...</td>\n",
       "    </tr>\n",
       "    <tr>\n",
       "      <th>81</th>\n",
       "      <td>0</td>\n",
       "      <td>[Besuch österreichischer Officiere bei einer\\n...</td>\n",
       "      <td>[besuch, österreichisch, officier, russischen,...</td>\n",
       "    </tr>\n",
       "    <tr>\n",
       "      <th>89</th>\n",
       "      <td>3</td>\n",
       "      <td>Deutsche Schritte wegen des\\nZwischenfalles vo...</td>\n",
       "      <td>[deutsch, schritt, zwischenfal, gifon, berlin,...</td>\n",
       "    </tr>\n",
       "    <tr>\n",
       "      <th>96</th>\n",
       "      <td>3</td>\n",
       "      <td>chon unterwegs, eine kleine Anzahl Schweine un...</td>\n",
       "      <td>[chon, unterweg, anzahl, schwein, schafe, trei...</td>\n",
       "    </tr>\n",
       "    <tr>\n",
       "      <th>111</th>\n",
       "      <td>3</td>\n",
       "      <td>Hunderttausende unserer Soldaten sind im Verla...</td>\n",
       "      <td>[hunderttausend, soldaten, verlauf, krieg, rus...</td>\n",
       "    </tr>\n",
       "    <tr>\n",
       "      <th>115</th>\n",
       "      <td>3</td>\n",
       "      <td>Dieser Antrag wurde mit 14 gegen 10 Stimmen an...</td>\n",
       "      <td>[antrag, 14, 10, stimmen, ueber, verfassungsau...</td>\n",
       "    </tr>\n",
       "  </tbody>\n",
       "</table>\n",
       "</div>"
      ],
      "text/plain": [
       "     relevancy                                               text  \\\n",
       "7            3  Der Rechtsvertrag mit Rußland.\\nAuch mit Rußla...   \n",
       "27           3  Krakau, 17. November. Auf dem hiesigen Bahnhof...   \n",
       "29           0  Triest, 26. Juli. (Privat.) An Bord des die sy...   \n",
       "36           3  * Rückwanderer aus Amerika. Samstag früh sind\\...   \n",
       "73           0  stefft hajek: Mein Dackel erzählt...\\nEine wah...   \n",
       "81           0  [Besuch österreichischer Officiere bei einer\\n...   \n",
       "89           3  Deutsche Schritte wegen des\\nZwischenfalles vo...   \n",
       "96           3  chon unterwegs, eine kleine Anzahl Schweine un...   \n",
       "111          3  Hunderttausende unserer Soldaten sind im Verla...   \n",
       "115          3  Dieser Antrag wurde mit 14 gegen 10 Stimmen an...   \n",
       "\n",
       "                                             tokenized  \n",
       "7    [rechtsvertrag, rußland, rußland, zusatzvertra...  \n",
       "27   [krakau, 17, novemb, hiesigen, bahnhof, neuerl...  \n",
       "29   [triest, 26, juli, privat, bord, syrisch, lini...  \n",
       "36   [rückwander, amerika, samstag, früh, 250, amer...  \n",
       "73   [stefft, hajek, dackel, erzählt, wahr, geschic...  \n",
       "81   [besuch, österreichisch, officier, russischen,...  \n",
       "89   [deutsch, schritt, zwischenfal, gifon, berlin,...  \n",
       "96   [chon, unterweg, anzahl, schwein, schafe, trei...  \n",
       "111  [hunderttausend, soldaten, verlauf, krieg, rus...  \n",
       "115  [antrag, 14, 10, stimmen, ueber, verfassungsau...  "
      ]
     },
     "execution_count": 111,
     "metadata": {},
     "output_type": "execute_result"
    }
   ],
   "source": [
    "from scipy.stats import entropy\n",
    "def jensen_shannon(query, matrix):\n",
    "    p = query[None,:].T \n",
    "    q = matrix.T \n",
    "    m = 0.5*(p + q)\n",
    "    return np.sqrt(0.5*(entropy(p,m) + entropy(q,m)))\n",
    "def get_most_similar_documents(query,matrix,k=10):\n",
    "    sims = jensen_shannon(query,matrix) \n",
    "    return sims.argsort()[:k] \n",
    "\n",
    "\n",
    "#lists for the output\n",
    "\n",
    "text_relevant = []\n",
    "number_relevant = []\n",
    "text_non_relevant = []\n",
    "number_non_relevant = []\n",
    "\n",
    "#most similar articles\n",
    "\n",
    "bow = dictionary.doc2bow(test_df.iloc[6,2])\n",
    "doc_distribution = np.array([tup[1] for tup in lda.get_document_topics(bow=bow)])\n",
    "doc_topic_dist = np.stack([np.array([tup[1] for tup in lst]) for lst in lda[corpus]])\n",
    "doc_topic_dist.shape\n",
    "sim_ids = get_most_similar_documents(doc_distribution,doc_topic_dist)\n",
    "similar_df = train_df[train_df.index.isin(sim_ids)]\n",
    "print(test_df.iloc[6,1])\n",
    "print(\"\\n\")\n",
    "similar_df"
   ]
  },
  {
   "cell_type": "code",
   "execution_count": 112,
   "metadata": {},
   "outputs": [
    {
     "data": {
      "text/html": [
       "<div>\n",
       "<style scoped>\n",
       "    .dataframe tbody tr th:only-of-type {\n",
       "        vertical-align: middle;\n",
       "    }\n",
       "\n",
       "    .dataframe tbody tr th {\n",
       "        vertical-align: top;\n",
       "    }\n",
       "\n",
       "    .dataframe thead th {\n",
       "        text-align: right;\n",
       "    }\n",
       "</style>\n",
       "<table border=\"1\" class=\"dataframe\">\n",
       "  <thead>\n",
       "    <tr style=\"text-align: right;\">\n",
       "      <th></th>\n",
       "      <th>This text was classified as relevant</th>\n",
       "      <th>3</th>\n",
       "      <th>This text was classified as irrelevant</th>\n",
       "      <th>0</th>\n",
       "    </tr>\n",
       "  </thead>\n",
       "  <tbody>\n",
       "    <tr>\n",
       "      <th>0</th>\n",
       "      <td>auf das schärfste zurückzuweisen.\\nDer Kriegsm...</td>\n",
       "      <td>3</td>\n",
       "      <td>[Die Bilanz von Monte=Carlo.] Der Mailänder\\nS...</td>\n",
       "      <td>0</td>\n",
       "    </tr>\n",
       "    <tr>\n",
       "      <th>1</th>\n",
       "      <td>Ueberfahrtsstelle der Kufsteinerstraße ein nic...</td>\n",
       "      <td>0</td>\n",
       "      <td>Prinz Heinrich in Friedrichsruh und Altona.\\n(...</td>\n",
       "      <td>0</td>\n",
       "    </tr>\n",
       "    <tr>\n",
       "      <th>2</th>\n",
       "      <td>In der holländischen\\nHafenstadt Rotterdam\\nun...</td>\n",
       "      <td>3</td>\n",
       "      <td>[Neue Bücher.] Baumgartner, Handwörterbuch des...</td>\n",
       "      <td>0</td>\n",
       "    </tr>\n",
       "    <tr>\n",
       "      <th>3</th>\n",
       "      <td>Die Auswanderung über Fiume.\\n(Telegramm der „...</td>\n",
       "      <td>3</td>\n",
       "      <td>Man hat es also hier, wo sich die Aufmerksamke...</td>\n",
       "      <td>0</td>\n",
       "    </tr>\n",
       "    <tr>\n",
       "      <th>4</th>\n",
       "      <td>Das Eisenbahnunglück bei Liverpool.\\nZwei Oest...</td>\n",
       "      <td>3</td>\n",
       "      <td>Triest, 21. Februar. Heute früh trafen an Bord...</td>\n",
       "      <td>3</td>\n",
       "    </tr>\n",
       "    <tr>\n",
       "      <th>5</th>\n",
       "      <td>Das zurückflutende Geld.\\nAuf eine Anfrage des...</td>\n",
       "      <td>3</td>\n",
       "      <td>höhnung über ihn hereinzubrechen, bei der er B...</td>\n",
       "      <td>0</td>\n",
       "    </tr>\n",
       "    <tr>\n",
       "      <th>6</th>\n",
       "      <td>Halsbänder von Kinderhänden.\\nSofia, 16. Augus...</td>\n",
       "      <td>3</td>\n",
       "      <td>Vater und dreimal schoß der Sohn. Keine Kugel ...</td>\n",
       "      <td>0</td>\n",
       "    </tr>\n",
       "    <tr>\n",
       "      <th>7</th>\n",
       "      <td>Ritt Vargas im italienischen Derby.\\nJockei Va...</td>\n",
       "      <td>3</td>\n",
       "      <td>Die Austria wird diesmal mit einer starken Elf...</td>\n",
       "      <td>3</td>\n",
       "    </tr>\n",
       "  </tbody>\n",
       "</table>\n",
       "</div>"
      ],
      "text/plain": [
       "                This text was classified as relevant  3  \\\n",
       "0  auf das schärfste zurückzuweisen.\\nDer Kriegsm...  3   \n",
       "1  Ueberfahrtsstelle der Kufsteinerstraße ein nic...  0   \n",
       "2  In der holländischen\\nHafenstadt Rotterdam\\nun...  3   \n",
       "3  Die Auswanderung über Fiume.\\n(Telegramm der „...  3   \n",
       "4  Das Eisenbahnunglück bei Liverpool.\\nZwei Oest...  3   \n",
       "5  Das zurückflutende Geld.\\nAuf eine Anfrage des...  3   \n",
       "6  Halsbänder von Kinderhänden.\\nSofia, 16. Augus...  3   \n",
       "7  Ritt Vargas im italienischen Derby.\\nJockei Va...  3   \n",
       "\n",
       "              This text was classified as irrelevant  0  \n",
       "0  [Die Bilanz von Monte=Carlo.] Der Mailänder\\nS...  0  \n",
       "1  Prinz Heinrich in Friedrichsruh und Altona.\\n(...  0  \n",
       "2  [Neue Bücher.] Baumgartner, Handwörterbuch des...  0  \n",
       "3  Man hat es also hier, wo sich die Aufmerksamke...  0  \n",
       "4  Triest, 21. Februar. Heute früh trafen an Bord...  3  \n",
       "5  höhnung über ihn hereinzubrechen, bei der er B...  0  \n",
       "6  Vater und dreimal schoß der Sohn. Keine Kugel ...  0  \n",
       "7  Die Austria wird diesmal mit einer starken Elf...  3  "
      ]
     },
     "execution_count": 112,
     "metadata": {},
     "output_type": "execute_result"
    }
   ],
   "source": [
    "# Classify into relevant and irrelevant\n",
    "index = 0\n",
    "while index < len(test_df) -1:\n",
    "    index +=1\n",
    "    new_bow = dictionary.doc2bow(test_df.iloc[index,2])\n",
    "    new_doc_distribution = np.array([tup[1] for tup in lda.get_document_topics(bow=new_bow)])\n",
    "    doc_topic_dist = np.stack([np.array([tup[1] for tup in lst]) for lst in lda[corpus]])\n",
    "    doc_topic_dist.shape\n",
    "    most_sim_ids = get_most_similar_documents(new_doc_distribution,doc_topic_dist)\n",
    "    most_similar_df = train_df[train_df.index.isin(most_sim_ids)]\n",
    "    relevant = []\n",
    "    if sum(most_similar_df['relevancy']) > 17: \n",
    "        text_relevant.append(test_df.iloc[index,1])\n",
    "        number_relevant.append(test_df.iloc[index,0])\n",
    "    else:\n",
    "        text_non_relevant.append(test_df.iloc[index,1])\n",
    "        number_non_relevant.append(test_df.iloc[index,0])\n",
    "    pass\n",
    "\n",
    "df_relevant = pd.DataFrame(np.column_stack([text_relevant, number_relevant]), \n",
    "                               columns=['Relevant_Text', 'Real_Relevancy'])\n",
    "\n",
    "df_non_relevant = pd.DataFrame(np.column_stack([text_non_relevant, number_non_relevant]), \n",
    "                               columns=['Unrelevant_Text', 'Real_Revelancy'])\n",
    "\n",
    "\n",
    "df_results = pd.concat([df_relevant,df_non_relevant], ignore_index=True, axis=1)\n",
    "df_results.columns=['This text was classified as relevant', '3','This text was classified as irrelevant', '0']\n",
    "df_results.head(8)"
   ]
  },
  {
   "cell_type": "markdown",
   "metadata": {},
   "source": [
    "This solution was simple and exceedingly successful, as can be seen in Figure … : Since the documents in the testing corpus carry the labels on relevancy as well, a simple evaluation (correct results divided by the number of documents in the testing corpus) is possible. As an overall result, up to 85 per cent of the articles from the testing corpus are classified correctly. "
   ]
  },
  {
   "cell_type": "code",
   "execution_count": 113,
   "metadata": {},
   "outputs": [
    {
     "data": {
      "text/html": [
       "<div>\n",
       "<style scoped>\n",
       "    .dataframe tbody tr th:only-of-type {\n",
       "        vertical-align: middle;\n",
       "    }\n",
       "\n",
       "    .dataframe tbody tr th {\n",
       "        vertical-align: top;\n",
       "    }\n",
       "\n",
       "    .dataframe thead th {\n",
       "        text-align: right;\n",
       "    }\n",
       "</style>\n",
       "<table border=\"1\" class=\"dataframe\">\n",
       "  <thead>\n",
       "    <tr style=\"text-align: right;\">\n",
       "      <th></th>\n",
       "      <th>This text was classified as relevant</th>\n",
       "      <th>3</th>\n",
       "      <th>This text was classified as irrelevant</th>\n",
       "      <th>0</th>\n",
       "    </tr>\n",
       "  </thead>\n",
       "  <tbody>\n",
       "    <tr>\n",
       "      <th>0</th>\n",
       "      <td>auf das schärfste zurückzuweisen.\\nDer Kriegsm...</td>\n",
       "      <td>3</td>\n",
       "      <td>[Die Bilanz von Monte=Carlo.] Der Mailänder\\nS...</td>\n",
       "      <td>0</td>\n",
       "    </tr>\n",
       "    <tr>\n",
       "      <th>1</th>\n",
       "      <td>Ueberfahrtsstelle der Kufsteinerstraße ein nic...</td>\n",
       "      <td>0</td>\n",
       "      <td>Prinz Heinrich in Friedrichsruh und Altona.\\n(...</td>\n",
       "      <td>0</td>\n",
       "    </tr>\n",
       "    <tr>\n",
       "      <th>2</th>\n",
       "      <td>In der holländischen\\nHafenstadt Rotterdam\\nun...</td>\n",
       "      <td>3</td>\n",
       "      <td>[Neue Bücher.] Baumgartner, Handwörterbuch des...</td>\n",
       "      <td>0</td>\n",
       "    </tr>\n",
       "    <tr>\n",
       "      <th>3</th>\n",
       "      <td>Die Auswanderung über Fiume.\\n(Telegramm der „...</td>\n",
       "      <td>3</td>\n",
       "      <td>Man hat es also hier, wo sich die Aufmerksamke...</td>\n",
       "      <td>0</td>\n",
       "    </tr>\n",
       "    <tr>\n",
       "      <th>4</th>\n",
       "      <td>Das Eisenbahnunglück bei Liverpool.\\nZwei Oest...</td>\n",
       "      <td>3</td>\n",
       "      <td>Triest, 21. Februar. Heute früh trafen an Bord...</td>\n",
       "      <td>3</td>\n",
       "    </tr>\n",
       "    <tr>\n",
       "      <th>5</th>\n",
       "      <td>Das zurückflutende Geld.\\nAuf eine Anfrage des...</td>\n",
       "      <td>3</td>\n",
       "      <td>höhnung über ihn hereinzubrechen, bei der er B...</td>\n",
       "      <td>0</td>\n",
       "    </tr>\n",
       "    <tr>\n",
       "      <th>6</th>\n",
       "      <td>Halsbänder von Kinderhänden.\\nSofia, 16. Augus...</td>\n",
       "      <td>3</td>\n",
       "      <td>Vater und dreimal schoß der Sohn. Keine Kugel ...</td>\n",
       "      <td>0</td>\n",
       "    </tr>\n",
       "    <tr>\n",
       "      <th>7</th>\n",
       "      <td>Ritt Vargas im italienischen Derby.\\nJockei Va...</td>\n",
       "      <td>3</td>\n",
       "      <td>Die Austria wird diesmal mit einer starken Elf...</td>\n",
       "      <td>3</td>\n",
       "    </tr>\n",
       "    <tr>\n",
       "      <th>8</th>\n",
       "      <td>(Aus Amerika zurück.) Am vergangenen Freitag\\n...</td>\n",
       "      <td>3</td>\n",
       "      <td>gd. Schwaz. Zum Tode des Ortsgruppenleiters\\nF...</td>\n",
       "      <td>0</td>\n",
       "    </tr>\n",
       "    <tr>\n",
       "      <th>9</th>\n",
       "      <td>* Das amerikanische Echo. Aus New=York wird\\nu...</td>\n",
       "      <td>3</td>\n",
       "      <td>Sondertagungen der Handwerks=Rebenorganisation...</td>\n",
       "      <td>0</td>\n",
       "    </tr>\n",
       "    <tr>\n",
       "      <th>10</th>\n",
       "      <td>Der Balkankrteg.\\nRückwanderung in die Balkans...</td>\n",
       "      <td>3</td>\n",
       "      <td>Der Reichsarbeitsdienst in der Ostmark\\nVier A...</td>\n",
       "      <td>0</td>\n",
       "    </tr>\n",
       "    <tr>\n",
       "      <th>11</th>\n",
       "      <td>Die Blatternerkrankungen unter den bosnischen\\...</td>\n",
       "      <td>3</td>\n",
       "      <td>„Heraus mit unseren Kolonien!“\\nEin Aufruf Gen...</td>\n",
       "      <td>0</td>\n",
       "    </tr>\n",
       "    <tr>\n",
       "      <th>12</th>\n",
       "      <td>Noues Gesetz. Wenn Sie jetzt Fi\\nmehr als zwei...</td>\n",
       "      <td>3</td>\n",
       "      <td>zb. Newyork, 8. Mai.\\nDer Bär ist los!\\nOrei M...</td>\n",
       "      <td>3</td>\n",
       "    </tr>\n",
       "    <tr>\n",
       "      <th>13</th>\n",
       "      <td>Härteausgleich für Einwanderer nach dem Lande\\...</td>\n",
       "      <td>3</td>\n",
       "      <td>gilt. Dieses Bewertungssystem findet in allen ...</td>\n",
       "      <td>0</td>\n",
       "    </tr>\n",
       "    <tr>\n",
       "      <th>14</th>\n",
       "      <td>Das Großdeutsche Reich hat die baltendeutschen...</td>\n",
       "      <td>3</td>\n",
       "      <td>Feuitteton.\\nterliche Zeit der fehlenden Hosen...</td>\n",
       "      <td>0</td>\n",
       "    </tr>\n",
       "    <tr>\n",
       "      <th>15</th>\n",
       "      <td>Die geraubten Malvinen müssen wieder zurück!\\n...</td>\n",
       "      <td>0</td>\n",
       "      <td>euer Dollarbefestigung\\nDrahtmeldung der „Neue...</td>\n",
       "      <td>0</td>\n",
       "    </tr>\n",
       "    <tr>\n",
       "      <th>16</th>\n",
       "      <td>Als Karl Weber bei Neu=Bentschen\\nauf deutsche...</td>\n",
       "      <td>3</td>\n",
       "      <td>Rückwanderung europäischer Fluchtgelder\\nNewyo...</td>\n",
       "      <td>0</td>\n",
       "    </tr>\n",
       "    <tr>\n",
       "      <th>17</th>\n",
       "      <td>Berlin, 21. Okt. Am Freitagnachmittag traf auf...</td>\n",
       "      <td>3</td>\n",
       "      <td>Doch reden wir nicht davon.\\nWaltzen auf der W...</td>\n",
       "      <td>0</td>\n",
       "    </tr>\n",
       "    <tr>\n",
       "      <th>18</th>\n",
       "      <td>hf. Schwaz. Abgestürzter Kraftwagen geboren. E...</td>\n",
       "      <td>3</td>\n",
       "      <td>Originalroman von\\nGustav Tannhofer.\\nWar das ...</td>\n",
       "      <td>0</td>\n",
       "    </tr>\n",
       "    <tr>\n",
       "      <th>19</th>\n",
       "      <td>Das Lebensbild des Direktors Stoß wäre\\nnicht ...</td>\n",
       "      <td>3</td>\n",
       "      <td>Originalroman von\\nGustav Tannhofer.\\n(158)\\nN...</td>\n",
       "      <td>0</td>\n",
       "    </tr>\n",
       "  </tbody>\n",
       "</table>\n",
       "</div>"
      ],
      "text/plain": [
       "                 This text was classified as relevant  3  \\\n",
       "0   auf das schärfste zurückzuweisen.\\nDer Kriegsm...  3   \n",
       "1   Ueberfahrtsstelle der Kufsteinerstraße ein nic...  0   \n",
       "2   In der holländischen\\nHafenstadt Rotterdam\\nun...  3   \n",
       "3   Die Auswanderung über Fiume.\\n(Telegramm der „...  3   \n",
       "4   Das Eisenbahnunglück bei Liverpool.\\nZwei Oest...  3   \n",
       "5   Das zurückflutende Geld.\\nAuf eine Anfrage des...  3   \n",
       "6   Halsbänder von Kinderhänden.\\nSofia, 16. Augus...  3   \n",
       "7   Ritt Vargas im italienischen Derby.\\nJockei Va...  3   \n",
       "8   (Aus Amerika zurück.) Am vergangenen Freitag\\n...  3   \n",
       "9   * Das amerikanische Echo. Aus New=York wird\\nu...  3   \n",
       "10  Der Balkankrteg.\\nRückwanderung in die Balkans...  3   \n",
       "11  Die Blatternerkrankungen unter den bosnischen\\...  3   \n",
       "12  Noues Gesetz. Wenn Sie jetzt Fi\\nmehr als zwei...  3   \n",
       "13  Härteausgleich für Einwanderer nach dem Lande\\...  3   \n",
       "14  Das Großdeutsche Reich hat die baltendeutschen...  3   \n",
       "15  Die geraubten Malvinen müssen wieder zurück!\\n...  0   \n",
       "16  Als Karl Weber bei Neu=Bentschen\\nauf deutsche...  3   \n",
       "17  Berlin, 21. Okt. Am Freitagnachmittag traf auf...  3   \n",
       "18  hf. Schwaz. Abgestürzter Kraftwagen geboren. E...  3   \n",
       "19  Das Lebensbild des Direktors Stoß wäre\\nnicht ...  3   \n",
       "\n",
       "               This text was classified as irrelevant  0  \n",
       "0   [Die Bilanz von Monte=Carlo.] Der Mailänder\\nS...  0  \n",
       "1   Prinz Heinrich in Friedrichsruh und Altona.\\n(...  0  \n",
       "2   [Neue Bücher.] Baumgartner, Handwörterbuch des...  0  \n",
       "3   Man hat es also hier, wo sich die Aufmerksamke...  0  \n",
       "4   Triest, 21. Februar. Heute früh trafen an Bord...  3  \n",
       "5   höhnung über ihn hereinzubrechen, bei der er B...  0  \n",
       "6   Vater und dreimal schoß der Sohn. Keine Kugel ...  0  \n",
       "7   Die Austria wird diesmal mit einer starken Elf...  3  \n",
       "8   gd. Schwaz. Zum Tode des Ortsgruppenleiters\\nF...  0  \n",
       "9   Sondertagungen der Handwerks=Rebenorganisation...  0  \n",
       "10  Der Reichsarbeitsdienst in der Ostmark\\nVier A...  0  \n",
       "11  „Heraus mit unseren Kolonien!“\\nEin Aufruf Gen...  0  \n",
       "12  zb. Newyork, 8. Mai.\\nDer Bär ist los!\\nOrei M...  3  \n",
       "13  gilt. Dieses Bewertungssystem findet in allen ...  0  \n",
       "14  Feuitteton.\\nterliche Zeit der fehlenden Hosen...  0  \n",
       "15  euer Dollarbefestigung\\nDrahtmeldung der „Neue...  0  \n",
       "16  Rückwanderung europäischer Fluchtgelder\\nNewyo...  0  \n",
       "17  Doch reden wir nicht davon.\\nWaltzen auf der W...  0  \n",
       "18  Originalroman von\\nGustav Tannhofer.\\nWar das ...  0  \n",
       "19  Originalroman von\\nGustav Tannhofer.\\n(158)\\nN...  0  "
      ]
     },
     "execution_count": 113,
     "metadata": {},
     "output_type": "execute_result"
    }
   ],
   "source": [
    "df_results.head(20)"
   ]
  },
  {
   "cell_type": "code",
   "execution_count": 114,
   "metadata": {},
   "outputs": [
    {
     "data": {
      "text/plain": [
       "' In total, 0.8433734939759037 per cent of the selected articles have been classified correctly.'"
      ]
     },
     "execution_count": 114,
     "metadata": {},
     "output_type": "execute_result"
    }
   ],
   "source": [
    "rev_3 = []\n",
    "for key in df_results['3']:\n",
    "    if key == '3':\n",
    "        rev_3.append(key)\n",
    "rev_0 = []\n",
    "for key in df_results['3']:\n",
    "    if key == '0':\n",
    "        rev_0.append(key)\n",
    "non_rev_3 = []\n",
    "for key in df_results['0']:\n",
    "    if key == '3':\n",
    "        non_rev_3.append(key)\n",
    "non_rev_0 = []\n",
    "for key in df_results['0']:\n",
    "    if key == '0':\n",
    "        non_rev_0.append(key)\n",
    "result_right = len(non_rev_0) + len(rev_3)\n",
    "result_wrng = len(non_rev_3) + len(rev_0)\n",
    "all_ = len(non_rev_3) + len(rev_0) + len(non_rev_0) + len(rev_3)\n",
    "score = result_right / all_\n",
    "f\" In total, {score} per cent of the selected articles have been classified correctly.\""
   ]
  },
  {
   "cell_type": "markdown",
   "metadata": {
    "tags": [
     "hermeneutics-step"
    ]
   },
   "source": [
    "## Classification in relevant and irrelevant articles"
   ]
  },
  {
   "cell_type": "markdown",
   "metadata": {
    "tags": [
     "hermeneutics-step"
    ]
   },
   "source": [
    "In this step, every article from the test corpus goes through a loop where it gets compared to the articles in the training/testing corpus. In this loop, for each article from the test corpus, the 10 most similar articles are retrieved from the feedback corpus. Finally, those 10 articles give feedback on their relevance which serves as a base for the calculation and final classification. "
   ]
  },
  {
   "cell_type": "markdown",
   "metadata": {},
   "source": [
    "## 3 After the corpus building is before the corpus building"
   ]
  },
  {
   "cell_type": "markdown",
   "metadata": {},
   "source": [
    "For historians conducting qualitative research, the process of corpus building ends when a corpus allows for qualitative evaluations based on close reading. Therefore, a created corpus might need to be divided into further sub-corpora, e.g., the sub-corpus on return migration from America. A complex keyword search (using single queries, phrases and combined terms) was used to manually extract articles that reported on the return of emigrants to America. While in the first step all found, relevant articles were collected, attention was paid to context-rich articles alone in the second step, while content-poor articles were not included in the final collection for further discourse analysis. All in all, a collection of about 350 newspaper clippings was created. "
   ]
  },
  {
   "cell_type": "markdown",
   "metadata": {},
   "source": [
    " ### 4.1 Qualitative Analysis of the Austrian Media Discourse on returnees from America between 1850 and 1950"
   ]
  },
  {
   "cell_type": "markdown",
   "metadata": {},
   "source": [
    "People who emigrated by their own choice and later decided to come back to their homelands had different reasons for their decisions to return: success, failure, homesickness, rejection in the new country, changes in the economic or socio-political conditions in their native countries, or perhaps family members asked them to return. One of the first stories about a return migrant from America can be found in Ferdinand Kürnberger's novel \"Der Amerika-Müde\" (1855), which was published in 1855. This book made reference to the American experience of the Austrian writer Nikolaus Lenau. Lenau left for America in 1832 with the aim of emigration without much preparation and because of private problems (breaking off with medical studies and a failed love story) and returned back to Europe as early as 1833. Disappointed by his impressions and his experiences in Baltimore, Pennsylvania, Ohio and the Niagara Falls, Lenau returned back to Austria full of homesickness. Neither had he found the land of freedom, nor had he been able to secure himself materially. Also for his poetry, America had given only few incentives. Only eight days after his arrival in Baltimore he wrote: \"Brothers, these Americans are petty minded people who turn the heavens’ stomachs. Dead to all things intellectual, as dead as a doornail” (Kürnberger, 1855)."
   ]
  },
  {
   "cell_type": "markdown",
   "metadata": {},
   "source": [
    "Every return migrant had his/her own returning story, while every (mass) return migration movement was accompanied by public discourses and arguments to support, promote, regulate or prohibit the return of people to their country of origin. (Critical) discourse analysis helps to understand how social interaction constitutes such discourses and arguments and how they change over time.  Historical-semantic discourse analysis thus can open up semantic aspects and elements of knowledge that could escape a purely word-oriented history of meaning (Busse, 2008). Within the news coverage on return migration from the Americas, eight main discourses were identified, while 5 are being described closer:"
   ]
  },
  {
   "cell_type": "markdown",
   "metadata": {},
   "source": [
    "1. **Return migration is enhanced (R=enhanced)**: In times of mass emigration, the Austro-Hungarian Empire (1867 to 1918) had repeatedly promoted the return of Austrians and put the issue on the political agenda. The discourse on enhancement took place mainly in the period before the two world wars (1914 to 1918; 1939 to 1945), when return was deliberately promoted to strengthen the army, but also for nationalistic reasons. The Arbeiter-Zeitung from 1914, for example, reported on return transports at no cost for those who were willing to return to Austria:  “A mass influx of \"reservists\" [...] leave no doubt that war has broken out in Europe. [...] In New York alone, thousands of victims of the [economic] crisis [...] are now crowding into the anterooms of the consulates involved, in order to declare their intention of \"rushing to the flags\", with free transport and ten heller a day pay - as far as Austrian-Hungarian reservists are concerned.”\n"
   ]
  },
  {
   "cell_type": "code",
   "execution_count": 115,
   "metadata": {},
   "outputs": [
    {
     "data": {
      "text/html": [
       "\n",
       "<!DOCTYPE html>\n",
       "<html>\n",
       "  <head>\n",
       "  <script type=\"text/javascript\" src=\"http://kozea.github.com/pygal.js/javascripts/svg.jquery.js\"></script>\n",
       "  <script type=\"text/javascript\" src=\"https://kozea.github.io/pygal.js/2.0.x/pygal-tooltips.min.js\"\"></script>\n",
       "  </head>\n",
       "  <body>\n",
       "    <figure>\n",
       "      <?xml version='1.0' encoding='utf-8'?>\n",
       "<svg xmlns=\"http://www.w3.org/2000/svg\" xmlns:xlink=\"http://www.w3.org/1999/xlink\" id=\"chart-d05a9287-cf4a-4739-81dd-0b927a40dfa3\" class=\"pygal-chart\" viewBox=\"0 0 800 450\"><!--Generated with pygal 2.4.0 (lxml) ©Kozea 2012-2016 on 2021-04-27--><!--http://pygal.org--><!--http://github.com/Kozea/pygal--><defs><style type=\"text/css\">#chart-d05a9287-cf4a-4739-81dd-0b927a40dfa3{-webkit-user-select:none;-webkit-font-smoothing:antialiased;font-family:Consolas,\"Liberation Mono\",Menlo,Courier,monospace}#chart-d05a9287-cf4a-4739-81dd-0b927a40dfa3 .title{font-family:Consolas,\"Liberation Mono\",Menlo,Courier,monospace;font-size:16px}#chart-d05a9287-cf4a-4739-81dd-0b927a40dfa3 .legends .legend text{font-family:Consolas,\"Liberation Mono\",Menlo,Courier,monospace;font-size:14px}#chart-d05a9287-cf4a-4739-81dd-0b927a40dfa3 .axis text{font-family:Consolas,\"Liberation Mono\",Menlo,Courier,monospace;font-size:10px}#chart-d05a9287-cf4a-4739-81dd-0b927a40dfa3 .axis text.major{font-family:Consolas,\"Liberation Mono\",Menlo,Courier,monospace;font-size:10px}#chart-d05a9287-cf4a-4739-81dd-0b927a40dfa3 .text-overlay text.value{font-family:Consolas,\"Liberation Mono\",Menlo,Courier,monospace;font-size:16px}#chart-d05a9287-cf4a-4739-81dd-0b927a40dfa3 .text-overlay text.label{font-family:Consolas,\"Liberation Mono\",Menlo,Courier,monospace;font-size:10px}#chart-d05a9287-cf4a-4739-81dd-0b927a40dfa3 .tooltip{font-family:Consolas,\"Liberation Mono\",Menlo,Courier,monospace;font-size:14px}#chart-d05a9287-cf4a-4739-81dd-0b927a40dfa3 text.no_data{font-family:Consolas,\"Liberation Mono\",Menlo,Courier,monospace;font-size:64px}\n",
       "#chart-d05a9287-cf4a-4739-81dd-0b927a40dfa3{background-color:black}#chart-d05a9287-cf4a-4739-81dd-0b927a40dfa3 path,#chart-d05a9287-cf4a-4739-81dd-0b927a40dfa3 line,#chart-d05a9287-cf4a-4739-81dd-0b927a40dfa3 rect,#chart-d05a9287-cf4a-4739-81dd-0b927a40dfa3 circle{-webkit-transition:250ms;-moz-transition:250ms;transition:250ms}#chart-d05a9287-cf4a-4739-81dd-0b927a40dfa3 .graph &gt; .background{fill:black}#chart-d05a9287-cf4a-4739-81dd-0b927a40dfa3 .plot &gt; .background{fill:#111}#chart-d05a9287-cf4a-4739-81dd-0b927a40dfa3 .graph{fill:#999}#chart-d05a9287-cf4a-4739-81dd-0b927a40dfa3 text.no_data{fill:#eee}#chart-d05a9287-cf4a-4739-81dd-0b927a40dfa3 .title{fill:#eee}#chart-d05a9287-cf4a-4739-81dd-0b927a40dfa3 .legends .legend text{fill:#999}#chart-d05a9287-cf4a-4739-81dd-0b927a40dfa3 .legends .legend:hover text{fill:#eee}#chart-d05a9287-cf4a-4739-81dd-0b927a40dfa3 .axis .line{stroke:#eee}#chart-d05a9287-cf4a-4739-81dd-0b927a40dfa3 .axis .guide.line{stroke:#555}#chart-d05a9287-cf4a-4739-81dd-0b927a40dfa3 .axis .major.line{stroke:#999}#chart-d05a9287-cf4a-4739-81dd-0b927a40dfa3 .axis text.major{fill:#eee}#chart-d05a9287-cf4a-4739-81dd-0b927a40dfa3 .axis.y .guides:hover .guide.line,#chart-d05a9287-cf4a-4739-81dd-0b927a40dfa3 .line-graph .axis.x .guides:hover .guide.line,#chart-d05a9287-cf4a-4739-81dd-0b927a40dfa3 .stackedline-graph .axis.x .guides:hover .guide.line,#chart-d05a9287-cf4a-4739-81dd-0b927a40dfa3 .xy-graph .axis.x .guides:hover .guide.line{stroke:#eee}#chart-d05a9287-cf4a-4739-81dd-0b927a40dfa3 .axis .guides:hover text{fill:#eee}#chart-d05a9287-cf4a-4739-81dd-0b927a40dfa3 .reactive{fill-opacity:.8;stroke-opacity:.8}#chart-d05a9287-cf4a-4739-81dd-0b927a40dfa3 .ci{stroke:#999}#chart-d05a9287-cf4a-4739-81dd-0b927a40dfa3 .reactive.active,#chart-d05a9287-cf4a-4739-81dd-0b927a40dfa3 .active .reactive{fill-opacity:.4;stroke-opacity:.9;stroke-width:4}#chart-d05a9287-cf4a-4739-81dd-0b927a40dfa3 .ci .reactive.active{stroke-width:1.5}#chart-d05a9287-cf4a-4739-81dd-0b927a40dfa3 .series text{fill:#eee}#chart-d05a9287-cf4a-4739-81dd-0b927a40dfa3 .tooltip rect{fill:#111;stroke:#eee;-webkit-transition:opacity 250ms;-moz-transition:opacity 250ms;transition:opacity 250ms}#chart-d05a9287-cf4a-4739-81dd-0b927a40dfa3 .tooltip .label{fill:#999}#chart-d05a9287-cf4a-4739-81dd-0b927a40dfa3 .tooltip .label{fill:#999}#chart-d05a9287-cf4a-4739-81dd-0b927a40dfa3 .tooltip .legend{font-size:.8em;fill:#555}#chart-d05a9287-cf4a-4739-81dd-0b927a40dfa3 .tooltip .x_label{font-size:.6em;fill:#eee}#chart-d05a9287-cf4a-4739-81dd-0b927a40dfa3 .tooltip .xlink{font-size:.5em;text-decoration:underline}#chart-d05a9287-cf4a-4739-81dd-0b927a40dfa3 .tooltip .value{font-size:1.5em}#chart-d05a9287-cf4a-4739-81dd-0b927a40dfa3 .bound{font-size:.5em}#chart-d05a9287-cf4a-4739-81dd-0b927a40dfa3 .max-value{font-size:.75em;fill:#555}#chart-d05a9287-cf4a-4739-81dd-0b927a40dfa3 .map-element{fill:#111;stroke:#555 !important}#chart-d05a9287-cf4a-4739-81dd-0b927a40dfa3 .map-element .reactive{fill-opacity:inherit;stroke-opacity:inherit}#chart-d05a9287-cf4a-4739-81dd-0b927a40dfa3 .color-0,#chart-d05a9287-cf4a-4739-81dd-0b927a40dfa3 .color-0 a:visited{stroke:#ff5995;fill:#ff5995}#chart-d05a9287-cf4a-4739-81dd-0b927a40dfa3 .color-1,#chart-d05a9287-cf4a-4739-81dd-0b927a40dfa3 .color-1 a:visited{stroke:#b6e354;fill:#b6e354}#chart-d05a9287-cf4a-4739-81dd-0b927a40dfa3 .color-2,#chart-d05a9287-cf4a-4739-81dd-0b927a40dfa3 .color-2 a:visited{stroke:#feed6c;fill:#feed6c}#chart-d05a9287-cf4a-4739-81dd-0b927a40dfa3 .color-3,#chart-d05a9287-cf4a-4739-81dd-0b927a40dfa3 .color-3 a:visited{stroke:#8cedff;fill:#8cedff}#chart-d05a9287-cf4a-4739-81dd-0b927a40dfa3 .color-4,#chart-d05a9287-cf4a-4739-81dd-0b927a40dfa3 .color-4 a:visited{stroke:#9e6ffe;fill:#9e6ffe}#chart-d05a9287-cf4a-4739-81dd-0b927a40dfa3 .color-5,#chart-d05a9287-cf4a-4739-81dd-0b927a40dfa3 .color-5 a:visited{stroke:#899ca1;fill:#899ca1}#chart-d05a9287-cf4a-4739-81dd-0b927a40dfa3 .color-6,#chart-d05a9287-cf4a-4739-81dd-0b927a40dfa3 .color-6 a:visited{stroke:#f8f8f2;fill:#f8f8f2}#chart-d05a9287-cf4a-4739-81dd-0b927a40dfa3 .color-7,#chart-d05a9287-cf4a-4739-81dd-0b927a40dfa3 .color-7 a:visited{stroke:#bf4646;fill:#bf4646}#chart-d05a9287-cf4a-4739-81dd-0b927a40dfa3 .text-overlay .color-0 text{fill:black}#chart-d05a9287-cf4a-4739-81dd-0b927a40dfa3 .text-overlay .color-1 text{fill:black}#chart-d05a9287-cf4a-4739-81dd-0b927a40dfa3 .text-overlay .color-2 text{fill:black}#chart-d05a9287-cf4a-4739-81dd-0b927a40dfa3 .text-overlay .color-3 text{fill:black}#chart-d05a9287-cf4a-4739-81dd-0b927a40dfa3 .text-overlay .color-4 text{fill:black}#chart-d05a9287-cf4a-4739-81dd-0b927a40dfa3 .text-overlay .color-5 text{fill:black}#chart-d05a9287-cf4a-4739-81dd-0b927a40dfa3 .text-overlay .color-6 text{fill:black}#chart-d05a9287-cf4a-4739-81dd-0b927a40dfa3 .text-overlay .color-7 text{fill:black}\n",
       "#chart-d05a9287-cf4a-4739-81dd-0b927a40dfa3 text.no_data{text-anchor:middle}#chart-d05a9287-cf4a-4739-81dd-0b927a40dfa3 .guide.line{fill:none}#chart-d05a9287-cf4a-4739-81dd-0b927a40dfa3 .centered{text-anchor:middle}#chart-d05a9287-cf4a-4739-81dd-0b927a40dfa3 .title{text-anchor:middle}#chart-d05a9287-cf4a-4739-81dd-0b927a40dfa3 .legends .legend text{fill-opacity:1}#chart-d05a9287-cf4a-4739-81dd-0b927a40dfa3 .axis.x text{text-anchor:middle}#chart-d05a9287-cf4a-4739-81dd-0b927a40dfa3 .axis.x:not(.web) text[transform]{text-anchor:start}#chart-d05a9287-cf4a-4739-81dd-0b927a40dfa3 .axis.x:not(.web) text[transform].backwards{text-anchor:end}#chart-d05a9287-cf4a-4739-81dd-0b927a40dfa3 .axis.y text{text-anchor:end}#chart-d05a9287-cf4a-4739-81dd-0b927a40dfa3 .axis.y text[transform].backwards{text-anchor:start}#chart-d05a9287-cf4a-4739-81dd-0b927a40dfa3 .axis.y2 text{text-anchor:start}#chart-d05a9287-cf4a-4739-81dd-0b927a40dfa3 .axis.y2 text[transform].backwards{text-anchor:end}#chart-d05a9287-cf4a-4739-81dd-0b927a40dfa3 .axis .guide.line{stroke-dasharray:4,4}#chart-d05a9287-cf4a-4739-81dd-0b927a40dfa3 .axis .major.guide.line{stroke-dasharray:6,6}#chart-d05a9287-cf4a-4739-81dd-0b927a40dfa3 .horizontal .axis.y .guide.line,#chart-d05a9287-cf4a-4739-81dd-0b927a40dfa3 .horizontal .axis.y2 .guide.line,#chart-d05a9287-cf4a-4739-81dd-0b927a40dfa3 .vertical .axis.x .guide.line{opacity:0}#chart-d05a9287-cf4a-4739-81dd-0b927a40dfa3 .horizontal .axis.always_show .guide.line,#chart-d05a9287-cf4a-4739-81dd-0b927a40dfa3 .vertical .axis.always_show .guide.line{opacity:1 !important}#chart-d05a9287-cf4a-4739-81dd-0b927a40dfa3 .axis.y .guides:hover .guide.line,#chart-d05a9287-cf4a-4739-81dd-0b927a40dfa3 .axis.y2 .guides:hover .guide.line,#chart-d05a9287-cf4a-4739-81dd-0b927a40dfa3 .axis.x .guides:hover .guide.line{opacity:1}#chart-d05a9287-cf4a-4739-81dd-0b927a40dfa3 .axis .guides:hover text{opacity:1}#chart-d05a9287-cf4a-4739-81dd-0b927a40dfa3 .nofill{fill:none}#chart-d05a9287-cf4a-4739-81dd-0b927a40dfa3 .subtle-fill{fill-opacity:.2}#chart-d05a9287-cf4a-4739-81dd-0b927a40dfa3 .dot{stroke-width:1px;fill-opacity:1}#chart-d05a9287-cf4a-4739-81dd-0b927a40dfa3 .dot.active{stroke-width:5px}#chart-d05a9287-cf4a-4739-81dd-0b927a40dfa3 .dot.negative{fill:transparent}#chart-d05a9287-cf4a-4739-81dd-0b927a40dfa3 text,#chart-d05a9287-cf4a-4739-81dd-0b927a40dfa3 tspan{stroke:none !important}#chart-d05a9287-cf4a-4739-81dd-0b927a40dfa3 .series text.active{opacity:1}#chart-d05a9287-cf4a-4739-81dd-0b927a40dfa3 .tooltip rect{fill-opacity:.95;stroke-width:.5}#chart-d05a9287-cf4a-4739-81dd-0b927a40dfa3 .tooltip text{fill-opacity:1}#chart-d05a9287-cf4a-4739-81dd-0b927a40dfa3 .showable{visibility:hidden}#chart-d05a9287-cf4a-4739-81dd-0b927a40dfa3 .showable.shown{visibility:visible}#chart-d05a9287-cf4a-4739-81dd-0b927a40dfa3 .gauge-background{fill:rgba(229,229,229,1);stroke:none}#chart-d05a9287-cf4a-4739-81dd-0b927a40dfa3 .bg-lines{stroke:black;stroke-width:2px}</style><script type=\"text/javascript\">window.pygal = window.pygal || {};window.pygal.config = window.pygal.config || {};window.pygal.config['d05a9287-cf4a-4739-81dd-0b927a40dfa3'] = {\"allow_interruptions\": false, \"box_mode\": \"extremes\", \"classes\": [\"pygal-chart\"], \"css\": [\"file://style.css\", \"file://graph.css\"], \"defs\": [], \"disable_xml_declaration\": false, \"dots_size\": 2.5, \"dynamic_print_values\": false, \"explicit_size\": false, \"fill\": false, \"force_uri_protocol\": \"https\", \"formatter\": null, \"half_pie\": false, \"height\": 450, \"include_x_axis\": false, \"inner_radius\": 0, \"interpolate\": null, \"interpolation_parameters\": {}, \"interpolation_precision\": 250, \"inverse_y_axis\": false, \"js\": [\"//kozea.github.io/pygal.js/2.0.x/pygal-tooltips.min.js\"], \"legend_at_bottom\": true, \"legend_at_bottom_columns\": 4, \"legend_box_size\": 6, \"logarithmic\": false, \"margin\": 20, \"margin_bottom\": null, \"margin_left\": null, \"margin_right\": null, \"margin_top\": null, \"max_scale\": 16, \"min_scale\": 4, \"missing_value_fill_truncation\": \"x\", \"no_data_text\": \"No data\", \"no_prefix\": false, \"order_min\": null, \"pretty_print\": false, \"print_labels\": false, \"print_values\": false, \"print_values_position\": \"center\", \"print_zeroes\": true, \"range\": null, \"rounded_bars\": null, \"secondary_range\": null, \"show_dots\": true, \"show_legend\": true, \"show_minor_x_labels\": true, \"show_minor_y_labels\": true, \"show_only_major_dots\": false, \"show_x_guides\": false, \"show_x_labels\": true, \"show_y_guides\": true, \"show_y_labels\": true, \"spacing\": 10, \"stack_from_top\": false, \"strict\": false, \"stroke\": true, \"stroke_style\": null, \"style\": {\"background\": \"black\", \"ci_colors\": [], \"colors\": [\"#ff5995\", \"#b6e354\", \"#feed6c\", \"#8cedff\", \"#9e6ffe\", \"#899ca1\", \"#f8f8f2\", \"#bf4646\", \"#516083\", \"#f92672\", \"#82b414\", \"#fd971f\", \"#56c2d6\", \"#808384\", \"#8c54fe\", \"#465457\"], \"font_family\": \"Consolas, \\\"Liberation Mono\\\", Menlo, Courier, monospace\", \"foreground\": \"#999\", \"foreground_strong\": \"#eee\", \"foreground_subtle\": \"#555\", \"guide_stroke_dasharray\": \"4,4\", \"label_font_family\": \"Consolas, \\\"Liberation Mono\\\", Menlo, Courier, monospace\", \"label_font_size\": 10, \"legend_font_family\": \"Consolas, \\\"Liberation Mono\\\", Menlo, Courier, monospace\", \"legend_font_size\": 14, \"major_guide_stroke_dasharray\": \"6,6\", \"major_label_font_family\": \"Consolas, \\\"Liberation Mono\\\", Menlo, Courier, monospace\", \"major_label_font_size\": 10, \"no_data_font_family\": \"Consolas, \\\"Liberation Mono\\\", Menlo, Courier, monospace\", \"no_data_font_size\": 64, \"opacity\": \".8\", \"opacity_hover\": \".4\", \"plot_background\": \"#111\", \"stroke_opacity\": \".8\", \"stroke_opacity_hover\": \".9\", \"title_font_family\": \"Consolas, \\\"Liberation Mono\\\", Menlo, Courier, monospace\", \"title_font_size\": 16, \"tooltip_font_family\": \"Consolas, \\\"Liberation Mono\\\", Menlo, Courier, monospace\", \"tooltip_font_size\": 14, \"transition\": \"250ms\", \"value_background\": \"rgba(229, 229, 229, 1)\", \"value_colors\": [], \"value_font_family\": \"Consolas, \\\"Liberation Mono\\\", Menlo, Courier, monospace\", \"value_font_size\": 16, \"value_label_font_family\": \"Consolas, \\\"Liberation Mono\\\", Menlo, Courier, monospace\", \"value_label_font_size\": 10}, \"title\": \"Return from America - Discourses\", \"tooltip_border_radius\": 0, \"tooltip_fancy_mode\": true, \"truncate_label\": null, \"truncate_legend\": null, \"width\": 800, \"x_label_rotation\": 70, \"x_labels\": [\"1872-73\", \"1874-75\", \"1876-77\", \"1878-79\", \"1880-81\", \"1882-83\", \"1884-85\", \"1886-87\", \"1888-89\", \"1890-91\", \"1892-93\", \"1894-95\", \"1896-97\", \"1898-99\", \"1900-01\", \"1902-03\", \"1904-05\", \"1906-07\", \"1908-09\", \"1910-11\", \"1912-13\", \"1914-15\", \"1916-17\", \"1918-19\", \"1920-21\", \"1922-23\", \"1924-25\", \"1926-27\", \"1928-29\", \"1930-31\", \"1932-33\", \"1934-35\", \"1936-37\", \"1938-39\", \"1940-41\", \"1942-43\", \"1944-45\", \"1946-47\", \"1948-49\"], \"x_labels_major\": null, \"x_labels_major_count\": null, \"x_labels_major_every\": null, \"x_title\": null, \"xrange\": null, \"y_label_rotation\": 0, \"y_labels\": null, \"y_labels_major\": null, \"y_labels_major_count\": null, \"y_labels_major_every\": null, \"y_title\": null, \"zero\": 0, \"legends\": [\"R=enhanced\", \"R=restricted\", \"R=useless\", \"Delusion\", \"R=benefit\", \"R=danger\", \"A=overburdened\", \"A=support\"]}</script><script type=\"text/javascript\" xlink:href=\"https://kozea.github.io/pygal.js/2.0.x/pygal-tooltips.min.js\"/></defs><title>Return from America - Discourses</title><g class=\"graph dot-graph vertical\"><rect x=\"0\" y=\"0\" width=\"800\" height=\"450\" class=\"background\"/><g transform=\"translate(114, 46)\" class=\"plot\"><rect x=\"0\" y=\"0\" width=\"666.0\" height=\"289.53290992699186\" class=\"background\"/><g class=\"axis y always_show\"><path d=\"M0.000000 289.532910 h666.000000\" class=\"line\"/><g class=\"guides\"><path d=\"M0.000000 22.967755 h666.000000\" class=\"guide line\"/><text x=\"-5\" y=\"26.46775487401618\" class=\"\">R=enhanced</text><title>7.5</title></g><g class=\"guides\"><path d=\"M0.000000 57.767383 h666.000000\" class=\"guide line\"/><text x=\"-5\" y=\"61.26738347101039\" class=\"\">R=restricted</text><title>6.5</title></g><g class=\"guides\"><path d=\"M0.000000 92.567012 h666.000000\" class=\"guide line\"/><text x=\"-5\" y=\"96.06701206800463\" class=\"\">R=useless</text><title>5.5</title></g><g class=\"guides\"><path d=\"M0.000000 127.366641 h666.000000\" class=\"guide line\"/><text x=\"-5\" y=\"130.86664066499884\" class=\"\">Delusion</text><title>4.5</title></g><g class=\"guides\"><path d=\"M0.000000 162.166269 h666.000000\" class=\"guide line\"/><text x=\"-5\" y=\"165.66626926199302\" class=\"\">R=benefit</text><title>3.5</title></g><g class=\"guides\"><path d=\"M0.000000 196.965898 h666.000000\" class=\"guide line\"/><text x=\"-5\" y=\"200.46589785898726\" class=\"\">R=danger</text><title>2.5</title></g><g class=\"guides\"><path d=\"M0.000000 231.765526 h666.000000\" class=\"guide line\"/><text x=\"-5\" y=\"235.26552645598147\" class=\"\">A=overburdened</text><title>1.5</title></g><g class=\"guides\"><path d=\"M0.000000 266.565155 h666.000000\" class=\"guide line\"/><text x=\"-5\" y=\"270.0651550529757\" class=\"\">A=support</text><title>0.5</title></g></g><g class=\"axis x\"><path d=\"M0.000000 0.000000 v289.532910\" class=\"line\"/><g class=\"guides\"><path d=\"M21.017751 0.000000 v289.532910\" class=\"guide line\"/><text x=\"21.01775147928994\" y=\"304.53290992699186\" class=\"\" transform=\"rotate(70 21.017751 304.532910)\">1872-73</text></g><g class=\"guides\"><path d=\"M37.437870 0.000000 v289.532910\" class=\"guide line\"/><text x=\"37.43786982248521\" y=\"304.53290992699186\" class=\"\" transform=\"rotate(70 37.437870 304.532910)\">1874-75</text></g><g class=\"guides\"><path d=\"M53.857988 0.000000 v289.532910\" class=\"guide line\"/><text x=\"53.85798816568047\" y=\"304.53290992699186\" class=\"\" transform=\"rotate(70 53.857988 304.532910)\">1876-77</text></g><g class=\"guides\"><path d=\"M70.278107 0.000000 v289.532910\" class=\"guide line\"/><text x=\"70.27810650887574\" y=\"304.53290992699186\" class=\"\" transform=\"rotate(70 70.278107 304.532910)\">1878-79</text></g><g class=\"guides\"><path d=\"M86.698225 0.000000 v289.532910\" class=\"guide line\"/><text x=\"86.69822485207101\" y=\"304.53290992699186\" class=\"\" transform=\"rotate(70 86.698225 304.532910)\">1880-81</text></g><g class=\"guides\"><path d=\"M103.118343 0.000000 v289.532910\" class=\"guide line\"/><text x=\"103.11834319526628\" y=\"304.53290992699186\" class=\"\" transform=\"rotate(70 103.118343 304.532910)\">1882-83</text></g><g class=\"guides\"><path d=\"M119.538462 0.000000 v289.532910\" class=\"guide line\"/><text x=\"119.53846153846155\" y=\"304.53290992699186\" class=\"\" transform=\"rotate(70 119.538462 304.532910)\">1884-85</text></g><g class=\"guides\"><path d=\"M135.958580 0.000000 v289.532910\" class=\"guide line\"/><text x=\"135.9585798816568\" y=\"304.53290992699186\" class=\"\" transform=\"rotate(70 135.958580 304.532910)\">1886-87</text></g><g class=\"guides\"><path d=\"M152.378698 0.000000 v289.532910\" class=\"guide line\"/><text x=\"152.37869822485206\" y=\"304.53290992699186\" class=\"\" transform=\"rotate(70 152.378698 304.532910)\">1888-89</text></g><g class=\"guides\"><path d=\"M168.798817 0.000000 v289.532910\" class=\"guide line\"/><text x=\"168.79881656804733\" y=\"304.53290992699186\" class=\"\" transform=\"rotate(70 168.798817 304.532910)\">1890-91</text></g><g class=\"guides\"><path d=\"M185.218935 0.000000 v289.532910\" class=\"guide line\"/><text x=\"185.21893491124257\" y=\"304.53290992699186\" class=\"\" transform=\"rotate(70 185.218935 304.532910)\">1892-93</text></g><g class=\"guides\"><path d=\"M201.639053 0.000000 v289.532910\" class=\"guide line\"/><text x=\"201.63905325443784\" y=\"304.53290992699186\" class=\"\" transform=\"rotate(70 201.639053 304.532910)\">1894-95</text></g><g class=\"guides\"><path d=\"M218.059172 0.000000 v289.532910\" class=\"guide line\"/><text x=\"218.0591715976331\" y=\"304.53290992699186\" class=\"\" transform=\"rotate(70 218.059172 304.532910)\">1896-97</text></g><g class=\"guides\"><path d=\"M234.479290 0.000000 v289.532910\" class=\"guide line\"/><text x=\"234.47928994082838\" y=\"304.53290992699186\" class=\"\" transform=\"rotate(70 234.479290 304.532910)\">1898-99</text></g><g class=\"guides\"><path d=\"M250.899408 0.000000 v289.532910\" class=\"guide line\"/><text x=\"250.89940828402365\" y=\"304.53290992699186\" class=\"\" transform=\"rotate(70 250.899408 304.532910)\">1900-01</text></g><g class=\"guides\"><path d=\"M267.319527 0.000000 v289.532910\" class=\"guide line\"/><text x=\"267.319526627219\" y=\"304.53290992699186\" class=\"\" transform=\"rotate(70 267.319527 304.532910)\">1902-03</text></g><g class=\"guides\"><path d=\"M283.739645 0.000000 v289.532910\" class=\"guide line\"/><text x=\"283.73964497041425\" y=\"304.53290992699186\" class=\"\" transform=\"rotate(70 283.739645 304.532910)\">1904-05</text></g><g class=\"guides\"><path d=\"M300.159763 0.000000 v289.532910\" class=\"guide line\"/><text x=\"300.15976331360946\" y=\"304.53290992699186\" class=\"\" transform=\"rotate(70 300.159763 304.532910)\">1906-07</text></g><g class=\"guides\"><path d=\"M316.579882 0.000000 v289.532910\" class=\"guide line\"/><text x=\"316.57988165680473\" y=\"304.53290992699186\" class=\"\" transform=\"rotate(70 316.579882 304.532910)\">1908-09</text></g><g class=\"guides\"><path d=\"M333.000000 0.000000 v289.532910\" class=\"guide line\"/><text x=\"333.0\" y=\"304.53290992699186\" class=\"\" transform=\"rotate(70 333.000000 304.532910)\">1910-11</text></g><g class=\"guides\"><path d=\"M349.420118 0.000000 v289.532910\" class=\"guide line\"/><text x=\"349.42011834319527\" y=\"304.53290992699186\" class=\"\" transform=\"rotate(70 349.420118 304.532910)\">1912-13</text></g><g class=\"guides\"><path d=\"M365.840237 0.000000 v289.532910\" class=\"guide line\"/><text x=\"365.84023668639054\" y=\"304.53290992699186\" class=\"\" transform=\"rotate(70 365.840237 304.532910)\">1914-15</text></g><g class=\"guides\"><path d=\"M382.260355 0.000000 v289.532910\" class=\"guide line\"/><text x=\"382.2603550295858\" y=\"304.53290992699186\" class=\"\" transform=\"rotate(70 382.260355 304.532910)\">1916-17</text></g><g class=\"guides\"><path d=\"M398.680473 0.000000 v289.532910\" class=\"guide line\"/><text x=\"398.6804733727811\" y=\"304.53290992699186\" class=\"\" transform=\"rotate(70 398.680473 304.532910)\">1918-19</text></g><g class=\"guides\"><path d=\"M415.100592 0.000000 v289.532910\" class=\"guide line\"/><text x=\"415.1005917159763\" y=\"304.53290992699186\" class=\"\" transform=\"rotate(70 415.100592 304.532910)\">1920-21</text></g><g class=\"guides\"><path d=\"M431.520710 0.000000 v289.532910\" class=\"guide line\"/><text x=\"431.52071005917156\" y=\"304.53290992699186\" class=\"\" transform=\"rotate(70 431.520710 304.532910)\">1922-23</text></g><g class=\"guides\"><path d=\"M447.940828 0.000000 v289.532910\" class=\"guide line\"/><text x=\"447.94082840236683\" y=\"304.53290992699186\" class=\"\" transform=\"rotate(70 447.940828 304.532910)\">1924-25</text></g><g class=\"guides\"><path d=\"M464.360947 0.000000 v289.532910\" class=\"guide line\"/><text x=\"464.3609467455621\" y=\"304.53290992699186\" class=\"\" transform=\"rotate(70 464.360947 304.532910)\">1926-27</text></g><g class=\"guides\"><path d=\"M480.781065 0.000000 v289.532910\" class=\"guide line\"/><text x=\"480.7810650887574\" y=\"304.53290992699186\" class=\"\" transform=\"rotate(70 480.781065 304.532910)\">1928-29</text></g><g class=\"guides\"><path d=\"M497.201183 0.000000 v289.532910\" class=\"guide line\"/><text x=\"497.20118343195264\" y=\"304.53290992699186\" class=\"\" transform=\"rotate(70 497.201183 304.532910)\">1930-31</text></g><g class=\"guides\"><path d=\"M513.621302 0.000000 v289.532910\" class=\"guide line\"/><text x=\"513.6213017751479\" y=\"304.53290992699186\" class=\"\" transform=\"rotate(70 513.621302 304.532910)\">1932-33</text></g><g class=\"guides\"><path d=\"M530.041420 0.000000 v289.532910\" class=\"guide line\"/><text x=\"530.0414201183431\" y=\"304.53290992699186\" class=\"\" transform=\"rotate(70 530.041420 304.532910)\">1934-35</text></g><g class=\"guides\"><path d=\"M546.461538 0.000000 v289.532910\" class=\"guide line\"/><text x=\"546.4615384615385\" y=\"304.53290992699186\" class=\"\" transform=\"rotate(70 546.461538 304.532910)\">1936-37</text></g><g class=\"guides\"><path d=\"M562.881657 0.000000 v289.532910\" class=\"guide line\"/><text x=\"562.8816568047337\" y=\"304.53290992699186\" class=\"\" transform=\"rotate(70 562.881657 304.532910)\">1938-39</text></g><g class=\"guides\"><path d=\"M579.301775 0.000000 v289.532910\" class=\"guide line\"/><text x=\"579.301775147929\" y=\"304.53290992699186\" class=\"\" transform=\"rotate(70 579.301775 304.532910)\">1940-41</text></g><g class=\"guides\"><path d=\"M595.721893 0.000000 v289.532910\" class=\"guide line\"/><text x=\"595.7218934911242\" y=\"304.53290992699186\" class=\"\" transform=\"rotate(70 595.721893 304.532910)\">1942-43</text></g><g class=\"guides\"><path d=\"M612.142012 0.000000 v289.532910\" class=\"guide line\"/><text x=\"612.1420118343195\" y=\"304.53290992699186\" class=\"\" transform=\"rotate(70 612.142012 304.532910)\">1944-45</text></g><g class=\"guides\"><path d=\"M628.562130 0.000000 v289.532910\" class=\"guide line\"/><text x=\"628.5621301775147\" y=\"304.53290992699186\" class=\"\" transform=\"rotate(70 628.562130 304.532910)\">1946-47</text></g><g class=\"guides\"><path d=\"M644.982249 0.000000 v289.532910\" class=\"guide line\"/><text x=\"644.98224852071\" y=\"304.53290992699186\" class=\"\" transform=\"rotate(70 644.982249 304.532910)\">1948-49</text></g></g><g class=\"series serie-0 color-0\"><g class=\"dots\"><circle cx=\"21.01775147928994\" cy=\"22.96775487401618\" r=\"0.0\" class=\"dot reactive tooltip-trigger\"/><desc class=\"value\">0</desc><desc class=\"x centered\">21.01775147928994</desc><desc class=\"y centered\">22.96775487401618</desc><desc class=\"x_label\">1872-73</desc></g><g class=\"dots\"><circle cx=\"37.43786982248521\" cy=\"22.96775487401618\" r=\"0.0\" class=\"dot reactive tooltip-trigger\"/><desc class=\"value\">0</desc><desc class=\"x centered\">37.43786982248521</desc><desc class=\"y centered\">22.96775487401618</desc><desc class=\"x_label\">1874-75</desc></g><g class=\"dots\"><circle cx=\"53.85798816568047\" cy=\"22.96775487401618\" r=\"0.0\" class=\"dot reactive tooltip-trigger\"/><desc class=\"value\">0</desc><desc class=\"x centered\">53.85798816568047</desc><desc class=\"y centered\">22.96775487401618</desc><desc class=\"x_label\">1876-77</desc></g><g class=\"dots\"><circle cx=\"70.27810650887574\" cy=\"22.96775487401618\" r=\"0.0\" class=\"dot reactive tooltip-trigger\"/><desc class=\"value\">0</desc><desc class=\"x centered\">70.27810650887574</desc><desc class=\"y centered\">22.96775487401618</desc><desc class=\"x_label\">1878-79</desc></g><g class=\"dots\"><circle cx=\"86.69822485207101\" cy=\"22.96775487401618\" r=\"0.5585074266392948\" class=\"dot reactive tooltip-trigger\"/><desc class=\"value\">1</desc><desc class=\"x centered\">86.69822485207101</desc><desc class=\"y centered\">22.96775487401618</desc><desc class=\"x_label\">1880-81</desc></g><g class=\"dots\"><circle cx=\"103.11834319526628\" cy=\"22.96775487401618\" r=\"0.0\" class=\"dot reactive tooltip-trigger\"/><desc class=\"value\">0</desc><desc class=\"x centered\">103.11834319526628</desc><desc class=\"y centered\">22.96775487401618</desc><desc class=\"x_label\">1882-83</desc></g><g class=\"dots\"><circle cx=\"119.53846153846155\" cy=\"22.96775487401618\" r=\"0.0\" class=\"dot reactive tooltip-trigger\"/><desc class=\"value\">0</desc><desc class=\"x centered\">119.53846153846155</desc><desc class=\"y centered\">22.96775487401618</desc><desc class=\"x_label\">1884-85</desc></g><g class=\"dots\"><circle cx=\"135.9585798816568\" cy=\"22.96775487401618\" r=\"0.5585074266392948\" class=\"dot reactive tooltip-trigger\"/><desc class=\"value\">1</desc><desc class=\"x centered\">135.9585798816568</desc><desc class=\"y centered\">22.96775487401618</desc><desc class=\"x_label\">1886-87</desc></g><g class=\"dots\"><circle cx=\"152.37869822485206\" cy=\"22.96775487401618\" r=\"0.5585074266392948\" class=\"dot reactive tooltip-trigger\"/><desc class=\"value\">1</desc><desc class=\"x centered\">152.37869822485206</desc><desc class=\"y centered\">22.96775487401618</desc><desc class=\"x_label\">1888-89</desc></g><g class=\"dots\"><circle cx=\"168.79881656804733\" cy=\"22.96775487401618\" r=\"0.0\" class=\"dot reactive tooltip-trigger\"/><desc class=\"value\">0</desc><desc class=\"x centered\">168.79881656804733</desc><desc class=\"y centered\">22.96775487401618</desc><desc class=\"x_label\">1890-91</desc></g><g class=\"dots\"><circle cx=\"185.21893491124257\" cy=\"22.96775487401618\" r=\"0.0\" class=\"dot reactive tooltip-trigger\"/><desc class=\"value\">0</desc><desc class=\"x centered\">185.21893491124257</desc><desc class=\"y centered\">22.96775487401618</desc><desc class=\"x_label\">1892-93</desc></g><g class=\"dots\"><circle cx=\"201.63905325443784\" cy=\"22.96775487401618\" r=\"0.0\" class=\"dot reactive tooltip-trigger\"/><desc class=\"value\">0</desc><desc class=\"x centered\">201.63905325443784</desc><desc class=\"y centered\">22.96775487401618</desc><desc class=\"x_label\">1894-95</desc></g><g class=\"dots\"><circle cx=\"218.0591715976331\" cy=\"22.96775487401618\" r=\"0.0\" class=\"dot reactive tooltip-trigger\"/><desc class=\"value\">0</desc><desc class=\"x centered\">218.0591715976331</desc><desc class=\"y centered\">22.96775487401618</desc><desc class=\"x_label\">1896-97</desc></g><g class=\"dots\"><circle cx=\"234.47928994082838\" cy=\"22.96775487401618\" r=\"0.0\" class=\"dot reactive tooltip-trigger\"/><desc class=\"value\">0</desc><desc class=\"x centered\">234.47928994082838</desc><desc class=\"y centered\">22.96775487401618</desc><desc class=\"x_label\">1898-99</desc></g><g class=\"dots\"><circle cx=\"250.89940828402365\" cy=\"22.96775487401618\" r=\"0.0\" class=\"dot reactive tooltip-trigger\"/><desc class=\"value\">0</desc><desc class=\"x centered\">250.89940828402365</desc><desc class=\"y centered\">22.96775487401618</desc><desc class=\"x_label\">1900-01</desc></g><g class=\"dots\"><circle cx=\"267.319526627219\" cy=\"22.96775487401618\" r=\"0.0\" class=\"dot reactive tooltip-trigger\"/><desc class=\"value\">0</desc><desc class=\"x centered\">267.319526627219</desc><desc class=\"y centered\">22.96775487401618</desc><desc class=\"x_label\">1902-03</desc></g><g class=\"dots\"><circle cx=\"283.73964497041425\" cy=\"22.96775487401618\" r=\"1.1170148532785895\" class=\"dot reactive tooltip-trigger\"/><desc class=\"value\">2</desc><desc class=\"x centered\">283.73964497041425</desc><desc class=\"y centered\">22.96775487401618</desc><desc class=\"x_label\">1904-05</desc></g><g class=\"dots\"><circle cx=\"300.15976331360946\" cy=\"22.96775487401618\" r=\"2.234029706557179\" class=\"dot reactive tooltip-trigger\"/><desc class=\"value\">4</desc><desc class=\"x centered\">300.15976331360946</desc><desc class=\"y centered\">22.96775487401618</desc><desc class=\"x_label\">1906-07</desc></g><g class=\"dots\"><circle cx=\"316.57988165680473\" cy=\"22.96775487401618\" r=\"0.0\" class=\"dot reactive tooltip-trigger\"/><desc class=\"value\">0</desc><desc class=\"x centered\">316.57988165680473</desc><desc class=\"y centered\">22.96775487401618</desc><desc class=\"x_label\">1908-09</desc></g><g class=\"dots\"><circle cx=\"333.0\" cy=\"22.96775487401618\" r=\"0.5585074266392948\" class=\"dot reactive tooltip-trigger\"/><desc class=\"value\">1</desc><desc class=\"x centered\">333.0</desc><desc class=\"y centered\">22.96775487401618</desc><desc class=\"x_label\">1910-11</desc></g><g class=\"dots\"><circle cx=\"349.42011834319527\" cy=\"22.96775487401618\" r=\"1.6755222799178842\" class=\"dot reactive tooltip-trigger\"/><desc class=\"value\">3</desc><desc class=\"x centered\">349.42011834319527</desc><desc class=\"y centered\">22.96775487401618</desc><desc class=\"x_label\">1912-13</desc></g><g class=\"dots\"><circle cx=\"365.84023668639054\" cy=\"22.96775487401618\" r=\"5.026566839753653\" class=\"dot reactive tooltip-trigger\"/><desc class=\"value\">9</desc><desc class=\"x centered\">365.84023668639054</desc><desc class=\"y centered\">22.96775487401618</desc><desc class=\"x_label\">1914-15</desc></g><g class=\"dots\"><circle cx=\"382.2603550295858\" cy=\"22.96775487401618\" r=\"3.9095519864750634\" class=\"dot reactive tooltip-trigger\"/><desc class=\"value\">7</desc><desc class=\"x centered\">382.2603550295858</desc><desc class=\"y centered\">22.96775487401618</desc><desc class=\"x_label\">1916-17</desc></g><g class=\"dots\"><circle cx=\"398.6804733727811\" cy=\"22.96775487401618\" r=\"1.1170148532785895\" class=\"dot reactive tooltip-trigger\"/><desc class=\"value\">2</desc><desc class=\"x centered\">398.6804733727811</desc><desc class=\"y centered\">22.96775487401618</desc><desc class=\"x_label\">1918-19</desc></g><g class=\"dots\"><circle cx=\"415.1005917159763\" cy=\"22.96775487401618\" r=\"0.0\" class=\"dot reactive tooltip-trigger\"/><desc class=\"value\">0</desc><desc class=\"x centered\">415.1005917159763</desc><desc class=\"y centered\">22.96775487401618</desc><desc class=\"x_label\">1920-21</desc></g><g class=\"dots\"><circle cx=\"431.52071005917156\" cy=\"22.96775487401618\" r=\"0.0\" class=\"dot reactive tooltip-trigger\"/><desc class=\"value\">0</desc><desc class=\"x centered\">431.52071005917156</desc><desc class=\"y centered\">22.96775487401618</desc><desc class=\"x_label\">1922-23</desc></g><g class=\"dots\"><circle cx=\"447.94082840236683\" cy=\"22.96775487401618\" r=\"0.5585074266392948\" class=\"dot reactive tooltip-trigger\"/><desc class=\"value\">1</desc><desc class=\"x centered\">447.94082840236683</desc><desc class=\"y centered\">22.96775487401618</desc><desc class=\"x_label\">1924-25</desc></g><g class=\"dots\"><circle cx=\"464.3609467455621\" cy=\"22.96775487401618\" r=\"0.0\" class=\"dot reactive tooltip-trigger\"/><desc class=\"value\">0</desc><desc class=\"x centered\">464.3609467455621</desc><desc class=\"y centered\">22.96775487401618</desc><desc class=\"x_label\">1926-27</desc></g><g class=\"dots\"><circle cx=\"480.7810650887574\" cy=\"22.96775487401618\" r=\"0.0\" class=\"dot reactive tooltip-trigger\"/><desc class=\"value\">0</desc><desc class=\"x centered\">480.7810650887574</desc><desc class=\"y centered\">22.96775487401618</desc><desc class=\"x_label\">1928-29</desc></g><g class=\"dots\"><circle cx=\"497.20118343195264\" cy=\"22.96775487401618\" r=\"0.0\" class=\"dot reactive tooltip-trigger\"/><desc class=\"value\">0</desc><desc class=\"x centered\">497.20118343195264</desc><desc class=\"y centered\">22.96775487401618</desc><desc class=\"x_label\">1930-31</desc></g><g class=\"dots\"><circle cx=\"513.6213017751479\" cy=\"22.96775487401618\" r=\"0.0\" class=\"dot reactive tooltip-trigger\"/><desc class=\"value\">0</desc><desc class=\"x centered\">513.6213017751479</desc><desc class=\"y centered\">22.96775487401618</desc><desc class=\"x_label\">1932-33</desc></g><g class=\"dots\"><circle cx=\"530.0414201183431\" cy=\"22.96775487401618\" r=\"0.0\" class=\"dot reactive tooltip-trigger\"/><desc class=\"value\">0</desc><desc class=\"x centered\">530.0414201183431</desc><desc class=\"y centered\">22.96775487401618</desc><desc class=\"x_label\">1934-35</desc></g><g class=\"dots\"><circle cx=\"546.4615384615385\" cy=\"22.96775487401618\" r=\"0.0\" class=\"dot reactive tooltip-trigger\"/><desc class=\"value\">0</desc><desc class=\"x centered\">546.4615384615385</desc><desc class=\"y centered\">22.96775487401618</desc><desc class=\"x_label\">1936-37</desc></g><g class=\"dots\"><circle cx=\"562.8816568047337\" cy=\"22.96775487401618\" r=\"0.5585074266392948\" class=\"dot reactive tooltip-trigger\"/><desc class=\"value\">1</desc><desc class=\"x centered\">562.8816568047337</desc><desc class=\"y centered\">22.96775487401618</desc><desc class=\"x_label\">1938-39</desc></g><g class=\"dots\"><circle cx=\"579.301775147929\" cy=\"22.96775487401618\" r=\"0.5585074266392948\" class=\"dot reactive tooltip-trigger\"/><desc class=\"value\">1</desc><desc class=\"x centered\">579.301775147929</desc><desc class=\"y centered\">22.96775487401618</desc><desc class=\"x_label\">1940-41</desc></g><g class=\"dots\"><circle cx=\"595.7218934911242\" cy=\"22.96775487401618\" r=\"3.3510445598357683\" class=\"dot reactive tooltip-trigger\"/><desc class=\"value\">6</desc><desc class=\"x centered\">595.7218934911242</desc><desc class=\"y centered\">22.96775487401618</desc><desc class=\"x_label\">1942-43</desc></g><g class=\"dots\"><circle cx=\"612.1420118343195\" cy=\"22.96775487401618\" r=\"0.5585074266392948\" class=\"dot reactive tooltip-trigger\"/><desc class=\"value\">1</desc><desc class=\"x centered\">612.1420118343195</desc><desc class=\"y centered\">22.96775487401618</desc><desc class=\"x_label\">1944-45</desc></g><g class=\"dots\"><circle cx=\"628.5621301775147\" cy=\"22.96775487401618\" r=\"2.234029706557179\" class=\"dot reactive tooltip-trigger\"/><desc class=\"value\">4</desc><desc class=\"x centered\">628.5621301775147</desc><desc class=\"y centered\">22.96775487401618</desc><desc class=\"x_label\">1946-47</desc></g></g><g class=\"series serie-1 color-1\"><g class=\"dots\"><circle cx=\"21.01775147928994\" cy=\"57.76738347101039\" r=\"0.0\" class=\"dot reactive tooltip-trigger\"/><desc class=\"value\">0</desc><desc class=\"x centered\">21.01775147928994</desc><desc class=\"y centered\">57.76738347101039</desc><desc class=\"x_label\">1872-73</desc></g><g class=\"dots\"><circle cx=\"37.43786982248521\" cy=\"57.76738347101039\" r=\"0.0\" class=\"dot reactive tooltip-trigger\"/><desc class=\"value\">0</desc><desc class=\"x centered\">37.43786982248521</desc><desc class=\"y centered\">57.76738347101039</desc><desc class=\"x_label\">1874-75</desc></g><g class=\"dots\"><circle cx=\"53.85798816568047\" cy=\"57.76738347101039\" r=\"0.0\" class=\"dot reactive tooltip-trigger\"/><desc class=\"value\">0</desc><desc class=\"x centered\">53.85798816568047</desc><desc class=\"y centered\">57.76738347101039</desc><desc class=\"x_label\">1876-77</desc></g><g class=\"dots\"><circle cx=\"70.27810650887574\" cy=\"57.76738347101039\" r=\"0.0\" class=\"dot reactive tooltip-trigger\"/><desc class=\"value\">0</desc><desc class=\"x centered\">70.27810650887574</desc><desc class=\"y centered\">57.76738347101039</desc><desc class=\"x_label\">1878-79</desc></g><g class=\"dots\"><circle cx=\"86.69822485207101\" cy=\"57.76738347101039\" r=\"0.0\" class=\"dot reactive tooltip-trigger\"/><desc class=\"value\">0</desc><desc class=\"x centered\">86.69822485207101</desc><desc class=\"y centered\">57.76738347101039</desc><desc class=\"x_label\">1880-81</desc></g><g class=\"dots\"><circle cx=\"103.11834319526628\" cy=\"57.76738347101039\" r=\"0.0\" class=\"dot reactive tooltip-trigger\"/><desc class=\"value\">0</desc><desc class=\"x centered\">103.11834319526628</desc><desc class=\"y centered\">57.76738347101039</desc><desc class=\"x_label\">1882-83</desc></g><g class=\"dots\"><circle cx=\"119.53846153846155\" cy=\"57.76738347101039\" r=\"0.0\" class=\"dot reactive tooltip-trigger\"/><desc class=\"value\">0</desc><desc class=\"x centered\">119.53846153846155</desc><desc class=\"y centered\">57.76738347101039</desc><desc class=\"x_label\">1884-85</desc></g><g class=\"dots\"><circle cx=\"135.9585798816568\" cy=\"57.76738347101039\" r=\"0.0\" class=\"dot reactive tooltip-trigger\"/><desc class=\"value\">0</desc><desc class=\"x centered\">135.9585798816568</desc><desc class=\"y centered\">57.76738347101039</desc><desc class=\"x_label\">1886-87</desc></g><g class=\"dots\"><circle cx=\"152.37869822485206\" cy=\"57.76738347101039\" r=\"0.0\" class=\"dot reactive tooltip-trigger\"/><desc class=\"value\">0</desc><desc class=\"x centered\">152.37869822485206</desc><desc class=\"y centered\">57.76738347101039</desc><desc class=\"x_label\">1888-89</desc></g><g class=\"dots\"><circle cx=\"168.79881656804733\" cy=\"57.76738347101039\" r=\"0.0\" class=\"dot reactive tooltip-trigger\"/><desc class=\"value\">0</desc><desc class=\"x centered\">168.79881656804733</desc><desc class=\"y centered\">57.76738347101039</desc><desc class=\"x_label\">1890-91</desc></g><g class=\"dots\"><circle cx=\"185.21893491124257\" cy=\"57.76738347101039\" r=\"0.5585074266392948\" class=\"dot reactive tooltip-trigger\"/><desc class=\"value\">1</desc><desc class=\"x centered\">185.21893491124257</desc><desc class=\"y centered\">57.76738347101039</desc><desc class=\"x_label\">1892-93</desc></g><g class=\"dots\"><circle cx=\"201.63905325443784\" cy=\"57.76738347101039\" r=\"0.5585074266392948\" class=\"dot reactive tooltip-trigger\"/><desc class=\"value\">1</desc><desc class=\"x centered\">201.63905325443784</desc><desc class=\"y centered\">57.76738347101039</desc><desc class=\"x_label\">1894-95</desc></g><g class=\"dots\"><circle cx=\"218.0591715976331\" cy=\"57.76738347101039\" r=\"0.0\" class=\"dot reactive tooltip-trigger\"/><desc class=\"value\">0</desc><desc class=\"x centered\">218.0591715976331</desc><desc class=\"y centered\">57.76738347101039</desc><desc class=\"x_label\">1896-97</desc></g><g class=\"dots\"><circle cx=\"234.47928994082838\" cy=\"57.76738347101039\" r=\"0.0\" class=\"dot reactive tooltip-trigger\"/><desc class=\"value\">0</desc><desc class=\"x centered\">234.47928994082838</desc><desc class=\"y centered\">57.76738347101039</desc><desc class=\"x_label\">1898-99</desc></g><g class=\"dots\"><circle cx=\"250.89940828402365\" cy=\"57.76738347101039\" r=\"0.0\" class=\"dot reactive tooltip-trigger\"/><desc class=\"value\">0</desc><desc class=\"x centered\">250.89940828402365</desc><desc class=\"y centered\">57.76738347101039</desc><desc class=\"x_label\">1900-01</desc></g><g class=\"dots\"><circle cx=\"267.319526627219\" cy=\"57.76738347101039\" r=\"0.0\" class=\"dot reactive tooltip-trigger\"/><desc class=\"value\">0</desc><desc class=\"x centered\">267.319526627219</desc><desc class=\"y centered\">57.76738347101039</desc><desc class=\"x_label\">1902-03</desc></g><g class=\"dots\"><circle cx=\"283.73964497041425\" cy=\"57.76738347101039\" r=\"0.0\" class=\"dot reactive tooltip-trigger\"/><desc class=\"value\">0</desc><desc class=\"x centered\">283.73964497041425</desc><desc class=\"y centered\">57.76738347101039</desc><desc class=\"x_label\">1904-05</desc></g><g class=\"dots\"><circle cx=\"300.15976331360946\" cy=\"57.76738347101039\" r=\"2.234029706557179\" class=\"dot reactive tooltip-trigger\"/><desc class=\"value\">4</desc><desc class=\"x centered\">300.15976331360946</desc><desc class=\"y centered\">57.76738347101039</desc><desc class=\"x_label\">1906-07</desc></g><g class=\"dots\"><circle cx=\"316.57988165680473\" cy=\"57.76738347101039\" r=\"0.5585074266392948\" class=\"dot reactive tooltip-trigger\"/><desc class=\"value\">1</desc><desc class=\"x centered\">316.57988165680473</desc><desc class=\"y centered\">57.76738347101039</desc><desc class=\"x_label\">1908-09</desc></g><g class=\"dots\"><circle cx=\"333.0\" cy=\"57.76738347101039\" r=\"0.0\" class=\"dot reactive tooltip-trigger\"/><desc class=\"value\">0</desc><desc class=\"x centered\">333.0</desc><desc class=\"y centered\">57.76738347101039</desc><desc class=\"x_label\">1910-11</desc></g><g class=\"dots\"><circle cx=\"349.42011834319527\" cy=\"57.76738347101039\" r=\"0.5585074266392948\" class=\"dot reactive tooltip-trigger\"/><desc class=\"value\">1</desc><desc class=\"x centered\">349.42011834319527</desc><desc class=\"y centered\">57.76738347101039</desc><desc class=\"x_label\">1912-13</desc></g><g class=\"dots\"><circle cx=\"365.84023668639054\" cy=\"57.76738347101039\" r=\"0.0\" class=\"dot reactive tooltip-trigger\"/><desc class=\"value\">0</desc><desc class=\"x centered\">365.84023668639054</desc><desc class=\"y centered\">57.76738347101039</desc><desc class=\"x_label\">1914-15</desc></g><g class=\"dots\"><circle cx=\"382.2603550295858\" cy=\"57.76738347101039\" r=\"0.0\" class=\"dot reactive tooltip-trigger\"/><desc class=\"value\">0</desc><desc class=\"x centered\">382.2603550295858</desc><desc class=\"y centered\">57.76738347101039</desc><desc class=\"x_label\">1916-17</desc></g><g class=\"dots\"><circle cx=\"398.6804733727811\" cy=\"57.76738347101039\" r=\"0.0\" class=\"dot reactive tooltip-trigger\"/><desc class=\"value\">0</desc><desc class=\"x centered\">398.6804733727811</desc><desc class=\"y centered\">57.76738347101039</desc><desc class=\"x_label\">1918-19</desc></g><g class=\"dots\"><circle cx=\"415.1005917159763\" cy=\"57.76738347101039\" r=\"0.5585074266392948\" class=\"dot reactive tooltip-trigger\"/><desc class=\"value\">1</desc><desc class=\"x centered\">415.1005917159763</desc><desc class=\"y centered\">57.76738347101039</desc><desc class=\"x_label\">1920-21</desc></g><g class=\"dots\"><circle cx=\"431.52071005917156\" cy=\"57.76738347101039\" r=\"0.0\" class=\"dot reactive tooltip-trigger\"/><desc class=\"value\">0</desc><desc class=\"x centered\">431.52071005917156</desc><desc class=\"y centered\">57.76738347101039</desc><desc class=\"x_label\">1922-23</desc></g><g class=\"dots\"><circle cx=\"447.94082840236683\" cy=\"57.76738347101039\" r=\"0.0\" class=\"dot reactive tooltip-trigger\"/><desc class=\"value\">0</desc><desc class=\"x centered\">447.94082840236683</desc><desc class=\"y centered\">57.76738347101039</desc><desc class=\"x_label\">1924-25</desc></g><g class=\"dots\"><circle cx=\"464.3609467455621\" cy=\"57.76738347101039\" r=\"0.0\" class=\"dot reactive tooltip-trigger\"/><desc class=\"value\">0</desc><desc class=\"x centered\">464.3609467455621</desc><desc class=\"y centered\">57.76738347101039</desc><desc class=\"x_label\">1926-27</desc></g><g class=\"dots\"><circle cx=\"480.7810650887574\" cy=\"57.76738347101039\" r=\"0.0\" class=\"dot reactive tooltip-trigger\"/><desc class=\"value\">0</desc><desc class=\"x centered\">480.7810650887574</desc><desc class=\"y centered\">57.76738347101039</desc><desc class=\"x_label\">1928-29</desc></g><g class=\"dots\"><circle cx=\"497.20118343195264\" cy=\"57.76738347101039\" r=\"0.0\" class=\"dot reactive tooltip-trigger\"/><desc class=\"value\">0</desc><desc class=\"x centered\">497.20118343195264</desc><desc class=\"y centered\">57.76738347101039</desc><desc class=\"x_label\">1930-31</desc></g><g class=\"dots\"><circle cx=\"513.6213017751479\" cy=\"57.76738347101039\" r=\"0.0\" class=\"dot reactive tooltip-trigger\"/><desc class=\"value\">0</desc><desc class=\"x centered\">513.6213017751479</desc><desc class=\"y centered\">57.76738347101039</desc><desc class=\"x_label\">1932-33</desc></g><g class=\"dots\"><circle cx=\"530.0414201183431\" cy=\"57.76738347101039\" r=\"0.0\" class=\"dot reactive tooltip-trigger\"/><desc class=\"value\">0</desc><desc class=\"x centered\">530.0414201183431</desc><desc class=\"y centered\">57.76738347101039</desc><desc class=\"x_label\">1934-35</desc></g><g class=\"dots\"><circle cx=\"546.4615384615385\" cy=\"57.76738347101039\" r=\"0.0\" class=\"dot reactive tooltip-trigger\"/><desc class=\"value\">0</desc><desc class=\"x centered\">546.4615384615385</desc><desc class=\"y centered\">57.76738347101039</desc><desc class=\"x_label\">1936-37</desc></g><g class=\"dots\"><circle cx=\"562.8816568047337\" cy=\"57.76738347101039\" r=\"0.0\" class=\"dot reactive tooltip-trigger\"/><desc class=\"value\">0</desc><desc class=\"x centered\">562.8816568047337</desc><desc class=\"y centered\">57.76738347101039</desc><desc class=\"x_label\">1938-39</desc></g></g><g class=\"series serie-2 color-2\"><g class=\"dots\"><circle cx=\"21.01775147928994\" cy=\"92.56701206800463\" r=\"0.0\" class=\"dot reactive tooltip-trigger\"/><desc class=\"value\">0</desc><desc class=\"x centered\">21.01775147928994</desc><desc class=\"y centered\">92.56701206800463</desc><desc class=\"x_label\">1872-73</desc></g><g class=\"dots\"><circle cx=\"37.43786982248521\" cy=\"92.56701206800463\" r=\"0.0\" class=\"dot reactive tooltip-trigger\"/><desc class=\"value\">0</desc><desc class=\"x centered\">37.43786982248521</desc><desc class=\"y centered\">92.56701206800463</desc><desc class=\"x_label\">1874-75</desc></g><g class=\"dots\"><circle cx=\"53.85798816568047\" cy=\"92.56701206800463\" r=\"0.0\" class=\"dot reactive tooltip-trigger\"/><desc class=\"value\">0</desc><desc class=\"x centered\">53.85798816568047</desc><desc class=\"y centered\">92.56701206800463</desc><desc class=\"x_label\">1876-77</desc></g><g class=\"dots\"><circle cx=\"70.27810650887574\" cy=\"92.56701206800463\" r=\"0.0\" class=\"dot reactive tooltip-trigger\"/><desc class=\"value\">0</desc><desc class=\"x centered\">70.27810650887574</desc><desc class=\"y centered\">92.56701206800463</desc><desc class=\"x_label\">1878-79</desc></g><g class=\"dots\"><circle cx=\"86.69822485207101\" cy=\"92.56701206800463\" r=\"0.0\" class=\"dot reactive tooltip-trigger\"/><desc class=\"value\">0</desc><desc class=\"x centered\">86.69822485207101</desc><desc class=\"y centered\">92.56701206800463</desc><desc class=\"x_label\">1880-81</desc></g><g class=\"dots\"><circle cx=\"103.11834319526628\" cy=\"92.56701206800463\" r=\"0.0\" class=\"dot reactive tooltip-trigger\"/><desc class=\"value\">0</desc><desc class=\"x centered\">103.11834319526628</desc><desc class=\"y centered\">92.56701206800463</desc><desc class=\"x_label\">1882-83</desc></g><g class=\"dots\"><circle cx=\"119.53846153846155\" cy=\"92.56701206800463\" r=\"0.0\" class=\"dot reactive tooltip-trigger\"/><desc class=\"value\">0</desc><desc class=\"x centered\">119.53846153846155</desc><desc class=\"y centered\">92.56701206800463</desc><desc class=\"x_label\">1884-85</desc></g><g class=\"dots\"><circle cx=\"135.9585798816568\" cy=\"92.56701206800463\" r=\"0.0\" class=\"dot reactive tooltip-trigger\"/><desc class=\"value\">0</desc><desc class=\"x centered\">135.9585798816568</desc><desc class=\"y centered\">92.56701206800463</desc><desc class=\"x_label\">1886-87</desc></g><g class=\"dots\"><circle cx=\"152.37869822485206\" cy=\"92.56701206800463\" r=\"0.0\" class=\"dot reactive tooltip-trigger\"/><desc class=\"value\">0</desc><desc class=\"x centered\">152.37869822485206</desc><desc class=\"y centered\">92.56701206800463</desc><desc class=\"x_label\">1888-89</desc></g><g class=\"dots\"><circle cx=\"168.79881656804733\" cy=\"92.56701206800463\" r=\"0.0\" class=\"dot reactive tooltip-trigger\"/><desc class=\"value\">0</desc><desc class=\"x centered\">168.79881656804733</desc><desc class=\"y centered\">92.56701206800463</desc><desc class=\"x_label\">1890-91</desc></g><g class=\"dots\"><circle cx=\"185.21893491124257\" cy=\"92.56701206800463\" r=\"0.0\" class=\"dot reactive tooltip-trigger\"/><desc class=\"value\">0</desc><desc class=\"x centered\">185.21893491124257</desc><desc class=\"y centered\">92.56701206800463</desc><desc class=\"x_label\">1892-93</desc></g><g class=\"dots\"><circle cx=\"201.63905325443784\" cy=\"92.56701206800463\" r=\"0.0\" class=\"dot reactive tooltip-trigger\"/><desc class=\"value\">0</desc><desc class=\"x centered\">201.63905325443784</desc><desc class=\"y centered\">92.56701206800463</desc><desc class=\"x_label\">1894-95</desc></g><g class=\"dots\"><circle cx=\"218.0591715976331\" cy=\"92.56701206800463\" r=\"0.0\" class=\"dot reactive tooltip-trigger\"/><desc class=\"value\">0</desc><desc class=\"x centered\">218.0591715976331</desc><desc class=\"y centered\">92.56701206800463</desc><desc class=\"x_label\">1896-97</desc></g><g class=\"dots\"><circle cx=\"234.47928994082838\" cy=\"92.56701206800463\" r=\"0.0\" class=\"dot reactive tooltip-trigger\"/><desc class=\"value\">0</desc><desc class=\"x centered\">234.47928994082838</desc><desc class=\"y centered\">92.56701206800463</desc><desc class=\"x_label\">1898-99</desc></g><g class=\"dots\"><circle cx=\"250.89940828402365\" cy=\"92.56701206800463\" r=\"0.0\" class=\"dot reactive tooltip-trigger\"/><desc class=\"value\">0</desc><desc class=\"x centered\">250.89940828402365</desc><desc class=\"y centered\">92.56701206800463</desc><desc class=\"x_label\">1900-01</desc></g><g class=\"dots\"><circle cx=\"267.319526627219\" cy=\"92.56701206800463\" r=\"0.0\" class=\"dot reactive tooltip-trigger\"/><desc class=\"value\">0</desc><desc class=\"x centered\">267.319526627219</desc><desc class=\"y centered\">92.56701206800463</desc><desc class=\"x_label\">1902-03</desc></g><g class=\"dots\"><circle cx=\"283.73964497041425\" cy=\"92.56701206800463\" r=\"0.0\" class=\"dot reactive tooltip-trigger\"/><desc class=\"value\">0</desc><desc class=\"x centered\">283.73964497041425</desc><desc class=\"y centered\">92.56701206800463</desc><desc class=\"x_label\">1904-05</desc></g><g class=\"dots\"><circle cx=\"300.15976331360946\" cy=\"92.56701206800463\" r=\"1.1170148532785895\" class=\"dot reactive tooltip-trigger\"/><desc class=\"value\">2</desc><desc class=\"x centered\">300.15976331360946</desc><desc class=\"y centered\">92.56701206800463</desc><desc class=\"x_label\">1906-07</desc></g><g class=\"dots\"><circle cx=\"316.57988165680473\" cy=\"92.56701206800463\" r=\"3.9095519864750634\" class=\"dot reactive tooltip-trigger\"/><desc class=\"value\">7</desc><desc class=\"x centered\">316.57988165680473</desc><desc class=\"y centered\">92.56701206800463</desc><desc class=\"x_label\">1908-09</desc></g><g class=\"dots\"><circle cx=\"333.0\" cy=\"92.56701206800463\" r=\"0.5585074266392948\" class=\"dot reactive tooltip-trigger\"/><desc class=\"value\">1</desc><desc class=\"x centered\">333.0</desc><desc class=\"y centered\">92.56701206800463</desc><desc class=\"x_label\">1910-11</desc></g><g class=\"dots\"><circle cx=\"349.42011834319527\" cy=\"92.56701206800463\" r=\"0.0\" class=\"dot reactive tooltip-trigger\"/><desc class=\"value\">0</desc><desc class=\"x centered\">349.42011834319527</desc><desc class=\"y centered\">92.56701206800463</desc><desc class=\"x_label\">1912-13</desc></g><g class=\"dots\"><circle cx=\"365.84023668639054\" cy=\"92.56701206800463\" r=\"0.0\" class=\"dot reactive tooltip-trigger\"/><desc class=\"value\">0</desc><desc class=\"x centered\">365.84023668639054</desc><desc class=\"y centered\">92.56701206800463</desc><desc class=\"x_label\">1914-15</desc></g><g class=\"dots\"><circle cx=\"382.2603550295858\" cy=\"92.56701206800463\" r=\"0.0\" class=\"dot reactive tooltip-trigger\"/><desc class=\"value\">0</desc><desc class=\"x centered\">382.2603550295858</desc><desc class=\"y centered\">92.56701206800463</desc><desc class=\"x_label\">1916-17</desc></g><g class=\"dots\"><circle cx=\"398.6804733727811\" cy=\"92.56701206800463\" r=\"0.0\" class=\"dot reactive tooltip-trigger\"/><desc class=\"value\">0</desc><desc class=\"x centered\">398.6804733727811</desc><desc class=\"y centered\">92.56701206800463</desc><desc class=\"x_label\">1918-19</desc></g><g class=\"dots\"><circle cx=\"415.1005917159763\" cy=\"92.56701206800463\" r=\"0.0\" class=\"dot reactive tooltip-trigger\"/><desc class=\"value\">0</desc><desc class=\"x centered\">415.1005917159763</desc><desc class=\"y centered\">92.56701206800463</desc><desc class=\"x_label\">1920-21</desc></g><g class=\"dots\"><circle cx=\"431.52071005917156\" cy=\"92.56701206800463\" r=\"0.0\" class=\"dot reactive tooltip-trigger\"/><desc class=\"value\">0</desc><desc class=\"x centered\">431.52071005917156</desc><desc class=\"y centered\">92.56701206800463</desc><desc class=\"x_label\">1922-23</desc></g><g class=\"dots\"><circle cx=\"447.94082840236683\" cy=\"92.56701206800463\" r=\"0.0\" class=\"dot reactive tooltip-trigger\"/><desc class=\"value\">0</desc><desc class=\"x centered\">447.94082840236683</desc><desc class=\"y centered\">92.56701206800463</desc><desc class=\"x_label\">1924-25</desc></g><g class=\"dots\"><circle cx=\"464.3609467455621\" cy=\"92.56701206800463\" r=\"0.0\" class=\"dot reactive tooltip-trigger\"/><desc class=\"value\">0</desc><desc class=\"x centered\">464.3609467455621</desc><desc class=\"y centered\">92.56701206800463</desc><desc class=\"x_label\">1926-27</desc></g><g class=\"dots\"><circle cx=\"480.7810650887574\" cy=\"92.56701206800463\" r=\"0.0\" class=\"dot reactive tooltip-trigger\"/><desc class=\"value\">0</desc><desc class=\"x centered\">480.7810650887574</desc><desc class=\"y centered\">92.56701206800463</desc><desc class=\"x_label\">1928-29</desc></g><g class=\"dots\"><circle cx=\"497.20118343195264\" cy=\"92.56701206800463\" r=\"0.0\" class=\"dot reactive tooltip-trigger\"/><desc class=\"value\">0</desc><desc class=\"x centered\">497.20118343195264</desc><desc class=\"y centered\">92.56701206800463</desc><desc class=\"x_label\">1930-31</desc></g><g class=\"dots\"><circle cx=\"513.6213017751479\" cy=\"92.56701206800463\" r=\"0.0\" class=\"dot reactive tooltip-trigger\"/><desc class=\"value\">0</desc><desc class=\"x centered\">513.6213017751479</desc><desc class=\"y centered\">92.56701206800463</desc><desc class=\"x_label\">1932-33</desc></g><g class=\"dots\"><circle cx=\"530.0414201183431\" cy=\"92.56701206800463\" r=\"0.0\" class=\"dot reactive tooltip-trigger\"/><desc class=\"value\">0</desc><desc class=\"x centered\">530.0414201183431</desc><desc class=\"y centered\">92.56701206800463</desc><desc class=\"x_label\">1934-35</desc></g><g class=\"dots\"><circle cx=\"546.4615384615385\" cy=\"92.56701206800463\" r=\"0.0\" class=\"dot reactive tooltip-trigger\"/><desc class=\"value\">0</desc><desc class=\"x centered\">546.4615384615385</desc><desc class=\"y centered\">92.56701206800463</desc><desc class=\"x_label\">1936-37</desc></g><g class=\"dots\"><circle cx=\"562.8816568047337\" cy=\"92.56701206800463\" r=\"0.0\" class=\"dot reactive tooltip-trigger\"/><desc class=\"value\">0</desc><desc class=\"x centered\">562.8816568047337</desc><desc class=\"y centered\">92.56701206800463</desc><desc class=\"x_label\">1938-39</desc></g><g class=\"dots\"><circle cx=\"579.301775147929\" cy=\"92.56701206800463\" r=\"0.0\" class=\"dot reactive tooltip-trigger\"/><desc class=\"value\">0</desc><desc class=\"x centered\">579.301775147929</desc><desc class=\"y centered\">92.56701206800463</desc><desc class=\"x_label\">1940-41</desc></g><g class=\"dots\"><circle cx=\"595.7218934911242\" cy=\"92.56701206800463\" r=\"0.0\" class=\"dot reactive tooltip-trigger\"/><desc class=\"value\">0</desc><desc class=\"x centered\">595.7218934911242</desc><desc class=\"y centered\">92.56701206800463</desc><desc class=\"x_label\">1942-43</desc></g><g class=\"dots\"><circle cx=\"612.1420118343195\" cy=\"92.56701206800463\" r=\"0.0\" class=\"dot reactive tooltip-trigger\"/><desc class=\"value\">0</desc><desc class=\"x centered\">612.1420118343195</desc><desc class=\"y centered\">92.56701206800463</desc><desc class=\"x_label\">1944-45</desc></g><g class=\"dots\"><circle cx=\"628.5621301775147\" cy=\"92.56701206800463\" r=\"0.0\" class=\"dot reactive tooltip-trigger\"/><desc class=\"value\">0</desc><desc class=\"x centered\">628.5621301775147</desc><desc class=\"y centered\">92.56701206800463</desc><desc class=\"x_label\">1946-47</desc></g></g><g class=\"series serie-3 color-3\"><g class=\"dots\"><circle cx=\"21.01775147928994\" cy=\"127.36664066499884\" r=\"2.234029706557179\" class=\"dot reactive tooltip-trigger\"/><desc class=\"value\">4</desc><desc class=\"x centered\">21.01775147928994</desc><desc class=\"y centered\">127.36664066499884</desc><desc class=\"x_label\">1872-73</desc></g><g class=\"dots\"><circle cx=\"37.43786982248521\" cy=\"127.36664066499884\" r=\"3.3510445598357683\" class=\"dot reactive tooltip-trigger\"/><desc class=\"value\">6</desc><desc class=\"x centered\">37.43786982248521</desc><desc class=\"y centered\">127.36664066499884</desc><desc class=\"x_label\">1874-75</desc></g><g class=\"dots\"><circle cx=\"53.85798816568047\" cy=\"127.36664066499884\" r=\"1.6755222799178842\" class=\"dot reactive tooltip-trigger\"/><desc class=\"value\">3</desc><desc class=\"x centered\">53.85798816568047</desc><desc class=\"y centered\">127.36664066499884</desc><desc class=\"x_label\">1876-77</desc></g><g class=\"dots\"><circle cx=\"70.27810650887574\" cy=\"127.36664066499884\" r=\"0.5585074266392948\" class=\"dot reactive tooltip-trigger\"/><desc class=\"value\">1</desc><desc class=\"x centered\">70.27810650887574</desc><desc class=\"y centered\">127.36664066499884</desc><desc class=\"x_label\">1878-79</desc></g><g class=\"dots\"><circle cx=\"86.69822485207101\" cy=\"127.36664066499884\" r=\"0.0\" class=\"dot reactive tooltip-trigger\"/><desc class=\"value\">0</desc><desc class=\"x centered\">86.69822485207101</desc><desc class=\"y centered\">127.36664066499884</desc><desc class=\"x_label\">1880-81</desc></g><g class=\"dots\"><circle cx=\"103.11834319526628\" cy=\"127.36664066499884\" r=\"0.0\" class=\"dot reactive tooltip-trigger\"/><desc class=\"value\">0</desc><desc class=\"x centered\">103.11834319526628</desc><desc class=\"y centered\">127.36664066499884</desc><desc class=\"x_label\">1882-83</desc></g><g class=\"dots\"><circle cx=\"119.53846153846155\" cy=\"127.36664066499884\" r=\"0.0\" class=\"dot reactive tooltip-trigger\"/><desc class=\"value\">0</desc><desc class=\"x centered\">119.53846153846155</desc><desc class=\"y centered\">127.36664066499884</desc><desc class=\"x_label\">1884-85</desc></g><g class=\"dots\"><circle cx=\"135.9585798816568\" cy=\"127.36664066499884\" r=\"0.0\" class=\"dot reactive tooltip-trigger\"/><desc class=\"value\">0</desc><desc class=\"x centered\">135.9585798816568</desc><desc class=\"y centered\">127.36664066499884</desc><desc class=\"x_label\">1886-87</desc></g><g class=\"dots\"><circle cx=\"152.37869822485206\" cy=\"127.36664066499884\" r=\"0.5585074266392948\" class=\"dot reactive tooltip-trigger\"/><desc class=\"value\">1</desc><desc class=\"x centered\">152.37869822485206</desc><desc class=\"y centered\">127.36664066499884</desc><desc class=\"x_label\">1888-89</desc></g><g class=\"dots\"><circle cx=\"168.79881656804733\" cy=\"127.36664066499884\" r=\"0.0\" class=\"dot reactive tooltip-trigger\"/><desc class=\"value\">0</desc><desc class=\"x centered\">168.79881656804733</desc><desc class=\"y centered\">127.36664066499884</desc><desc class=\"x_label\">1890-91</desc></g><g class=\"dots\"><circle cx=\"185.21893491124257\" cy=\"127.36664066499884\" r=\"2.792537133196474\" class=\"dot reactive tooltip-trigger\"/><desc class=\"value\">5</desc><desc class=\"x centered\">185.21893491124257</desc><desc class=\"y centered\">127.36664066499884</desc><desc class=\"x_label\">1892-93</desc></g><g class=\"dots\"><circle cx=\"201.63905325443784\" cy=\"127.36664066499884\" r=\"1.6755222799178842\" class=\"dot reactive tooltip-trigger\"/><desc class=\"value\">3</desc><desc class=\"x centered\">201.63905325443784</desc><desc class=\"y centered\">127.36664066499884</desc><desc class=\"x_label\">1894-95</desc></g><g class=\"dots\"><circle cx=\"218.0591715976331\" cy=\"127.36664066499884\" r=\"1.1170148532785895\" class=\"dot reactive tooltip-trigger\"/><desc class=\"value\">2</desc><desc class=\"x centered\">218.0591715976331</desc><desc class=\"y centered\">127.36664066499884</desc><desc class=\"x_label\">1896-97</desc></g><g class=\"dots\"><circle cx=\"234.47928994082838\" cy=\"127.36664066499884\" r=\"0.0\" class=\"dot reactive tooltip-trigger\"/><desc class=\"value\">0</desc><desc class=\"x centered\">234.47928994082838</desc><desc class=\"y centered\">127.36664066499884</desc><desc class=\"x_label\">1898-99</desc></g><g class=\"dots\"><circle cx=\"250.89940828402365\" cy=\"127.36664066499884\" r=\"0.0\" class=\"dot reactive tooltip-trigger\"/><desc class=\"value\">0</desc><desc class=\"x centered\">250.89940828402365</desc><desc class=\"y centered\">127.36664066499884</desc><desc class=\"x_label\">1900-01</desc></g><g class=\"dots\"><circle cx=\"267.319526627219\" cy=\"127.36664066499884\" r=\"0.0\" class=\"dot reactive tooltip-trigger\"/><desc class=\"value\">0</desc><desc class=\"x centered\">267.319526627219</desc><desc class=\"y centered\">127.36664066499884</desc><desc class=\"x_label\">1902-03</desc></g><g class=\"dots\"><circle cx=\"283.73964497041425\" cy=\"127.36664066499884\" r=\"1.1170148532785895\" class=\"dot reactive tooltip-trigger\"/><desc class=\"value\">2</desc><desc class=\"x centered\">283.73964497041425</desc><desc class=\"y centered\">127.36664066499884</desc><desc class=\"x_label\">1904-05</desc></g><g class=\"dots\"><circle cx=\"300.15976331360946\" cy=\"127.36664066499884\" r=\"0.5585074266392948\" class=\"dot reactive tooltip-trigger\"/><desc class=\"value\">1</desc><desc class=\"x centered\">300.15976331360946</desc><desc class=\"y centered\">127.36664066499884</desc><desc class=\"x_label\">1906-07</desc></g><g class=\"dots\"><circle cx=\"316.57988165680473\" cy=\"127.36664066499884\" r=\"0.0\" class=\"dot reactive tooltip-trigger\"/><desc class=\"value\">0</desc><desc class=\"x centered\">316.57988165680473</desc><desc class=\"y centered\">127.36664066499884</desc><desc class=\"x_label\">1908-09</desc></g><g class=\"dots\"><circle cx=\"333.0\" cy=\"127.36664066499884\" r=\"3.3510445598357683\" class=\"dot reactive tooltip-trigger\"/><desc class=\"value\">6</desc><desc class=\"x centered\">333.0</desc><desc class=\"y centered\">127.36664066499884</desc><desc class=\"x_label\">1910-11</desc></g><g class=\"dots\"><circle cx=\"349.42011834319527\" cy=\"127.36664066499884\" r=\"2.234029706557179\" class=\"dot reactive tooltip-trigger\"/><desc class=\"value\">4</desc><desc class=\"x centered\">349.42011834319527</desc><desc class=\"y centered\">127.36664066499884</desc><desc class=\"x_label\">1912-13</desc></g><g class=\"dots\"><circle cx=\"365.84023668639054\" cy=\"127.36664066499884\" r=\"0.5585074266392948\" class=\"dot reactive tooltip-trigger\"/><desc class=\"value\">1</desc><desc class=\"x centered\">365.84023668639054</desc><desc class=\"y centered\">127.36664066499884</desc><desc class=\"x_label\">1914-15</desc></g><g class=\"dots\"><circle cx=\"382.2603550295858\" cy=\"127.36664066499884\" r=\"0.0\" class=\"dot reactive tooltip-trigger\"/><desc class=\"value\">0</desc><desc class=\"x centered\">382.2603550295858</desc><desc class=\"y centered\">127.36664066499884</desc><desc class=\"x_label\">1916-17</desc></g><g class=\"dots\"><circle cx=\"398.6804733727811\" cy=\"127.36664066499884\" r=\"0.0\" class=\"dot reactive tooltip-trigger\"/><desc class=\"value\">0</desc><desc class=\"x centered\">398.6804733727811</desc><desc class=\"y centered\">127.36664066499884</desc><desc class=\"x_label\">1918-19</desc></g><g class=\"dots\"><circle cx=\"415.1005917159763\" cy=\"127.36664066499884\" r=\"1.1170148532785895\" class=\"dot reactive tooltip-trigger\"/><desc class=\"value\">2</desc><desc class=\"x centered\">415.1005917159763</desc><desc class=\"y centered\">127.36664066499884</desc><desc class=\"x_label\">1920-21</desc></g><g class=\"dots\"><circle cx=\"431.52071005917156\" cy=\"127.36664066499884\" r=\"0.0\" class=\"dot reactive tooltip-trigger\"/><desc class=\"value\">0</desc><desc class=\"x centered\">431.52071005917156</desc><desc class=\"y centered\">127.36664066499884</desc><desc class=\"x_label\">1922-23</desc></g><g class=\"dots\"><circle cx=\"447.94082840236683\" cy=\"127.36664066499884\" r=\"1.1170148532785895\" class=\"dot reactive tooltip-trigger\"/><desc class=\"value\">2</desc><desc class=\"x centered\">447.94082840236683</desc><desc class=\"y centered\">127.36664066499884</desc><desc class=\"x_label\">1924-25</desc></g><g class=\"dots\"><circle cx=\"464.3609467455621\" cy=\"127.36664066499884\" r=\"0.0\" class=\"dot reactive tooltip-trigger\"/><desc class=\"value\">0</desc><desc class=\"x centered\">464.3609467455621</desc><desc class=\"y centered\">127.36664066499884</desc><desc class=\"x_label\">1926-27</desc></g><g class=\"dots\"><circle cx=\"480.7810650887574\" cy=\"127.36664066499884\" r=\"0.0\" class=\"dot reactive tooltip-trigger\"/><desc class=\"value\">0</desc><desc class=\"x centered\">480.7810650887574</desc><desc class=\"y centered\">127.36664066499884</desc><desc class=\"x_label\">1928-29</desc></g><g class=\"dots\"><circle cx=\"497.20118343195264\" cy=\"127.36664066499884\" r=\"2.234029706557179\" class=\"dot reactive tooltip-trigger\"/><desc class=\"value\">4</desc><desc class=\"x centered\">497.20118343195264</desc><desc class=\"y centered\">127.36664066499884</desc><desc class=\"x_label\">1930-31</desc></g><g class=\"dots\"><circle cx=\"513.6213017751479\" cy=\"127.36664066499884\" r=\"0.0\" class=\"dot reactive tooltip-trigger\"/><desc class=\"value\">0</desc><desc class=\"x centered\">513.6213017751479</desc><desc class=\"y centered\">127.36664066499884</desc><desc class=\"x_label\">1932-33</desc></g><g class=\"dots\"><circle cx=\"530.0414201183431\" cy=\"127.36664066499884\" r=\"0.0\" class=\"dot reactive tooltip-trigger\"/><desc class=\"value\">0</desc><desc class=\"x centered\">530.0414201183431</desc><desc class=\"y centered\">127.36664066499884</desc><desc class=\"x_label\">1934-35</desc></g><g class=\"dots\"><circle cx=\"546.4615384615385\" cy=\"127.36664066499884\" r=\"0.0\" class=\"dot reactive tooltip-trigger\"/><desc class=\"value\">0</desc><desc class=\"x centered\">546.4615384615385</desc><desc class=\"y centered\">127.36664066499884</desc><desc class=\"x_label\">1936-37</desc></g><g class=\"dots\"><circle cx=\"562.8816568047337\" cy=\"127.36664066499884\" r=\"0.0\" class=\"dot reactive tooltip-trigger\"/><desc class=\"value\">0</desc><desc class=\"x centered\">562.8816568047337</desc><desc class=\"y centered\">127.36664066499884</desc><desc class=\"x_label\">1938-39</desc></g><g class=\"dots\"><circle cx=\"579.301775147929\" cy=\"127.36664066499884\" r=\"0.5585074266392948\" class=\"dot reactive tooltip-trigger\"/><desc class=\"value\">1</desc><desc class=\"x centered\">579.301775147929</desc><desc class=\"y centered\">127.36664066499884</desc><desc class=\"x_label\">1940-41</desc></g><g class=\"dots\"><circle cx=\"595.7218934911242\" cy=\"127.36664066499884\" r=\"0.0\" class=\"dot reactive tooltip-trigger\"/><desc class=\"value\">0</desc><desc class=\"x centered\">595.7218934911242</desc><desc class=\"y centered\">127.36664066499884</desc><desc class=\"x_label\">1942-43</desc></g><g class=\"dots\"><circle cx=\"612.1420118343195\" cy=\"127.36664066499884\" r=\"0.0\" class=\"dot reactive tooltip-trigger\"/><desc class=\"value\">0</desc><desc class=\"x centered\">612.1420118343195</desc><desc class=\"y centered\">127.36664066499884</desc><desc class=\"x_label\">1944-45</desc></g><g class=\"dots\"><circle cx=\"628.5621301775147\" cy=\"127.36664066499884\" r=\"0.0\" class=\"dot reactive tooltip-trigger\"/><desc class=\"value\">0</desc><desc class=\"x centered\">628.5621301775147</desc><desc class=\"y centered\">127.36664066499884</desc><desc class=\"x_label\">1946-47</desc></g></g><g class=\"series serie-4 color-4\"><g class=\"dots\"><circle cx=\"21.01775147928994\" cy=\"162.16626926199302\" r=\"0.5585074266392948\" class=\"dot reactive tooltip-trigger\"/><desc class=\"value\">1</desc><desc class=\"x centered\">21.01775147928994</desc><desc class=\"y centered\">162.16626926199302</desc><desc class=\"x_label\">1872-73</desc></g><g class=\"dots\"><circle cx=\"37.43786982248521\" cy=\"162.16626926199302\" r=\"0.5585074266392948\" class=\"dot reactive tooltip-trigger\"/><desc class=\"value\">1</desc><desc class=\"x centered\">37.43786982248521</desc><desc class=\"y centered\">162.16626926199302</desc><desc class=\"x_label\">1874-75</desc></g><g class=\"dots\"><circle cx=\"53.85798816568047\" cy=\"162.16626926199302\" r=\"0.0\" class=\"dot reactive tooltip-trigger\"/><desc class=\"value\">0</desc><desc class=\"x centered\">53.85798816568047</desc><desc class=\"y centered\">162.16626926199302</desc><desc class=\"x_label\">1876-77</desc></g><g class=\"dots\"><circle cx=\"70.27810650887574\" cy=\"162.16626926199302\" r=\"0.0\" class=\"dot reactive tooltip-trigger\"/><desc class=\"value\">0</desc><desc class=\"x centered\">70.27810650887574</desc><desc class=\"y centered\">162.16626926199302</desc><desc class=\"x_label\">1878-79</desc></g><g class=\"dots\"><circle cx=\"86.69822485207101\" cy=\"162.16626926199302\" r=\"0.5585074266392948\" class=\"dot reactive tooltip-trigger\"/><desc class=\"value\">1</desc><desc class=\"x centered\">86.69822485207101</desc><desc class=\"y centered\">162.16626926199302</desc><desc class=\"x_label\">1880-81</desc></g><g class=\"dots\"><circle cx=\"103.11834319526628\" cy=\"162.16626926199302\" r=\"0.0\" class=\"dot reactive tooltip-trigger\"/><desc class=\"value\">0</desc><desc class=\"x centered\">103.11834319526628</desc><desc class=\"y centered\">162.16626926199302</desc><desc class=\"x_label\">1882-83</desc></g><g class=\"dots\"><circle cx=\"119.53846153846155\" cy=\"162.16626926199302\" r=\"0.0\" class=\"dot reactive tooltip-trigger\"/><desc class=\"value\">0</desc><desc class=\"x centered\">119.53846153846155</desc><desc class=\"y centered\">162.16626926199302</desc><desc class=\"x_label\">1884-85</desc></g><g class=\"dots\"><circle cx=\"135.9585798816568\" cy=\"162.16626926199302\" r=\"0.0\" class=\"dot reactive tooltip-trigger\"/><desc class=\"value\">0</desc><desc class=\"x centered\">135.9585798816568</desc><desc class=\"y centered\">162.16626926199302</desc><desc class=\"x_label\">1886-87</desc></g><g class=\"dots\"><circle cx=\"152.37869822485206\" cy=\"162.16626926199302\" r=\"0.0\" class=\"dot reactive tooltip-trigger\"/><desc class=\"value\">0</desc><desc class=\"x centered\">152.37869822485206</desc><desc class=\"y centered\">162.16626926199302</desc><desc class=\"x_label\">1888-89</desc></g><g class=\"dots\"><circle cx=\"168.79881656804733\" cy=\"162.16626926199302\" r=\"0.0\" class=\"dot reactive tooltip-trigger\"/><desc class=\"value\">0</desc><desc class=\"x centered\">168.79881656804733</desc><desc class=\"y centered\">162.16626926199302</desc><desc class=\"x_label\">1890-91</desc></g><g class=\"dots\"><circle cx=\"185.21893491124257\" cy=\"162.16626926199302\" r=\"0.0\" class=\"dot reactive tooltip-trigger\"/><desc class=\"value\">0</desc><desc class=\"x centered\">185.21893491124257</desc><desc class=\"y centered\">162.16626926199302</desc><desc class=\"x_label\">1892-93</desc></g><g class=\"dots\"><circle cx=\"201.63905325443784\" cy=\"162.16626926199302\" r=\"0.0\" class=\"dot reactive tooltip-trigger\"/><desc class=\"value\">0</desc><desc class=\"x centered\">201.63905325443784</desc><desc class=\"y centered\">162.16626926199302</desc><desc class=\"x_label\">1894-95</desc></g><g class=\"dots\"><circle cx=\"218.0591715976331\" cy=\"162.16626926199302\" r=\"0.0\" class=\"dot reactive tooltip-trigger\"/><desc class=\"value\">0</desc><desc class=\"x centered\">218.0591715976331</desc><desc class=\"y centered\">162.16626926199302</desc><desc class=\"x_label\">1896-97</desc></g><g class=\"dots\"><circle cx=\"234.47928994082838\" cy=\"162.16626926199302\" r=\"0.0\" class=\"dot reactive tooltip-trigger\"/><desc class=\"value\">0</desc><desc class=\"x centered\">234.47928994082838</desc><desc class=\"y centered\">162.16626926199302</desc><desc class=\"x_label\">1898-99</desc></g><g class=\"dots\"><circle cx=\"250.89940828402365\" cy=\"162.16626926199302\" r=\"0.0\" class=\"dot reactive tooltip-trigger\"/><desc class=\"value\">0</desc><desc class=\"x centered\">250.89940828402365</desc><desc class=\"y centered\">162.16626926199302</desc><desc class=\"x_label\">1900-01</desc></g><g class=\"dots\"><circle cx=\"267.319526627219\" cy=\"162.16626926199302\" r=\"0.5585074266392948\" class=\"dot reactive tooltip-trigger\"/><desc class=\"value\">1</desc><desc class=\"x centered\">267.319526627219</desc><desc class=\"y centered\">162.16626926199302</desc><desc class=\"x_label\">1902-03</desc></g><g class=\"dots\"><circle cx=\"283.73964497041425\" cy=\"162.16626926199302\" r=\"0.5585074266392948\" class=\"dot reactive tooltip-trigger\"/><desc class=\"value\">1</desc><desc class=\"x centered\">283.73964497041425</desc><desc class=\"y centered\">162.16626926199302</desc><desc class=\"x_label\">1904-05</desc></g><g class=\"dots\"><circle cx=\"300.15976331360946\" cy=\"162.16626926199302\" r=\"0.5585074266392948\" class=\"dot reactive tooltip-trigger\"/><desc class=\"value\">1</desc><desc class=\"x centered\">300.15976331360946</desc><desc class=\"y centered\">162.16626926199302</desc><desc class=\"x_label\">1906-07</desc></g><g class=\"dots\"><circle cx=\"316.57988165680473\" cy=\"162.16626926199302\" r=\"7.260596546310833\" class=\"dot reactive tooltip-trigger\"/><desc class=\"value\">13</desc><desc class=\"x centered\">316.57988165680473</desc><desc class=\"y centered\">162.16626926199302</desc><desc class=\"x_label\">1908-09</desc></g><g class=\"dots\"><circle cx=\"333.0\" cy=\"162.16626926199302\" r=\"4.468059413114358\" class=\"dot reactive tooltip-trigger\"/><desc class=\"value\">8</desc><desc class=\"x centered\">333.0</desc><desc class=\"y centered\">162.16626926199302</desc><desc class=\"x_label\">1910-11</desc></g><g class=\"dots\"><circle cx=\"349.42011834319527\" cy=\"162.16626926199302\" r=\"3.3510445598357683\" class=\"dot reactive tooltip-trigger\"/><desc class=\"value\">6</desc><desc class=\"x centered\">349.42011834319527</desc><desc class=\"y centered\">162.16626926199302</desc><desc class=\"x_label\">1912-13</desc></g><g class=\"dots\"><circle cx=\"365.84023668639054\" cy=\"162.16626926199302\" r=\"0.5585074266392948\" class=\"dot reactive tooltip-trigger\"/><desc class=\"value\">1</desc><desc class=\"x centered\">365.84023668639054</desc><desc class=\"y centered\">162.16626926199302</desc><desc class=\"x_label\">1914-15</desc></g><g class=\"dots\"><circle cx=\"382.2603550295858\" cy=\"162.16626926199302\" r=\"5.026566839753653\" class=\"dot reactive tooltip-trigger\"/><desc class=\"value\">9</desc><desc class=\"x centered\">382.2603550295858</desc><desc class=\"y centered\">162.16626926199302</desc><desc class=\"x_label\">1916-17</desc></g><g class=\"dots\"><circle cx=\"398.6804733727811\" cy=\"162.16626926199302\" r=\"3.9095519864750634\" class=\"dot reactive tooltip-trigger\"/><desc class=\"value\">7</desc><desc class=\"x centered\">398.6804733727811</desc><desc class=\"y centered\">162.16626926199302</desc><desc class=\"x_label\">1918-19</desc></g><g class=\"dots\"><circle cx=\"415.1005917159763\" cy=\"162.16626926199302\" r=\"1.6755222799178842\" class=\"dot reactive tooltip-trigger\"/><desc class=\"value\">3</desc><desc class=\"x centered\">415.1005917159763</desc><desc class=\"y centered\">162.16626926199302</desc><desc class=\"x_label\">1920-21</desc></g><g class=\"dots\"><circle cx=\"431.52071005917156\" cy=\"162.16626926199302\" r=\"0.0\" class=\"dot reactive tooltip-trigger\"/><desc class=\"value\">0</desc><desc class=\"x centered\">431.52071005917156</desc><desc class=\"y centered\">162.16626926199302</desc><desc class=\"x_label\">1922-23</desc></g><g class=\"dots\"><circle cx=\"447.94082840236683\" cy=\"162.16626926199302\" r=\"0.0\" class=\"dot reactive tooltip-trigger\"/><desc class=\"value\">0</desc><desc class=\"x centered\">447.94082840236683</desc><desc class=\"y centered\">162.16626926199302</desc><desc class=\"x_label\">1924-25</desc></g><g class=\"dots\"><circle cx=\"464.3609467455621\" cy=\"162.16626926199302\" r=\"0.0\" class=\"dot reactive tooltip-trigger\"/><desc class=\"value\">0</desc><desc class=\"x centered\">464.3609467455621</desc><desc class=\"y centered\">162.16626926199302</desc><desc class=\"x_label\">1926-27</desc></g><g class=\"dots\"><circle cx=\"480.7810650887574\" cy=\"162.16626926199302\" r=\"0.0\" class=\"dot reactive tooltip-trigger\"/><desc class=\"value\">0</desc><desc class=\"x centered\">480.7810650887574</desc><desc class=\"y centered\">162.16626926199302</desc><desc class=\"x_label\">1928-29</desc></g><g class=\"dots\"><circle cx=\"497.20118343195264\" cy=\"162.16626926199302\" r=\"0.0\" class=\"dot reactive tooltip-trigger\"/><desc class=\"value\">0</desc><desc class=\"x centered\">497.20118343195264</desc><desc class=\"y centered\">162.16626926199302</desc><desc class=\"x_label\">1930-31</desc></g><g class=\"dots\"><circle cx=\"513.6213017751479\" cy=\"162.16626926199302\" r=\"0.0\" class=\"dot reactive tooltip-trigger\"/><desc class=\"value\">0</desc><desc class=\"x centered\">513.6213017751479</desc><desc class=\"y centered\">162.16626926199302</desc><desc class=\"x_label\">1932-33</desc></g><g class=\"dots\"><circle cx=\"530.0414201183431\" cy=\"162.16626926199302\" r=\"0.0\" class=\"dot reactive tooltip-trigger\"/><desc class=\"value\">0</desc><desc class=\"x centered\">530.0414201183431</desc><desc class=\"y centered\">162.16626926199302</desc><desc class=\"x_label\">1934-35</desc></g><g class=\"dots\"><circle cx=\"546.4615384615385\" cy=\"162.16626926199302\" r=\"0.5585074266392948\" class=\"dot reactive tooltip-trigger\"/><desc class=\"value\">1</desc><desc class=\"x centered\">546.4615384615385</desc><desc class=\"y centered\">162.16626926199302</desc><desc class=\"x_label\">1936-37</desc></g><g class=\"dots\"><circle cx=\"562.8816568047337\" cy=\"162.16626926199302\" r=\"3.9095519864750634\" class=\"dot reactive tooltip-trigger\"/><desc class=\"value\">7</desc><desc class=\"x centered\">562.8816568047337</desc><desc class=\"y centered\">162.16626926199302</desc><desc class=\"x_label\">1938-39</desc></g><g class=\"dots\"><circle cx=\"579.301775147929\" cy=\"162.16626926199302\" r=\"0.0\" class=\"dot reactive tooltip-trigger\"/><desc class=\"value\">0</desc><desc class=\"x centered\">579.301775147929</desc><desc class=\"y centered\">162.16626926199302</desc><desc class=\"x_label\">1940-41</desc></g><g class=\"dots\"><circle cx=\"595.7218934911242\" cy=\"162.16626926199302\" r=\"0.0\" class=\"dot reactive tooltip-trigger\"/><desc class=\"value\">0</desc><desc class=\"x centered\">595.7218934911242</desc><desc class=\"y centered\">162.16626926199302</desc><desc class=\"x_label\">1942-43</desc></g><g class=\"dots\"><circle cx=\"612.1420118343195\" cy=\"162.16626926199302\" r=\"0.5585074266392948\" class=\"dot reactive tooltip-trigger\"/><desc class=\"value\">1</desc><desc class=\"x centered\">612.1420118343195</desc><desc class=\"y centered\">162.16626926199302</desc><desc class=\"x_label\">1944-45</desc></g><g class=\"dots\"><circle cx=\"628.5621301775147\" cy=\"162.16626926199302\" r=\"0.0\" class=\"dot reactive tooltip-trigger\"/><desc class=\"value\">0</desc><desc class=\"x centered\">628.5621301775147</desc><desc class=\"y centered\">162.16626926199302</desc><desc class=\"x_label\">1946-47</desc></g></g><g class=\"series serie-5 color-5\"><g class=\"dots\"><circle cx=\"21.01775147928994\" cy=\"196.96589785898726\" r=\"0.0\" class=\"dot reactive tooltip-trigger\"/><desc class=\"value\">0</desc><desc class=\"x centered\">21.01775147928994</desc><desc class=\"y centered\">196.96589785898726</desc><desc class=\"x_label\">1872-73</desc></g><g class=\"dots\"><circle cx=\"37.43786982248521\" cy=\"196.96589785898726\" r=\"0.0\" class=\"dot reactive tooltip-trigger\"/><desc class=\"value\">0</desc><desc class=\"x centered\">37.43786982248521</desc><desc class=\"y centered\">196.96589785898726</desc><desc class=\"x_label\">1874-75</desc></g><g class=\"dots\"><circle cx=\"53.85798816568047\" cy=\"196.96589785898726\" r=\"0.0\" class=\"dot reactive tooltip-trigger\"/><desc class=\"value\">0</desc><desc class=\"x centered\">53.85798816568047</desc><desc class=\"y centered\">196.96589785898726</desc><desc class=\"x_label\">1876-77</desc></g><g class=\"dots\"><circle cx=\"70.27810650887574\" cy=\"196.96589785898726\" r=\"0.0\" class=\"dot reactive tooltip-trigger\"/><desc class=\"value\">0</desc><desc class=\"x centered\">70.27810650887574</desc><desc class=\"y centered\">196.96589785898726</desc><desc class=\"x_label\">1878-79</desc></g><g class=\"dots\"><circle cx=\"86.69822485207101\" cy=\"196.96589785898726\" r=\"0.0\" class=\"dot reactive tooltip-trigger\"/><desc class=\"value\">0</desc><desc class=\"x centered\">86.69822485207101</desc><desc class=\"y centered\">196.96589785898726</desc><desc class=\"x_label\">1880-81</desc></g><g class=\"dots\"><circle cx=\"103.11834319526628\" cy=\"196.96589785898726\" r=\"0.0\" class=\"dot reactive tooltip-trigger\"/><desc class=\"value\">0</desc><desc class=\"x centered\">103.11834319526628</desc><desc class=\"y centered\">196.96589785898726</desc><desc class=\"x_label\">1882-83</desc></g><g class=\"dots\"><circle cx=\"119.53846153846155\" cy=\"196.96589785898726\" r=\"0.0\" class=\"dot reactive tooltip-trigger\"/><desc class=\"value\">0</desc><desc class=\"x centered\">119.53846153846155</desc><desc class=\"y centered\">196.96589785898726</desc><desc class=\"x_label\">1884-85</desc></g><g class=\"dots\"><circle cx=\"135.9585798816568\" cy=\"196.96589785898726\" r=\"0.0\" class=\"dot reactive tooltip-trigger\"/><desc class=\"value\">0</desc><desc class=\"x centered\">135.9585798816568</desc><desc class=\"y centered\">196.96589785898726</desc><desc class=\"x_label\">1886-87</desc></g><g class=\"dots\"><circle cx=\"152.37869822485206\" cy=\"196.96589785898726\" r=\"0.0\" class=\"dot reactive tooltip-trigger\"/><desc class=\"value\">0</desc><desc class=\"x centered\">152.37869822485206</desc><desc class=\"y centered\">196.96589785898726</desc><desc class=\"x_label\">1888-89</desc></g><g class=\"dots\"><circle cx=\"168.79881656804733\" cy=\"196.96589785898726\" r=\"0.0\" class=\"dot reactive tooltip-trigger\"/><desc class=\"value\">0</desc><desc class=\"x centered\">168.79881656804733</desc><desc class=\"y centered\">196.96589785898726</desc><desc class=\"x_label\">1890-91</desc></g><g class=\"dots\"><circle cx=\"185.21893491124257\" cy=\"196.96589785898726\" r=\"0.5585074266392948\" class=\"dot reactive tooltip-trigger\"/><desc class=\"value\">1</desc><desc class=\"x centered\">185.21893491124257</desc><desc class=\"y centered\">196.96589785898726</desc><desc class=\"x_label\">1892-93</desc></g><g class=\"dots\"><circle cx=\"201.63905325443784\" cy=\"196.96589785898726\" r=\"1.1170148532785895\" class=\"dot reactive tooltip-trigger\"/><desc class=\"value\">2</desc><desc class=\"x centered\">201.63905325443784</desc><desc class=\"y centered\">196.96589785898726</desc><desc class=\"x_label\">1894-95</desc></g><g class=\"dots\"><circle cx=\"218.0591715976331\" cy=\"196.96589785898726\" r=\"0.0\" class=\"dot reactive tooltip-trigger\"/><desc class=\"value\">0</desc><desc class=\"x centered\">218.0591715976331</desc><desc class=\"y centered\">196.96589785898726</desc><desc class=\"x_label\">1896-97</desc></g><g class=\"dots\"><circle cx=\"234.47928994082838\" cy=\"196.96589785898726\" r=\"0.0\" class=\"dot reactive tooltip-trigger\"/><desc class=\"value\">0</desc><desc class=\"x centered\">234.47928994082838</desc><desc class=\"y centered\">196.96589785898726</desc><desc class=\"x_label\">1898-99</desc></g><g class=\"dots\"><circle cx=\"250.89940828402365\" cy=\"196.96589785898726\" r=\"0.0\" class=\"dot reactive tooltip-trigger\"/><desc class=\"value\">0</desc><desc class=\"x centered\">250.89940828402365</desc><desc class=\"y centered\">196.96589785898726</desc><desc class=\"x_label\">1900-01</desc></g><g class=\"dots\"><circle cx=\"267.319526627219\" cy=\"196.96589785898726\" r=\"0.0\" class=\"dot reactive tooltip-trigger\"/><desc class=\"value\">0</desc><desc class=\"x centered\">267.319526627219</desc><desc class=\"y centered\">196.96589785898726</desc><desc class=\"x_label\">1902-03</desc></g><g class=\"dots\"><circle cx=\"283.73964497041425\" cy=\"196.96589785898726\" r=\"0.5585074266392948\" class=\"dot reactive tooltip-trigger\"/><desc class=\"value\">1</desc><desc class=\"x centered\">283.73964497041425</desc><desc class=\"y centered\">196.96589785898726</desc><desc class=\"x_label\">1904-05</desc></g><g class=\"dots\"><circle cx=\"300.15976331360946\" cy=\"196.96589785898726\" r=\"6.702089119671537\" class=\"dot reactive tooltip-trigger\"/><desc class=\"value\">12</desc><desc class=\"x centered\">300.15976331360946</desc><desc class=\"y centered\">196.96589785898726</desc><desc class=\"x_label\">1906-07</desc></g><g class=\"dots\"><circle cx=\"316.57988165680473\" cy=\"196.96589785898726\" r=\"0.0\" class=\"dot reactive tooltip-trigger\"/><desc class=\"value\">0</desc><desc class=\"x centered\">316.57988165680473</desc><desc class=\"y centered\">196.96589785898726</desc><desc class=\"x_label\">1908-09</desc></g><g class=\"dots\"><circle cx=\"333.0\" cy=\"196.96589785898726\" r=\"2.234029706557179\" class=\"dot reactive tooltip-trigger\"/><desc class=\"value\">4</desc><desc class=\"x centered\">333.0</desc><desc class=\"y centered\">196.96589785898726</desc><desc class=\"x_label\">1910-11</desc></g><g class=\"dots\"><circle cx=\"349.42011834319527\" cy=\"196.96589785898726\" r=\"0.0\" class=\"dot reactive tooltip-trigger\"/><desc class=\"value\">0</desc><desc class=\"x centered\">349.42011834319527</desc><desc class=\"y centered\">196.96589785898726</desc><desc class=\"x_label\">1912-13</desc></g><g class=\"dots\"><circle cx=\"365.84023668639054\" cy=\"196.96589785898726\" r=\"0.0\" class=\"dot reactive tooltip-trigger\"/><desc class=\"value\">0</desc><desc class=\"x centered\">365.84023668639054</desc><desc class=\"y centered\">196.96589785898726</desc><desc class=\"x_label\">1914-15</desc></g><g class=\"dots\"><circle cx=\"382.2603550295858\" cy=\"196.96589785898726\" r=\"0.0\" class=\"dot reactive tooltip-trigger\"/><desc class=\"value\">0</desc><desc class=\"x centered\">382.2603550295858</desc><desc class=\"y centered\">196.96589785898726</desc><desc class=\"x_label\">1916-17</desc></g><g class=\"dots\"><circle cx=\"398.6804733727811\" cy=\"196.96589785898726\" r=\"0.0\" class=\"dot reactive tooltip-trigger\"/><desc class=\"value\">0</desc><desc class=\"x centered\">398.6804733727811</desc><desc class=\"y centered\">196.96589785898726</desc><desc class=\"x_label\">1918-19</desc></g><g class=\"dots\"><circle cx=\"415.1005917159763\" cy=\"196.96589785898726\" r=\"0.0\" class=\"dot reactive tooltip-trigger\"/><desc class=\"value\">0</desc><desc class=\"x centered\">415.1005917159763</desc><desc class=\"y centered\">196.96589785898726</desc><desc class=\"x_label\">1920-21</desc></g><g class=\"dots\"><circle cx=\"431.52071005917156\" cy=\"196.96589785898726\" r=\"0.0\" class=\"dot reactive tooltip-trigger\"/><desc class=\"value\">0</desc><desc class=\"x centered\">431.52071005917156</desc><desc class=\"y centered\">196.96589785898726</desc><desc class=\"x_label\">1922-23</desc></g><g class=\"dots\"><circle cx=\"447.94082840236683\" cy=\"196.96589785898726\" r=\"0.0\" class=\"dot reactive tooltip-trigger\"/><desc class=\"value\">0</desc><desc class=\"x centered\">447.94082840236683</desc><desc class=\"y centered\">196.96589785898726</desc><desc class=\"x_label\">1924-25</desc></g><g class=\"dots\"><circle cx=\"464.3609467455621\" cy=\"196.96589785898726\" r=\"0.0\" class=\"dot reactive tooltip-trigger\"/><desc class=\"value\">0</desc><desc class=\"x centered\">464.3609467455621</desc><desc class=\"y centered\">196.96589785898726</desc><desc class=\"x_label\">1926-27</desc></g><g class=\"dots\"><circle cx=\"480.7810650887574\" cy=\"196.96589785898726\" r=\"0.0\" class=\"dot reactive tooltip-trigger\"/><desc class=\"value\">0</desc><desc class=\"x centered\">480.7810650887574</desc><desc class=\"y centered\">196.96589785898726</desc><desc class=\"x_label\">1928-29</desc></g><g class=\"dots\"><circle cx=\"497.20118343195264\" cy=\"196.96589785898726\" r=\"0.0\" class=\"dot reactive tooltip-trigger\"/><desc class=\"value\">0</desc><desc class=\"x centered\">497.20118343195264</desc><desc class=\"y centered\">196.96589785898726</desc><desc class=\"x_label\">1930-31</desc></g><g class=\"dots\"><circle cx=\"513.6213017751479\" cy=\"196.96589785898726\" r=\"0.0\" class=\"dot reactive tooltip-trigger\"/><desc class=\"value\">0</desc><desc class=\"x centered\">513.6213017751479</desc><desc class=\"y centered\">196.96589785898726</desc><desc class=\"x_label\">1932-33</desc></g><g class=\"dots\"><circle cx=\"530.0414201183431\" cy=\"196.96589785898726\" r=\"0.0\" class=\"dot reactive tooltip-trigger\"/><desc class=\"value\">0</desc><desc class=\"x centered\">530.0414201183431</desc><desc class=\"y centered\">196.96589785898726</desc><desc class=\"x_label\">1934-35</desc></g><g class=\"dots\"><circle cx=\"546.4615384615385\" cy=\"196.96589785898726\" r=\"0.5585074266392948\" class=\"dot reactive tooltip-trigger\"/><desc class=\"value\">1</desc><desc class=\"x centered\">546.4615384615385</desc><desc class=\"y centered\">196.96589785898726</desc><desc class=\"x_label\">1936-37</desc></g><g class=\"dots\"><circle cx=\"562.8816568047337\" cy=\"196.96589785898726\" r=\"0.0\" class=\"dot reactive tooltip-trigger\"/><desc class=\"value\">0</desc><desc class=\"x centered\">562.8816568047337</desc><desc class=\"y centered\">196.96589785898726</desc><desc class=\"x_label\">1938-39</desc></g><g class=\"dots\"><circle cx=\"579.301775147929\" cy=\"196.96589785898726\" r=\"0.0\" class=\"dot reactive tooltip-trigger\"/><desc class=\"value\">0</desc><desc class=\"x centered\">579.301775147929</desc><desc class=\"y centered\">196.96589785898726</desc><desc class=\"x_label\">1940-41</desc></g><g class=\"dots\"><circle cx=\"595.7218934911242\" cy=\"196.96589785898726\" r=\"0.0\" class=\"dot reactive tooltip-trigger\"/><desc class=\"value\">0</desc><desc class=\"x centered\">595.7218934911242</desc><desc class=\"y centered\">196.96589785898726</desc><desc class=\"x_label\">1942-43</desc></g><g class=\"dots\"><circle cx=\"612.1420118343195\" cy=\"196.96589785898726\" r=\"0.0\" class=\"dot reactive tooltip-trigger\"/><desc class=\"value\">0</desc><desc class=\"x centered\">612.1420118343195</desc><desc class=\"y centered\">196.96589785898726</desc><desc class=\"x_label\">1944-45</desc></g><g class=\"dots\"><circle cx=\"628.5621301775147\" cy=\"196.96589785898726\" r=\"0.0\" class=\"dot reactive tooltip-trigger\"/><desc class=\"value\">0</desc><desc class=\"x centered\">628.5621301775147</desc><desc class=\"y centered\">196.96589785898726</desc><desc class=\"x_label\">1946-47</desc></g></g><g class=\"series serie-6 color-6\"><g class=\"dots\"><circle cx=\"21.01775147928994\" cy=\"231.76552645598147\" r=\"0.0\" class=\"dot reactive tooltip-trigger\"/><desc class=\"value\">0</desc><desc class=\"x centered\">21.01775147928994</desc><desc class=\"y centered\">231.76552645598147</desc><desc class=\"x_label\">1872-73</desc></g><g class=\"dots\"><circle cx=\"37.43786982248521\" cy=\"231.76552645598147\" r=\"0.0\" class=\"dot reactive tooltip-trigger\"/><desc class=\"value\">0</desc><desc class=\"x centered\">37.43786982248521</desc><desc class=\"y centered\">231.76552645598147</desc><desc class=\"x_label\">1874-75</desc></g><g class=\"dots\"><circle cx=\"53.85798816568047\" cy=\"231.76552645598147\" r=\"0.0\" class=\"dot reactive tooltip-trigger\"/><desc class=\"value\">0</desc><desc class=\"x centered\">53.85798816568047</desc><desc class=\"y centered\">231.76552645598147</desc><desc class=\"x_label\">1876-77</desc></g><g class=\"dots\"><circle cx=\"70.27810650887574\" cy=\"231.76552645598147\" r=\"0.0\" class=\"dot reactive tooltip-trigger\"/><desc class=\"value\">0</desc><desc class=\"x centered\">70.27810650887574</desc><desc class=\"y centered\">231.76552645598147</desc><desc class=\"x_label\">1878-79</desc></g><g class=\"dots\"><circle cx=\"86.69822485207101\" cy=\"231.76552645598147\" r=\"0.0\" class=\"dot reactive tooltip-trigger\"/><desc class=\"value\">0</desc><desc class=\"x centered\">86.69822485207101</desc><desc class=\"y centered\">231.76552645598147</desc><desc class=\"x_label\">1880-81</desc></g><g class=\"dots\"><circle cx=\"103.11834319526628\" cy=\"231.76552645598147\" r=\"0.0\" class=\"dot reactive tooltip-trigger\"/><desc class=\"value\">0</desc><desc class=\"x centered\">103.11834319526628</desc><desc class=\"y centered\">231.76552645598147</desc><desc class=\"x_label\">1882-83</desc></g><g class=\"dots\"><circle cx=\"119.53846153846155\" cy=\"231.76552645598147\" r=\"0.0\" class=\"dot reactive tooltip-trigger\"/><desc class=\"value\">0</desc><desc class=\"x centered\">119.53846153846155</desc><desc class=\"y centered\">231.76552645598147</desc><desc class=\"x_label\">1884-85</desc></g><g class=\"dots\"><circle cx=\"135.9585798816568\" cy=\"231.76552645598147\" r=\"0.0\" class=\"dot reactive tooltip-trigger\"/><desc class=\"value\">0</desc><desc class=\"x centered\">135.9585798816568</desc><desc class=\"y centered\">231.76552645598147</desc><desc class=\"x_label\">1886-87</desc></g><g class=\"dots\"><circle cx=\"152.37869822485206\" cy=\"231.76552645598147\" r=\"0.0\" class=\"dot reactive tooltip-trigger\"/><desc class=\"value\">0</desc><desc class=\"x centered\">152.37869822485206</desc><desc class=\"y centered\">231.76552645598147</desc><desc class=\"x_label\">1888-89</desc></g><g class=\"dots\"><circle cx=\"168.79881656804733\" cy=\"231.76552645598147\" r=\"0.0\" class=\"dot reactive tooltip-trigger\"/><desc class=\"value\">0</desc><desc class=\"x centered\">168.79881656804733</desc><desc class=\"y centered\">231.76552645598147</desc><desc class=\"x_label\">1890-91</desc></g><g class=\"dots\"><circle cx=\"185.21893491124257\" cy=\"231.76552645598147\" r=\"0.0\" class=\"dot reactive tooltip-trigger\"/><desc class=\"value\">0</desc><desc class=\"x centered\">185.21893491124257</desc><desc class=\"y centered\">231.76552645598147</desc><desc class=\"x_label\">1892-93</desc></g><g class=\"dots\"><circle cx=\"201.63905325443784\" cy=\"231.76552645598147\" r=\"1.1170148532785895\" class=\"dot reactive tooltip-trigger\"/><desc class=\"value\">2</desc><desc class=\"x centered\">201.63905325443784</desc><desc class=\"y centered\">231.76552645598147</desc><desc class=\"x_label\">1894-95</desc></g><g class=\"dots\"><circle cx=\"218.0591715976331\" cy=\"231.76552645598147\" r=\"0.0\" class=\"dot reactive tooltip-trigger\"/><desc class=\"value\">0</desc><desc class=\"x centered\">218.0591715976331</desc><desc class=\"y centered\">231.76552645598147</desc><desc class=\"x_label\">1896-97</desc></g><g class=\"dots\"><circle cx=\"234.47928994082838\" cy=\"231.76552645598147\" r=\"0.0\" class=\"dot reactive tooltip-trigger\"/><desc class=\"value\">0</desc><desc class=\"x centered\">234.47928994082838</desc><desc class=\"y centered\">231.76552645598147</desc><desc class=\"x_label\">1898-99</desc></g><g class=\"dots\"><circle cx=\"250.89940828402365\" cy=\"231.76552645598147\" r=\"0.0\" class=\"dot reactive tooltip-trigger\"/><desc class=\"value\">0</desc><desc class=\"x centered\">250.89940828402365</desc><desc class=\"y centered\">231.76552645598147</desc><desc class=\"x_label\">1900-01</desc></g><g class=\"dots\"><circle cx=\"267.319526627219\" cy=\"231.76552645598147\" r=\"0.0\" class=\"dot reactive tooltip-trigger\"/><desc class=\"value\">0</desc><desc class=\"x centered\">267.319526627219</desc><desc class=\"y centered\">231.76552645598147</desc><desc class=\"x_label\">1902-03</desc></g><g class=\"dots\"><circle cx=\"283.73964497041425\" cy=\"231.76552645598147\" r=\"0.0\" class=\"dot reactive tooltip-trigger\"/><desc class=\"value\">0</desc><desc class=\"x centered\">283.73964497041425</desc><desc class=\"y centered\">231.76552645598147</desc><desc class=\"x_label\">1904-05</desc></g><g class=\"dots\"><circle cx=\"300.15976331360946\" cy=\"231.76552645598147\" r=\"7.819103972950127\" class=\"dot reactive tooltip-trigger\"/><desc class=\"value\">14</desc><desc class=\"x centered\">300.15976331360946</desc><desc class=\"y centered\">231.76552645598147</desc><desc class=\"x_label\">1906-07</desc></g><g class=\"dots\"><circle cx=\"316.57988165680473\" cy=\"231.76552645598147\" r=\"0.0\" class=\"dot reactive tooltip-trigger\"/><desc class=\"value\">0</desc><desc class=\"x centered\">316.57988165680473</desc><desc class=\"y centered\">231.76552645598147</desc><desc class=\"x_label\">1908-09</desc></g><g class=\"dots\"><circle cx=\"333.0\" cy=\"231.76552645598147\" r=\"0.0\" class=\"dot reactive tooltip-trigger\"/><desc class=\"value\">0</desc><desc class=\"x centered\">333.0</desc><desc class=\"y centered\">231.76552645598147</desc><desc class=\"x_label\">1910-11</desc></g><g class=\"dots\"><circle cx=\"349.42011834319527\" cy=\"231.76552645598147\" r=\"0.0\" class=\"dot reactive tooltip-trigger\"/><desc class=\"value\">0</desc><desc class=\"x centered\">349.42011834319527</desc><desc class=\"y centered\">231.76552645598147</desc><desc class=\"x_label\">1912-13</desc></g><g class=\"dots\"><circle cx=\"365.84023668639054\" cy=\"231.76552645598147\" r=\"0.0\" class=\"dot reactive tooltip-trigger\"/><desc class=\"value\">0</desc><desc class=\"x centered\">365.84023668639054</desc><desc class=\"y centered\">231.76552645598147</desc><desc class=\"x_label\">1914-15</desc></g><g class=\"dots\"><circle cx=\"382.2603550295858\" cy=\"231.76552645598147\" r=\"0.0\" class=\"dot reactive tooltip-trigger\"/><desc class=\"value\">0</desc><desc class=\"x centered\">382.2603550295858</desc><desc class=\"y centered\">231.76552645598147</desc><desc class=\"x_label\">1916-17</desc></g><g class=\"dots\"><circle cx=\"398.6804733727811\" cy=\"231.76552645598147\" r=\"0.0\" class=\"dot reactive tooltip-trigger\"/><desc class=\"value\">0</desc><desc class=\"x centered\">398.6804733727811</desc><desc class=\"y centered\">231.76552645598147</desc><desc class=\"x_label\">1918-19</desc></g><g class=\"dots\"><circle cx=\"415.1005917159763\" cy=\"231.76552645598147\" r=\"0.0\" class=\"dot reactive tooltip-trigger\"/><desc class=\"value\">0</desc><desc class=\"x centered\">415.1005917159763</desc><desc class=\"y centered\">231.76552645598147</desc><desc class=\"x_label\">1920-21</desc></g><g class=\"dots\"><circle cx=\"431.52071005917156\" cy=\"231.76552645598147\" r=\"0.0\" class=\"dot reactive tooltip-trigger\"/><desc class=\"value\">0</desc><desc class=\"x centered\">431.52071005917156</desc><desc class=\"y centered\">231.76552645598147</desc><desc class=\"x_label\">1922-23</desc></g><g class=\"dots\"><circle cx=\"447.94082840236683\" cy=\"231.76552645598147\" r=\"0.0\" class=\"dot reactive tooltip-trigger\"/><desc class=\"value\">0</desc><desc class=\"x centered\">447.94082840236683</desc><desc class=\"y centered\">231.76552645598147</desc><desc class=\"x_label\">1924-25</desc></g><g class=\"dots\"><circle cx=\"464.3609467455621\" cy=\"231.76552645598147\" r=\"0.0\" class=\"dot reactive tooltip-trigger\"/><desc class=\"value\">0</desc><desc class=\"x centered\">464.3609467455621</desc><desc class=\"y centered\">231.76552645598147</desc><desc class=\"x_label\">1926-27</desc></g><g class=\"dots\"><circle cx=\"480.7810650887574\" cy=\"231.76552645598147\" r=\"0.0\" class=\"dot reactive tooltip-trigger\"/><desc class=\"value\">0</desc><desc class=\"x centered\">480.7810650887574</desc><desc class=\"y centered\">231.76552645598147</desc><desc class=\"x_label\">1928-29</desc></g><g class=\"dots\"><circle cx=\"497.20118343195264\" cy=\"231.76552645598147\" r=\"0.0\" class=\"dot reactive tooltip-trigger\"/><desc class=\"value\">0</desc><desc class=\"x centered\">497.20118343195264</desc><desc class=\"y centered\">231.76552645598147</desc><desc class=\"x_label\">1930-31</desc></g><g class=\"dots\"><circle cx=\"513.6213017751479\" cy=\"231.76552645598147\" r=\"0.0\" class=\"dot reactive tooltip-trigger\"/><desc class=\"value\">0</desc><desc class=\"x centered\">513.6213017751479</desc><desc class=\"y centered\">231.76552645598147</desc><desc class=\"x_label\">1932-33</desc></g><g class=\"dots\"><circle cx=\"530.0414201183431\" cy=\"231.76552645598147\" r=\"0.0\" class=\"dot reactive tooltip-trigger\"/><desc class=\"value\">0</desc><desc class=\"x centered\">530.0414201183431</desc><desc class=\"y centered\">231.76552645598147</desc><desc class=\"x_label\">1934-35</desc></g><g class=\"dots\"><circle cx=\"546.4615384615385\" cy=\"231.76552645598147\" r=\"0.0\" class=\"dot reactive tooltip-trigger\"/><desc class=\"value\">0</desc><desc class=\"x centered\">546.4615384615385</desc><desc class=\"y centered\">231.76552645598147</desc><desc class=\"x_label\">1936-37</desc></g><g class=\"dots\"><circle cx=\"562.8816568047337\" cy=\"231.76552645598147\" r=\"0.0\" class=\"dot reactive tooltip-trigger\"/><desc class=\"value\">0</desc><desc class=\"x centered\">562.8816568047337</desc><desc class=\"y centered\">231.76552645598147</desc><desc class=\"x_label\">1938-39</desc></g><g class=\"dots\"><circle cx=\"579.301775147929\" cy=\"231.76552645598147\" r=\"0.0\" class=\"dot reactive tooltip-trigger\"/><desc class=\"value\">0</desc><desc class=\"x centered\">579.301775147929</desc><desc class=\"y centered\">231.76552645598147</desc><desc class=\"x_label\">1940-41</desc></g><g class=\"dots\"><circle cx=\"595.7218934911242\" cy=\"231.76552645598147\" r=\"0.0\" class=\"dot reactive tooltip-trigger\"/><desc class=\"value\">0</desc><desc class=\"x centered\">595.7218934911242</desc><desc class=\"y centered\">231.76552645598147</desc><desc class=\"x_label\">1942-43</desc></g><g class=\"dots\"><circle cx=\"612.1420118343195\" cy=\"231.76552645598147\" r=\"0.0\" class=\"dot reactive tooltip-trigger\"/><desc class=\"value\">0</desc><desc class=\"x centered\">612.1420118343195</desc><desc class=\"y centered\">231.76552645598147</desc><desc class=\"x_label\">1944-45</desc></g><g class=\"dots\"><circle cx=\"628.5621301775147\" cy=\"231.76552645598147\" r=\"0.0\" class=\"dot reactive tooltip-trigger\"/><desc class=\"value\">0</desc><desc class=\"x centered\">628.5621301775147</desc><desc class=\"y centered\">231.76552645598147</desc><desc class=\"x_label\">1946-47</desc></g></g><g class=\"series serie-7 color-7\"><g class=\"dots\"><circle cx=\"21.01775147928994\" cy=\"266.5651550529757\" r=\"0.0\" class=\"dot reactive tooltip-trigger\"/><desc class=\"value\">0</desc><desc class=\"x centered\">21.01775147928994</desc><desc class=\"y centered\">266.5651550529757</desc><desc class=\"x_label\">1872-73</desc></g><g class=\"dots\"><circle cx=\"37.43786982248521\" cy=\"266.5651550529757\" r=\"0.0\" class=\"dot reactive tooltip-trigger\"/><desc class=\"value\">0</desc><desc class=\"x centered\">37.43786982248521</desc><desc class=\"y centered\">266.5651550529757</desc><desc class=\"x_label\">1874-75</desc></g><g class=\"dots\"><circle cx=\"53.85798816568047\" cy=\"266.5651550529757\" r=\"0.0\" class=\"dot reactive tooltip-trigger\"/><desc class=\"value\">0</desc><desc class=\"x centered\">53.85798816568047</desc><desc class=\"y centered\">266.5651550529757</desc><desc class=\"x_label\">1876-77</desc></g><g class=\"dots\"><circle cx=\"70.27810650887574\" cy=\"266.5651550529757\" r=\"0.0\" class=\"dot reactive tooltip-trigger\"/><desc class=\"value\">0</desc><desc class=\"x centered\">70.27810650887574</desc><desc class=\"y centered\">266.5651550529757</desc><desc class=\"x_label\">1878-79</desc></g><g class=\"dots\"><circle cx=\"86.69822485207101\" cy=\"266.5651550529757\" r=\"0.0\" class=\"dot reactive tooltip-trigger\"/><desc class=\"value\">0</desc><desc class=\"x centered\">86.69822485207101</desc><desc class=\"y centered\">266.5651550529757</desc><desc class=\"x_label\">1880-81</desc></g><g class=\"dots\"><circle cx=\"103.11834319526628\" cy=\"266.5651550529757\" r=\"0.0\" class=\"dot reactive tooltip-trigger\"/><desc class=\"value\">0</desc><desc class=\"x centered\">103.11834319526628</desc><desc class=\"y centered\">266.5651550529757</desc><desc class=\"x_label\">1882-83</desc></g><g class=\"dots\"><circle cx=\"119.53846153846155\" cy=\"266.5651550529757\" r=\"0.0\" class=\"dot reactive tooltip-trigger\"/><desc class=\"value\">0</desc><desc class=\"x centered\">119.53846153846155</desc><desc class=\"y centered\">266.5651550529757</desc><desc class=\"x_label\">1884-85</desc></g><g class=\"dots\"><circle cx=\"135.9585798816568\" cy=\"266.5651550529757\" r=\"0.0\" class=\"dot reactive tooltip-trigger\"/><desc class=\"value\">0</desc><desc class=\"x centered\">135.9585798816568</desc><desc class=\"y centered\">266.5651550529757</desc><desc class=\"x_label\">1886-87</desc></g><g class=\"dots\"><circle cx=\"152.37869822485206\" cy=\"266.5651550529757\" r=\"0.0\" class=\"dot reactive tooltip-trigger\"/><desc class=\"value\">0</desc><desc class=\"x centered\">152.37869822485206</desc><desc class=\"y centered\">266.5651550529757</desc><desc class=\"x_label\">1888-89</desc></g><g class=\"dots\"><circle cx=\"168.79881656804733\" cy=\"266.5651550529757\" r=\"0.0\" class=\"dot reactive tooltip-trigger\"/><desc class=\"value\">0</desc><desc class=\"x centered\">168.79881656804733</desc><desc class=\"y centered\">266.5651550529757</desc><desc class=\"x_label\">1890-91</desc></g><g class=\"dots\"><circle cx=\"185.21893491124257\" cy=\"266.5651550529757\" r=\"0.0\" class=\"dot reactive tooltip-trigger\"/><desc class=\"value\">0</desc><desc class=\"x centered\">185.21893491124257</desc><desc class=\"y centered\">266.5651550529757</desc><desc class=\"x_label\">1892-93</desc></g><g class=\"dots\"><circle cx=\"201.63905325443784\" cy=\"266.5651550529757\" r=\"0.0\" class=\"dot reactive tooltip-trigger\"/><desc class=\"value\">0</desc><desc class=\"x centered\">201.63905325443784</desc><desc class=\"y centered\">266.5651550529757</desc><desc class=\"x_label\">1894-95</desc></g><g class=\"dots\"><circle cx=\"218.0591715976331\" cy=\"266.5651550529757\" r=\"0.0\" class=\"dot reactive tooltip-trigger\"/><desc class=\"value\">0</desc><desc class=\"x centered\">218.0591715976331</desc><desc class=\"y centered\">266.5651550529757</desc><desc class=\"x_label\">1896-97</desc></g><g class=\"dots\"><circle cx=\"234.47928994082838\" cy=\"266.5651550529757\" r=\"0.0\" class=\"dot reactive tooltip-trigger\"/><desc class=\"value\">0</desc><desc class=\"x centered\">234.47928994082838</desc><desc class=\"y centered\">266.5651550529757</desc><desc class=\"x_label\">1898-99</desc></g><g class=\"dots\"><circle cx=\"250.89940828402365\" cy=\"266.5651550529757\" r=\"0.0\" class=\"dot reactive tooltip-trigger\"/><desc class=\"value\">0</desc><desc class=\"x centered\">250.89940828402365</desc><desc class=\"y centered\">266.5651550529757</desc><desc class=\"x_label\">1900-01</desc></g><g class=\"dots\"><circle cx=\"267.319526627219\" cy=\"266.5651550529757\" r=\"0.0\" class=\"dot reactive tooltip-trigger\"/><desc class=\"value\">0</desc><desc class=\"x centered\">267.319526627219</desc><desc class=\"y centered\">266.5651550529757</desc><desc class=\"x_label\">1902-03</desc></g><g class=\"dots\"><circle cx=\"283.73964497041425\" cy=\"266.5651550529757\" r=\"0.0\" class=\"dot reactive tooltip-trigger\"/><desc class=\"value\">0</desc><desc class=\"x centered\">283.73964497041425</desc><desc class=\"y centered\">266.5651550529757</desc><desc class=\"x_label\">1904-05</desc></g><g class=\"dots\"><circle cx=\"300.15976331360946\" cy=\"266.5651550529757\" r=\"4.468059413114358\" class=\"dot reactive tooltip-trigger\"/><desc class=\"value\">8</desc><desc class=\"x centered\">300.15976331360946</desc><desc class=\"y centered\">266.5651550529757</desc><desc class=\"x_label\">1906-07</desc></g><g class=\"dots\"><circle cx=\"316.57988165680473\" cy=\"266.5651550529757\" r=\"4.468059413114358\" class=\"dot reactive tooltip-trigger\"/><desc class=\"value\">8</desc><desc class=\"x centered\">316.57988165680473</desc><desc class=\"y centered\">266.5651550529757</desc><desc class=\"x_label\">1908-09</desc></g><g class=\"dots\"><circle cx=\"333.0\" cy=\"266.5651550529757\" r=\"0.5585074266392948\" class=\"dot reactive tooltip-trigger\"/><desc class=\"value\">1</desc><desc class=\"x centered\">333.0</desc><desc class=\"y centered\">266.5651550529757</desc><desc class=\"x_label\">1910-11</desc></g><g class=\"dots\"><circle cx=\"349.42011834319527\" cy=\"266.5651550529757\" r=\"1.1170148532785895\" class=\"dot reactive tooltip-trigger\"/><desc class=\"value\">2</desc><desc class=\"x centered\">349.42011834319527</desc><desc class=\"y centered\">266.5651550529757</desc><desc class=\"x_label\">1912-13</desc></g><g class=\"dots\"><circle cx=\"365.84023668639054\" cy=\"266.5651550529757\" r=\"3.9095519864750634\" class=\"dot reactive tooltip-trigger\"/><desc class=\"value\">7</desc><desc class=\"x centered\">365.84023668639054</desc><desc class=\"y centered\">266.5651550529757</desc><desc class=\"x_label\">1914-15</desc></g><g class=\"dots\"><circle cx=\"382.2603550295858\" cy=\"266.5651550529757\" r=\"3.9095519864750634\" class=\"dot reactive tooltip-trigger\"/><desc class=\"value\">7</desc><desc class=\"x centered\">382.2603550295858</desc><desc class=\"y centered\">266.5651550529757</desc><desc class=\"x_label\">1916-17</desc></g><g class=\"dots\"><circle cx=\"398.6804733727811\" cy=\"266.5651550529757\" r=\"0.5585074266392948\" class=\"dot reactive tooltip-trigger\"/><desc class=\"value\">1</desc><desc class=\"x centered\">398.6804733727811</desc><desc class=\"y centered\">266.5651550529757</desc><desc class=\"x_label\">1918-19</desc></g><g class=\"dots\"><circle cx=\"415.1005917159763\" cy=\"266.5651550529757\" r=\"1.6755222799178842\" class=\"dot reactive tooltip-trigger\"/><desc class=\"value\">3</desc><desc class=\"x centered\">415.1005917159763</desc><desc class=\"y centered\">266.5651550529757</desc><desc class=\"x_label\">1920-21</desc></g><g class=\"dots\"><circle cx=\"431.52071005917156\" cy=\"266.5651550529757\" r=\"0.0\" class=\"dot reactive tooltip-trigger\"/><desc class=\"value\">0</desc><desc class=\"x centered\">431.52071005917156</desc><desc class=\"y centered\">266.5651550529757</desc><desc class=\"x_label\">1922-23</desc></g><g class=\"dots\"><circle cx=\"447.94082840236683\" cy=\"266.5651550529757\" r=\"0.5585074266392948\" class=\"dot reactive tooltip-trigger\"/><desc class=\"value\">1</desc><desc class=\"x centered\">447.94082840236683</desc><desc class=\"y centered\">266.5651550529757</desc><desc class=\"x_label\">1924-25</desc></g><g class=\"dots\"><circle cx=\"464.3609467455621\" cy=\"266.5651550529757\" r=\"0.0\" class=\"dot reactive tooltip-trigger\"/><desc class=\"value\">0</desc><desc class=\"x centered\">464.3609467455621</desc><desc class=\"y centered\">266.5651550529757</desc><desc class=\"x_label\">1926-27</desc></g><g class=\"dots\"><circle cx=\"480.7810650887574\" cy=\"266.5651550529757\" r=\"0.0\" class=\"dot reactive tooltip-trigger\"/><desc class=\"value\">0</desc><desc class=\"x centered\">480.7810650887574</desc><desc class=\"y centered\">266.5651550529757</desc><desc class=\"x_label\">1928-29</desc></g><g class=\"dots\"><circle cx=\"497.20118343195264\" cy=\"266.5651550529757\" r=\"0.5585074266392948\" class=\"dot reactive tooltip-trigger\"/><desc class=\"value\">1</desc><desc class=\"x centered\">497.20118343195264</desc><desc class=\"y centered\">266.5651550529757</desc><desc class=\"x_label\">1930-31</desc></g><g class=\"dots\"><circle cx=\"513.6213017751479\" cy=\"266.5651550529757\" r=\"0.0\" class=\"dot reactive tooltip-trigger\"/><desc class=\"value\">0</desc><desc class=\"x centered\">513.6213017751479</desc><desc class=\"y centered\">266.5651550529757</desc><desc class=\"x_label\">1932-33</desc></g><g class=\"dots\"><circle cx=\"530.0414201183431\" cy=\"266.5651550529757\" r=\"0.0\" class=\"dot reactive tooltip-trigger\"/><desc class=\"value\">0</desc><desc class=\"x centered\">530.0414201183431</desc><desc class=\"y centered\">266.5651550529757</desc><desc class=\"x_label\">1934-35</desc></g><g class=\"dots\"><circle cx=\"546.4615384615385\" cy=\"266.5651550529757\" r=\"0.5585074266392948\" class=\"dot reactive tooltip-trigger\"/><desc class=\"value\">1</desc><desc class=\"x centered\">546.4615384615385</desc><desc class=\"y centered\">266.5651550529757</desc><desc class=\"x_label\">1936-37</desc></g><g class=\"dots\"><circle cx=\"562.8816568047337\" cy=\"266.5651550529757\" r=\"6.143581693032242\" class=\"dot reactive tooltip-trigger\"/><desc class=\"value\">11</desc><desc class=\"x centered\">562.8816568047337</desc><desc class=\"y centered\">266.5651550529757</desc><desc class=\"x_label\">1938-39</desc></g><g class=\"dots\"><circle cx=\"579.301775147929\" cy=\"266.5651550529757\" r=\"0.0\" class=\"dot reactive tooltip-trigger\"/><desc class=\"value\">0</desc><desc class=\"x centered\">579.301775147929</desc><desc class=\"y centered\">266.5651550529757</desc><desc class=\"x_label\">1940-41</desc></g><g class=\"dots\"><circle cx=\"595.7218934911242\" cy=\"266.5651550529757\" r=\"0.0\" class=\"dot reactive tooltip-trigger\"/><desc class=\"value\">0</desc><desc class=\"x centered\">595.7218934911242</desc><desc class=\"y centered\">266.5651550529757</desc><desc class=\"x_label\">1942-43</desc></g><g class=\"dots\"><circle cx=\"612.1420118343195\" cy=\"266.5651550529757\" r=\"0.0\" class=\"dot reactive tooltip-trigger\"/><desc class=\"value\">0</desc><desc class=\"x centered\">612.1420118343195</desc><desc class=\"y centered\">266.5651550529757</desc><desc class=\"x_label\">1944-45</desc></g><g class=\"dots\"><circle cx=\"628.5621301775147\" cy=\"266.5651550529757\" r=\"0.0\" class=\"dot reactive tooltip-trigger\"/><desc class=\"value\">0</desc><desc class=\"x centered\">628.5621301775147</desc><desc class=\"y centered\">266.5651550529757</desc><desc class=\"x_label\">1946-47</desc></g><g class=\"dots\"><circle cx=\"644.98224852071\" cy=\"266.5651550529757\" r=\"2.234029706557179\" class=\"dot reactive tooltip-trigger\"/><desc class=\"value\">4</desc><desc class=\"x centered\">644.98224852071</desc><desc class=\"y centered\">266.5651550529757</desc><desc class=\"x_label\">1948-49</desc></g></g></g><g class=\"titles\"><text x=\"400.0\" y=\"26\" class=\"title plot_title\">Return from America - Discourses</text></g><g transform=\"translate(114, 46)\" class=\"plot overlay\"><g class=\"series serie-0 color-0\"/><g class=\"series serie-1 color-1\"/><g class=\"series serie-2 color-2\"/><g class=\"series serie-3 color-3\"/><g class=\"series serie-4 color-4\"/><g class=\"series serie-5 color-5\"/><g class=\"series serie-6 color-6\"/><g class=\"series serie-7 color-7\"/></g><g transform=\"translate(114, 46)\" class=\"plot text-overlay\"><g class=\"series serie-0 color-0\"/><g class=\"series serie-1 color-1\"/><g class=\"series serie-2 color-2\"/><g class=\"series serie-3 color-3\"/><g class=\"series serie-4 color-4\"/><g class=\"series serie-5 color-5\"/><g class=\"series serie-6 color-6\"/><g class=\"series serie-7 color-7\"/></g><g transform=\"translate(114, 46)\" class=\"plot tooltip-overlay\"><g transform=\"translate(0 0)\" style=\"opacity: 0\" class=\"tooltip\"><rect rx=\"0\" ry=\"0\" width=\"0\" height=\"0\" class=\"tooltip-box\"/><g class=\"text\"/></g></g><g transform=\"translate(124, 395)\" class=\"legends\"><g id=\"activate-serie-0\" class=\"legend reactive activate-serie\"><rect x=\"0.0\" y=\"4.0\" width=\"6\" height=\"6\" class=\"color-0 reactive\"/><text x=\"11.0\" y=\"11.2\">R=enhanced</text></g><g id=\"activate-serie-1\" class=\"legend reactive activate-serie\"><rect x=\"166.5\" y=\"4.0\" width=\"6\" height=\"6\" class=\"color-1 reactive\"/><text x=\"177.5\" y=\"11.2\">R=restricted</text></g><g id=\"activate-serie-2\" class=\"legend reactive activate-serie\"><rect x=\"333.0\" y=\"4.0\" width=\"6\" height=\"6\" class=\"color-2 reactive\"/><text x=\"344.0\" y=\"11.2\">R=useless</text></g><g id=\"activate-serie-3\" class=\"legend reactive activate-serie\"><rect x=\"499.5\" y=\"4.0\" width=\"6\" height=\"6\" class=\"color-3 reactive\"/><text x=\"510.5\" y=\"11.2\">Delusion</text></g><g id=\"activate-serie-4\" class=\"legend reactive activate-serie\"><rect x=\"0.0\" y=\"25.0\" width=\"6\" height=\"6\" class=\"color-4 reactive\"/><text x=\"11.0\" y=\"32.2\">R=benefit</text></g><g id=\"activate-serie-5\" class=\"legend reactive activate-serie\"><rect x=\"166.5\" y=\"25.0\" width=\"6\" height=\"6\" class=\"color-5 reactive\"/><text x=\"177.5\" y=\"32.2\">R=danger</text></g><g id=\"activate-serie-6\" class=\"legend reactive activate-serie\"><rect x=\"333.0\" y=\"25.0\" width=\"6\" height=\"6\" class=\"color-6 reactive\"/><text x=\"344.0\" y=\"32.2\">A=overburdened</text></g><g id=\"activate-serie-7\" class=\"legend reactive activate-serie\"><rect x=\"499.5\" y=\"25.0\" width=\"6\" height=\"6\" class=\"color-7 reactive\"/><text x=\"510.5\" y=\"32.2\">A=support</text></g></g></g></svg>\n",
       "    </figure>\n",
       "  </body>\n",
       "</html>\n"
      ],
      "text/plain": [
       "<IPython.core.display.HTML object>"
      ]
     },
     "metadata": {},
     "output_type": "display_data"
    }
   ],
   "source": [
    "from IPython.display import SVG, HTML\n",
    "import pygal \n",
    "from pygal.style import DarkStyle\n",
    "base_html = \"\"\"\n",
    "<!DOCTYPE html>\n",
    "<html>\n",
    "  <head>\n",
    "  <script type=\"text/javascript\" src=\"http://kozea.github.com/pygal.js/javascripts/svg.jquery.js\"></script>\n",
    "  <script type=\"text/javascript\" src=\"https://kozea.github.io/pygal.js/2.0.x/pygal-tooltips.min.js\"\"></script>\n",
    "  </head>\n",
    "  <body>\n",
    "    <figure>\n",
    "      {rendered_chart}\n",
    "    </figure>\n",
    "  </body>\n",
    "</html>\n",
    "\"\"\"\n",
    "\n",
    "dot_chart = pygal.Dot(dot_size=700, legend_box_size=6, x_label_rotation=70, style=DarkStyle, height=450,legend_at_bottom=True, legend_at_bottom_columns=4)\n",
    "\n",
    "dot_chart.title = 'Return from America - Discourses'\n",
    "dot_chart.x_labels = ['1872-73', '1874-75', '1876-77', '1878-79','1880-81', '1882-83', '1884-85', '1886-87', '1888-89', '1890-91', '1892-93', '1894-95', '1896-97', '1898-99', '1900-01', '1902-03', '1904-05', '1906-07', '1908-09', '1910-11', '1912-13', '1914-15', '1916-17', '1918-19', '1920-21', '1922-23', '1924-25', '1926-27', '1928-29', '1930-31', '1932-33', '1934-35', '1936-37', '1938-39', '1940-41', '1942-43', '1944-45', '1946-47', '1948-49']\n",
    "dot_chart.add('R=enhanced',    [0, 0, 0, 0, 1, 0, 0, 1, 1, 0, 0, 0, 0, 0, 0, 0, 2, 4, 0, 1, 3, 9, 7, 2, 0, 0, 1, 0, 0, 0, 0, 0, 0, 1, 1, 6, 1, 4])\n",
    "dot_chart.add('R=restricted',  [0, 0, 0, 0, 0, 0, 0, 0, 0, 0, 1, 1, 0, 0, 0, 0, 0, 4, 1, 0, 1, 0, 0, 0, 1, 0, 0, 0, 0, 0, 0, 0, 0, 0])\n",
    "dot_chart.add('R=useless',      [0, 0, 0, 0, 0, 0, 0, 0, 0, 0, 0, 0, 0, 0, 0, 0, 0, 2, 7, 1, 0, 0, 0, 0, 0, 0, 0, 0, 0, 0, 0, 0, 0, 0, 0, 0, 0, 0])\n",
    "dot_chart.add('Delusion',   [4, 6, 3, 1, 0, 0, 0, 0, 1, 0, 5, 3, 2, 0, 0, 0, 2, 1, 0, 6, 4, 1, 0, 0, 2, 0, 2, 0, 0, 4, 0, 0, 0,0, 1, 0, 0, 0])\n",
    "dot_chart.add('R=benefit',       [1, 1, 0, 0, 1, 0, 0, 0, 0, 0, 0, 0, 0, 0, 0, 1, 1, 1, 13, 8, 6, 1, 9, 7, 3, 0, 0, 0, 0, 0, 0, 0, 1, 7, 0, 0, 1, 0])\n",
    "dot_chart.add('R=danger',       [0, 0, 0, 0, 0, 0, 0, 0, 0, 0, 1, 2, 0, 0, 0, 0, 1, 12, 0, 4, 0, 0, 0, 0, 0, 0, 0, 0, 0, 0, 0, 0, 1, 0, 0, 0, 0, 0])\n",
    "dot_chart.add('A=overburdened',   [0, 0, 0, 0, 0, 0, 0, 0, 0, 0, 0, 2, 0, 0, 0, 0, 0, 14, 0, 0, 0, 0, 0, 0, 0, 0, 0, 0, 0, 0, 0, 0, 0, 0, 0, 0, 0, 0])\n",
    "dot_chart.add('A=support',        [0, 0, 0, 0, 0, 0, 0, 0, 0, 0, 0, 0, 0, 0, 0, 0, 0, 8, 8, 1, 2, 7, 7, 1, 3, 0, 1, 0, 0, 1, 0, 0, 1, 11, 0, 0, 0, 0, 4])\n",
    "\n",
    "display(HTML(base_html.format(rendered_chart=dot_chart.render(is_unicode=True))))\n"
   ]
  },
  {
   "cell_type": "markdown",
   "metadata": {},
   "source": [
    "2. **Return migration is a benefit vs. return migration is a danger for Austria (R=benefit; R=danger)**: Returnees could help or hurt the government of the country of origin, both economically and politically. A returnee could be someone who failed in the country to which they migrated or someone who brought back skills and capital to invest in the economy of the home country. The argument of danger was mainly used during the “panic” of 1907  (financial crisis in America resulting in bankruptcy of banks and companies as well as mass remigration of European emigrants). In 1097, the newspaeper Mährisches Tagblatt stated: \"The homeland has reluctantly let its sons go, now people are worried because they are returning home\". The main fears were economic consequences of mass return. As early as 1908, however, the discourse on the benefit of returnees predominated, especially because labour was desperately needed. Here, the argument that returnees bring large amounts of cash back to Austria was often used to support return migration."
   ]
  },
  {
   "cell_type": "markdown",
   "metadata": {},
   "source": [
    "3. **The argument of uselessness (R=useless)**: At the same time (1908), the argument of uselessness was prominent as well. This argument was based on the realisation that the repatriates were of no use to the labour market because they had brought a large sum of savings with them to Austria-Hungary and wanted to return to America when the crisis ended.  For example, the newspaper Die Neue Zeitung wrote 1908:  \"On the side of the industrial giants, hopes were pinned on getting a whole army of workers who would be willing to do any kind of work. Instead, the \"poor\" repatriates [...] exchanged considerable sums of money into Austrian money and the established employment agencies remained empty\"."
   ]
  },
  {
   "cell_type": "markdown",
   "metadata": {},
   "source": [
    "4. **Motif of delusion and disappointment (Delusion)**: Motifs of deception and disappointment consistently played an important role in the media portrayal of returnees from America. Negative experiences of return migrations were often used to avoid further emigration flows. The Neues Wiener Journal, for example, reported 1927: \"But the number of returnees is also increasing, and cases are becoming more regular where fleeing one's homeland has proved to be not a last chance, but a deceptive hope [...]\". "
   ]
  },
  {
   "cell_type": "markdown",
   "metadata": {},
   "source": [
    "This chapter only showed a small example of what an exhausted discourse historical analysis in the frame of social, historical and political context would be. However, it gives an idea on what kind of arguments accompanied the discourse on the return migration from the Americas and how they developed over time.   "
   ]
  },
  {
   "cell_type": "markdown",
   "metadata": {},
   "source": [
    "## Conclusion"
   ]
  },
  {
   "cell_type": "markdown",
   "metadata": {},
   "source": [
    "The corpus building process presented in this paper is - even though tailored to a specific research question, adaptable for other research projects that deal with similar issues. However, the procedure is dependent on manual annotations and a good knowledge of the corpus under investigation, and therefore may not be very interesting for those looking for more universal, completely unsupervised solutions. For humanities researchers and especially historians, corpus building often takes up a substantial part of their work. Creating and annotating a sample corpus of about 200 articles is undoubtedly a relatively small effort, considering that many researchers take months to create good quality corpora. Being able to adapt a method and its parameters to make them work on their own corpora can be seen as an advantage, too. "
   ]
  },
  {
   "cell_type": "markdown",
   "metadata": {},
   "source": [
    "While none of the methods presented in this paper are new or groundbreaking (most of them have been proven for decades), the way they have been applied sets this paper apart from other similar research. Topic-specific corpus building and WSD have hardly been brought into relation with each other so far, and LDA in combination with JSD also plays a subordinate role in WSD approaches. Finally, the use of manually created labels to support classification into relevant as well as irrelevant articles in the form of feedback in the output has not yet been described in the context of LDA and JSD. "
   ]
  },
  {
   "cell_type": "markdown",
   "metadata": {},
   "source": [
    "An important consideration when using machine learning to support corpus building is to improve representativeness of topic-specific corpora without spending months to clean a corpus manually. For humanities researchers, the time spent for corpus building and data preparation is often unproportionally high. This time often also gets lost for further, especially qualitative analysis. We believe that the focus on methods that support corpus compilation can further support the hybridity of digital and traditional methods. "
   ]
  },
  {
   "cell_type": "markdown",
   "metadata": {},
   "source": [
    "The disadvantage of using machine learning methods for corpus building lies in the technical challenges. A basic understanding of the Python programming language and the ability to adapt code for use with one's own corpus are necessary to use text mining methods such as those presented in this paper. The importance of interdisciplinary cooperation is obvious in this context. "
   ]
  },
  {
   "cell_type": "markdown",
   "metadata": {},
   "source": [
    "## References"
   ]
  },
  {
   "cell_type": "markdown",
   "metadata": {},
   "source": []
  }
 ],
 "metadata": {
  "celltoolbar": "Tags",
  "cite2c": {
   "citations": {
    "6142573/3YMW54I3": {
     "ISBN": "978-84-9773-529-2",
     "URL": "https://wlv.openrepository.com/handle/2436/622560",
     "abstract": "We should always bear in mind that the assumption of representativeness ‘must be regarded largely as an act of faith’ (Leech 1991: 2), as at present we have no means of ensuring it, or even evaluating it objectively. (Tognini-Bonelli 2001: \n 57) Corpus Linguistics (CL) has not yet come of age. It does not make any difference whether we consider it a full-fledged linguistic discipline (Tognini-Bonelli 2000: 1) or, else, a set of analytical techniques that can be applied to any discipline (McEnery et al. 2006: 7). The truth is that CL is still striving to solve thorny, central issues such as optimum size, balance and representativeness of corpora (of the language as a whole or of some subset of the language). \nCorpus-driven/based studies rely on the quality and representativeness of each corpus as their true foundation for producing valid results. This entails deciding on valid external and internal criteria for corpus design and compilation. A basic tenet is that corpus representativeness determines the kinds of research questions that can be addressed and the generalizability of the results obtained (cf. Biber et al. 1988: 246). Unfortunately, faith and beliefs do not seem to ensure quality. \nIn this paper we will attempt to deal with these key questions. Firstly, we will give a brief description of the R&D projects which originally have served as the main framework for this research. Secondly, we will focus on the complex notion of corpus representativeness and ideal size, from both a theoretical and an applied perspective. Finally, we will describe a computer application which has been developed as part of the research. This software will be used to verify whether a sample bilingual comparable corpus could be deemed representative.",
     "accessed": {
      "day": 3,
      "month": 3,
      "year": 2021
     },
     "author": [
      {
       "family": "Corpas Pastor",
       "given": "Gloria"
      },
      {
       "family": "Seghiri Domínguez",
       "given": "Míriam"
      }
     ],
     "container-title": "Lengua, traducción, recepción en honor de Julio César Santoyo. León: Universidad de León Área de Publicaciones",
     "editor": [
      {
       "family": "Rabadán",
       "given": "Rosa"
      },
      {
       "family": "Fernández López",
       "given": "Marisa"
      },
      {
       "family": "Guzmán González",
       "given": "Trinidad"
      }
     ],
     "id": "6142573/3YMW54I3",
     "issued": {
      "day": 1,
      "month": 6,
      "year": 2010
     },
     "page": "111-145",
     "page-first": "111",
     "publisher": "Publicaciones Universidad de León",
     "title": "Size Matters: A Quantitative Approach to Corpus Representativeness",
     "type": "chapter"
    },
    "6142573/5FI5SV3F": {
     "author": [
      {
       "family": "Pfanzelter",
       "given": "Eva"
      }
     ],
     "collection-number": "3157",
     "collection-title": "UTB M (Medium Format)",
     "container-title": "Digitale Arbeitstechniken für Geistes- und Kulturwissenschaften",
     "editor": [
      {
       "family": "Gasteiner",
       "given": "Martin"
      },
      {
       "family": "Haber",
       "given": "Peter"
      }
     ],
     "event-place": "Stuttgart",
     "id": "6142573/5FI5SV3F",
     "issued": {
      "year": 2010
     },
     "page": "39-50",
     "page-first": "39",
     "publisher-place": "Stuttgart",
     "title": "Von der Quellenkritik zum kritischen Umgang mit digitalen Ressourcen",
     "type": "chapter"
    },
    "6142573/B353HSFG": {
     "DOI": "10.14765/ZZF.DOK.2.269.V1",
     "URL": "http://zeitgeschichte-digital.de/doks/269",
     "accessed": {
      "day": 9,
      "month": 7,
      "year": 2020
     },
     "author": [
      {
       "family": "Haber",
       "given": "Peter"
      }
     ],
     "container-title": "Docupedia-Zeitgeschichte",
     "id": "6142573/B353HSFG",
     "issued": {
      "year": 2012
     },
     "language": "ger",
     "title": "Zeitgeschichte und Digital HumanitiesZeitgeschichte und Digital Humanities",
     "type": "article-journal"
    },
    "6142573/DHFC4A24": {
     "author": [
      {
       "family": "Pfanzelter",
       "given": "Eva"
      }
     ],
     "container-title": "Zeitschrift für das Archivwesen der Wirtschaft",
     "id": "6142573/DHFC4A24",
     "issue": "1",
     "issued": {
      "year": 2015
     },
     "language": "de",
     "page": "5-19",
     "page-first": "5",
     "title": "Die historische Quellenkritik und das Digitale",
     "type": "article-journal",
     "volume": "48"
    },
    "6142573/E7ZQHXY2": {
     "URL": "http://edoc.unibas.ch/diss/DissB_12621",
     "abstract": "Der Autor geht der Frage nach, wie sich die historische Quellenkritik durch die Verwendung von digitalen Objekten als Forschungsressource sowie digitalen Informations- und Kommunikationsmedien verändert. Da digitale Objekte neue und bisher nicht bekannte Eigenschaften aufweisen und sich von bisher bekannten Objekten unterscheiden, wird der gesamten Prozess der historisch-kritischen Methode und insbesondere die Quellenkritik als deren Hauptprozessschritt hinterfragt und angepasst. Dafür werden Methoden aus der Informationstechnik beigezogen, denn nur mit diesen lassen sich diese neuartigen Forschungsressourcen, die auch neue Quellentypen und -gattungen sowie Funktionen hervorbringen, vollständig untersuchen. Für die sich neu stellenden Probleme im Umgang mit digitalen Objekten werden Lösungsvorschläge präsentiert, die Anpassungen an der Arbeitsweise von (Geschichts-)Wissenschaftlern und die Schaffung von informationstechnischen Infrastrukturen betreffen.",
     "accessed": {
      "day": 10,
      "month": 12,
      "year": 2020
     },
     "author": [
      {
       "family": "Föhr",
       "given": "Pascal"
      }
     ],
     "genre": "Thesis",
     "id": "undefined",
     "issued": {
      "year": 2017
     },
     "language": "deu",
     "note": "DOI: 10.5451/unibas-006805169",
     "number-of-pages": "1 Online-Ressource (VIII, 339 Seiten)",
     "publisher": "University_of_Basel",
     "title": "Historische Quellenkritik im Digitalen Zeitalter",
     "type": "thesis"
    },
    "6142573/K2RNGLST": {
     "abstract": "Regional mobility took many different forms. People moved shorter and longer distances, passed over administrative, geographical, or cultural borders, went back and forth between rural and urban areas, migrated to a neighboring country, or even crossed oceans. While some migrations consisted of a one-time move from one place of residence to another, other movements, even across national borders, were temporary, circular, or repeated.",
     "author": [
      {
       "family": "Steidl",
       "given": "Annemarie"
      }
     ],
     "container-title": "Migration in Austria",
     "editor": [
      {
       "family": "Rupnow",
       "given": "Dirk"
      },
      {
       "family": "Bischof",
       "given": "Günter"
      }
     ],
     "event-place": "New Orleans",
     "id": "6142573/K2RNGLST",
     "issued": {
      "year": 2017
     },
     "language": "English",
     "number-of-volumes": "26",
     "page": "69–88",
     "page-first": "69",
     "publisher": "University of New Orleans Press",
     "publisher-place": "New Orleans",
     "title": "Migration Patterns in the Late Habsburg Empire",
     "type": "chapter",
     "volume": "Contemproary Austrian Studies"
    },
    "6142573/LAF2DBJT": {
     "DOI": "10.1093/llc/fqy048",
     "URL": "https://academic.oup.com/dsh/article/34/2/368/5127711",
     "accessed": {
      "day": 3,
      "month": 12,
      "year": 2020
     },
     "author": [
      {
       "family": "Koolen",
       "given": "Marijn"
      },
      {
       "family": "van Gorp",
       "given": "Jasmijn"
      },
      {
       "family": "van Ossenbruggen",
       "given": "Jacco"
      }
     ],
     "container-title": "Digital Scholarship in the Humanities",
     "id": "6142573/LAF2DBJT",
     "issue": "2",
     "issued": {
      "day": 1,
      "month": 6,
      "year": 2019
     },
     "language": "en",
     "page": "368-385",
     "page-first": "368",
     "shortTitle": "Toward a model for digital tool criticism",
     "title": "Toward a model for digital tool criticism: Reflection as integrative practice",
     "title-short": "Toward a model for digital tool criticism",
     "type": "article-journal",
     "volume": "34"
    },
    "6142573/NY822LF2": {
     "DOI": "10.14765/ZZF.DOK-1765",
     "URL": "https://zeitgeschichte-digital.de/doks/1765",
     "abstract": "»[…] wenn ›die Quelle‹ die Reliquie historischen Arbeitens ist – nicht nur Überbleibsel, sondern auch Objekt wissenschaftlicher Verehrung –, dann wäre analog ›das Archiv‹ die Kirche der Geschichtswissenschaft, in der die heiligen Handlungen des Suchens, Findens, Entdeckens und Erforschens vollzogen werden.« Achim Landwehr wirft in seinem geschichtstheoretischen Essay den Historikern ihren »Quellenglauben« vor – diese Kritik ließe sich im digitalen Zeitalter leicht auf die Heilsversprechen der Apostel der »Big Data Revolution« übertragen. Zwar regen sich mittlerweile vermehrt Stimmen, die den »Wahnwitz« der digitalen Utopie in Frage stellen, doch wird der öffentliche Diskurs weiterhin von jener Revolutionsrhetorik dominiert, die standardmäßig als Begleitmusik neuer Technologien ertönt. Statt in der intellektuell wenig fruchtbaren Dichotomie von Gegnern und Befürwortern, »First Movers« und Ignoranten zu verharren, welche die Landschaft der »Digital Humanities« ein wenig überspitzt auch heute noch kennzeichnet, ist das Ziel dieses Beitrages eine praxeologische Reflexion, die den Einfluss von digitalen Infrastrukturen, digitalen Werkzeugen und digitalen »Quellen« auf die Praxis historischen Arbeitens zeigen möchte. Ausgehend von der These, dass ebenjene digitalen Infrastrukturen, Werkzeuge und »Quellen« heute einen zentralen Einfluss darauf haben, wie wir Geschichte denken, erforschen und erzählen, plädiert der Beitrag für ein »Update« der klassischen Hermeneutik in der Geschichtswissenschaft. Die kritische Reflexion über die konstitutive Rolle des Digitalen in der Konstruktion und Vermittlung historischen Wissens ist nicht nur eine Frage epistemologischer Dringlichkeit, sondern zentraler Bestandteil der Selbstverständigung eines Faches, dessen Anspruch als Wissenschaft sich auf die Methoden der Quellenkritik gründet.",
     "accessed": {
      "day": 9,
      "month": 7,
      "year": 2020
     },
     "author": [
      {
       "family": "Fickers",
       "given": "Andreas"
      }
     ],
     "container-title": "Zeithistorische Forschungen/Studies in Contemporary History",
     "id": "6142573/NY822LF2",
     "issue": "1",
     "issued": {
      "year": 2020
     },
     "language": "de",
     "page": "157-168",
     "page-first": "157",
     "title": "Update für die Hermeneutik. Geschichtswissenschaft auf dem Weg zur digitalen Forensik?",
     "type": "article-journal",
     "volume": "17"
    },
    "6142573/RZWYTHC7": {
     "ISBN": "978-1-85604-694-7",
     "abstract": "This textbook, for students of library and information studies undertaking courses in information retrieval, information organization, information use and knowledge-based systems, explains the theory, techniques and tools of traditional approaches to the organization and processing of information.",
     "author": [
      {
       "family": "Chowdhury",
       "given": "Gobinda G."
      }
     ],
     "id": "6142573/RZWYTHC7",
     "issued": {
      "year": 2010
     },
     "language": "en",
     "note": "Google-Books-ID: cN4qDgAAQBAJ",
     "number-of-pages": "529",
     "publisher": "Facet Publishing",
     "title": "Introduction to Modern Information Retrieval",
     "type": "book"
    },
    "6142573/TTCX55K3": {
     "URL": "https://eprints.lancs.ac.uk/id/eprint/528/",
     "abstract": "This paper proposes an accessible measure of the relevance of additional terms to a given query, describes and comments on the steps leading to its develop-ment, and discusses its utility. The measure, termed relative query term rele-vance (RQTR), draws on techniques used in information retrieval, and can becombined with a technique used in creating corpora from the world wide web,namely keyword analysis. It is independent of reference corpora, and does notrequire knowledge of the number of (relevant) documents in the database. Although it does not make use of user/expert judgements of document relevance,it does allow for subjective decisions. However, subjective decisions are triangu-lated against two objective indicators: keyness and, mainly, RQTR.",
     "accessed": {
      "day": 19,
      "month": 11,
      "year": 2020
     },
     "author": [
      {
       "family": "Gabrielatos",
       "given": "Costas"
      }
     ],
     "container-title": "ICAME Journal",
     "id": "6142573/TTCX55K3",
     "issued": {
      "month": 4,
      "year": 2007
     },
     "language": "en",
     "page": "5-44",
     "page-first": "5",
     "title": "Selecting query terms to build a specialised corpus from a restricted-access database.",
     "type": "article-journal",
     "volume": "31"
    },
    "6142573/VJ7HSBUL": {
     "ISBN": "978-3-7728-0676-6",
     "author": [
      {
       "family": "Leyh",
       "given": "Peter"
      }
     ],
     "event-place": "Stuttgart-Bad Cannstatt",
     "id": "6142573/VJ7HSBUL",
     "issued": {
      "year": 1977
     },
     "language": "de",
     "note": "OCLC: 256305642",
     "number-of-pages": "532",
     "publisher-place": "Stuttgart-Bad Cannstatt",
     "shortTitle": "Historik. Bd. 1",
     "title": "Johann Gustav Droysen: Historik. Bd. 1: Rekonstruktion der ersten vollständigen Fassung der Vorlesungen (1857). Grundriß der Historik in der ersten handschriftlichen (1857/58) und in der letzten gedruckten Fassung (1882)",
     "title-short": "Historik. Bd. 1",
     "type": "book"
    },
    "6142573/YGUFHGJK": {
     "ISBN": "978-1-315-83436-8 978-1-4058-5822-9 978-1-317-86465-3",
     "URL": "http://dx.doi.org/10.4324/9781315834368",
     "accessed": {
      "day": 7,
      "month": 12,
      "year": 2020
     },
     "author": [
      {
       "family": "Fairclough",
       "given": "Norman"
      }
     ],
     "edition": "Second Editon",
     "event-place": "New York",
     "id": "6142573/YGUFHGJK",
     "issued": {
      "year": 2013
     },
     "language": "English",
     "note": "OCLC: 1167313756",
     "publisher": "Routledge",
     "publisher-place": "New York",
     "shortTitle": "Critical discourse analysis",
     "title": "Critical discourse analysis: the critical study of language",
     "title-short": "Critical discourse analysis",
     "type": "book"
    },
    "6142573/YKNUBLK6": {
     "abstract": "'Die Entwicklung von Theorien und Typisierungen zum Thema Rückkehrmigration spiegeln die historischen Entwicklungen im vergangenen Jahrhundert wider. Lange Zeit nicht auf der wissenschaftlichen Agenda, setzte in Deutschland eine intensive Beschäftigung mit dem Thema erst in den 1970er Jahren ein. Geographische, soziologische, politikwissenschaftliche und volkswirtschaftliche Ansätze setzen dabei unterschiedliche Schwerpunkte. Neben der Frage nach den Motiven für oder gegen eine Rückkehr sowie der Frage nach dem (optimalen) Zeitpunkt können die Reintegration der Rückkehrer oder deren Einflüsse auf das Heimatland im Mittelpunkt der Analyse stehen. Die folgende Systematisierung dient zum einem dem Ziel, einen Überblick über die Entwicklung der Theorieansätze zu geben. Zum anderen soll herausgearbeitet werden, in welchem Umfang die verschiedenen Ansätze den unterschiedlichen Remigrantentypen sowie den relevanten Forschungsfragen gerecht werden können.' (Autorenreferat)",
     "author": [
      {
       "family": "Currle",
       "given": "Edda"
      }
     ],
     "container-title": "Sozialwissenschaftlicher Fachinformationsdienst soFid",
     "id": "6142573/YKNUBLK6",
     "issue": "Migration und ethnische Minderheiten 2006/2",
     "issued": {
      "year": 2006
     },
     "language": "de",
     "page": "7-23",
     "page-first": "7",
     "title": "Theorieansätze zur Erklärung von Rückkehr und Remigration",
     "type": "article-journal"
    },
    "undefined": {
     "URL": "http://edoc.unibas.ch/diss/DissB_12621",
     "abstract": "Der Autor geht der Frage nach, wie sich die historische Quellenkritik durch die Verwendung von digitalen Objekten als Forschungsressource sowie digitalen Informations- und Kommunikationsmedien verändert. Da digitale Objekte neue und bisher nicht bekannte Eigenschaften aufweisen und sich von bisher bekannten Objekten unterscheiden, wird der gesamten Prozess der historisch-kritischen Methode und insbesondere die Quellenkritik als deren Hauptprozessschritt hinterfragt und angepasst. Dafür werden Methoden aus der Informationstechnik beigezogen, denn nur mit diesen lassen sich diese neuartigen Forschungsressourcen, die auch neue Quellentypen und -gattungen sowie Funktionen hervorbringen, vollständig untersuchen. Für die sich neu stellenden Probleme im Umgang mit digitalen Objekten werden Lösungsvorschläge präsentiert, die Anpassungen an der Arbeitsweise von (Geschichts-)Wissenschaftlern und die Schaffung von informationstechnischen Infrastrukturen betreffen.",
     "accessed": {
      "day": 10,
      "month": 12,
      "year": 2020
     },
     "author": [
      {
       "family": "Föhr",
       "given": "Pascal"
      }
     ],
     "genre": "Thesis",
     "id": "undefined",
     "issued": {
      "year": 2017
     },
     "language": "deu",
     "note": "DOI: 10.5451/unibas-006805169",
     "number-of-pages": "1 Online-Ressource (VIII, 339 Seiten)",
     "publisher": "University of Basel",
     "title": "Historische Quellenkritik im Digitalen Zeitalter",
     "type": "thesis"
    }
   }
  },
  "kernelspec": {
   "display_name": "Python 3",
   "language": "python",
   "name": "python3"
  },
  "language_info": {
   "codemirror_mode": {
    "name": "ipython",
    "version": 3
   },
   "file_extension": ".py",
   "mimetype": "text/x-python",
   "name": "python",
   "nbconvert_exporter": "python",
   "pygments_lexer": "ipython3",
   "version": "3.7.4"
  }
 },
 "nbformat": 4,
 "nbformat_minor": 2
}
