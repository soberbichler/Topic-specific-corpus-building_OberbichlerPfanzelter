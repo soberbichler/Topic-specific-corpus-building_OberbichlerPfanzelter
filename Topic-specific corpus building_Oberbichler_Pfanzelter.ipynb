{
 "cells": [
  {
   "cell_type": "markdown",
   "metadata": {
    "tags": [
     "title"
    ]
   },
   "source": [
    "\n",
    "# Topic-specific corpus building: The creation of a representative newspaper corpus on the topic of return migration using text mining methods\n",
    "\n"
   ]
  },
  {
   "cell_type": "markdown",
   "metadata": {
    "tags": [
     "contributor"
    ]
   },
   "source": [
    "\n",
    "#### 0.1 Sarah Oberbichler\n",
    "Author, University of Innsbruck "
   ]
  },
  {
   "cell_type": "markdown",
   "metadata": {
    "tags": [
     "contributor"
    ]
   },
   "source": [
    "\n",
    "#### 0.2 Eva Pfanzelter\n",
    "Author, University of Innsbruck "
   ]
  },
  {
   "cell_type": "markdown",
   "metadata": {
    "tags": [
     "cover"
    ]
   },
   "source": [
    "<div>\n",
    "<img src=\"images/cover.png\" width=\"1000\"/>\n",
    "</div>"
   ]
  },
  {
   "cell_type": "markdown",
   "metadata": {
    "tags": [
     "disclaimer"
    ]
   },
   "source": [
    "This  work has  been  supported  by  the  European  Union  Horizon  2020  research  and innovation programme under grant 770299 (NewsEye)."
   ]
  },
  {
   "cell_type": "markdown",
   "metadata": {
    "tags": [
     "tags"
    ]
   },
   "source": [
    "Corpus Building, Return Migration, Historical Newspapers, Text Mining, Word Sense Disambiguation, Similiarity"
   ]
  },
  {
   "cell_type": "markdown",
   "metadata": {
    "tags": [
     "abstract"
    ]
   },
   "source": [
    "Humanities researchers often encounter the problem that their specialized corpora, created by keyword searches, either contain documents that are irrelevant for their research questions because the search queries were too broad, or they miss relevant documents because the search requests were too narrow. The reason for this lies in the complexity of language, which is characterized by ambiguity and concepts that are difficult, if not impossible, to trace by computational methods and thus keyword searches alone. This paper shows how text mining methods can support the building of a topic-specific corpus. Using the example of  return migration issues, the aim is, on the one hand, to build a corpus that is as representative as possible and, on the other hand, to overcome the bias that comes with complex keyword searches that are influenced by the researcher's prior knowledge. The paper begins with a discussion of the motivations for and the challenges of building research driven corpora, leads through the steps that were taken to obtain a satisfactory corpus that can be analyzed further  and  gives an outlook on how the created corpus was used to conduct a qualitative, discourse-driven analysis on return migration from the Americas to Europe between 1850 and 1950."
   ]
  },
  {
   "cell_type": "markdown",
   "metadata": {},
   "source": [
    "## 1 Introduction"
   ]
  },
  {
   "cell_type": "markdown",
   "metadata": {},
   "source": [
    "Historiography based on digital sources usually comes hand in hand with the need to search for complex patterns in masses of information rather than gaps in the historical record <cite data-cite=\"6142573/B353HSFG\"></cite>. This development has led to a certain hybridity of classical and digital methods in historical research<cite data-cite=\"6142573/NY822LF2\"></cite>, and goes along with methodological and epistemological challenges for the historical disciplines. It also calls for an extension of the historical method, which guides historical understanding through the three steps heuristics, source criticism and interpretation <cite data-cite=\"undefined\"></cite>. Especially the update on source criticism has received much attention and is discussed within the emerging field of digital hermeneutics <cite data-cite=\"6142573/JMZAZWUX\"></cite> <cite data-cite=\"undefined\"></cite><cite data-cite=\"6142573/LAF2DBJT\"></cite><cite data-cite=\"6142573/5FI5SV3F\"></cite>. Other parts of the historical method, like a detailed critical assessment of adequate corpus creation in the heuristic research step, have so far not been written about enough."
   ]
  },
  {
   "cell_type": "markdown",
   "metadata": {},
   "source": [
    "Historical research is often driven by event- or topic-specific research questions. This means that although using big data and quantitative methods to find patterns that overlap with these research questions can be rewarding, it oftentimes is still necessary to find those parts in the massive data dumps that are relevant for the topic in question. This is why corpus building is an essential aspect when working with large amounts of digital sources. However, to create adequate corpora often requires time-consuming complex search processes. Moreover, not every corpus is suitable for historical analysis. Historical corpus-driven/corpus-based studies (quantitative, but also qualitative) rely both on the quality and the representativeness of the selected collection in order to qualify for further analysis. Here, a distinction is made between external and internal criteria for corpus design and composition <cite data-cite=\"6142573/3YMW54I3\"></cite>. An important external criterion is the quality of the sources. This refers, on the one hand, to the reliability of the sources and, on the other hand, to the Optical Character Recognition (OCR) quality of the data (e.g., if retro-digitized sources are being used). A second important external criterion is the representativeness of sources. In the case of, e.g. digitized newspapers, this includes questions like whether the used digitized newspapers are representative for the research in question if important newspapers or newspaper issues are missing or if the data of digitized issues is accessible, readable, and contains enough metadata for proper contextualisation. "
   ]
  },
  {
   "cell_type": "markdown",
   "metadata": {},
   "source": [
    "An important internal criterion that affects the representativeness of topic-specific corpora is the number of documents in a collection <cite data-cite=\"6142573/3YMW54I3\"></cite>. To improve the completeness (not too many relevant documents are left out) and purity (not too many irrelevant documents are included) of corpora, is an overall goal when creating topic-specific corpora. Although the creation of a 'pure corpus' per se will remain an unattainable goal for many reasons and there can be no such thing as a generically representative corpus <cite data-cite=\"6142573/DZ5DRETR\"></cite>, for this paper we define representativeness as a factor that depends very much on the purpose for which the corpus is intended for and on its ability to allow research questions to be answered without serious biases."
   ]
  },
  {
   "cell_type": "markdown",
   "metadata": {},
   "source": [
    "When keywords are being used to create specialized collections, researchers often have to weigh up between a collection that misses relevant articles, and one which contains noise (i.e. irrelevant texts). In other words, there is a conflict between creating a corpus that contains only relevant texts but not all relevant texts available in the entire collection and creating a corpus that contains all available relevant texts, but includes many irrelevant texts <cite data-cite=\"6142573/RZWYTHC7\"></cite><cite data-cite=\"6142573/TTCX55K3\"></cite>. This is especially problematic if the creation of a corpus relies on keywords since search terms are often polysemous or ambiguous, which also to the topic we chose to investigate here, where we will use German keywords related to return migration to compose our corpus."
   ]
  },
  {
   "cell_type": "markdown",
   "metadata": {},
   "source": [
    "This paper shows how a corpus created with ambiguous search queries related to return migration is successfully classified into relevant and irrelevant articles, i.e., disambiguated by applying digital methods. A semi-supervised similarity-based word sense disambiguation (WSD) approach using Latent Dirichlet allocation (LDA), a probabilistic model that calculates the probability distribution over terms <cite data-cite=\"6142573/CVSFNSE2\"></cite>, and the Jensen-Shannon divergence (JSD), which measures the divergence between two probability distributions <cite data-cite=\"6142573/LM8L24CE\"></cite>, was applied to reach this goal. Both approaches, the training of the LDA algorithm as well as the similarity measurements are unsupervised and build on the whole context of a document. Topics can capture the polysemous or ambiguous use of words, but they do not carry the explicit notion of the correct context that is necessary for WSD <cite data-cite=\"6142573/WLBLU3DX\"></cite>. Therefore, a training/feedback corpus with information (labels) on the 'correct' or 'incorrect' context (relevant or irrelevant  for the research question) was created manually for document comparison and clustering. The document labels do not play a role in training the LDA algorithm and finding the most similar set of documents in the feedback corpus, however, they allow the calculation of the overall relevance of the retrieved most similar set of documents based on the numeric labels. This calculation is used to support the final classification into relevant or non relevant documents, as explained step by step in the hermeneuticslayers of this paper."
   ]
  },
  {
   "cell_type": "markdown",
   "metadata": {},
   "source": [
    "The motivation of this paper is to present and describe this process by means of a specific topic (migration) and a specific research question (concerning return migration). In addition we want to show how the created corpus was used to conduct a qualitative, discourse-driven historical analysis on return migration from the Americas to Europe between 1850 and 1950 in order to underline the necessity to investigate more thought and research to support digital methods that lie between qualitative analysis of small information units and quantitative approaches to big data. Discourse analysis has always also relied on a thorough reading of relevant text corpora. With ever-increasing large digital datasets, automated corpus-specific approaches (such as the calculation of multi-words units) promise to support qualitative interpretative steps like the ones needed for discourse analysis <cite data-cite=\"6142573/KAFFLBWQ\"></cite><cite data-cite=\"6142573/GRIVXPM6\"></cite>. Digital methods to support the corpus building are equally effective, which is why we show how the quality and representativeness of a corpus can be improved using NLP methods. In doing so, we present a corpus building method to support humanities research, which means that the focus lies on solving this one specific problem and not on a comparison or evaluation of different approaches or methods. Still, the approach presented in this paper can be adapted for research projects that deal with similar corpus building issues."
   ]
  },
  {
   "cell_type": "markdown",
   "metadata": {},
   "source": [
    "## 2 Return migration in historical newspapers"
   ]
  },
  {
   "cell_type": "markdown",
   "metadata": {},
   "source": [
    "News coverage on return migration - which can generally be defined as 'cross-border migration to the country of origin' <cite data-cite=\"6142573/YKNUBLK6\"></cite> - is manifold: Reports on remigration and repatriation give insights into special events (Figure 1), letters from returnees printed in newspapers allow for glimpses into the thoughts of returnees, appeals inform about support efforts, and small advertisements provide an overview of what was sold or searched for in connection with return migration (Figure 2). Just as immigration, return migration has always also been a question of social negotiation. Defining discourses as a ‘group of statements that belong to a single system of formation’ <cite data-cite=\"6142573/PBSKPE7S\"></cite> we find several characteristic discourses on return migration especially in reports, letters, and appeals, which include (implicit) arguments to support, promote, regulate or prohibit the return of people to their country to origin (chapter 2.7.1 gives deeper insights into these discourses that accompanied return migration movements). "
   ]
  },
  {
   "cell_type": "markdown",
   "metadata": {},
   "source": [
    "<table>\n",
    "  <tr>\n",
    "     <tr>\n",
    "    <td>Figure 1: Das interessante Blatt, 12.12.1907, p. 1. </td>\n",
    "    <td>Figure 2: Salzburger Blatt, 5.5.1946, p. 8.</td>\n",
    "  </tr>\n",
    "    <td>\n",
    "      <img src=\"images/return_migration.png\" alt=\"Drawing\" style=\"width: 400px\";>\n",
    "    </td>\n",
    "    <td>\n",
    "      <img src=\"images/rückwanderer2.png\" alt=\"Drawing\" style=\"width: 300px;\">\n",
    "    </td>\n",
    "    <td>\n",
    "\n",
    "\n",
    "</table>"
   ]
  },
  {
   "cell_type": "markdown",
   "metadata": {},
   "source": [
    "### 2.1 The motivation for corpus building"
   ]
  },
  {
   "cell_type": "markdown",
   "metadata": {},
   "source": [
    "Newspapers are the 'predominant social field' for the creation of information, beliefs or arguments, which are necessary 'for establishing and sustaining economic, social and political systems and orders' <cite data-cite=\"6142573/YGUFHGJK\"></cite>. While historical return migration movements have been little researched in scholarly contexts, newspapers indicate that return migration has certainly been an important topic within historical migration processes – also in recent times. Examples include the return to Europe from overseas in the 19th and 20th century, the return of war veterans and the repatriation of war refugees during and after the First World War, or the return and repatriation of prisoners of war, refugees, exiles, concentration camp survivors, etc. during and after the Second World War. The main motivation for the paper here, therefore, was to produce empirical material for further qualitative and qualitative analysis on the topic of return migration. The questions behind this approach are as follows: What discourses accompanied the newspaper reporting on return migration? Were return migrants welcomed or perceived as a burden and thread when returning back to their country of origin?"
   ]
  },
  {
   "cell_type": "markdown",
   "metadata": {},
   "source": [
    "In academic literature, migration was often described as a one-way process, beginning with the 'uprooting' of people at the point of origin and ending with 'assimilation' into their adopted culture and country. <cite data-cite=\"6142573/K2RNGLST\"></cite> phrased this as follows: 'Although temporary and circular migration patterns are of a special importance for European people in modern times, they were neglected by migration research for decades'. Still, recent research indicates that many people left their home countries with the notion of returning home at a certain point not so far in the future. This is also true for those who left their home voluntarily to resettle in other countries. Migration is therefore neither a linear process, nor is a model that goes in both directions appropriate. In many cases, emigrants returned only temporarily and left their country of origin again after a while or they moved from one country to the next and returned to different places."
   ]
  },
  {
   "cell_type": "markdown",
   "metadata": {},
   "source": [
    "Historical research on return migration considers such patterns of, and motivations for, return migration <cite data-cite=\"6142573/BXVFU4ZK\"></cite>, examines historical, political, sociological and economic backgrounds <cite data-cite=\"6142573/F3B5EV7L\"></cite><cite data-cite=\"6142573/GP9W87WP\"></cite><cite data-cite=\"6142573/HP5RBUIN\"></cite>, or deals with autobiographical questions <cite data-cite=\"6142573/9DLPRG9V\"></cite>. The complexity and heterogeneity of sources about return migration, however, complicates a structured analysis of the topic of return migration. The historical constellations are so diverse that generalizations are difficult to make and thus inherently faulty. What adds to the difficulties is the lack of empirical material.The compilation of a corpus of historical newspaper articles, as proposed here, is therefore still an essential factor if the topic of remigration is to be accessible for research."
   ]
  },
  {
   "cell_type": "markdown",
   "metadata": {},
   "source": [
    "### 2.2 The challenges"
   ]
  },
  {
   "cell_type": "markdown",
   "metadata": {},
   "source": [
    "Researching migration issues with digital newspaper interfaces usually begins with unstructured keyword searches and it oftentimes is serendipity that leads to good results <cite data-cite=\"6142573/JMD7CSSP\"></cite>. Keyword searches, however, often return a significant amount of irrelevant results or exclude too many relevant results. A common reason for this is to be found in the difficult nature of language. Synonymy and polysemy complicate keyword searches, but not alone. Word inflections, and concepts that do not equate to single words also play a significant role <cite data-cite=\"undefined\"></cite>."
   ]
  },
  {
   "cell_type": "markdown",
   "metadata": {},
   "source": [
    "Return migration as defined before and the ideas associated with it are difficult to trace by keyword searches because of the following reasons:"
   ]
  },
  {
   "cell_type": "markdown",
   "metadata": {},
   "source": [
    "1. Ideas and discourses are difficult to find using single keywords alone: There are only a few terms that lead to exclusively relevant articles on return migration, such as 'Rückkehrer', 'Heimkehrer' or 'Rückwanderer' (all German terms for *returnee*). However, they only cover a small amount of the whole spectrum of return migration news coverage. Return migration in the German language is often also expressed by verbal constructions such as 'kehrten in die Heimat zurück' (*returned home*) or phrases such as 'Rückkehr der Emigranten' (*return of the emigrants*)."
   ]
  },
  {
   "cell_type": "markdown",
   "metadata": {},
   "source": [
    "2. Word flexions complicate phrase searches or the combination of search terms: Phrase searches in a distance of k words are another way to improve the representativeness of a corpus. Here it would be combinations such as 'heimkehrende Auswanderer' (*returning emigrants*) or the combination of keywords that occur together in a defined word distance such as 'Rückkehr ... Auswanderer' (*return ... migrants*). However, these combinations involve a number of challenges; Firstly, it is difficult to find all kind of different combinations that would represent the topic in an adequate way. Secondly, it would be very time-consuming to consider all possible word flexions. Finally, even if it were possible to cover the topic of return migration in its entirety, many of the word combinations (e.g., 'heimat zurückkehren' (*returning home*) would lead to results that are not relevant for the research project."
   ]
  },
  {
   "cell_type": "markdown",
   "metadata": {},
   "source": [
    "3. Words have different meanings in different contexts (ambiguity): Expanding the search to more ambiguous words such as 'Heimkehr' (*returning home*) or 'Rückkehr' (*returning back*)  helps to find more relevant articles but often leads to a considerable amount of irrelevant search results as well. The process of identifying the actual meanings of words can be considered as one of the most challenging problems in NLP <cite data-cite=\"6142573/LVI27PCC\"></cite>. The following texts show examples of relevant and non relevant articles on the topic of return migration found by using ambiguous search terms. The first newspaper clipping of the Austrian newspaper *Innsbrucker Nachrichten* from May 1913 contains the search term 'Rückwanderung' and reports about the return of Slavic workers from America. This article is relevant for the present research project and will therefore be labeled as relevant:"
   ]
  },
  {
   "cell_type": "code",
   "execution_count": 1,
   "metadata": {
    "tags": [
     "narrative",
     "hermeneutics"
    ]
   },
   "outputs": [
    {
     "data": {
      "text/html": [
       "<style  type=\"text/css\" >\n",
       "</style><table id=\"T_6299dd52_ae63_11eb_b500_e470b8a9ba13\" ><caption>Table 1: Innsbrucker Nachrichten, May 1913 | left: original; right: translation</caption><thead>    <tr>        <th class=\"col_heading level0 col0\" >Original Text</th>        <th class=\"col_heading level0 col1\" >Translation</th>    </tr></thead><tbody>\n",
       "                <tr>\n",
       "                                <td id=\"T_6299dd52_ae63_11eb_b500_e470b8a9ba13row0_col0\" class=\"data row0 col0\" >Der Balkankrteg. Rückwanderung in die Balkanstaaten. Aus Bregenz schreibt man uns vom 7. d. M.. Seit einigen Tagen kann man auf den Bodenseeschiffen und Eisenbahnzügen viele sla wische Arbeiter beobachten, die aus Amerika in ihre Heimat, in die Balkanstaaten, zurückkehren. Nach Aussage eines Auswandereragenten haben diese Staaten, welchen der Krieg viele Männer entrissen hat, eine große Aktion eingeleitet, um die in Amerika ansässigen Landeskinder zur Heimkehr zu bewegen. Auch von den in den Rheinischen Arbei'sgebieten beschäftigten Slawen kehren viele zurück. Der Heimatnaat gewährt ihnen im Wege der eigenen Konsulate weitestgehende Unterstützungen an Geld und Mitteln zur Gründung eines eigenen Herdes. Die Schiffe bringen viele solcher Rückwanderer über Konstanz und Württemberg hieher.</td>\n",
       "                        <td id=\"T_6299dd52_ae63_11eb_b500_e470b8a9ba13row0_col1\" class=\"data row0 col1\" >The Balkan War. Return migration to the Balkan states. We receive a letter from Bregenz on the 7th of this month. For some days now one has been able to observe on the Lake Constance ships and railway trains many Slav workers returning from America to their homeland, the Balkan states. According to an emigrant agent, these states, from which the war has taken many men, have initiated a great campaign to persuade the children of the country resident in America to return home. Many of the Slavs employed in the Rhenish labour areas are also returning. The Homeland Council, through its own consulates, grants them the greatest possible support in the form of money and means to establish their own herds. The ships bring many such returnees here via Constance and Württemberg.</td>\n",
       "            </tr>\n",
       "    </tbody></table>"
      ],
      "text/plain": [
       "<pandas.io.formats.style.Styler at 0x228d6d6d548>"
      ]
     },
     "execution_count": 1,
     "metadata": {},
     "output_type": "execute_result"
    }
   ],
   "source": [
    "import pandas as pd\n",
    "import re\n",
    "import re, numpy as np, pandas as pd\n",
    "import csv\n",
    "from pprint import pprint\n",
    "#import data\n",
    "df = pd.read_csv('data/export_returnmigration_16_04_2021_21_35.csv', usecols = ['text','relevancy'])\n",
    "\n",
    "#show article with translation\n",
    "article_1 = df['text'][41].replace(\"\\n\",\" \")\n",
    "translation = \"The Balkan War. Return migration to the Balkan states. We receive a letter from Bregenz on the 7th of this month. For some days now one has been able to observe on the Lake Constance ships and railway trains many Slav workers returning from America to their homeland, the Balkan states. According to an emigrant agent, these states, from which the war has taken many men, have initiated a great campaign to persuade the children of the country resident in America to return home. Many of the Slavs employed in the Rhenish labour areas are also returning. The Homeland Council, through its own consulates, grants them the greatest possible support in the form of money and means to establish their own herds. The ships bring many such returnees here via Constance and Württemberg.\"\n",
    "df_article = pd.DataFrame(np.column_stack([article_1]), \n",
    "                              columns=['Original Text'])\n",
    "df_translation = pd.DataFrame(np.column_stack([translation]), \n",
    "                               columns=['Translation'])\n",
    "df_article_1 = pd.concat([df_article, df_translation],axis=1)\n",
    "df_article_1.columns=['Original Text', 'Translation']\n",
    "df_article_1.style.set_caption('Table 1: Innsbrucker Nachrichten, May 1913 | left: original; right: translation').hide_index()"
   ]
  },
  {
   "cell_type": "markdown",
   "metadata": {},
   "source": [
    "The second article of the *Neue Freie Presse*, written in March 1935, contains the word 'Rückwanderung' as well, but reports on the return of foreign assets from England as well as on the return of money from the United States. This article was labeled as not useful for the research project on human return migration."
   ]
  },
  {
   "cell_type": "code",
   "execution_count": 2,
   "metadata": {
    "tags": [
     "narrative",
     "hermeneutics"
    ]
   },
   "outputs": [
    {
     "data": {
      "text/html": [
       "<style  type=\"text/css\" >\n",
       "</style><table id=\"T_62aef2c6_ae63_11eb_9348_e470b8a9ba13\" ><caption>Table 2: Neure Freie Presse, March 1935 | left: original; right: translation</caption><thead>    <tr>        <th class=\"col_heading level0 col0\" >Original Text</th>        <th class=\"col_heading level0 col1\" >Translation</th>    </tr></thead><tbody>\n",
       "                <tr>\n",
       "                                <td id=\"T_62aef2c6_ae63_11eb_9348_e470b8a9ba13row0_col0\" class=\"data row0 col0\" >London. von Auslandgeldern aus Londoner Dienst der „Neuen Freien Presse“. London, 4. März. „Times“ schreibt über die Sterlingverkäufe auf den ausländischen Märkten: Das neue Abgleiten des Pfundkurses, das nun auf die etwa 1Oprozentige Abwertung des Jahres 1934 folgt, ist hauptsächlich eine Folge der Rückwanderung der ansländischen Fonds, die in den Jahren 1932 bis 1933 in sehr hohen Beträgen nach London gesandt worden waren. Die Umkehrung dieser Bewegung hat verschiedene Ursachen. Zum Beispiel hat die Fixierung der Relation zwischen Gold= und Dollarpreis im vorigen Jahr eine beträchtliche Rückwanderung amerikansschen Geldes nach den Vereinigten Staaten mit sich gebracht. Ein weiterer Faktor, der zur Abschwächung des Pfundes beitrug, ist die niedrige Zinsrate in London im Verhältnis zu jeuer der Goldblockländer.</td>\n",
       "                        <td id=\"T_62aef2c6_ae63_11eb_9348_e470b8a9ba13row0_col1\" class=\"data row0 col1\" >London. of foreign money from London service of the 'Neue Freie Presse'. London, March 4. 'Times' writes on sterling sales in foreign markets: The new slide in the rate of the pound, which now follows the depreciation of about 1O per cent. in 1934, is chiefly a consequence of the return of domestic funds which had been sent to London in very large sums in 1932 to 1933. The reversal of this movement has several causes. For example, the fixing of the relation between the price of gold and the price of the dollar last year brought about a considerable return of American money to the United States. Another factor contributing to the weakening of the pound is the low interest rate in London relative to that of any of the gold bloc countries.</td>\n",
       "            </tr>\n",
       "    </tbody></table>"
      ],
      "text/plain": [
       "<pandas.io.formats.style.Styler at 0x228d99e14c8>"
      ]
     },
     "execution_count": 2,
     "metadata": {},
     "output_type": "execute_result"
    }
   ],
   "source": [
    "article_2 = df['text'][111].replace(\"\\n\",\" \")\n",
    "translation_2 = \"London. of foreign money from London service of the 'Neue Freie Presse'. London, March 4. 'Times' writes on sterling sales in foreign markets: The new slide in the rate of the pound, which now follows the depreciation of about 1O per cent. in 1934, is chiefly a consequence of the return of domestic funds which had been sent to London in very large sums in 1932 to 1933. The reversal of this movement has several causes. For example, the fixing of the relation between the price of gold and the price of the dollar last year brought about a considerable return of American money to the United States. Another factor contributing to the weakening of the pound is the low interest rate in London relative to that of any of the gold bloc countries.\"\n",
    "                    \n",
    "df_article_2 = pd.DataFrame(np.column_stack([article_2]), \n",
    "                              columns=['Original Text'])\n",
    "\n",
    "df_translation_2 = pd.DataFrame(np.column_stack([translation_2]), \n",
    "                               columns=['Translation'])\n",
    "df_article_3 = pd.concat([df_article_2,df_translation_2], ignore_index=True, axis=1)\n",
    "df_article_3.columns=['Original Text', 'Translation']\n",
    "df_article_3.style.set_caption('Table 2: Neure Freie Presse, March 1935 | left: original; right: translation').hide_index()"
   ]
  },
  {
   "cell_type": "markdown",
   "metadata": {},
   "source": [
    "All these challenges make it necessary to consider more advanced and complex techniques for the compilation of the corpus."
   ]
  },
  {
   "cell_type": "markdown",
   "metadata": {},
   "source": [
    "### 2.3 Methods to improve the representativeness of specialized corpora"
   ]
  },
  {
   "cell_type": "markdown",
   "metadata": {},
   "source": [
    "There are a number of methods to improve the representativeness of specialized corpora. Search techniques such as Boolean queries from the area of information retrieval, for example, can be a great help to refine searches and to find relevant information. However, for the creation of topic-specific corpora, the search for texts containing specific information (e.g., a combination of words) can include biases <cite data-cite=\"6142573/RZWYTHC7\"></cite>. "
   ]
  },
  {
   "cell_type": "markdown",
   "metadata": {},
   "source": [
    "Another method that draws on techniques used in information retrieval is the relative query term relevance (RQTR) method. RQTR is an approach to formulate a complex query for a topic-specific corpus by calculating the degree of precision and recall of a query. This means that the RQTR method is based on the combination of keywords (candidate term and core query) calculating the relevance of the candidate term (e.g., the relevance of the term Hamas for the topic on refugees). If a candidate term has a clear positive RQTR score, it can be used to add more relevant texts to a corpus. If the score is negative, it would add too much noise to the chosen dataset <cite data-cite=\"6142573/TTCX55K3\"></cite>. This approach can also be adapted to reduce the issue of polysemous query terms, as <cite data-cite=\"6142573/9KTJU78H\"></cite> suggests. In this paper the RQTR method was used to find good keywords which were combined with a polysemous search term to reduce the number of irrelevant articles. This method, however, is both time-consuming and also influenced by the researcher’s choice of candidate terms. "
   ]
  },
  {
   "cell_type": "markdown",
   "metadata": {},
   "source": [
    "This is why machine learning approaches where looked into: word sense disambiguation (WSD) from the natural language processing (NLP) area includes methods that are meant to automatically disambiguate polysemous search terms. WSD can be described as a 'task of associating the correct meaning with a word in a given context' <cite data-cite=\"6142573/U48CR9BT\"></cite>. WSD techniques can be knowledge-based (e.g., based on dictionaries), supervised (uses machine-learning technique from manually annotated data), or unsupervised. Unsupervised WSD methods assume that similar meanings occur in similar contexts <cite data-cite=\"6142573/SC642F4H\"></cite></cite><cite data-cite=\"6142573/LVI27PCC\"></cite> and they learn from unlabelled text. We found that WSD can overcome some of the above mentioned challenges. It derives the actual meanings of ambiguous words and their underlying concepts from its contexts, rather than from simply matching character strings like keyword search technologies <cite data-cite=\"undefined\"></cite>. WSD uses both topic modeling and the Jensen Shannon divergence method. Topic modeling as a method for successful WSD has been described, for example, by <cite data-cite=\"6142573/WLBLU3DX\"></cite>. They proposed to use 'words that share the same hidden topic across many documents' for disambiguation rather than sentence-level or document-level approaches. Similarity measures for WSD are discussed in several papers. <cite data-cite=\"6142573/QA8I2BAZ\"></cite>, for example, discussed a method to find similar contexts (assuming words to be similar if they appear in similar sentences) by computing similarity between the original context of a word and similar sentences in a feedback set. Other similarity based methods for WSD were presented by <cite data-cite=\"6142573/WSN56ZDB\"></cite>, as well as by <cite data-cite=\"6142573/2FLWKIR9\"></cite>. "
   ]
  },
  {
   "cell_type": "markdown",
   "metadata": {},
   "source": [
    "The combination of LDA and JSD to group similar articles, documents or groups of documents that we also apply here and discuss in section 3.1, has been described in several computer science research papers <cite data-cite=\"6142573/QA64ENM8\"></cite><cite data-cite=\"6142573/YJ6WDMIM\"></cite><cite data-cite=\"6142573/JETQF4X2\"></cite>."
   ]
  },
  {
   "cell_type": "markdown",
   "metadata": {},
   "source": [
    "### 2.4 Creating a newspaper corpus on historical return migration movements using text mining methods"
   ]
  },
  {
   "cell_type": "markdown",
   "metadata": {},
   "source": [
    "In order to use machine learning to support the building of a representative corpus on return migration, the process starts with the creation of a manually annotated training (and feedback) and testing collection that contains relevant as well as non-relevant articles for the topic on return migration. The training/feedback and testing corpus was created with the beta version of the <a href=\"https://platform.newseye.eu\" target=\"_blank\">NewsEye Platform</a> <cite data-cite=\"6142573/G3B3QXYX\"></cite>. This platform allows to create and manage datasets, to add annotations as well as to export them. In total, 208 newspaper clippings were collected, marked as relevant or non relevant (which can be done within the NewsEye platform), and exported, using following search terms: 'Rückkehr' (*returning back*), 'Heimkehr' (*returning home*), 'heimgekehrt' (*(people who) returned home*), 'Rückwanderer' (*returnees*), 'Rückwanderung' (*return migration*), 'Heimkehrer' (*returnees*), 'heimkehrend' (*(people who) are returning*). Four Austrian newspapers, which where provided by the National Library of Austria (ONB) in the context of the NewsEye project, were used for the manually created corpus: The *Neue Freie Presse*, the *Arbeiter-Zeitung*, the *Illustrierte Kronen Zeitung* and the *Innsbrucker Nachrichten*. "
   ]
  },
  {
   "cell_type": "markdown",
   "metadata": {
    "tags": [
     "hermeneutics"
    ]
   },
   "source": [
    "## Step 1: Preparing a manually created collection"
   ]
  },
  {
   "cell_type": "markdown",
   "metadata": {
    "tags": [
     "hermeneutics"
    ]
   },
   "source": [
    "Thanks to layout segmentation and article separation, which divides OCRed (optical character recognized) text into news-units in the *NewsEye* platform, it was possible to find and extract newspaper clippings on the topic of return migration. Layout segmentation and article separation for newspapers, however, are still highly error-prone, and computer scientists from the University of Rostock are constantly working on improving automated article separation. In the meantime, to meet the problem of under-/over-segmentation of articles, functionalities that allow to manually merge text blocks have been proven to be very useful. For the creation of smaller datasets, subcollections or training corpora, this is a highly relevant feature, because it enables the creation of high quality training and testing corpora as it has been done for this project. Dataset functions further allow to create and organize collections, to mark them as relevant, less relevant or not relevant, and to export a collection as a Zip, JSON or CSV file, which make it possible to import the collection within a coding environment such as <a href=\"https://jupyter.org/\" target=\"_blank\">*Jupyter* notebooks</a>. As can be seen in Figure 3, a total number of 125 articles were manually annotated as relevant (by assigning the number 3) and 82 articles were annotated as irrelevant (by assigning the number 0). While creating and annotating the dataset, value was placed on the representativity of the collection (in covering all possible topics, time frames, article lengths and genres). In addition, newspaper clippings where return migration was only a minor subject were included as well. Table 3 shows two articles from the manually created collections and the relevancy labels connected with those articles. "
   ]
  },
  {
   "cell_type": "code",
   "execution_count": 3,
   "metadata": {
    "tags": [
     "narrative",
     "hermeneutics"
    ]
   },
   "outputs": [
    {
     "data": {
      "image/png": "[encoded data removed]",
      "text/plain": [
       "<Figure size 432x288 with 1 Axes>"
      ]
     },
     "metadata": {
      "needs_background": "light"
     },
     "output_type": "display_data"
    }
   ],
   "source": [
    "%matplotlib inline\n",
    "import matplotlib.pyplot as plt\n",
    "df_newspaper = pd.read_csv('data/export_returnmigration_16_04_2021_21_35.csv')\n",
    "fig = df_newspaper.groupby(['relevancy','newspaper_id']).size().unstack().plot(kind='bar',stacked=True)\n",
    "plt.title('Figure 3: Manually annotated newspapers clippings on the topic of return migration (0 = irrelevant, 3 = relevant)')\n",
    "plt.show()"
   ]
  },
  {
   "cell_type": "code",
   "execution_count": 4,
   "metadata": {
    "tags": [
     "hermeneutics"
    ]
   },
   "outputs": [
    {
     "data": {
      "text/html": [
       "<style  type=\"text/css\" >\n",
       "</style><table id=\"T_6316dade_ae63_11eb_85c1_e470b8a9ba13\" ><caption>Table 3: Text with relevancy labels (3 = relevant; 0 = irrelevant) </caption><thead>    <tr>        <th class=\"col_heading level0 col0\" >relevancy</th>        <th class=\"col_heading level0 col1\" >text</th>    </tr></thead><tbody>\n",
       "                <tr>\n",
       "                                <td id=\"T_6316dade_ae63_11eb_85c1_e470b8a9ba13row0_col0\" class=\"data row0 col0\" >3</td>\n",
       "                        <td id=\"T_6316dade_ae63_11eb_85c1_e470b8a9ba13row0_col1\" class=\"data row0 col1\" >[Oesterreichisch=ungarische Natural=Verpflegsstation in Hamburg.] Heute tritt in Hamburg\n",
       "die vom Oesterreichisch=ungarischen Hilfsvereine errichtete NaturalVerpflegsstation ins Leben. In derselben befinden sich vorläufig sechs\n",
       "Betten, die aber bei dem starken Andrange hilfesuchender Oesterreicher\n",
       "und Ungarn, insbesondere der Rückwanderer aus überseeischen Ländern,\n",
       "beiweitem nicht ausreichend sind, die wünschenswerthe Vergrößerung\n",
       "der Verpflegsstatton kann erst erfolgen, sobald der Verein die\n",
       "dazu nöthigen Geldmittel aufzubringen in der Lage sein wird. Die\n",
       "in der Verpflegsstation untergebrachten Landsleute und auch solche,\n",
       "welche dort nicht untergebracht werden können, erhalten außerdem\n",
       "eine einfache, aber ausreichende Nahrung (Frühstück, Mittag= und\n",
       "Abendbrot), wogegen die Unterstützung bedürftiger Reisender mit\n",
       "Bargeld von heute an eingestellt wurde.</td>\n",
       "            </tr>\n",
       "            <tr>\n",
       "                                <td id=\"T_6316dade_ae63_11eb_85c1_e470b8a9ba13row1_col0\" class=\"data row1 col0\" >0</td>\n",
       "                        <td id=\"T_6316dade_ae63_11eb_85c1_e470b8a9ba13row1_col1\" class=\"data row1 col1\" >[Die Bilanz von Monte=Carlo.] Der Mailänder\n",
       "Secolo veröffentlicht die Bilanz von Monte=Carlo, wie sie\n",
       "mit Schluß des Finanzjahres (31. October) aufgestellt wurde.\n",
       "Das Erträgniß der Spielbank betrug 14.850,000 Francs (im\n",
       "vergangenen Finanzjahre 19.850,000 Francs). Ausgaben: Civilliste für den Fürsten Albert von Monaco 2.000,000 Francs;\n",
       "Polizei, Gendarmerie, Unterricht und öffentliche Anlagen\n",
       "1.500,000 Francs; Directoren, Verwalter, Croupiers und Dienstpersonal 1.000,000 Francs; Theater, Orchester, Rennen,\n",
       "Regatten, Taubenschießen und Wohlthätigkeit 800,000 Francs;\n",
       "Annoncen und Einschaltungen 500,000 Francs; Reisegelder für\n",
       "verunglückte Spieler, um ihnen die Heimkehr zu ermöglichen,\n",
       "100,000 Francs; ebensoviel wurde auch für die Verhinderung\n",
       "von Selbstmorden verausgabt. Nichtsdestoweniger haben sich im\n",
       "abgelaufenen Finanzjahre 35 Personen wegen ihrer Spielverluste\n",
       "entleibt.</td>\n",
       "            </tr>\n",
       "    </tbody></table>"
      ],
      "text/plain": [
       "<pandas.io.formats.style.Styler at 0x228d99f8148>"
      ]
     },
     "execution_count": 4,
     "metadata": {},
     "output_type": "execute_result"
    }
   ],
   "source": [
    "df[12:14].style.set_caption('Table 3: Text with relevancy labels (3 = relevant; 0 = irrelevant) ').hide_index()\n"
   ]
  },
  {
   "cell_type": "markdown",
   "metadata": {},
   "source": [
    "Special attention was paid to ensure that the collection was representative for the topic and the data of high quality. For representativeness, full newspaper articles from different eras between 1850 and 1950 were taken into account (also articles where return migration was only a subordinate topic), making sure no important aspect of return migration movements was left out. The high quality of Optical Character Recognition (OCR) of the newspaper issues in the platform made sure that no bigger  distortions caused by OCR errors had to be dealt with. Within the NewsEye project, a dataset of some 1.5 million pages from the participating national libraries of Austria, France, and Finland was re-OCRed which led to impressive improvements in OCR quality when compared to the original datasets, producing output with character error rates below 1 percent <cite data-cite=\"6142573/NBV4BG2G\"></cite>.\n"
   ]
  },
  {
   "cell_type": "markdown",
   "metadata": {},
   "source": [
    "Before text mining methods could be applied, the collection had to be cleaned and pre-processed (as described in the step 2). "
   ]
  },
  {
   "cell_type": "markdown",
   "metadata": {
    "tags": [
     "hermeneutics"
    ]
   },
   "source": [
    "## Step 2: Cleaning, tokenizing and stemming the text "
   ]
  },
  {
   "cell_type": "markdown",
   "metadata": {
    "tags": [
     "hermeneutics"
    ]
   },
   "source": [
    "Before natural language processing (NLP) methods can be applied, in a first step, the text must be cleaned (discarding punctuation and capitalization of words, removal of stop words, lower case the text), tokenized (breaking text into individual linguistic units) and stemmed (reduction of inflected words to their root words). A further preprocessing step that could be applied is lemmatization (converting words to their lemma form/lexeme). This step, however, had a negative effect on the final result and therefore was not used.  The list of German stop words provided by the NLTK package was extended to include more words. In order to do this, a longer list of German stop words was retrieved from https://countwordsfree.com/stopwords/german and added to the existing list. In addition, highly frequent words such as the search terms (e.g., 'Rückkehr' (*return*)) were also filtered out, because these words understandably would have a predominant relevancy. This improved the final results considerably. "
   ]
  },
  {
   "cell_type": "markdown",
   "metadata": {
    "tags": [
     "hermeneutics"
    ]
   },
   "source": [
    "It turned out to be important to pay attention to the order in which the single steps are applied. Preprocessing starts with the initial cleaning, continues with the removal of stop-words and ends with the stemming of the remaining words. Table 4 shows what the same articles from Table 1 look like after pre-processing (column 'tokenized')."
   ]
  },
  {
   "cell_type": "code",
   "execution_count": 5,
   "metadata": {},
   "outputs": [
    {
     "name": "stderr",
     "output_type": "stream",
     "text": [
      "[nltk_data] Downloading package stopwords to\n",
      "[nltk_data]     C:\\Users\\c62255\\AppData\\Roaming\\nltk_data...\n",
      "[nltk_data]   Package stopwords is already up-to-date!\n",
      "[nltk_data] Downloading package punkt to\n",
      "[nltk_data]     C:\\Users\\c62255\\AppData\\Roaming\\nltk_data...\n",
      "[nltk_data]   Package punkt is already up-to-date!\n"
     ]
    },
    {
     "data": {
      "text/html": [
       "<style  type=\"text/css\" >\n",
       "</style><table id=\"T_6b8714b6_ae63_11eb_8589_e470b8a9ba13\" ><caption>Table 4: Relevancy, original text and preprocessed text</caption><thead>    <tr>        <th class=\"col_heading level0 col0\" >relevancy</th>        <th class=\"col_heading level0 col1\" >text</th>        <th class=\"col_heading level0 col2\" >tokenized</th>    </tr></thead><tbody>\n",
       "                <tr>\n",
       "                                <td id=\"T_6b8714b6_ae63_11eb_8589_e470b8a9ba13row0_col0\" class=\"data row0 col0\" >3</td>\n",
       "                        <td id=\"T_6b8714b6_ae63_11eb_8589_e470b8a9ba13row0_col1\" class=\"data row0 col1\" >[Oesterreichisch=ungarische Natural=Verpflegsstation in Hamburg.] Heute tritt in Hamburg\n",
       "die vom Oesterreichisch=ungarischen Hilfsvereine errichtete NaturalVerpflegsstation ins Leben. In derselben befinden sich vorläufig sechs\n",
       "Betten, die aber bei dem starken Andrange hilfesuchender Oesterreicher\n",
       "und Ungarn, insbesondere der Rückwanderer aus überseeischen Ländern,\n",
       "beiweitem nicht ausreichend sind, die wünschenswerthe Vergrößerung\n",
       "der Verpflegsstatton kann erst erfolgen, sobald der Verein die\n",
       "dazu nöthigen Geldmittel aufzubringen in der Lage sein wird. Die\n",
       "in der Verpflegsstation untergebrachten Landsleute und auch solche,\n",
       "welche dort nicht untergebracht werden können, erhalten außerdem\n",
       "eine einfache, aber ausreichende Nahrung (Frühstück, Mittag= und\n",
       "Abendbrot), wogegen die Unterstützung bedürftiger Reisender mit\n",
       "Bargeld von heute an eingestellt wurde.</td>\n",
       "                        <td id=\"T_6b8714b6_ae63_11eb_8589_e470b8a9ba13row0_col2\" class=\"data row0 col2\" >['oesterreichischungarisch', 'naturalverpflegsst', 'hamburg', 'hamburg', 'oesterreichischungarischen', 'hilfsverein', 'errichtet', 'naturalverpflegsst', 'leben', 'befinden', 'vorläufig', 'betten', 'starken', 'andrang', 'hilfesuchend', 'oesterreich', 'ungarn', 'insbesonder', 'rückwander', 'überseeischen', 'ländern', 'beiweitem', 'ausreichend', 'wünschenswerth', 'vergrößerung', 'verpflegsstatton', 'erfolgen', 'sobald', 'verein', 'nöthigen', 'geldmittel', 'aufzubringen', 'lage', 'verpflegsst', 'untergebrachten', 'landsleut', 'untergebracht', 'erhalten', 'einfach', 'ausreichend', 'nahrung', 'frühstück', 'mittag', 'abendbrot', 'wogegen', 'unterstützung', 'bedürftig', 'reisend', 'bargeld', 'eingestellt']</td>\n",
       "            </tr>\n",
       "            <tr>\n",
       "                                <td id=\"T_6b8714b6_ae63_11eb_8589_e470b8a9ba13row1_col0\" class=\"data row1 col0\" >0</td>\n",
       "                        <td id=\"T_6b8714b6_ae63_11eb_8589_e470b8a9ba13row1_col1\" class=\"data row1 col1\" >[Die Bilanz von Monte=Carlo.] Der Mailänder\n",
       "Secolo veröffentlicht die Bilanz von Monte=Carlo, wie sie\n",
       "mit Schluß des Finanzjahres (31. October) aufgestellt wurde.\n",
       "Das Erträgniß der Spielbank betrug 14.850,000 Francs (im\n",
       "vergangenen Finanzjahre 19.850,000 Francs). Ausgaben: Civilliste für den Fürsten Albert von Monaco 2.000,000 Francs;\n",
       "Polizei, Gendarmerie, Unterricht und öffentliche Anlagen\n",
       "1.500,000 Francs; Directoren, Verwalter, Croupiers und Dienstpersonal 1.000,000 Francs; Theater, Orchester, Rennen,\n",
       "Regatten, Taubenschießen und Wohlthätigkeit 800,000 Francs;\n",
       "Annoncen und Einschaltungen 500,000 Francs; Reisegelder für\n",
       "verunglückte Spieler, um ihnen die Heimkehr zu ermöglichen,\n",
       "100,000 Francs; ebensoviel wurde auch für die Verhinderung\n",
       "von Selbstmorden verausgabt. Nichtsdestoweniger haben sich im\n",
       "abgelaufenen Finanzjahre 35 Personen wegen ihrer Spielverluste\n",
       "entleibt.</td>\n",
       "                        <td id=\"T_6b8714b6_ae63_11eb_8589_e470b8a9ba13row1_col2\" class=\"data row1 col2\" >['bilanz', 'montecarlo', 'mailänder', 'secolo', 'veröffentlicht', 'bilanz', 'montecarlo', 'schluß', 'finanzjahr', '31', 'octob', 'aufgestellt', 'erträgniß', 'spielbank', 'betrug', '14850000', 'franc', 'finanzjahr', '19850000', 'franc', 'ausgaben', 'civillist', 'fürsten', 'albert', 'monaco', '2000000', 'franc', 'polizei', 'gendarmeri', 'unterricht', 'öffentlich', 'anlagen', '1500000', 'franc', 'directoren', 'verwalt', 'croupier', 'dienstperson', '1000000', 'franc', 'theater', 'orchest', 'rennen', 'regatten', 'taubenschießen', 'wohlthätigkeit', '800000', 'franc', 'annoncen', 'einschaltungen', '500000', 'franc', 'reisegeld', 'verunglückt', 'spieler', 'ermöglichen', '100000', 'franc', 'ebensoviel', 'verhinderung', 'selbstmorden', 'verausgabt', 'nichtsdestowenig', 'abgelaufenen', 'finanzjahr', '35', 'personen', 'spielverlust', 'entleibt']</td>\n",
       "            </tr>\n",
       "    </tbody></table>"
      ],
      "text/plain": [
       "<pandas.io.formats.style.Styler at 0x228ed9c2708>"
      ]
     },
     "execution_count": 5,
     "metadata": {},
     "output_type": "execute_result"
    }
   ],
   "source": [
    "import numpy as np\n",
    "import nltk\n",
    "from nltk.corpus import stopwords\n",
    "from nltk.stem.porter import PorterStemmer\n",
    "from nltk import FreqDist\n",
    "import spacy\n",
    "\n",
    "#functions to clean and tokenize the data\n",
    "def initial_clean(text):\n",
    "    text = re.sub(r'[^\\w\\s]','',text)\n",
    "    text = text.lower() \n",
    "    text = nltk.word_tokenize(text)\n",
    "    return text\n",
    "\n",
    "#remove stop words\n",
    "nltk.download('stopwords')\n",
    "nltk.download('punkt')\n",
    "\n",
    "stop_words = stopwords.words('german')\n",
    "#add stop words manually\n",
    "stop_words.extend(['wien', 'heimgekehrten', 'rückwanderung','heimkehr',\"heimkehrer\", \"rückkehr\", \"heimkehren\", \"zurückkehren\", \"a\", \"ab\",\"aber\",\"ach\",\"acht\",\"achte\",\"achten\",\"achter\",\"achtes\",\"ag\",\"alle\",\"allein\",\"allem\",\"allen\",\"aller\",\"allerdings\",\"alles\",\"allgemeinen\",\"als\",\"also\",\"am\",\"an\",\"andere\",\"anderen\",\"andern\",\"anders\",\"au\",\"auch\",\"auf\",\"aus\",\"ausser\",\"außer\",\"ausserdem\",\"außerdem\",\"b\",\"bald\",\"bei\",\"beide\",\"beiden\",\"beim\",\"beispiel\",\"bekannt\",\"bereits\",\"besonders\",\"besser\",\"besten\",\"bin\",\"bis\",\"bisher\",\"bist\",\"c\",\"d\",\"da\",\"dabei\",\"dadurch\",\"dafür\",\"dagegen\",\"daher\",\"dahin\",\"dahinter\",\"damals\",\"damit\",\"danach\",\"daneben\",\"dank\",\"dann\",\"daran\",\"darauf\",\"daraus\",\"darf\",\"darfst\",\"darin\",\"darüber\",\"darum\",\"darunter\",\"das\",\"dasein\",\"daselbst\",\"dass\",\"daß\",\"dasselbe\",\"davon\",\"davor\",\"dazu\",\"dazwischen\",\"dein\",\"deine\",\"deinem\",\"deiner\",\"dem\",\"dementsprechend\",\"demgegenüber\",\"demgemäss\",\"demgemäß\",\"demselben\",\"demzufolge\",\"den\",\"denen\",\"denn\",\"denselben\",\"der\",\"deren\",\"derjenige\",\"derjenigen\",\"dermassen\",\"dermaßen\",\"derselbe\",\"derselben\",\"des\",\"deshalb\",\"desselben\",\"dessen\",\"deswegen\",\"d.h\",\"dich\",\"die\",\"diejenige\",\"diejenigen\",\"dies\",\"diese\",\"dieselbe\",\"dieselben\",\"diesem\",\"diesen\",\"dieser\",\"dieses\",\"dir\",\"doch\",\"dort\",\"drei\",\"drin\",\"dritte\",\"dritten\",\"dritter\",\"drittes\",\"du\",\"durch\",\"durchaus\",\"dürfen\",\"dürft\",\"durfte\",\"durften\",\"e\",\"eben\",\"ebenso\",\"ehrlich\",\"ei\",\"ei,\",\"eigen\",\"eigene\",\"eigenen\",\"eigener\",\"eigenes\",\"ein\",\"einander\",\"eine\",\"einem\",\"einen\",\"einer\",\"eines\",\"einige\",\"einigen\",\"einiger\",\"einiges\",\"einmal\",\"eins\",\"elf\",\"en\",\"ende\",\"endlich\",\"entweder\",\"er\",\"Ernst\",\"erst\",\"erste\",\"ersten\",\"erster\",\"erstes\",\"es\",\"etwa\",\"etwas\",\"euch\",\"f\",\"früher\",\"fünf\",\"fünfte\",\"fünften\",\"fünfter\",\"fünftes\",\"für\",\"g\",\"gab\",\"ganz\",\"ganze\",\"ganzen\",\"ganzer\",\"ganzes\",\"gar\",\"gedurft\",\"gegen\",\"gegenüber\",\"gehabt\",\"gehen\",\"geht\",\"gekannt\",\"gekonnt\",\"gemacht\",\"gemocht\",\"gemusst\",\"genug\",\"gerade\",\"gern\",\"gesagt\",\"geschweige\",\"gewesen\",\"gewollt\",\"geworden\",\"gibt\",\"ging\",\"gleich\",\"gott\",\"gross\",\"groß\",\"grosse\",\"große\",\"grossen\",\"großen\",\"grosser\",\"großer\",\"grosses\",\"großes\",\"gut\",\"gute\",\"guter\",\"gutes\",\"h\",\"habe\",\"haben\",\"habt\",\"hast\",\"hat\",\"hatte\",\"hätte\",\"hatten\",\"hätten\",\"heisst\",\"her\",\"heute\",\"hier\",\"hin\",\"hinter\",\"hoch\",\"i\",\"ich\",\"ihm\",\"ihn\",\"ihnen\",\"ihr\",\"ihre\",\"ihrem\",\"ihren\",\"ihrer\",\"ihres\",\"im\",\"immer\",\"in\",\"indem\",\"infolgedessen\",\"ins\",\"irgend\",\"ist\",\"j\",\"ja\",\"jahr\",\"jahre\",\"jahren\",\"je\",\"jede\",\"jedem\",\"jeden\",\"jeder\",\"jedermann\",\"jedermanns\",\"jedoch\",\"jemand\",\"jemandem\",\"jemanden\",\"jene\",\"jenem\",\"jenen\",\"jener\",\"jenes\",\"jetzt\",\"k\",\"kam\",\"kann\",\"kannst\",\"kaum\",\"kein\",\"keine\",\"keinem\",\"keinen\",\"keiner\",\"kleine\",\"kleinen\",\"kleiner\",\"kleines\",\"kommen\",\"kommt\",\"können\",\"könnt\",\"konnte\",\"könnte\",\"konnten\",\"kurz\",\"l\",\"lang\",\"lange\",\"leicht\",\"leide\",\"lieber\",\"los\",\"m\",\"machen\",\"macht\",\"machte\",\"mag\",\"magst\",\"mahn\",\"man\",\"manche\",\"manchem\",\"manchen\",\"mancher\",\"manches\",\"mann\",\"mehr\",\"mein\",\"meine\",\"meinem\",\"meinen\",\"meiner\",\"meines\",\"mensch\",\"menschen\",\"mich\",\"mir\",\"mit\",\"mittel\",\"mochte\",\"möchte\",\"mochten\",\"mögen\",\"möglich\",\"mögt\",\"morgen\",\"muss\",\"muß\",\"müssen\",\"musst\",\"müsst\",\"musste\",\"mussten\",\"n\",\"na\",\"nach\",\"nachdem\",\"nahm\",\"natürlich\",\"neben\",\"nein\",\"neue\",\"neuen\",\"neun\",\"neunte\",\"neunten\",\"neunter\",\"neuntes\",\"nicht\",\"nichts\",\"nie\",\"niemand\",\"niemandem\",\"niemanden\",\"noch\",\"nun\",\"nur\",\"o\",\"ob\",\"oben\",\"oder\",\"offen\",\"oft\",\"ohne\",\"Ordnung\",\"p\",\"q\",\"r\",\"recht\",\"rechte\",\"rechten\",\"rechter\",\"rechtes\",\"richtig\",\"rund\",\"s\",\"sa\",\"sache\",\"sagt\",\"sagte\",\"sah\",\"satt\",\"schlecht\",\"Schluss\",\"schon\",\"sechs\",\"sechste\",\"sechsten\",\"sechster\",\"sechstes\",\"sehr\",\"sei\",\"seid\",\"seien\",\"sein\",\"seine\",\"seinem\",\"seinen\",\"seiner\",\"seines\",\"seit\",\"seitdem\",\"selbst\",\"sich\",\"sie\",\"sieben\",\"siebente\",\"siebenten\",\"siebenter\",\"siebentes\",\"sind\",\"so\",\"solang\",\"solche\",\"solchem\",\"solchen\",\"solcher\",\"solches\",\"soll\",\"sollen\",\"sollte\",\"sollten\",\"sondern\",\"sonst\",\"sowie\",\"später\",\"statt\",\"t\",\"tag\",\"tage\",\"tagen\",\"tat\",\"teil\",\"tel\",\"tritt\",\"trotzdem\",\"tun\",\"u\",\"über\",\"überhaupt\",\"übrigens\",\"uhr\",\"um\",\"und\",\"und?\",\"uns\",\"unser\",\"unsere\",\"unserer\",\"unter\",\"v\",\"vergangenen\",\"viel\",\"viele\",\"vielem\",\"vielen\",\"vielleicht\",\"vier\",\"vierte\",\"vierten\",\"vierter\",\"viertes\",\"vom\",\"von\",\"vor\",\"w\",\"wahr?\",\"während\",\"währenddem\",\"währenddessen\",\"wann\",\"war\",\"wäre\",\"waren\",\"wart\",\"warum\",\"was\",\"wegen\",\"weil\",\"weit\",\"weiter\",\"weitere\",\"weiteren\",\"weiteres\",\"welche\",\"welchem\",\"welchen\",\"welcher\",\"welches\",\"wem\",\"wen\",\"wenig\",\"wenige\",\"weniger\",\"weniges\",\"wenigstens\",\"wenn\",\"wer\",\"werde\",\"werden\",\"werdet\",\"wessen\",\"wie\",\"wieder\",\"will\",\"willst\",\"wir\",\"wird\",\"wirklich\",\"wirst\",\"wo\",\"wohl\",\"wollen\",\"wollt\",\"wollte\",\"wollten\",\"worden\",\"wurde\",\"würde\",\"wurden\",\"würden\",\"x\",\"y\",\"z\",\"z.b\",\"zehn\",\"zehnte\",\"zehnten\",\"zehnter\",\"zehntes\",\"zeit\",\"zu\",\"zuerst\",\"zugleich\",\"zum\",\"zunächst\",\"zur\",\"zurück\",\"zusammen\",\"zwanzig\",\"zwar\",\"zwei\",\"zweite\",\"zweiten\",\"zweiter\",\"zweites\",\"zwischen\",\"zwölf\",\"euer\",\"eure\",\"hattest\",\"hattet\",\"jedes\",\"mußt\",\"müßt\",\"sollst\",\"sollt\",\"soweit\",\"weshalb\",\"wieso\",\"woher\",\"wohin\"])\n",
    "def remove_stop_words(text):\n",
    "    return [word for word in text if word not in stop_words]\n",
    "\n",
    "#stemming\n",
    "stemmer = PorterStemmer()\n",
    "def stem_words(text):\n",
    "    try:\n",
    "        text = [stemmer.stem(word) for word in text]\n",
    "        text = [word for word in text if len(word) > 1] \n",
    "    except IndexError: \n",
    "        pass\n",
    "    return text\n",
    "\n",
    "#apllying all functions \n",
    "def apply_all(text):\n",
    "    return stem_words(remove_stop_words(initial_clean(text)))\n",
    "\n",
    "df['tokenized'] = df['text'].apply(apply_all) \n",
    "\n",
    "\n",
    "df[12:14].style.set_caption('Table 4: Relevancy, original text and preprocessed text').hide_index()\n"
   ]
  },
  {
   "cell_type": "markdown",
   "metadata": {},
   "source": [
    "In addition, we divided the collection into a training/feedback corpus and a testing corpus. This provided a set of documents (training corpus) to train the algorithm and a set of documents (testing corpus) to test the efficiency of the chosen methods (step 3)."
   ]
  },
  {
   "cell_type": "markdown",
   "metadata": {
    "tags": [
     "hermeneutics"
    ]
   },
   "source": [
    "## Step 3: Splitting the collection into a training and a testing corpus"
   ]
  },
  {
   "cell_type": "markdown",
   "metadata": {
    "tags": [
     "hermeneutics"
    ]
   },
   "source": [
    "In a second step, the collection was divided into a training/feedback and a testing corpus. To do this, the *numpy.random.rand()* function was used to create an array with a specific shape and fill it with random values. This made it possible to get a good mix of relevant and non-relevant articles in each of the corpora. As this function is based on randomness and the division of the corpora can vary with each call, a random seed was set to create reproducible calls. This means that all random numbers generated after setting the seed are the same on each machine."
   ]
  },
  {
   "cell_type": "code",
   "execution_count": 6,
   "metadata": {
    "scrolled": true,
    "tags": [
     "hermeneutics",
     "narrative"
    ]
   },
   "outputs": [
    {
     "name": "stdout",
     "output_type": "stream",
     "text": [
      "The training corpus contains 123 articles, 75 of which are relevant and 48 irrelevant.\n",
      "The test corpus consists of 84 articles, 50 of which are relevant and 34 irrelevant.\n"
     ]
    },
    {
     "data": {
      "image/png": "[encoded data removed]",
      "text/plain": [
       "<Figure size 720x216 with 2 Axes>"
      ]
     },
     "metadata": {
      "needs_background": "light"
     },
     "output_type": "display_data"
    }
   ],
   "source": [
    "my_colors = [(0.20,0.200,0.50), (0.100, 0.75, 0.200)] #set colors\n",
    "\n",
    "#create testing and training corpus\n",
    "np.random.seed(1)\n",
    "msk = np.random.rand(len(df)) < 0.599\n",
    "train_df = df[msk]\n",
    "train_df.reset_index(drop=True,inplace=True)\n",
    "test_df = df[~msk]\n",
    "test_df.reset_index(drop=True,inplace=True)\n",
    "\n",
    "#plot the result\n",
    "fig, axes = plt.subplots(1,2,figsize=(10,3))\n",
    "test_df.relevancy.value_counts().plot(kind='bar', color = (0.100, 0.75, 0.20), ax=axes[1])\n",
    "test_df.relevancy.value_counts().plot(kind='bar', color = my_colors, ax=axes[1])\n",
    "train_df.relevancy.value_counts().plot(kind='bar', color = (0.100, 0.75, 0.20), ax=axes[0])\n",
    "train_df.relevancy.value_counts().plot(kind='bar', color = my_colors, ax=axes[0])\n",
    "axes[1].legend(['Non_Relevant', 'Relevant'])\n",
    "axes[0].legend(['Non_Relevant', 'Relevant'])\n",
    "axes[1].title.set_text('Figure 5: Testing Corpus')\n",
    "axes[0].title.set_text('Figure 4: Training Corpus')\n",
    "\n",
    "print(f\"The training corpus contains {len(train_df)} articles, {train_df.relevancy.value_counts()[3]} of which are relevant and {train_df.relevancy.value_counts()[0]} irrelevant.\")\n",
    "print(f\"The test corpus consists of {len(test_df)} articles, {test_df.relevancy.value_counts()[3]} of which are relevant and {test_df.relevancy.value_counts()[0]} irrelevant.\")   "
   ]
  },
  {
   "cell_type": "markdown",
   "metadata": {},
   "source": [
    "### 2.5 Applying LDA and the Jensen Shannon divergence (JSD) to classify a corpus into relevant and irrelevant articles"
   ]
  },
  {
   "cell_type": "markdown",
   "metadata": {},
   "source": [
    "In order to be able to separate relevant from irrelevant documents, LDA was used to group words and similar expressions that best characterize relevant or irrelevant documents and to provide every article with information on their topic distribution. The Jensen-Shannon divergence (JSD) method, on the other hand, was used to measure the similarity between the topic distribution of documents. While the training and feedback corpus was used to train the topic modeling algorithm, the test corpus helped to test the efficiency of the similarity measure."
   ]
  },
  {
   "cell_type": "markdown",
   "metadata": {
    "tags": [
     "hermeneutics"
    ]
   },
   "source": [
    "## Step 4: Training the Latent Dirichlet allocation (LDA) algorithm"
   ]
  },
  {
   "cell_type": "markdown",
   "metadata": {
    "tags": [
     "hermeneutics"
    ]
   },
   "source": [
    "For the text classification, Latent Dirichlet allocation (LDA), which belongs to the broader category of methods called topic modeling, was used to group semantically related words <cite data-cite=\"6142573/VPCBKFBD\"></cite>. For the topic on return migration, a high number of topics (250 in this case) leads to better results. In order to represent each document by a small number of topics, a low alpha value was chosen. Low beta, on the other hand, means that each topic is only represented by a small number of words. The function *random_state* serves as a seed in order to make it possible to reproduce the training process. The following example shows the top 20 words of topic number 47. It reflects a mass return migration movement of *millions* of *people* to specific *counties* or *cities*. This topic is clearly connected to return migration. "
   ]
  },
  {
   "cell_type": "code",
   "execution_count": 7,
   "metadata": {},
   "outputs": [
    {
     "name": "stdout",
     "output_type": "stream",
     "text": [
      "Topic number 47: \n"
     ]
    },
    {
     "data": {
      "text/plain": [
       "[('land', 0.026242798),\n",
       " ('millionen', 0.019876832),\n",
       " ('personen', 0.019697793),\n",
       " ('flachen', 0.013265902),\n",
       " ('städten', 0.013237372),\n",
       " ('landbezirken', 0.013234885),\n",
       " ('rückwander', 0.0067685843),\n",
       " ('gesamtemigr', 0.006702349),\n",
       " ('1932', 0.006685725),\n",
       " ('1929', 0.006684386),\n",
       " ('13', 0.00666576),\n",
       " ('verlust', 0.006661928),\n",
       " ('wanderten', 0.0066556577),\n",
       " ('eingewanderten', 0.0066549275),\n",
       " ('dürfte', 0.0066485065),\n",
       " ('wanderung', 0.006646775),\n",
       " ('1931', 0.006645513),\n",
       " ('656000', 0.0066430396),\n",
       " ('bewegt', 0.0066425772),\n",
       " ('betrug', 0.006642084)]"
      ]
     },
     "execution_count": 7,
     "metadata": {},
     "output_type": "execute_result"
    }
   ],
   "source": [
    "import gensim\n",
    "from gensim.models import LdaModel\n",
    "from gensim import models, corpora, similarities\n",
    "import gensim.corpora as corpora\n",
    "import gensim, spacy, logging, warnings\n",
    "from gensim.models import CoherenceModel\n",
    "from gensim.utils import lemmatize, simple_preprocess\n",
    "\n",
    "#function to train the topic model\n",
    "def train_lda(data):\n",
    "    num_topics = 250\n",
    "    dictionary = corpora.Dictionary(data['tokenized'])\n",
    "    corpus = [dictionary.doc2bow(doc) for doc in data['tokenized']]\n",
    "    lda = LdaModel(corpus=corpus, num_topics=num_topics, id2word=dictionary,\n",
    "                   alpha=0.2e-2, eta=1e-2, minimum_probability=0.0, passes=5, iterations=200, update_every=1, random_state=22)\n",
    "    return dictionary,corpus,lda\n",
    "\n",
    "#apply function and check results\n",
    "dictionary,corpus,lda = train_lda(train_df)\n",
    "print(\"Topic number 47: \")\n",
    "lda.show_topic(topicid=47, topn=20)"
   ]
  },
  {
   "cell_type": "markdown",
   "metadata": {},
   "source": [
    "Topic models are based on the assumption that a relatively small set of latent topics underlies natural language texts, where a word may belong to several topics. Topic models use the so-called bag-of-words assumption within a document, while documents can be 'represented as random mixtures over latent topics, where each topic is characterised by a distribution over words', as described by Blei, Ng and Jordan <cite data-cite=\"6142573/VPCBKFBD\"></cite>. While several statistical algorithms for topic modeling exist, LDA was chosen for this approach because it has shown a good ability to cluster documents <cite data-cite=\"6142573/YJ6WDMIM\"></cite>. When using LDA, it needs to be highlighted that the model results are not deterministic. Results are always affected by both the choice of parameters and the built-in stochastic process. Maier et al. <cite data-cite=\"6142573/BMJS79M7\"></cite> therefore proposed the following guidelines in order to increase reliability, interpretability, and validity of LDA models: "
   ]
  },
  {
   "cell_type": "markdown",
   "metadata": {},
   "source": [
    "1. Cleaning and preprocessing steps need to be used reasonably as well as in a correct order. A good knowledge of the corpus and text interpretation of results helps to decide on which steps work well. "
   ]
  },
  {
   "cell_type": "markdown",
   "metadata": {},
   "source": [
    "2. The selection of LDA parameters is crucial. The number of topics depends on the corpus and on the research project. Topic modeling is used for various needs: understanding given topics in a corpus <cite data-cite=\"6142573/5ZGM8EKM\"></cite>, capturing discourse dynamics <cite data-cite=\"6142573/VJZ89VCM\"></cite>, getting a better insight into the type or genre of documents in a corpus <cite data-cite=\"6142573/YQFJLI5C\"></cite>, capturing the evolution of topics and trends within multilingual collections <cite data-cite=\"6142573/SCBME2FU\"></cite>, or comparing different corpora <cite data-cite=\"6142573/YJ6WDMIM\"></cite>. Each of these application areas needs different parameters. While methods to automatically determine the topic number can be helpful in some cases <cite data-cite=\"6142573/CHE86H2F\"></cite><cite data-cite=\"6142573/3MAA8Z5M\"></cite>, close reading a considerable amount of documents remains most reliable. "
   ]
  },
  {
   "cell_type": "markdown",
   "metadata": {},
   "source": [
    "3. Finally, results from topic models are the beginning, not the end of an analysis. Interpreting the results of topic modelling as stable themes needs to be viewed critically. Nevertheless, topic modeling does a great job in clustering, which is why it is well suited for corpus building approaches. "
   ]
  },
  {
   "cell_type": "markdown",
   "metadata": {},
   "source": [
    "As it turned out, for the topic on return migration it was helpful to train a high number of topics (250 in this case) and it was chosen to have each article be represented by a small number of topics (step 4)."
   ]
  },
  {
   "cell_type": "markdown",
   "metadata": {},
   "source": [
    "After training the LDA algorithm, it is easy to see that not all topics have the same dominance in the training corpus. To understand which topic is most prominent in a document, topics with the highest contribution for a document have to be identified (step 5). "
   ]
  },
  {
   "cell_type": "markdown",
   "metadata": {
    "tags": [
     "hermeneutics"
    ]
   },
   "source": [
    "## Step 5: Finding the dominant topic for each article "
   ]
  },
  {
   "cell_type": "markdown",
   "metadata": {
    "tags": [
     "hermeneutics"
    ]
   },
   "source": [
    "After training the LDA algorithm, each of the documents in the training/feedback corpus was represented by one or more topics but not all topics have the same dominance. In order to see which topic is most prominent in a document, topics with the highest contribution for a document can be identified. As can be seen in Table 5, the topic contribution of the most dominant topics is very high (between 0.97 and 0.99). This means that each document is mainly represented by one topic. For example, topic number 47 represents document number 43. "
   ]
  },
  {
   "cell_type": "code",
   "execution_count": 8,
   "metadata": {},
   "outputs": [
    {
     "data": {
      "text/html": [
       "<style  type=\"text/css\" >\n",
       "</style><table id=\"T_872e7d5e_ae63_11eb_9c51_e470b8a9ba13\" style='display:block'><caption>Table 5: Dominant topics for each article, topic keywords and relevancy of the artilces</caption><thead>    <tr>        <th class=\"col_heading level0 col0\" >Document_No</th>        <th class=\"col_heading level0 col1\" >Dominant_Topic</th>        <th class=\"col_heading level0 col2\" >Topic_Perc_Contrib</th>        <th class=\"col_heading level0 col3\" >Keywords</th>        <th class=\"col_heading level0 col4\" >Relevancy</th>    </tr></thead><tbody>\n",
       "                <tr>\n",
       "                                <td id=\"T_872e7d5e_ae63_11eb_9c51_e470b8a9ba13row0_col0\" class=\"data row0 col0\" >43</td>\n",
       "                        <td id=\"T_872e7d5e_ae63_11eb_9c51_e470b8a9ba13row0_col1\" class=\"data row0 col1\" >47.000000</td>\n",
       "                        <td id=\"T_872e7d5e_ae63_11eb_9c51_e470b8a9ba13row0_col2\" class=\"data row0 col2\" >0.989300</td>\n",
       "                        <td id=\"T_872e7d5e_ae63_11eb_9c51_e470b8a9ba13row0_col3\" class=\"data row0 col3\" >land, millionen, personen, flachen, städten, landbezirken, rückwander, gesamtemigr, 1932, 1929</td>\n",
       "                        <td id=\"T_872e7d5e_ae63_11eb_9c51_e470b8a9ba13row0_col4\" class=\"data row0 col4\" >3</td>\n",
       "            </tr>\n",
       "            <tr>\n",
       "                                <td id=\"T_872e7d5e_ae63_11eb_9c51_e470b8a9ba13row1_col0\" class=\"data row1 col0\" >44</td>\n",
       "                        <td id=\"T_872e7d5e_ae63_11eb_9c51_e470b8a9ba13row1_col1\" class=\"data row1 col1\" >63.000000</td>\n",
       "                        <td id=\"T_872e7d5e_ae63_11eb_9c51_e470b8a9ba13row1_col2\" class=\"data row1 col2\" >0.992000</td>\n",
       "                        <td id=\"T_872e7d5e_ae63_11eb_9c51_e470b8a9ba13row1_col3\" class=\"data row1 col3\" >währung, oesterreich, dr, heimat, gesunden, innsbruck, buresch, wirtschaftlichen, finanzminist, minist</td>\n",
       "                        <td id=\"T_872e7d5e_ae63_11eb_9c51_e470b8a9ba13row1_col4\" class=\"data row1 col4\" >3</td>\n",
       "            </tr>\n",
       "            <tr>\n",
       "                                <td id=\"T_872e7d5e_ae63_11eb_9c51_e470b8a9ba13row2_col0\" class=\"data row2 col0\" >45</td>\n",
       "                        <td id=\"T_872e7d5e_ae63_11eb_9c51_e470b8a9ba13row2_col1\" class=\"data row2 col1\" >88.000000</td>\n",
       "                        <td id=\"T_872e7d5e_ae63_11eb_9c51_e470b8a9ba13row2_col2\" class=\"data row2 col2\" >0.992700</td>\n",
       "                        <td id=\"T_872e7d5e_ae63_11eb_9c51_e470b8a9ba13row2_col3\" class=\"data row2 col3\" >generalfeldmarschal, großdeutschland, ao, auslandsdeutsch, deutschen, welt, ostmess, göring, könnten, führer</td>\n",
       "                        <td id=\"T_872e7d5e_ae63_11eb_9c51_e470b8a9ba13row2_col4\" class=\"data row2 col4\" >3</td>\n",
       "            </tr>\n",
       "            <tr>\n",
       "                                <td id=\"T_872e7d5e_ae63_11eb_9c51_e470b8a9ba13row3_col0\" class=\"data row3 col0\" >46</td>\n",
       "                        <td id=\"T_872e7d5e_ae63_11eb_9c51_e470b8a9ba13row3_col1\" class=\"data row3 col1\" >197.000000</td>\n",
       "                        <td id=\"T_872e7d5e_ae63_11eb_9c51_e470b8a9ba13row3_col2\" class=\"data row3 col2\" >0.979700</td>\n",
       "                        <td id=\"T_872e7d5e_ae63_11eb_9c51_e470b8a9ba13row3_col3\" class=\"data row3 col3\" >hund, frauerl, herrl, hart, kehrbesen, gelassen, straße, sofort, spitz, stet</td>\n",
       "                        <td id=\"T_872e7d5e_ae63_11eb_9c51_e470b8a9ba13row3_col4\" class=\"data row3 col4\" >0</td>\n",
       "            </tr>\n",
       "            <tr>\n",
       "                                <td id=\"T_872e7d5e_ae63_11eb_9c51_e470b8a9ba13row4_col0\" class=\"data row4 col0\" >47</td>\n",
       "                        <td id=\"T_872e7d5e_ae63_11eb_9c51_e470b8a9ba13row4_col1\" class=\"data row4 col1\" >80.000000</td>\n",
       "                        <td id=\"T_872e7d5e_ae63_11eb_9c51_e470b8a9ba13row4_col2\" class=\"data row4 col2\" >0.995500</td>\n",
       "                        <td id=\"T_872e7d5e_ae63_11eb_9c51_e470b8a9ba13row4_col3\" class=\"data row4 col3\" >wei, delikat, szene, paulsen, frisch, orlovski, ziel, hosen, getönt, allzubärtigen</td>\n",
       "                        <td id=\"T_872e7d5e_ae63_11eb_9c51_e470b8a9ba13row4_col4\" class=\"data row4 col4\" >0</td>\n",
       "            </tr>\n",
       "            <tr>\n",
       "                                <td id=\"T_872e7d5e_ae63_11eb_9c51_e470b8a9ba13row5_col0\" class=\"data row5 col0\" >48</td>\n",
       "                        <td id=\"T_872e7d5e_ae63_11eb_9c51_e470b8a9ba13row5_col1\" class=\"data row5 col1\" >182.000000</td>\n",
       "                        <td id=\"T_872e7d5e_ae63_11eb_9c51_e470b8a9ba13row5_col2\" class=\"data row5 col2\" >0.987400</td>\n",
       "                        <td id=\"T_872e7d5e_ae63_11eb_9c51_e470b8a9ba13row5_col3\" class=\"data row5 col3\" >bekommen, offizier, kreuzer, reis, wiener, berlin, lask, westafrika, linz, spielen</td>\n",
       "                        <td id=\"T_872e7d5e_ae63_11eb_9c51_e470b8a9ba13row5_col4\" class=\"data row5 col4\" >0</td>\n",
       "            </tr>\n",
       "    </tbody></table>"
      ],
      "text/plain": [
       "<pandas.io.formats.style.Styler at 0x228f6655e48>"
      ]
     },
     "execution_count": 8,
     "metadata": {},
     "output_type": "execute_result"
    }
   ],
   "source": [
    "def format_topics_sentences(ldamodel=None, corpus=corpus, relevancy=df['relevancy']):\n",
    "    sent_topics_df = pd.DataFrame()\n",
    "\n",
    "    #get main topic in each document\n",
    "    for i, row_list in enumerate(ldamodel[corpus]):\n",
    "        row = row_list[0] if ldamodel.per_word_topics else row_list   \n",
    "        row = sorted(row, key=lambda x: (x[1]), reverse=True)\n",
    "        for s, (topic_num, prop_topic) in enumerate(row):\n",
    "            if s == 0:  # => dominant topic\n",
    "                wp = ldamodel.show_topic(topic_num)\n",
    "                topic_keywords = \", \".join([word for word, prop in wp])\n",
    "                sent_topics_df = sent_topics_df.append(pd.Series([int(topic_num), round(prop_topic,4), topic_keywords]), ignore_index=True)\n",
    "            else:\n",
    "                break\n",
    "    sent_topics_df.columns = ['Dominant_Topic', 'Perc_Contribution', 'Topic_Keywords']\n",
    "\n",
    "    #add relevancy to the end of the output\n",
    "    contents = pd.Series(relevancy)\n",
    "    \n",
    "    sent_topics_df = pd.concat([sent_topics_df, contents], axis=1)\n",
    "    return(sent_topics_df)\n",
    "\n",
    "\n",
    "df_topic_sents_keywords = format_topics_sentences(ldamodel=lda, corpus=corpus, relevancy=df['relevancy'])\n",
    "\n",
    "\n",
    "#format\n",
    "df_dominant_topic = df_topic_sents_keywords.reset_index()\n",
    "df_dominant_topic.columns = ['Document_No', 'Dominant_Topic', 'Topic_Perc_Contrib', 'Keywords', 'Relevancy']\n",
    "\n",
    "df_dominant_topic[43:49].style.set_table_attributes(\"style='display:block'\").set_caption('Table 5: Dominant topics for each article, topic keywords and relevancy of the artilces').hide_index()\n"
   ]
  },
  {
   "cell_type": "code",
   "execution_count": 9,
   "metadata": {},
   "outputs": [
    {
     "name": "stdout",
     "output_type": "stream",
     "text": [
      "The text of article 43, which is most represented by topic number 47: \n",
      " \n",
      " Rückwanderer die der Eingewanderten. Dies\n",
      "ist ebenso eine Folge der Krise wie die Umkehr\n",
      "der inneramerikanischen Wanderung, die\n",
      "sich im Jahre 1931 bereits von den Städten nach den\n",
      "Landbezirken hin bewegte. Von 1924 bis 1929\n",
      "wanderten durchschnittlich zwei Millionen Personen vom\n",
      "Land in die Großstädte und 1•3 Millionen Personen von\n",
      "den Städten auf das Land zurück. Der Bevölkerungszuwachs\n",
      "glich einen Teil des Verlustes auf dem flachen Lande wieder\n",
      "aus, so daß in den Jahren 1920 bis 1930 die Gesamtemigration aus den Landbezirken 1·5 Millionen Seelen\n",
      "betrug. Im Jahre 1932 dürfte sich nach Schätzungen ein\n",
      "Rückwanderungsüberschuß nach dem flachen\n",
      "Lande von 656.000 Personen ergeben haben..\n"
     ]
    }
   ],
   "source": [
    "print(f\"The text of article 43, which is most represented by topic number 47: \\n \\n {train_df['text'][43]}.\")"
   ]
  },
  {
   "cell_type": "markdown",
   "metadata": {},
   "source": [
    "A visualization can help to see how good dominant topics (topics with the highest contribution for a document) are separated between relevant and irrelevant documents. The parameters of LDA were chosen so that a document was mainly represented by one topic (step 6). "
   ]
  },
  {
   "cell_type": "markdown",
   "metadata": {
    "tags": [
     "hermeneutics"
    ]
   },
   "source": [
    "## Step 6: Visualizing the relationship of dominant topics and relevance labels"
   ]
  },
  {
   "cell_type": "markdown",
   "metadata": {
    "tags": [
     "hermeneutics"
    ]
   },
   "source": [
    "In order to see how well the dominant topics are separated between relevant (3) and non-relevant (0) articles, a network visualization was plotted using the Python packages *Pandas* and *Networkx*. This visualization helps to see how effective the model was trained.  For the network, the most dominant topic as well as the relevancy label for each newspaper clipping are brought in connection with each other. As can be seen in Figure 6 in the bottom left quadrant, topic number 47 is only connected to articles labeled as relevant (= 3). "
   ]
  },
  {
   "cell_type": "code",
   "execution_count": 10,
   "metadata": {
    "tags": [
     "narrative",
     "hermeneutics"
    ]
   },
   "outputs": [
    {
     "data": {
      "image/png": "[encoded data removed]",
      "text/plain": [
       "<Figure size 468x468 with 1 Axes>"
      ]
     },
     "metadata": {},
     "output_type": "display_data"
    }
   ],
   "source": [
    "import networkx as nx\n",
    "import seaborn as sns\n",
    "import sys\n",
    "\n",
    "#create a list with topics and the relevancy\n",
    "df_dominant_topic.to_csv('topic_relevancy.csv')\n",
    "import csv\n",
    "with open('topic_relevancy.csv',  encoding=\"utf8\") as infile:\n",
    "    reader = csv.reader(infile)    \n",
    "    csv_data = list(reader)\n",
    "df_dominant_topics= pd.read_csv('topic_relevancy.csv', usecols = ['Dominant_Topic', 'Relevancy'])\n",
    "list_topic = []\n",
    "for key in csv_data: \n",
    "    list_topic.append(key[2])\n",
    "topic = list_topic[1:]\n",
    "\n",
    "list_relevancy = []\n",
    "for key in csv_data:\n",
    "    list_relevancy.append(key[5])\n",
    "relevance = list_relevancy[1:] \n",
    "\n",
    "\n",
    "#build a dataframe with 4 connections\n",
    "df = pd.DataFrame({ 'from': relevance, 'to': topic})\n",
    "\n",
    "#build the graph \n",
    "plt.figure(figsize=(6.5,6.5))\n",
    "G = nx.from_pandas_edgelist(df, 'from', 'to')\n",
    "color_map = []\n",
    "for node in G:\n",
    "    if node == \"3\":\n",
    "        color_map.append('#b85399')\n",
    "    if node == \"0\":\n",
    "        color_map.append('#b85399')\n",
    "    else: \n",
    "        color_map.append('#2d95b3') \n",
    "#plot it \n",
    "nx.draw(G, with_labels=True, node_color=color_map, node_size=500)\n",
    "plt.legend(('Relevancy labels (0= irrelevant, 3= relevant)', 'Relationship between entities'),\n",
    "           loc='upper left')\n",
    "plt.title('Figure 6: This graph shows how well the dominant topics are separated between relevant and irrelevant newspaper clippings.')\n",
    "plt.show()\n",
    "\n"
   ]
  },
  {
   "cell_type": "markdown",
   "metadata": {},
   "source": [
    "The Jensen-Shannon divergence (JSD) method was then used to measure the similarity between the topic distribution of documents. Just like LDA, JSD also depends on decisions of the researcher, though far less. For example, it needs to be decided on how many of the most similar texts within the training/feedback set are retrieved and used for feedback on the relevancy. JSD measures which documents are statistically 'closer' (and therefore more alike) by comparing the divergence of their topic distributions. The smaller the distance, the more similar two articles are <cite data-cite=\"6142573/LM8L24CE\"></cite>. "
   ]
  },
  {
   "cell_type": "markdown",
   "metadata": {
    "tags": [
     "hermeneutics"
    ]
   },
   "source": [
    "## Step 7: Finding similar articles in the training corpus using the Jensen-Shannon function"
   ]
  },
  {
   "cell_type": "markdown",
   "metadata": {
    "tags": [
     "hermeneutics"
    ]
   },
   "source": [
    "The topic distributions for each document obtained were used to calculate the degree of similarity between documents by using the JSD method. The first function implements a Jensen-Shannon similarity between the input query (an LDA topic distribution for a document) and the entire corpus of topic distributions. It returns an array of length M where M is the number of documents in the corpus. The second function implements the Jensen-Shannon distance above and returns the top k indices of the smallest Jensen-Shannon distances. For example, for the here shown and so far unseen article from the testing corpus (index 6), which talks about Russian returnees returning from America to Europe, 10 most similar documents from the training corpus were retrieved. Those documents carry the information on the relevancy, as can be seen in Table 6. Since more than 60 percent of the most similar articles were annotated as relevant, the article was classified as relevant. This process was carried out for all articles in the testing corpus.   "
   ]
  },
  {
   "cell_type": "code",
   "execution_count": 11,
   "metadata": {},
   "outputs": [
    {
     "name": "stdout",
     "output_type": "stream",
     "text": [
      "Unseen article from the test corpus (index 6): \n",
      "\n",
      "\n",
      "In der holländischen\n",
      "Hafenstadt Rotterdam\n",
      "und in ganz Holland\n",
      "erregt das Schicksal der\n",
      "russischen Rückwanderer\n",
      "viel Aufsehen, die an\n",
      "Bord des Dampfers\n",
      "„Volturno“ der\n",
      "Uranium=Linie aus\n",
      "Amerika nach Europa\n",
      "zurückgekommen waren\n",
      "und von den deutschen\n",
      "Behörden daran gehindert wurden, durch\n",
      "deutsches Gebiet nach\n",
      "Rußland zu reisen. Diese\n",
      "56 Russen konnten nämlich die von den preußischen Behörden verlangten Dokumente (Durchfahrkarten bis Wirballen\n",
      "und russische Grenzpässe)\n",
      "nicht vorweisen. Die\n",
      "armen Leute mußten\n",
      "also, als der „Volturno“\n",
      "Rotterdam verließ, wieder an Bord gehen, der\n",
      "Kapitän aber ließ sie\n",
      "nochmals ausschiffen.\n",
      "Jetzt werden die Rückwanderer auf Kosten der\n",
      "Uranium= Dampfschifffahrts=Gesellschaft verpflegt. Wie sich ihr\n",
      "Schicksal weiter gestalten\n",
      "wird, muß sich erst noch\n",
      "entscheiden.\n",
      "\n",
      "\n"
     ]
    },
    {
     "data": {
      "text/html": [
       "<style  type=\"text/css\" >\n",
       "</style><table id=\"T_889f35f0_ae63_11eb_98c8_e470b8a9ba13\" ><caption>Table 6: Most similar articles from the training/feedback corpus for article number 6</caption><thead>    <tr>        <th class=\"blank level0\" ></th>        <th class=\"col_heading level0 col0\" >relevancy</th>        <th class=\"col_heading level0 col1\" >text</th>    </tr></thead><tbody>\n",
       "                <tr>\n",
       "                        <th id=\"T_889f35f0_ae63_11eb_98c8_e470b8a9ba13level0_row0\" class=\"row_heading level0 row0\" >7</th>\n",
       "                        <td id=\"T_889f35f0_ae63_11eb_98c8_e470b8a9ba13row0_col0\" class=\"data row0 col0\" >3</td>\n",
       "                        <td id=\"T_889f35f0_ae63_11eb_98c8_e470b8a9ba13row0_col1\" class=\"data row0 col1\" >Der Rechtsvertrag mit Rußland.\n",
       "Auch mit Rußland ist ein Zusatzvertrag zum\n",
       "Friedensvertrag abgeschlossen worden, durch den die rechtlichen Beziehungen zwischen den vertragschließenden\n",
       "Staaten geregelt werden. Im allgemeinen ist dieser Vertrag gleichlautend mit dem mit der Ukraine abgeschlossenen\n",
       "Vert</td>\n",
       "            </tr>\n",
       "            <tr>\n",
       "                        <th id=\"T_889f35f0_ae63_11eb_98c8_e470b8a9ba13level0_row1\" class=\"row_heading level0 row1\" >24</th>\n",
       "                        <td id=\"T_889f35f0_ae63_11eb_98c8_e470b8a9ba13row1_col0\" class=\"data row1 col0\" >3</td>\n",
       "                        <td id=\"T_889f35f0_ae63_11eb_98c8_e470b8a9ba13row1_col1\" class=\"data row1 col1\" >(Auswanderer Transvorte.) Im\n",
       "Monat Februar wurden über die Arlberglenie\n",
       "gegen zweitaufend Amerika=Rückwanderer befördert. Der Großteil davon bestand aus österreichischen Slawen. Diese Woche wurden wieder\n",
       "über 200 österreichische Amerika Auswanderer\n",
       "hier durchbefördert, welche trotz der Mißerfolge,\n",
       "w</td>\n",
       "            </tr>\n",
       "            <tr>\n",
       "                        <th id=\"T_889f35f0_ae63_11eb_98c8_e470b8a9ba13level0_row2\" class=\"row_heading level0 row2\" >46</th>\n",
       "                        <td id=\"T_889f35f0_ae63_11eb_98c8_e470b8a9ba13row2_col0\" class=\"data row2 col0\" >3</td>\n",
       "                        <td id=\"T_889f35f0_ae63_11eb_98c8_e470b8a9ba13row2_col1\" class=\"data row2 col1\" >Rückwanderer\n",
       "sucht Arbeit. Fixer\n",
       "Ober oder Zahlkellner (Bar, Café,\n",
       "Restaurant). Vertretungen in allen\n",
       "Branchen. Verkäufer in Lebensmittel, guter Dekorateur. Reiseführer,\n",
       "redegewdt., spricht\n",
       "deutsch, italienisch,\n",
       "englisch. Zuschrift.\n",
       "unter „Nr. 8709“\n",
       "an d. Anz.=Abt.</td>\n",
       "            </tr>\n",
       "            <tr>\n",
       "                        <th id=\"T_889f35f0_ae63_11eb_98c8_e470b8a9ba13level0_row3\" class=\"row_heading level0 row3\" >89</th>\n",
       "                        <td id=\"T_889f35f0_ae63_11eb_98c8_e470b8a9ba13row3_col0\" class=\"data row3 col0\" >3</td>\n",
       "                        <td id=\"T_889f35f0_ae63_11eb_98c8_e470b8a9ba13row3_col1\" class=\"data row3 col1\" >Deutsche Schritte wegen des\n",
       "Zwischenfalles von Gifon.\n",
       "Berlin, 31. Juli. (D. N. B.) Wegen der Verletzungen\n",
       "deutscher Staatsangehöriger bei der Beschießung\n",
       "Gijons durch den spanischen Kreuzer „Almirante Cewera“\n",
       "hat der Befehlshaber der Linienschiffe sowohl von dem\n",
       "Marineministerium in Madrid als auch\n",
       "</td>\n",
       "            </tr>\n",
       "            <tr>\n",
       "                        <th id=\"T_889f35f0_ae63_11eb_98c8_e470b8a9ba13level0_row4\" class=\"row_heading level0 row4\" >95</th>\n",
       "                        <td id=\"T_889f35f0_ae63_11eb_98c8_e470b8a9ba13row4_col0\" class=\"data row4 col0\" >3</td>\n",
       "                        <td id=\"T_889f35f0_ae63_11eb_98c8_e470b8a9ba13row4_col1\" class=\"data row4 col1\" >An der Schweizer Grenze.\n",
       "Meist mit den Abendzügen, doch in sehr be¬\n",
       "Chiasso, 20. Mai. Jeder Schnellzug aus\n",
       "Chiasso bringt Hunderte von Deutschen und\n",
       "Oesterreichern, die aus Italien heimkehren und\n",
       "hier die Zollrevision passieren. Vor 14 Tagen\n",
       "noch waren es meist Kaufleute und Industrielle\n",
       "aus Oberita</td>\n",
       "            </tr>\n",
       "            <tr>\n",
       "                        <th id=\"T_889f35f0_ae63_11eb_98c8_e470b8a9ba13level0_row5\" class=\"row_heading level0 row5\" >101</th>\n",
       "                        <td id=\"T_889f35f0_ae63_11eb_98c8_e470b8a9ba13row5_col0\" class=\"data row5 col0\" >3</td>\n",
       "                        <td id=\"T_889f35f0_ae63_11eb_98c8_e470b8a9ba13row5_col1\" class=\"data row5 col1\" >Als Auswanderer wird jeder Oesterreicher andeck in ein aus im Zwischennicht aus den 1. außerhalb Europas reist, insofern\n",
       "ncc aus den Umstanden hervorgebt, daß er bloß einen\n",
       "Besuch außerhalb Europas macht. Diese Definition wird\n",
       "deshalb gegeben, damit für die Beförderung der Zwischendeckpassagiere bes</td>\n",
       "            </tr>\n",
       "            <tr>\n",
       "                        <th id=\"T_889f35f0_ae63_11eb_98c8_e470b8a9ba13level0_row6\" class=\"row_heading level0 row6\" >104</th>\n",
       "                        <td id=\"T_889f35f0_ae63_11eb_98c8_e470b8a9ba13row6_col0\" class=\"data row6 col0\" >3</td>\n",
       "                        <td id=\"T_889f35f0_ae63_11eb_98c8_e470b8a9ba13row6_col1\" class=\"data row6 col1\" >Verdächtige Erkrankungen.\n",
       "Ein Fall auf dem Dampfer\n",
       "Triest, 6. Juni. Gestern um 9 Uhr abends ist der\n",
       "Dampfer „Saxonia“ der Cunard=Linie aus Newyork,\n",
       "der in den Häfen von Gibraltar, Genua und Neapel\n",
       "angelegt hatte, hier eingetroffen. An Bord des Dampfers wurde\n",
       "ein choleraverdächtiger Fall konstatiert.</td>\n",
       "            </tr>\n",
       "            <tr>\n",
       "                        <th id=\"T_889f35f0_ae63_11eb_98c8_e470b8a9ba13level0_row7\" class=\"row_heading level0 row7\" >111</th>\n",
       "                        <td id=\"T_889f35f0_ae63_11eb_98c8_e470b8a9ba13row7_col0\" class=\"data row7 col0\" >3</td>\n",
       "                        <td id=\"T_889f35f0_ae63_11eb_98c8_e470b8a9ba13row7_col1\" class=\"data row7 col1\" >Hunderttausende unserer Soldaten sind im Verlauf des Krieges in russische Kriegsgefangenschaft gefallen. Viele von ihnen tragen das bittere Los der\n",
       "Gefangenschaft schon das vierte Jahr. Sie haben in\n",
       "dieser Zeit Unsägliches gelitten. Tausende Kilometer\n",
       "von der Heimat entfernt, ohne Hoffnung auf baldi</td>\n",
       "            </tr>\n",
       "            <tr>\n",
       "                        <th id=\"T_889f35f0_ae63_11eb_98c8_e470b8a9ba13level0_row8\" class=\"row_heading level0 row8\" >113</th>\n",
       "                        <td id=\"T_889f35f0_ae63_11eb_98c8_e470b8a9ba13row8_col0\" class=\"data row8 col0\" >3</td>\n",
       "                        <td id=\"T_889f35f0_ae63_11eb_98c8_e470b8a9ba13row8_col1\" class=\"data row8 col1\" >Fällen auch schon früher — die Bewilligung eines\n",
       "Abg. Frankenberger (christlichsozial) erklärt, es\n",
       "Abg. Neunteufel: Eine Schande ist das, wie Sie\n",
       "Nächste Sitzung morgen Donnerstag, den 7. d.,\n",
       "Leiden und Entbehrungen, welche diese Soldaten durchgemacht\n",
       "reden! (Lebhafte Zwischenrufe links.)\n",
       "bei den Uk</td>\n",
       "            </tr>\n",
       "            <tr>\n",
       "                        <th id=\"T_889f35f0_ae63_11eb_98c8_e470b8a9ba13level0_row9\" class=\"row_heading level0 row9\" >122</th>\n",
       "                        <td id=\"T_889f35f0_ae63_11eb_98c8_e470b8a9ba13row9_col0\" class=\"data row9 col0\" >3</td>\n",
       "                        <td id=\"T_889f35f0_ae63_11eb_98c8_e470b8a9ba13row9_col1\" class=\"data row9 col1\" >Frühjahr 1915. Die österreichische\n",
       "Armee, die durch den Fall von Przemysl zum\n",
       "Rückzug gezwungen ist, hat mit den vordringenden Russen schwere Kämpfe zu bestehen. Eine\n",
       "Kompagnie des Wiener Landwehrregi\n",
       "ments Nr. 1 erhält den Befehl, einen der zum\n",
       "Jablunka führenden Zugänge bis zum letzten\n",
       "Mann zu hal</td>\n",
       "            </tr>\n",
       "    </tbody></table>"
      ],
      "text/plain": [
       "<pandas.io.formats.style.Styler at 0x228f79e2688>"
      ]
     },
     "execution_count": 11,
     "metadata": {},
     "output_type": "execute_result"
    }
   ],
   "source": [
    "from scipy.stats import entropy\n",
    "\n",
    "#JSD functions\n",
    "def jensen_shannon(query, matrix):\n",
    "    p = query[None,:].T \n",
    "    q = matrix.T \n",
    "    m = 0.5*(p + q)\n",
    "    return np.sqrt(0.5*(entropy(p,m) + entropy(q,m)))\n",
    "def get_most_similar_documents(query,matrix,k=10):\n",
    "    sims = jensen_shannon(query,matrix) \n",
    "    return sims.argsort()[:k] \n",
    "\n",
    "\n",
    "#lists for the output\n",
    "\n",
    "text_relevant = []\n",
    "number_relevant = []\n",
    "text_non_relevant = []\n",
    "number_non_relevant = []\n",
    "\n",
    "#most similar articles\n",
    "\n",
    "bow = dictionary.doc2bow(test_df.iloc[6,2])\n",
    "doc_distribution = np.array([tup[1] for tup in lda.get_document_topics(bow=bow)])\n",
    "doc_topic_dist = np.stack([np.array([tup[1] for tup in lst]) for lst in lda[corpus]])\n",
    "doc_topic_dist.shape\n",
    "sim_ids = get_most_similar_documents(doc_distribution,doc_topic_dist)\n",
    "similar_df = train_df[train_df.index.isin(sim_ids)]\n",
    "print('Unseen article from the test corpus (index 6): ')\n",
    "\n",
    "print(\"\\n\")\n",
    "print(test_df.iloc[6,1])\n",
    "print(\"\\n\")\n",
    "similar_df = similar_df.drop(['tokenized'], axis =1)\n",
    "similar_df['text'] = similar_df['text'].apply(lambda x: x[:300])\n",
    "similar_df.style.set_caption('Table 6: Most similar articles from the training/feedback corpus for article number 6')"
   ]
  },
  {
   "cell_type": "markdown",
   "metadata": {},
   "source": [
    "Finally, the topic distribution of each new article (from the test corpus) is compared to the topic distribution of each article in the feedback set. Then the 10 most similar articles from the feedback set are retrieved. If 60 percent of those articles were labeled as relevant, the new article was marked/classified as relevant, too. Otherwise it was classified as irrelevant (see Figure 7, step 7)."
   ]
  },
  {
   "cell_type": "markdown",
   "metadata": {},
   "source": [
    "<table><tr>\n",
    "    <caption align=\"top\">Figure 7: This example shows the recommendation of the ten most similar articles for one unseen article of the test corpus. The relevance levels tell whether the articles were manually classified as relevant or as irrelevant. </caption>\n",
    "    <td> <img src=\"images/figure.png\" alt=\"Drawing\" style=\"width: 700px;\"/> </td>\n",
    "</tr></table>"
   ]
  },
  {
   "cell_type": "markdown",
   "metadata": {},
   "source": [
    "If 60 percent of those articles were labeled as relevant, the new article was marked/classified as relevant, too. Otherwise it was classified as irrelevant (step 8). "
   ]
  },
  {
   "cell_type": "markdown",
   "metadata": {
    "tags": [
     "hermeneutics"
    ]
   },
   "source": [
    "## Step 8: Classification in relevant and irrelevant articles"
   ]
  },
  {
   "cell_type": "markdown",
   "metadata": {
    "tags": [
     "hermeneutics"
    ]
   },
   "source": [
    "In this step, every article from the test corpus goes through a loop where it gets compared to the articles in the training/testing corpus. In this loop, for each article from the test corpus, the 10 most similar articles were retrieved from the feedback corpus. Those 10 articles give feedback on their relevancy, numbers that serve as a base for the calculation and final classification. As can be seen in Table 7, article number 6 was classified as relevant (first column, second row)."
   ]
  },
  {
   "cell_type": "code",
   "execution_count": 12,
   "metadata": {},
   "outputs": [
    {
     "data": {
      "text/html": [
       "<style  type=\"text/css\" >\n",
       "</style><table id=\"T_b116d3d8_ae63_11eb_b656_e470b8a9ba13\" ><caption>Table 7: Classified articles into relevant and irrelevant</caption><thead>    <tr>        <th class=\"col_heading level0 col0\" >This text was classified as relevant</th>        <th class=\"col_heading level0 col1\" >3</th>        <th class=\"col_heading level0 col2\" >This text was classified as irrelevant</th>        <th class=\"col_heading level0 col3\" >0</th>    </tr></thead><tbody>\n",
       "                <tr>\n",
       "                                <td id=\"T_b116d3d8_ae63_11eb_b656_e470b8a9ba13row0_col0\" class=\"data row0 col0\" >auf das schärfste zurückzuweisen.\n",
       "Der Kriegsminister über die Behandlung von\n",
       "heimkehrenden beschuldigten Gefangenen.\n",
       "Der Kriegsminister hat an die Abgeordneten Pacher und\n",
       "Hummer als Antwort auf eine Anfrage über die Behandlung der aus der Kriegsgefangenschaft heimkehrenden Hochverräter und Ueberläuf</td>\n",
       "                        <td id=\"T_b116d3d8_ae63_11eb_b656_e470b8a9ba13row0_col1\" class=\"data row0 col1\" >3</td>\n",
       "                        <td id=\"T_b116d3d8_ae63_11eb_b656_e470b8a9ba13row0_col2\" class=\"data row0 col2\" >[Die Bilanz von Monte=Carlo.] Der Mailänder\n",
       "Secolo veröffentlicht die Bilanz von Monte=Carlo, wie sie\n",
       "mit Schluß des Finanzjahres (31. October) aufgestellt wurde.\n",
       "Das Erträgniß der Spielbank betrug 14.850,000 Francs (im\n",
       "vergangenen Finanzjahre 19.850,000 Francs). Ausgaben: Civilliste für den Fürsten</td>\n",
       "                        <td id=\"T_b116d3d8_ae63_11eb_b656_e470b8a9ba13row0_col3\" class=\"data row0 col3\" >0</td>\n",
       "            </tr>\n",
       "            <tr>\n",
       "                                <td id=\"T_b116d3d8_ae63_11eb_b656_e470b8a9ba13row1_col0\" class=\"data row1 col0\" >In der holländischen\n",
       "Hafenstadt Rotterdam\n",
       "und in ganz Holland\n",
       "erregt das Schicksal der\n",
       "russischen Rückwanderer\n",
       "viel Aufsehen, die an\n",
       "Bord des Dampfers\n",
       "„Volturno“ der\n",
       "Uranium=Linie aus\n",
       "Amerika nach Europa\n",
       "zurückgekommen waren\n",
       "und von den deutschen\n",
       "Behörden daran gehindert wurden, durch\n",
       "deutsches Gebi</td>\n",
       "                        <td id=\"T_b116d3d8_ae63_11eb_b656_e470b8a9ba13row1_col1\" class=\"data row1 col1\" >3</td>\n",
       "                        <td id=\"T_b116d3d8_ae63_11eb_b656_e470b8a9ba13row1_col2\" class=\"data row1 col2\" >Prinz Heinrich in Friedrichsruh und Altona.\n",
       "(Telegramm der „Neuen Freien Presse“.)\n",
       "Hamburg, 8. December. Prinz Heinrich traf um\n",
       "9½ Uhr Vormittags in Friedrichsruh zum Besuche\n",
       "des Fürsten Bismarck ein. Der Besuch hatte einen äußerst\n",
       "herzlichen Charakter. Der Fürst empfing seinen hohen Gast\n",
       "im Rollstu</td>\n",
       "                        <td id=\"T_b116d3d8_ae63_11eb_b656_e470b8a9ba13row1_col3\" class=\"data row1 col3\" >0</td>\n",
       "            </tr>\n",
       "            <tr>\n",
       "                                <td id=\"T_b116d3d8_ae63_11eb_b656_e470b8a9ba13row2_col0\" class=\"data row2 col0\" >Die Auswanderung über Fiume.\n",
       "(Telegramm der „Neuen Freien Presse“.)\n",
       "Fiume, 26. Januar. Nach der Statistik des Fiumaner\n",
       "Hafenamtes haben im verflossenen Jahre 39.374 Auswanderer die Schiffe der Cunnard Line benützt. Von dieser\n",
       "Zahl haben sich 1900 Auswanderer im Hafen von Triest\n",
       "eingeschifft. Rückwan</td>\n",
       "                        <td id=\"T_b116d3d8_ae63_11eb_b656_e470b8a9ba13row2_col1\" class=\"data row2 col1\" >3</td>\n",
       "                        <td id=\"T_b116d3d8_ae63_11eb_b656_e470b8a9ba13row2_col2\" class=\"data row2 col2\" >[Neue Bücher.] Baumgartner, Handwörterbuch des gesammten Versicherungswesens. Band 1, Lieferung 1, 90 kr.; Bülow\n",
       "Frieda, Kara. Roman fl. 2.40, gebunden fl. 3; Burckhard, Simon\n",
       "Thums, Einige Tage aus seinem Leben. fl. 1.80, gebunden fl. 2.40;\n",
       "Carlyle, Lebenserinnnerungen. fl. 2.40; Dincklage, Waidman</td>\n",
       "                        <td id=\"T_b116d3d8_ae63_11eb_b656_e470b8a9ba13row2_col3\" class=\"data row2 col3\" >0</td>\n",
       "            </tr>\n",
       "            <tr>\n",
       "                                <td id=\"T_b116d3d8_ae63_11eb_b656_e470b8a9ba13row3_col0\" class=\"data row3 col0\" >Das Eisenbahnunglück bei Liverpool.\n",
       "Zwei Oesterreicherinnen unter den Verletzten.\n",
       "London, 16. Oktober. (Privat.) Zu dem Zusammenstoß\n",
       "des Expreßzuges Liverpool—Manchester mit einem anderen Zuge\n",
       "wird noch gemeldet: Die Zahl der Todesopfer des Unglücks\n",
       "beträgt sechs. Weiter wurden dreiundzwanzig Person</td>\n",
       "                        <td id=\"T_b116d3d8_ae63_11eb_b656_e470b8a9ba13row3_col1\" class=\"data row3 col1\" >3</td>\n",
       "                        <td id=\"T_b116d3d8_ae63_11eb_b656_e470b8a9ba13row3_col2\" class=\"data row3 col2\" >Ueberfahrtsstelle der Kufsteinerstraße ein nicht ganz\n",
       "harmloser Vorgang ab, der so recht geeignet erscheint, die unabweisbare Nothwendigkeit einer baldigen Regelung dieser gefahrvollen Passage vor\n",
       "Augen zu führen. Nachdem ein halber Güterzug\n",
       "und mehrere Locomotiven eine halbe Viertelstunde\n",
       "rangiert </td>\n",
       "                        <td id=\"T_b116d3d8_ae63_11eb_b656_e470b8a9ba13row3_col3\" class=\"data row3 col3\" >0</td>\n",
       "            </tr>\n",
       "    </tbody></table>"
      ],
      "text/plain": [
       "<pandas.io.formats.style.Styler at 0x228f7b8f708>"
      ]
     },
     "execution_count": 12,
     "metadata": {},
     "output_type": "execute_result"
    }
   ],
   "source": [
    "index = 0\n",
    "#loop for the classification of each article\n",
    "while index < len(test_df) -1:\n",
    "    index +=1\n",
    "    new_bow = dictionary.doc2bow(test_df.iloc[index,2])\n",
    "    new_doc_distribution = np.array([tup[1] for tup in lda.get_document_topics(bow=new_bow)])\n",
    "    doc_topic_dist = np.stack([np.array([tup[1] for tup in lst]) for lst in lda[corpus]])\n",
    "    doc_topic_dist.shape\n",
    "    most_sim_ids = get_most_similar_documents(new_doc_distribution,doc_topic_dist)\n",
    "    most_similar_df = train_df[train_df.index.isin(most_sim_ids)]\n",
    "    relevant = []\n",
    "    if sum(most_similar_df['relevancy']) > 17: \n",
    "        text_relevant.append(test_df.iloc[index,1])\n",
    "        number_relevant.append(test_df.iloc[index,0])\n",
    "    else:\n",
    "        text_non_relevant.append(test_df.iloc[index,1])\n",
    "        number_non_relevant.append(test_df.iloc[index,0])\n",
    "    pass\n",
    "\n",
    "#dataframe with results\n",
    "\n",
    "df_relevant = pd.DataFrame(np.column_stack([text_relevant, number_relevant]), \n",
    "                               columns=['Relevant_Text', 'Real_Relevancy'])\n",
    "\n",
    "df_non_relevant = pd.DataFrame(np.column_stack([text_non_relevant, number_non_relevant]), \n",
    "                               columns=['Unrelevant_Text', 'Real_Revelancy'])\n",
    "\n",
    "\n",
    "df_results = pd.concat([df_relevant,df_non_relevant], ignore_index=True, axis=1)\n",
    "df_results.columns=['This text was classified as relevant', '3','This text was classified as irrelevant', '0']\n",
    "\n",
    "df_results['This text was classified as relevant'][0:4] = df_results['This text was classified as relevant'][0:4].apply(lambda x: x[:300])\n",
    "df_results['This text was classified as irrelevant'][0:4] = df_results['This text was classified as irrelevant'][0:4].apply(lambda x: x[:300])\n",
    "df_results[0:4].style.set_caption('Table 7: Classified articles into relevant and irrelevant').hide_index()"
   ]
  },
  {
   "cell_type": "markdown",
   "metadata": {},
   "source": [
    "This solution was simple and exceedingly successful, as can be seen in Table 8. Since the documents in the testing corpus carry the labels on relevancy, too, a simple evaluation (correct results divided by the number of documents in the testing corpus) is possible. As an overall result, up to 85 per cent of the articles from the testing corpus are classified correctly. "
   ]
  },
  {
   "cell_type": "code",
   "execution_count": 13,
   "metadata": {
    "tags": [
     "narrative"
    ]
   },
   "outputs": [
    {
     "data": {
      "text/html": [
       "<style  type=\"text/css\" >\n",
       "</style><table id=\"T_b11e5e40_ae63_11eb_be02_e470b8a9ba13\" ><caption>Table 8: Articles automatically grouped into relevant and non-relevant articles. The manually assigned numbers proof whether the articles were selected correctly.</caption><thead>    <tr>        <th class=\"col_heading level0 col0\" >This text was classified as relevant</th>        <th class=\"col_heading level0 col1\" >3</th>        <th class=\"col_heading level0 col2\" >This text was classified as irrelevant</th>        <th class=\"col_heading level0 col3\" >0</th>    </tr></thead><tbody>\n",
       "                <tr>\n",
       "                                <td id=\"T_b11e5e40_ae63_11eb_be02_e470b8a9ba13row0_col0\" class=\"data row0 col0\" >auf das schärfste zurückzuweisen.\n",
       "Der Kriegsminist</td>\n",
       "                        <td id=\"T_b11e5e40_ae63_11eb_be02_e470b8a9ba13row0_col1\" class=\"data row0 col1\" >3</td>\n",
       "                        <td id=\"T_b11e5e40_ae63_11eb_be02_e470b8a9ba13row0_col2\" class=\"data row0 col2\" >[Die Bilanz von Monte=Carlo.] Der Mailänder\n",
       "Secolo</td>\n",
       "                        <td id=\"T_b11e5e40_ae63_11eb_be02_e470b8a9ba13row0_col3\" class=\"data row0 col3\" >0</td>\n",
       "            </tr>\n",
       "            <tr>\n",
       "                                <td id=\"T_b11e5e40_ae63_11eb_be02_e470b8a9ba13row1_col0\" class=\"data row1 col0\" >In der holländischen\n",
       "Hafenstadt Rotterdam\n",
       "und in g</td>\n",
       "                        <td id=\"T_b11e5e40_ae63_11eb_be02_e470b8a9ba13row1_col1\" class=\"data row1 col1\" >3</td>\n",
       "                        <td id=\"T_b11e5e40_ae63_11eb_be02_e470b8a9ba13row1_col2\" class=\"data row1 col2\" >Prinz Heinrich in Friedrichsruh und Altona.\n",
       "(Teleg</td>\n",
       "                        <td id=\"T_b11e5e40_ae63_11eb_be02_e470b8a9ba13row1_col3\" class=\"data row1 col3\" >0</td>\n",
       "            </tr>\n",
       "            <tr>\n",
       "                                <td id=\"T_b11e5e40_ae63_11eb_be02_e470b8a9ba13row2_col0\" class=\"data row2 col0\" >Die Auswanderung über Fiume.\n",
       "(Telegramm der „Neuen</td>\n",
       "                        <td id=\"T_b11e5e40_ae63_11eb_be02_e470b8a9ba13row2_col1\" class=\"data row2 col1\" >3</td>\n",
       "                        <td id=\"T_b11e5e40_ae63_11eb_be02_e470b8a9ba13row2_col2\" class=\"data row2 col2\" >[Neue Bücher.] Baumgartner, Handwörterbuch des ges</td>\n",
       "                        <td id=\"T_b11e5e40_ae63_11eb_be02_e470b8a9ba13row2_col3\" class=\"data row2 col3\" >0</td>\n",
       "            </tr>\n",
       "            <tr>\n",
       "                                <td id=\"T_b11e5e40_ae63_11eb_be02_e470b8a9ba13row3_col0\" class=\"data row3 col0\" >Das Eisenbahnunglück bei Liverpool.\n",
       "Zwei Oesterrei</td>\n",
       "                        <td id=\"T_b11e5e40_ae63_11eb_be02_e470b8a9ba13row3_col1\" class=\"data row3 col1\" >3</td>\n",
       "                        <td id=\"T_b11e5e40_ae63_11eb_be02_e470b8a9ba13row3_col2\" class=\"data row3 col2\" >Ueberfahrtsstelle der Kufsteinerstraße ein nicht g</td>\n",
       "                        <td id=\"T_b11e5e40_ae63_11eb_be02_e470b8a9ba13row3_col3\" class=\"data row3 col3\" >0</td>\n",
       "            </tr>\n",
       "            <tr>\n",
       "                                <td id=\"T_b11e5e40_ae63_11eb_be02_e470b8a9ba13row4_col0\" class=\"data row4 col0\" >Das zurückflutende Geld.\n",
       "Auf eine Anfrage des Dr. </td>\n",
       "                        <td id=\"T_b11e5e40_ae63_11eb_be02_e470b8a9ba13row4_col1\" class=\"data row4 col1\" >3</td>\n",
       "                        <td id=\"T_b11e5e40_ae63_11eb_be02_e470b8a9ba13row4_col2\" class=\"data row4 col2\" >Man hat es also hier, wo sich die Aufmerksamkeit d</td>\n",
       "                        <td id=\"T_b11e5e40_ae63_11eb_be02_e470b8a9ba13row4_col3\" class=\"data row4 col3\" >0</td>\n",
       "            </tr>\n",
       "            <tr>\n",
       "                                <td id=\"T_b11e5e40_ae63_11eb_be02_e470b8a9ba13row5_col0\" class=\"data row5 col0\" >Halsbänder von Kinderhänden.\n",
       "Sofia, 16. August. Di</td>\n",
       "                        <td id=\"T_b11e5e40_ae63_11eb_be02_e470b8a9ba13row5_col1\" class=\"data row5 col1\" >3</td>\n",
       "                        <td id=\"T_b11e5e40_ae63_11eb_be02_e470b8a9ba13row5_col2\" class=\"data row5 col2\" >Die Blatternerkrankungen unter den bosnischen\n",
       "Rück</td>\n",
       "                        <td id=\"T_b11e5e40_ae63_11eb_be02_e470b8a9ba13row5_col3\" class=\"data row5 col3\" >3</td>\n",
       "            </tr>\n",
       "            <tr>\n",
       "                                <td id=\"T_b11e5e40_ae63_11eb_be02_e470b8a9ba13row6_col0\" class=\"data row6 col0\" >Ritt Vargas im italienischen Derby.\n",
       "Jockei Varga r</td>\n",
       "                        <td id=\"T_b11e5e40_ae63_11eb_be02_e470b8a9ba13row6_col1\" class=\"data row6 col1\" >3</td>\n",
       "                        <td id=\"T_b11e5e40_ae63_11eb_be02_e470b8a9ba13row6_col2\" class=\"data row6 col2\" >höhnung über ihn hereinzubrechen, bei der er Blut </td>\n",
       "                        <td id=\"T_b11e5e40_ae63_11eb_be02_e470b8a9ba13row6_col3\" class=\"data row6 col3\" >0</td>\n",
       "            </tr>\n",
       "            <tr>\n",
       "                                <td id=\"T_b11e5e40_ae63_11eb_be02_e470b8a9ba13row7_col0\" class=\"data row7 col0\" >(Aus Amerika zurück.) Am vergangenen Freitag\n",
       "sind </td>\n",
       "                        <td id=\"T_b11e5e40_ae63_11eb_be02_e470b8a9ba13row7_col1\" class=\"data row7 col1\" >3</td>\n",
       "                        <td id=\"T_b11e5e40_ae63_11eb_be02_e470b8a9ba13row7_col2\" class=\"data row7 col2\" >Vater und dreimal schoß der Sohn. Keine Kugel traf</td>\n",
       "                        <td id=\"T_b11e5e40_ae63_11eb_be02_e470b8a9ba13row7_col3\" class=\"data row7 col3\" >0</td>\n",
       "            </tr>\n",
       "            <tr>\n",
       "                                <td id=\"T_b11e5e40_ae63_11eb_be02_e470b8a9ba13row8_col0\" class=\"data row8 col0\" >* Das amerikanische Echo. Aus New=York wird\n",
       "uns vo</td>\n",
       "                        <td id=\"T_b11e5e40_ae63_11eb_be02_e470b8a9ba13row8_col1\" class=\"data row8 col1\" >3</td>\n",
       "                        <td id=\"T_b11e5e40_ae63_11eb_be02_e470b8a9ba13row8_col2\" class=\"data row8 col2\" >gd. Schwaz. Zum Tode des Ortsgruppenleiters\n",
       "Franz </td>\n",
       "                        <td id=\"T_b11e5e40_ae63_11eb_be02_e470b8a9ba13row8_col3\" class=\"data row8 col3\" >0</td>\n",
       "            </tr>\n",
       "            <tr>\n",
       "                                <td id=\"T_b11e5e40_ae63_11eb_be02_e470b8a9ba13row9_col0\" class=\"data row9 col0\" >Triest, 21. Februar. Heute früh trafen an Bord des</td>\n",
       "                        <td id=\"T_b11e5e40_ae63_11eb_be02_e470b8a9ba13row9_col1\" class=\"data row9 col1\" >3</td>\n",
       "                        <td id=\"T_b11e5e40_ae63_11eb_be02_e470b8a9ba13row9_col2\" class=\"data row9 col2\" >Das Lebensbild des Direktors Stoß wäre\n",
       "nicht volls</td>\n",
       "                        <td id=\"T_b11e5e40_ae63_11eb_be02_e470b8a9ba13row9_col3\" class=\"data row9 col3\" >3</td>\n",
       "            </tr>\n",
       "            <tr>\n",
       "                                <td id=\"T_b11e5e40_ae63_11eb_be02_e470b8a9ba13row10_col0\" class=\"data row10 col0\" >Der Balkankrteg.\n",
       "Rückwanderung in die Balkanstaate</td>\n",
       "                        <td id=\"T_b11e5e40_ae63_11eb_be02_e470b8a9ba13row10_col1\" class=\"data row10 col1\" >3</td>\n",
       "                        <td id=\"T_b11e5e40_ae63_11eb_be02_e470b8a9ba13row10_col2\" class=\"data row10 col2\" >Ueber 98 Prozent Ehestandsdarlehens¬\n",
       "bewerber zur </td>\n",
       "                        <td id=\"T_b11e5e40_ae63_11eb_be02_e470b8a9ba13row10_col3\" class=\"data row10 col3\" >0</td>\n",
       "            </tr>\n",
       "            <tr>\n",
       "                                <td id=\"T_b11e5e40_ae63_11eb_be02_e470b8a9ba13row11_col0\" class=\"data row11 col0\" >Noues Gesetz. Wenn Sie jetzt Fi\n",
       "mehr als zwei Kind</td>\n",
       "                        <td id=\"T_b11e5e40_ae63_11eb_be02_e470b8a9ba13row11_col1\" class=\"data row11 col1\" >3</td>\n",
       "                        <td id=\"T_b11e5e40_ae63_11eb_be02_e470b8a9ba13row11_col2\" class=\"data row11 col2\" >Sondertagungen der Handwerks=Rebenorganisationen -</td>\n",
       "                        <td id=\"T_b11e5e40_ae63_11eb_be02_e470b8a9ba13row11_col3\" class=\"data row11 col3\" >0</td>\n",
       "            </tr>\n",
       "            <tr>\n",
       "                                <td id=\"T_b11e5e40_ae63_11eb_be02_e470b8a9ba13row12_col0\" class=\"data row12 col0\" >Härteausgleich für Einwanderer nach dem Lande\n",
       "este</td>\n",
       "                        <td id=\"T_b11e5e40_ae63_11eb_be02_e470b8a9ba13row12_col1\" class=\"data row12 col1\" >3</td>\n",
       "                        <td id=\"T_b11e5e40_ae63_11eb_be02_e470b8a9ba13row12_col2\" class=\"data row12 col2\" >Der Reichsarbeitsdienst in der Ostmark\n",
       "Vier Arbeit</td>\n",
       "                        <td id=\"T_b11e5e40_ae63_11eb_be02_e470b8a9ba13row12_col3\" class=\"data row12 col3\" >0</td>\n",
       "            </tr>\n",
       "            <tr>\n",
       "                                <td id=\"T_b11e5e40_ae63_11eb_be02_e470b8a9ba13row13_col0\" class=\"data row13 col0\" >Das Großdeutsche Reich hat die baltendeutschen Rüc</td>\n",
       "                        <td id=\"T_b11e5e40_ae63_11eb_be02_e470b8a9ba13row13_col1\" class=\"data row13 col1\" >3</td>\n",
       "                        <td id=\"T_b11e5e40_ae63_11eb_be02_e470b8a9ba13row13_col2\" class=\"data row13 col2\" >Zwei besehze über den Aufbau der Verwaltung\n",
       "Berlin</td>\n",
       "                        <td id=\"T_b11e5e40_ae63_11eb_be02_e470b8a9ba13row13_col3\" class=\"data row13 col3\" >0</td>\n",
       "            </tr>\n",
       "            <tr>\n",
       "                                <td id=\"T_b11e5e40_ae63_11eb_be02_e470b8a9ba13row14_col0\" class=\"data row14 col0\" >Die geraubten Malvinen müssen wieder zurück!\n",
       "Bueno</td>\n",
       "                        <td id=\"T_b11e5e40_ae63_11eb_be02_e470b8a9ba13row14_col1\" class=\"data row14 col1\" >0</td>\n",
       "                        <td id=\"T_b11e5e40_ae63_11eb_be02_e470b8a9ba13row14_col2\" class=\"data row14 col2\" >gilt. Dieses Bewertungssystem findet in allen Wett</td>\n",
       "                        <td id=\"T_b11e5e40_ae63_11eb_be02_e470b8a9ba13row14_col3\" class=\"data row14 col3\" >0</td>\n",
       "            </tr>\n",
       "            <tr>\n",
       "                                <td id=\"T_b11e5e40_ae63_11eb_be02_e470b8a9ba13row15_col0\" class=\"data row15 col0\" >Als Karl Weber bei Neu=Bentschen\n",
       "auf deutschen Bod</td>\n",
       "                        <td id=\"T_b11e5e40_ae63_11eb_be02_e470b8a9ba13row15_col1\" class=\"data row15 col1\" >3</td>\n",
       "                        <td id=\"T_b11e5e40_ae63_11eb_be02_e470b8a9ba13row15_col2\" class=\"data row15 col2\" >Feuitteton.\n",
       "terliche Zeit der fehlenden Hosenknöpf</td>\n",
       "                        <td id=\"T_b11e5e40_ae63_11eb_be02_e470b8a9ba13row15_col3\" class=\"data row15 col3\" >0</td>\n",
       "            </tr>\n",
       "            <tr>\n",
       "                                <td id=\"T_b11e5e40_ae63_11eb_be02_e470b8a9ba13row16_col0\" class=\"data row16 col0\" >Die Austria wird diesmal mit einer starken Elf ers</td>\n",
       "                        <td id=\"T_b11e5e40_ae63_11eb_be02_e470b8a9ba13row16_col1\" class=\"data row16 col1\" >3</td>\n",
       "                        <td id=\"T_b11e5e40_ae63_11eb_be02_e470b8a9ba13row16_col2\" class=\"data row16 col2\" >euer Dollarbefestigung\n",
       "Drahtmeldung der „Neuen Fre</td>\n",
       "                        <td id=\"T_b11e5e40_ae63_11eb_be02_e470b8a9ba13row16_col3\" class=\"data row16 col3\" >0</td>\n",
       "            </tr>\n",
       "            <tr>\n",
       "                                <td id=\"T_b11e5e40_ae63_11eb_be02_e470b8a9ba13row17_col0\" class=\"data row17 col0\" >Berlin, 21. Okt. Am Freitagnachmittag traf auf dem</td>\n",
       "                        <td id=\"T_b11e5e40_ae63_11eb_be02_e470b8a9ba13row17_col1\" class=\"data row17 col1\" >3</td>\n",
       "                        <td id=\"T_b11e5e40_ae63_11eb_be02_e470b8a9ba13row17_col2\" class=\"data row17 col2\" >Rückwanderung europäischer Fluchtgelder\n",
       "Newyork, 3</td>\n",
       "                        <td id=\"T_b11e5e40_ae63_11eb_be02_e470b8a9ba13row17_col3\" class=\"data row17 col3\" >0</td>\n",
       "            </tr>\n",
       "            <tr>\n",
       "                                <td id=\"T_b11e5e40_ae63_11eb_be02_e470b8a9ba13row18_col0\" class=\"data row18 col0\" >hf. Schwaz. Abgestürzter Kraftwagen geboren. Ein L</td>\n",
       "                        <td id=\"T_b11e5e40_ae63_11eb_be02_e470b8a9ba13row18_col1\" class=\"data row18 col1\" >3</td>\n",
       "                        <td id=\"T_b11e5e40_ae63_11eb_be02_e470b8a9ba13row18_col2\" class=\"data row18 col2\" >Doch reden wir nicht davon.\n",
       "Waltzen auf der Wander</td>\n",
       "                        <td id=\"T_b11e5e40_ae63_11eb_be02_e470b8a9ba13row18_col3\" class=\"data row18 col3\" >0</td>\n",
       "            </tr>\n",
       "            <tr>\n",
       "                                <td id=\"T_b11e5e40_ae63_11eb_be02_e470b8a9ba13row19_col0\" class=\"data row19 col0\" >Welche Kleider soll ich geben?\n",
       "fähig sein. Alte Ka</td>\n",
       "                        <td id=\"T_b11e5e40_ae63_11eb_be02_e470b8a9ba13row19_col1\" class=\"data row19 col1\" >3</td>\n",
       "                        <td id=\"T_b11e5e40_ae63_11eb_be02_e470b8a9ba13row19_col2\" class=\"data row19 col2\" >Originalroman von\n",
       "Gustav Tannhofer.\n",
       "War das bereit</td>\n",
       "                        <td id=\"T_b11e5e40_ae63_11eb_be02_e470b8a9ba13row19_col3\" class=\"data row19 col3\" >0</td>\n",
       "            </tr>\n",
       "    </tbody></table>"
      ],
      "text/plain": [
       "<pandas.io.formats.style.Styler at 0x228f79cc548>"
      ]
     },
     "execution_count": 13,
     "metadata": {},
     "output_type": "execute_result"
    }
   ],
   "source": [
    "df_results['This text was classified as relevant'][0:20] = df_results['This text was classified as relevant'][0:20].apply(lambda x: x[:50])\n",
    "df_results['This text was classified as irrelevant'][0:20] = df_results['This text was classified as irrelevant'][0:20].apply(lambda x: x[:50])\n",
    "df_results[0:20].style.set_caption('Table 8: Articles automatically grouped into relevant and non-relevant articles. The manually assigned numbers proof whether the articles were selected correctly.').hide_index()"
   ]
  },
  {
   "cell_type": "code",
   "execution_count": 14,
   "metadata": {
    "tags": [
     "narrative"
    ]
   },
   "outputs": [
    {
     "data": {
      "text/plain": [
       "'In total, 0.8554216867469879 per cent of the selected articles have been classified correctly.'"
      ]
     },
     "execution_count": 14,
     "metadata": {},
     "output_type": "execute_result"
    }
   ],
   "source": [
    "#calculation of correct or incorrect classified results\n",
    "rev_3 = []\n",
    "for key in df_results['3']:\n",
    "    if key == '3':\n",
    "        rev_3.append(key)\n",
    "rev_0 = []\n",
    "for key in df_results['3']:\n",
    "    if key == '0':\n",
    "        rev_0.append(key)\n",
    "non_rev_3 = []\n",
    "for key in df_results['0']:\n",
    "    if key == '3':\n",
    "        non_rev_3.append(key)\n",
    "non_rev_0 = []\n",
    "for key in df_results['0']:\n",
    "    if key == '0':\n",
    "        non_rev_0.append(key)\n",
    "result_right = len(non_rev_0) + len(rev_3)\n",
    "result_wrng = len(non_rev_3) + len(rev_0)\n",
    "all_ = len(non_rev_3) + len(rev_0) + len(non_rev_0) + len(rev_3)\n",
    "score = result_right / all_\n",
    "f\"In total, {score} per cent of the selected articles have been classified correctly.\""
   ]
  },
  {
   "cell_type": "markdown",
   "metadata": {},
   "source": [
    "These results were seen as good enough for further processing. The last step involves the whole unlabeled corpus that needs to be disambiguated."
   ]
  },
  {
   "cell_type": "markdown",
   "metadata": {
    "tags": [
     "hermeneutics"
    ]
   },
   "source": [
    "##  Step 9: Classification of the entire corpus"
   ]
  },
  {
   "cell_type": "markdown",
   "metadata": {
    "tags": [
     "hermeneutics"
    ]
   },
   "source": [
    "For copyright reasons, the data of the entire collection cannot be published. However, the classification process of the entire corpus repeated the steps already explained above. In this step, the entire collection (instead of the testing corpus) was compared with the pre-labelled documents in the training/feedback corpus and further classified into relevant and irrelevant articles. The collection was again created with keyword searches by using the same queries as for the training/feedback corpus from the newspapers *Neue Freie Presse*, *Arbeiter-Zeitung*, *Illustrierte Kronen Zeitung* and *Innsbrucker Nachrichten* and exported from the NewsEye platform. It consisted of 38 630 newspaper clippings with a minimum length of 30 tokens. This collection was completely new, which means that none of the clippings were manually annotated as relevant or irrelevant. A calculation of the percentage of correctly selected newspaper clippings was therefore not possible."
   ]
  },
  {
   "cell_type": "markdown",
   "metadata": {},
   "source": [
    "After the classification into relevant and irrelevant articles, it was necessary to find out if the method had worked for the entire corpus. This involved reading a considerable amount of classified articles. Also word clouds were created to validate the overall quality of the classification. As can be seen in Figures 8 and 9, the two bi-gram word clouds (clouds of sequences of two adjacent items from a token sequence, step 10) effectively reflect different contents. "
   ]
  },
  {
   "cell_type": "markdown",
   "metadata": {
    "tags": [
     "hermeneutics"
    ]
   },
   "source": [
    "## Step 10: Craeting bi-gram word clouds"
   ]
  },
  {
   "cell_type": "markdown",
   "metadata": {
    "tags": [
     "hermeneutics"
    ]
   },
   "source": [
    "*N*-grams are contiguous sequences of n items from a given text. This means that words are not considered as individual units, but in relation to each other. Since languages are seldom representable by single words, for humanities scholars, n-grams can be helpful to get an overview of their collection, to find discourse markers, or to evaluate the quality of a model. The *NLTK package* was used to build the bi-grams: nltk.bigrams() returns an iterator (a generator specifically) of bi-grams, with *ngram-range=()* was used to set the value of *n* (*n*-gram of size 1 is a unigram; size 2 is a bigram, size 3 is a trigram). In order to visualize the results in word clouds, the frequency of the bigrams was calculated. To create good *n*-grams, the corpus was first pre-processed (see step 'Cleaning, tokenizing and stemming the text'). For the word cloud visualisation, the *NLTK package* was used as well. The following lines of code were used to create the bi-gram word clouds: "
   ]
  },
  {
   "cell_type": "markdown",
   "metadata": {
    "tags": [
     "hermeneutics"
    ]
   },
   "source": [
    "bigrams_list = list(nltk.bigrams(df_relevant))<br>\n",
    "dictionary = [' '.join([str(tup) for tup in bigrams_list])]<br>\n",
    "vectorizer = CountVectorizer(ngram_range=(2, 2))<br>\n",
    "bag_of_words = vectorizer.fit_transform(dictionary)<br>\n",
    "vectorizer.vocabulary_<br>\n",
    "sum_words = bag_of_words.sum(axis=0)<br>\n",
    "words_freq = [(word, sum_words[0, idx]) for word, idx in vectorizer.vocabulary_.items()]<br>\n",
    "words_freq =sorted(words_freq, key = lambda x: x[1], reverse=True)<br>\n",
    "words_dict = dict(words_freq)<br>\n",
    "w_height = 1500<br>\n",
    "w_width = 2000<br>\n",
    "w_max_words = 200<br>\n",
    "wordCloud = WordCloud(max_words=w_max_words, height=w_height, width=w_width)<br>\n",
    "wordCloud.generate_from_frequencies(words_dict)<br>\n",
    "plt.figure(figsize=(20, 15))<br>\n",
    "plt.plot<br>\n",
    "plt.imshow(wordCloud, interpolation='bilinear')<br>\n",
    "plt.axis(\"off\")<br>\n",
    "plt.show()<br>"
   ]
  },
  {
   "cell_type": "markdown",
   "metadata": {},
   "source": [
    "While bi-grams within the corpus of articles classified as relevant (Figure 8) are clearly associated with return migration topics, the opposite is true for the bi-grams within the corpus of articles classified as irrelevant (Figure 9). Very frequent bi-grams such as 'heimkehrend krieger' (*returning warriors*), 'rückkehr auskunft' (*homecoming information*), 'verboten rückkehr' (*forbidden return*), 'fürsorg heimkehrend' (*caring returning*), ‘roten kreuz’ (*red cross*) and many more in Figure 8 have an obvious link to the topic of return migration. Very frequent bi-grams such as ‘gestern abend’ (*yesterday evening*), ‘rückkehr kaiser’ (*return emperor*), 'sr majestät' (*his majesty*) or ‘kaiser franz’ (*emperor franz*) in Figure 9, on the other hand, do not address news coverage on return migration."
   ]
  },
  {
   "cell_type": "markdown",
   "metadata": {},
   "source": [
    "<table>\n",
    "  <tr>\n",
    "     <tr>\n",
    "    <td>Figure 8: Word cloud of 20 415 articles that were classified as relevant</td>\n",
    "    <td>Figure 9: Word cloud of 18 215 articles that were classified as irrelevant</td>\n",
    "  </tr>\n",
    "    <td>\n",
    "      <img src=\"images/relevant_articles.png\" alt=\"Drawing\" style=\"width: 500px\";>\n",
    "    </td>\n",
    "    <td>\n",
    "      <img src=\"images/irrelevant_articles.png\" alt=\"Drawing\" style=\"width: 500px;\">\n",
    "    </td>\n",
    "    <td>\n",
    "\n",
    "\n",
    "</table>"
   ]
  },
  {
   "cell_type": "markdown",
   "metadata": {},
   "source": [
    "### 2.6 Source and interface criticism"
   ]
  },
  {
   "cell_type": "markdown",
   "metadata": {},
   "source": [
    "The second step in the historical method would involve a thorough source and interface criticism for the digital dataset created for further processing. Although this is not within the scope of the paper, some critical remarks should be mentioned here: For the return migration case study, it was not possible to carry out these steps on a collection that would have covered enough newspaper issues or all relevant time periods to answer many research questions on the topic on return migration. The NewsEye platform only contains a small selection of digitised Austrian newspapers provided by the <a href=\"https://www.onb.ac.at/\" target=\"_blank\">Autrian National Library (ONB)</a>. In order to meet the demands for external representativeness (which means that the used digitized newspapers are representative for discourses on return migration in the Austrian press) it would be necessary to apply the method to all newspapers - those digitally available and, in all fairness, also those not digitally available. Even though the ONB hosts many of the newspapers for the needed time periods in a digital form, missing article separation, noisy OCR, missing download functions, and sometimes unclear copyright issues make it impossible to apply the method to a larger newspaper-corpus from the ONB interface for further processing. "
   ]
  },
  {
   "cell_type": "markdown",
   "metadata": {},
   "source": [
    "Currently, a number of digital newspaper projects such as <a href=\"https://www.newseye.eu/\" target=\"_blank\">NewsEye</a> <cite data-cite=\"6142573/FRE6XIFV\"></cite>, <a href=\"https://viraltexts.org/\" target=\"_blank\">ViralTexts</a>,  <a href=\"https://oceanicexchanges.org/\" target=\"_blank\">Oceanic Exchanges</a>, <a href=\"https://impresso-project.ch/app/\" target=\"_blank\">impresso</a>, or <a href=\"https://livingwithmachines.ac.uk/team-2/\" target=\"_blank\">Living with Machines</a> are working on methods and interfaces to improve access and research with historical newspapers, but it will still take a while until newly developed tools will be implemented in (national) historical newspaper archives containing millions of digitized newspaper pages. Until then research with digital newspaper corpora will remain biased by the selections available through the interfaces, the quality of the digitized newspapers and access-options to entire collections."
   ]
  },
  {
   "cell_type": "markdown",
   "metadata": {},
   "source": [
    "### 2.7 After the corpus building is before interpretation"
   ]
  },
  {
   "cell_type": "markdown",
   "metadata": {},
   "source": [
    "For historians conducting qualitative research, the process of corpus building ends when a corpus allows for qualitative evaluations. At this point the third step of the historical method - interpretation - is at the heart of the research method. A thorough interpretation of the results would go far beyond the scope of this paper but we would still like to give some outlook to the next steps researchers could undertake. In-depth investigations of text corpora are part of the methodology of qualitative corpus analysis. While a suitable corpus is a prerequisite for fine-grained textual examination, as already described, annotations and interpretations are at the heart of qualitative analysis <cite data-cite=\"6142573/DXVIWVKG\"></cite>. "
   ]
  },
  {
   "cell_type": "markdown",
   "metadata": {
    "tags": [
     "hermeneutics"
    ]
   },
   "source": [
    "## Step 11: Creating a sub-corpus on return migration form the Americas 1850-1950\n"
   ]
  },
  {
   "cell_type": "markdown",
   "metadata": {
    "tags": [
     "hermeneutics"
    ]
   },
   "source": [
    "The sub-corpus on return migration from the Americas was created with a complex keyword search, using queries such as 'Rückwanderer' (*returnee*) or 'Amerikamüde' (*america weary*) or combined terms in a specific word distance such as 'Rückkehr/Heimkehr/Rückwanderung ...Amerika/NewYork/Brasilien/Argentinien/Kanada' (*return/return home/return migration… America/New York/Brazil/Argentina/Canada*) etc. While in the first step all relevant articles were collected, in a second step the focus was on context-rich articles (containing discourses). Content-poor articles (articles with no discourse, e.g., statistical reports on people that returned from the Americas) were not included in the final collection because they do not contribute anything significant regarding questions on how return migration was written about in the press. All in all, a collection of about 350 newspaper clippings was created."
   ]
  },
  {
   "cell_type": "markdown",
   "metadata": {},
   "source": [
    "Since, as described, it was not possible to create a representative corpus for the entire range of return migration issues for further classification, the focus was placed on creating a sub-corpus for return migration from America between 1850 and 1950. A collection of 350 articles was created and for further qualitative analysis (step 11)."
   ]
  },
  {
   "cell_type": "markdown",
   "metadata": {},
   "source": [
    "Chapter 2.7.1 shows what kind of discourses we found in the collection on return migration from the Americas and how they developed over time. The chapter is intended to provide an insight into the discourses in historical newspapers on return migration, it does not represent a discourse analysis in its entirety since that would take the historical, political and social context including sources other than newspapers to re-construct the complexity of a discourse into account."
   ]
  },
  {
   "cell_type": "markdown",
   "metadata": {},
   "source": [
    "#### 2.7.1 Qualitative Analysis of the Austrian Media Discourse on returnees from America between 1850 and 1950"
   ]
  },
  {
   "cell_type": "markdown",
   "metadata": {},
   "source": [
    "People who emigrated to Austria by their own choice and later decided to come back to their homelands between 1850 and 1950 had different reasons for their decisions to return: success, failure, homesickness, rejection in the new country, changes in the economic or socio-political conditions in their native countries, or perhaps family members asked them to return. One of the first stories on return migration from America to Austria can be found in Ferdinand Kürnberger's novel 'Der Amerika-Müde' (*The America-Tired*) <cite data-cite=\"6142573/RWUWZF7D\"></cite>. This book made reference to the American experience of the Austrian writer Nikolaus Lenau, who left for America in 1832 with the aim to emigrate. However, oOnly eight days after his arrival in Baltimore Lenau wrote: 'Brothers, these Americans are petty minded people who turn the heavens’ stomachs. Dead to all things intellectual, as dead as a doornail' <cite data-cite=\"6142573/6IFE7WQI\"></cite>. Due to private problems (the discontinuation of his  medical studies and a failed love story) he returned to Europe as early as 1833. Homesick and disappointed by his impressions and his experiences in Baltimore, Pennsylvania, Ohio, and the Niagara Falls, Lenau came back to Austria. Neither had he found the land of freedom, nor had he been able to secure himself materially <cite data-cite=\"6142573/AXWYSSW3\"></cite>. "
   ]
  },
  {
   "cell_type": "markdown",
   "metadata": {},
   "source": [
    "Each returning migrant had his or her own return story, a story that did not only concern the returnee him- or herself. Return migration always also had an impact on the country of origin and its people. Every (mass) return migration movement was therefore accompanied with public discourses and arguments to support, promote, regulate or prohibit the return of people to their country of origin. (Critical) discourse analysis helps to understand how social interaction constitutes such discourses and arguments and how they change over time. Historical-semantic discourse analysis thus can open up semantic aspects and elements of knowledge that could escape a purely word-oriented history of meaning <cite data-cite=\"6142573/X8HTUPMY\"></cite>."
   ]
  },
  {
   "cell_type": "markdown",
   "metadata": {
    "tags": [
     "hermeneutics"
    ]
   },
   "source": [
    "## Step 12: Identifying discourses and creating annotations"
   ]
  },
  {
   "cell_type": "markdown",
   "metadata": {
    "tags": [
     "hermeneutics"
    ]
   },
   "source": [
    "Corpus annotations in the context of qualitative analysis are often created manually by reading and tagging documents or parts of documents. Discourses are contextualized phenomena and therefore not observable on the surface or by automatic retrieval <cite data-cite=\"6142573/DXVIWVKG\"></cite>. Discourses therefore need to be identified by human readers and manual annotations need to be implemented by human encoders. Discourse analysis is an inductive method. Categories of similar meanings usually emerge through the inductive analytic process <cite data-cite=\"6142573/N6WP2ZUH\"></cite>, which means that categories were formed, changed and extended during the process of reading. The final catalogue consisted of the following categories: "
   ]
  },
  {
   "cell_type": "markdown",
   "metadata": {
    "tags": [
     "hermeneutics"
    ]
   },
   "source": [
    "- return was enhanced (R=enhanced)\n",
    "- return was restricted (R=restricted)\n",
    "- return migration was useless for Austria (R=useless)\n",
    "- motive of delusion and disappointment (Delusion)\n",
    "- return migration was a benefit for Austria (R=benefit)\n",
    "- return migration was a danger for Austria (R=danger)\n",
    "- Austria was overburdened (A=overburdened)\n",
    "- Austria supported return migration (A=support). \n"
   ]
  },
  {
   "cell_type": "markdown",
   "metadata": {
    "tags": [
     "hermeneutics"
    ]
   },
   "source": [
    "While there are a number of computer-assisted qualitative corpus analysis software programs that support manual annotations (e.g., <a href=\"https://atlasti.com/\" target=\"_blank\">Atlas.ti</a>, <a href=\"https://www.qsrinternational.com/nvivo-qualitative-data-analysis-software/home/\" target=\"_blank\">NVivo</a>, <a href=\"https://recogito.pelagios.org/\" target=\"_blank\">Recogito</a>, <a href=\"https://catma.de/\" target=\"_blank\">Catma</a>, etc.), they take a lot of time and such programs can be too advanced and sophisticated when assigning tags to a smaller manageable corpus. Therefore, in our case, a simple spreadsheet, *Microsoft Excel*, was used to annotate the sub-corpus. The first column contained the original text, the second column the occuring discourse categories, the third column contained the date of the newspaper clipping and the fourth column the title of the newspaper issue."
   ]
  },
  {
   "cell_type": "markdown",
   "metadata": {},
   "source": [
    "Within the news coverage on return migration from the Americas, eight main discourses were identified by reading through every article and manually annotating them (step 12). We take a closer look at four of those discourses: "
   ]
  },
  {
   "cell_type": "markdown",
   "metadata": {},
   "source": [
    "1. **Return migration was enhanced (R=enhanced)**: In times of mass emigration, the Austro-Hungarian Empire (1867 to 1918) had repeatedly promoted the return of Austrians and put the issue on the political agenda <cite data-cite=\"6142573/HP5RBUIN\"></cite>. The discourse on enhancement took place mainly in the periods before and at the beginning of the two world wars (1914 to 1918; 1939 to 1945) (see Figure 10), when return was deliberately promoted to strengthen the army, but also for nationalistic reasons. The *Arbeiter-Zeitung* from 1914, for example, reported on transportation at no cost for those who were willing to return to Austria: 'A mass influx of 'reservists' [...] leave no doubt that war has broken out in Europe. [...] In New York alone, thousands of victims of the [economic] crisis [...] are now crowding into the anterooms of the consulates involved, in order to declare their intention of 'rushing to the flags', with free transport and ten heller a day pay - as far as Austrian-Hungarian reservists are concerned.'"
   ]
  },
  {
   "cell_type": "code",
   "execution_count": 15,
   "metadata": {
    "tags": [
     "narrative"
    ]
   },
   "outputs": [
    {
     "name": "stdout",
     "output_type": "stream",
     "text": [
      "Figure 10: Dot chart of manual annotations on the sub-corpus (step 13)\n"
     ]
    },
    {
     "data": {
      "text/html": [
       "\n",
       "<!DOCTYPE html>\n",
       "<html>\n",
       "  <head>\n",
       "  <script type=\"text/javascript\" src=\"http://kozea.github.com/pygal.js/javascripts/svg.jquery.js\"></script>\n",
       "  <script type=\"text/javascript\" src=\"https://kozea.github.io/pygal.js/2.0.x/pygal-tooltips.min.js\"\"></script>\n",
       "  </head>\n",
       "  <body>\n",
       "    <figure>\n",
       "      <?xml version='1.0' encoding='utf-8'?>\n",
       "<svg xmlns=\"http://www.w3.org/2000/svg\" xmlns:xlink=\"http://www.w3.org/1999/xlink\" id=\"chart-33194cac-e58d-4032-853c-fe39b7db21a3\" class=\"pygal-chart\" viewBox=\"0 0 800 450\"><!--Generated with pygal 2.4.0 (lxml) ©Kozea 2012-2016 on 2021-05-06--><!--http://pygal.org--><!--http://github.com/Kozea/pygal--><defs><style type=\"text/css\">#chart-33194cac-e58d-4032-853c-fe39b7db21a3{-webkit-user-select:none;-webkit-font-smoothing:antialiased;font-family:Consolas,\"Liberation Mono\",Menlo,Courier,monospace}#chart-33194cac-e58d-4032-853c-fe39b7db21a3 .title{font-family:Consolas,\"Liberation Mono\",Menlo,Courier,monospace;font-size:16px}#chart-33194cac-e58d-4032-853c-fe39b7db21a3 .legends .legend text{font-family:Consolas,\"Liberation Mono\",Menlo,Courier,monospace;font-size:14px}#chart-33194cac-e58d-4032-853c-fe39b7db21a3 .axis text{font-family:Consolas,\"Liberation Mono\",Menlo,Courier,monospace;font-size:10px}#chart-33194cac-e58d-4032-853c-fe39b7db21a3 .axis text.major{font-family:Consolas,\"Liberation Mono\",Menlo,Courier,monospace;font-size:10px}#chart-33194cac-e58d-4032-853c-fe39b7db21a3 .text-overlay text.value{font-family:Consolas,\"Liberation Mono\",Menlo,Courier,monospace;font-size:16px}#chart-33194cac-e58d-4032-853c-fe39b7db21a3 .text-overlay text.label{font-family:Consolas,\"Liberation Mono\",Menlo,Courier,monospace;font-size:10px}#chart-33194cac-e58d-4032-853c-fe39b7db21a3 .tooltip{font-family:Consolas,\"Liberation Mono\",Menlo,Courier,monospace;font-size:14px}#chart-33194cac-e58d-4032-853c-fe39b7db21a3 text.no_data{font-family:Consolas,\"Liberation Mono\",Menlo,Courier,monospace;font-size:64px}\n",
       "#chart-33194cac-e58d-4032-853c-fe39b7db21a3{background-color:black}#chart-33194cac-e58d-4032-853c-fe39b7db21a3 path,#chart-33194cac-e58d-4032-853c-fe39b7db21a3 line,#chart-33194cac-e58d-4032-853c-fe39b7db21a3 rect,#chart-33194cac-e58d-4032-853c-fe39b7db21a3 circle{-webkit-transition:250ms;-moz-transition:250ms;transition:250ms}#chart-33194cac-e58d-4032-853c-fe39b7db21a3 .graph &gt; .background{fill:black}#chart-33194cac-e58d-4032-853c-fe39b7db21a3 .plot &gt; .background{fill:#111}#chart-33194cac-e58d-4032-853c-fe39b7db21a3 .graph{fill:#999}#chart-33194cac-e58d-4032-853c-fe39b7db21a3 text.no_data{fill:#eee}#chart-33194cac-e58d-4032-853c-fe39b7db21a3 .title{fill:#eee}#chart-33194cac-e58d-4032-853c-fe39b7db21a3 .legends .legend text{fill:#999}#chart-33194cac-e58d-4032-853c-fe39b7db21a3 .legends .legend:hover text{fill:#eee}#chart-33194cac-e58d-4032-853c-fe39b7db21a3 .axis .line{stroke:#eee}#chart-33194cac-e58d-4032-853c-fe39b7db21a3 .axis .guide.line{stroke:#555}#chart-33194cac-e58d-4032-853c-fe39b7db21a3 .axis .major.line{stroke:#999}#chart-33194cac-e58d-4032-853c-fe39b7db21a3 .axis text.major{fill:#eee}#chart-33194cac-e58d-4032-853c-fe39b7db21a3 .axis.y .guides:hover .guide.line,#chart-33194cac-e58d-4032-853c-fe39b7db21a3 .line-graph .axis.x .guides:hover .guide.line,#chart-33194cac-e58d-4032-853c-fe39b7db21a3 .stackedline-graph .axis.x .guides:hover .guide.line,#chart-33194cac-e58d-4032-853c-fe39b7db21a3 .xy-graph .axis.x .guides:hover .guide.line{stroke:#eee}#chart-33194cac-e58d-4032-853c-fe39b7db21a3 .axis .guides:hover text{fill:#eee}#chart-33194cac-e58d-4032-853c-fe39b7db21a3 .reactive{fill-opacity:.8;stroke-opacity:.8}#chart-33194cac-e58d-4032-853c-fe39b7db21a3 .ci{stroke:#999}#chart-33194cac-e58d-4032-853c-fe39b7db21a3 .reactive.active,#chart-33194cac-e58d-4032-853c-fe39b7db21a3 .active .reactive{fill-opacity:.4;stroke-opacity:.9;stroke-width:4}#chart-33194cac-e58d-4032-853c-fe39b7db21a3 .ci .reactive.active{stroke-width:1.5}#chart-33194cac-e58d-4032-853c-fe39b7db21a3 .series text{fill:#eee}#chart-33194cac-e58d-4032-853c-fe39b7db21a3 .tooltip rect{fill:#111;stroke:#eee;-webkit-transition:opacity 250ms;-moz-transition:opacity 250ms;transition:opacity 250ms}#chart-33194cac-e58d-4032-853c-fe39b7db21a3 .tooltip .label{fill:#999}#chart-33194cac-e58d-4032-853c-fe39b7db21a3 .tooltip .label{fill:#999}#chart-33194cac-e58d-4032-853c-fe39b7db21a3 .tooltip .legend{font-size:.8em;fill:#555}#chart-33194cac-e58d-4032-853c-fe39b7db21a3 .tooltip .x_label{font-size:.6em;fill:#eee}#chart-33194cac-e58d-4032-853c-fe39b7db21a3 .tooltip .xlink{font-size:.5em;text-decoration:underline}#chart-33194cac-e58d-4032-853c-fe39b7db21a3 .tooltip .value{font-size:1.5em}#chart-33194cac-e58d-4032-853c-fe39b7db21a3 .bound{font-size:.5em}#chart-33194cac-e58d-4032-853c-fe39b7db21a3 .max-value{font-size:.75em;fill:#555}#chart-33194cac-e58d-4032-853c-fe39b7db21a3 .map-element{fill:#111;stroke:#555 !important}#chart-33194cac-e58d-4032-853c-fe39b7db21a3 .map-element .reactive{fill-opacity:inherit;stroke-opacity:inherit}#chart-33194cac-e58d-4032-853c-fe39b7db21a3 .color-0,#chart-33194cac-e58d-4032-853c-fe39b7db21a3 .color-0 a:visited{stroke:#ff5995;fill:#ff5995}#chart-33194cac-e58d-4032-853c-fe39b7db21a3 .color-1,#chart-33194cac-e58d-4032-853c-fe39b7db21a3 .color-1 a:visited{stroke:#b6e354;fill:#b6e354}#chart-33194cac-e58d-4032-853c-fe39b7db21a3 .color-2,#chart-33194cac-e58d-4032-853c-fe39b7db21a3 .color-2 a:visited{stroke:#feed6c;fill:#feed6c}#chart-33194cac-e58d-4032-853c-fe39b7db21a3 .color-3,#chart-33194cac-e58d-4032-853c-fe39b7db21a3 .color-3 a:visited{stroke:#8cedff;fill:#8cedff}#chart-33194cac-e58d-4032-853c-fe39b7db21a3 .color-4,#chart-33194cac-e58d-4032-853c-fe39b7db21a3 .color-4 a:visited{stroke:#9e6ffe;fill:#9e6ffe}#chart-33194cac-e58d-4032-853c-fe39b7db21a3 .color-5,#chart-33194cac-e58d-4032-853c-fe39b7db21a3 .color-5 a:visited{stroke:#899ca1;fill:#899ca1}#chart-33194cac-e58d-4032-853c-fe39b7db21a3 .color-6,#chart-33194cac-e58d-4032-853c-fe39b7db21a3 .color-6 a:visited{stroke:#f8f8f2;fill:#f8f8f2}#chart-33194cac-e58d-4032-853c-fe39b7db21a3 .color-7,#chart-33194cac-e58d-4032-853c-fe39b7db21a3 .color-7 a:visited{stroke:#bf4646;fill:#bf4646}#chart-33194cac-e58d-4032-853c-fe39b7db21a3 .text-overlay .color-0 text{fill:black}#chart-33194cac-e58d-4032-853c-fe39b7db21a3 .text-overlay .color-1 text{fill:black}#chart-33194cac-e58d-4032-853c-fe39b7db21a3 .text-overlay .color-2 text{fill:black}#chart-33194cac-e58d-4032-853c-fe39b7db21a3 .text-overlay .color-3 text{fill:black}#chart-33194cac-e58d-4032-853c-fe39b7db21a3 .text-overlay .color-4 text{fill:black}#chart-33194cac-e58d-4032-853c-fe39b7db21a3 .text-overlay .color-5 text{fill:black}#chart-33194cac-e58d-4032-853c-fe39b7db21a3 .text-overlay .color-6 text{fill:black}#chart-33194cac-e58d-4032-853c-fe39b7db21a3 .text-overlay .color-7 text{fill:black}\n",
       "#chart-33194cac-e58d-4032-853c-fe39b7db21a3 text.no_data{text-anchor:middle}#chart-33194cac-e58d-4032-853c-fe39b7db21a3 .guide.line{fill:none}#chart-33194cac-e58d-4032-853c-fe39b7db21a3 .centered{text-anchor:middle}#chart-33194cac-e58d-4032-853c-fe39b7db21a3 .title{text-anchor:middle}#chart-33194cac-e58d-4032-853c-fe39b7db21a3 .legends .legend text{fill-opacity:1}#chart-33194cac-e58d-4032-853c-fe39b7db21a3 .axis.x text{text-anchor:middle}#chart-33194cac-e58d-4032-853c-fe39b7db21a3 .axis.x:not(.web) text[transform]{text-anchor:start}#chart-33194cac-e58d-4032-853c-fe39b7db21a3 .axis.x:not(.web) text[transform].backwards{text-anchor:end}#chart-33194cac-e58d-4032-853c-fe39b7db21a3 .axis.y text{text-anchor:end}#chart-33194cac-e58d-4032-853c-fe39b7db21a3 .axis.y text[transform].backwards{text-anchor:start}#chart-33194cac-e58d-4032-853c-fe39b7db21a3 .axis.y2 text{text-anchor:start}#chart-33194cac-e58d-4032-853c-fe39b7db21a3 .axis.y2 text[transform].backwards{text-anchor:end}#chart-33194cac-e58d-4032-853c-fe39b7db21a3 .axis .guide.line{stroke-dasharray:4,4}#chart-33194cac-e58d-4032-853c-fe39b7db21a3 .axis .major.guide.line{stroke-dasharray:6,6}#chart-33194cac-e58d-4032-853c-fe39b7db21a3 .horizontal .axis.y .guide.line,#chart-33194cac-e58d-4032-853c-fe39b7db21a3 .horizontal .axis.y2 .guide.line,#chart-33194cac-e58d-4032-853c-fe39b7db21a3 .vertical .axis.x .guide.line{opacity:0}#chart-33194cac-e58d-4032-853c-fe39b7db21a3 .horizontal .axis.always_show .guide.line,#chart-33194cac-e58d-4032-853c-fe39b7db21a3 .vertical .axis.always_show .guide.line{opacity:1 !important}#chart-33194cac-e58d-4032-853c-fe39b7db21a3 .axis.y .guides:hover .guide.line,#chart-33194cac-e58d-4032-853c-fe39b7db21a3 .axis.y2 .guides:hover .guide.line,#chart-33194cac-e58d-4032-853c-fe39b7db21a3 .axis.x .guides:hover .guide.line{opacity:1}#chart-33194cac-e58d-4032-853c-fe39b7db21a3 .axis .guides:hover text{opacity:1}#chart-33194cac-e58d-4032-853c-fe39b7db21a3 .nofill{fill:none}#chart-33194cac-e58d-4032-853c-fe39b7db21a3 .subtle-fill{fill-opacity:.2}#chart-33194cac-e58d-4032-853c-fe39b7db21a3 .dot{stroke-width:1px;fill-opacity:1}#chart-33194cac-e58d-4032-853c-fe39b7db21a3 .dot.active{stroke-width:5px}#chart-33194cac-e58d-4032-853c-fe39b7db21a3 .dot.negative{fill:transparent}#chart-33194cac-e58d-4032-853c-fe39b7db21a3 text,#chart-33194cac-e58d-4032-853c-fe39b7db21a3 tspan{stroke:none !important}#chart-33194cac-e58d-4032-853c-fe39b7db21a3 .series text.active{opacity:1}#chart-33194cac-e58d-4032-853c-fe39b7db21a3 .tooltip rect{fill-opacity:.95;stroke-width:.5}#chart-33194cac-e58d-4032-853c-fe39b7db21a3 .tooltip text{fill-opacity:1}#chart-33194cac-e58d-4032-853c-fe39b7db21a3 .showable{visibility:hidden}#chart-33194cac-e58d-4032-853c-fe39b7db21a3 .showable.shown{visibility:visible}#chart-33194cac-e58d-4032-853c-fe39b7db21a3 .gauge-background{fill:rgba(229,229,229,1);stroke:none}#chart-33194cac-e58d-4032-853c-fe39b7db21a3 .bg-lines{stroke:black;stroke-width:2px}</style><script type=\"text/javascript\">window.pygal = window.pygal || {};window.pygal.config = window.pygal.config || {};window.pygal.config['33194cac-e58d-4032-853c-fe39b7db21a3'] = {\"allow_interruptions\": false, \"box_mode\": \"extremes\", \"classes\": [\"pygal-chart\"], \"css\": [\"file://style.css\", \"file://graph.css\"], \"defs\": [], \"disable_xml_declaration\": false, \"dots_size\": 2.5, \"dynamic_print_values\": false, \"explicit_size\": false, \"fill\": false, \"force_uri_protocol\": \"https\", \"formatter\": null, \"half_pie\": false, \"height\": 450, \"include_x_axis\": false, \"inner_radius\": 0, \"interpolate\": null, \"interpolation_parameters\": {}, \"interpolation_precision\": 250, \"inverse_y_axis\": false, \"js\": [\"//kozea.github.io/pygal.js/2.0.x/pygal-tooltips.min.js\"], \"legend_at_bottom\": true, \"legend_at_bottom_columns\": 4, \"legend_box_size\": 6, \"logarithmic\": false, \"margin\": 20, \"margin_bottom\": null, \"margin_left\": null, \"margin_right\": null, \"margin_top\": null, \"max_scale\": 16, \"min_scale\": 4, \"missing_value_fill_truncation\": \"x\", \"no_data_text\": \"No data\", \"no_prefix\": false, \"order_min\": null, \"pretty_print\": false, \"print_labels\": false, \"print_values\": false, \"print_values_position\": \"center\", \"print_zeroes\": true, \"range\": null, \"rounded_bars\": null, \"secondary_range\": null, \"show_dots\": true, \"show_legend\": true, \"show_minor_x_labels\": true, \"show_minor_y_labels\": true, \"show_only_major_dots\": false, \"show_x_guides\": false, \"show_x_labels\": true, \"show_y_guides\": true, \"show_y_labels\": true, \"spacing\": 10, \"stack_from_top\": false, \"strict\": false, \"stroke\": true, \"stroke_style\": null, \"style\": {\"background\": \"black\", \"ci_colors\": [], \"colors\": [\"#ff5995\", \"#b6e354\", \"#feed6c\", \"#8cedff\", \"#9e6ffe\", \"#899ca1\", \"#f8f8f2\", \"#bf4646\", \"#516083\", \"#f92672\", \"#82b414\", \"#fd971f\", \"#56c2d6\", \"#808384\", \"#8c54fe\", \"#465457\"], \"font_family\": \"Consolas, \\\"Liberation Mono\\\", Menlo, Courier, monospace\", \"foreground\": \"#999\", \"foreground_strong\": \"#eee\", \"foreground_subtle\": \"#555\", \"guide_stroke_dasharray\": \"4,4\", \"label_font_family\": \"Consolas, \\\"Liberation Mono\\\", Menlo, Courier, monospace\", \"label_font_size\": 10, \"legend_font_family\": \"Consolas, \\\"Liberation Mono\\\", Menlo, Courier, monospace\", \"legend_font_size\": 14, \"major_guide_stroke_dasharray\": \"6,6\", \"major_label_font_family\": \"Consolas, \\\"Liberation Mono\\\", Menlo, Courier, monospace\", \"major_label_font_size\": 10, \"no_data_font_family\": \"Consolas, \\\"Liberation Mono\\\", Menlo, Courier, monospace\", \"no_data_font_size\": 64, \"opacity\": \".8\", \"opacity_hover\": \".4\", \"plot_background\": \"#111\", \"stroke_opacity\": \".8\", \"stroke_opacity_hover\": \".9\", \"title_font_family\": \"Consolas, \\\"Liberation Mono\\\", Menlo, Courier, monospace\", \"title_font_size\": 16, \"tooltip_font_family\": \"Consolas, \\\"Liberation Mono\\\", Menlo, Courier, monospace\", \"tooltip_font_size\": 14, \"transition\": \"250ms\", \"value_background\": \"rgba(229, 229, 229, 1)\", \"value_colors\": [], \"value_font_family\": \"Consolas, \\\"Liberation Mono\\\", Menlo, Courier, monospace\", \"value_font_size\": 16, \"value_label_font_family\": \"Consolas, \\\"Liberation Mono\\\", Menlo, Courier, monospace\", \"value_label_font_size\": 10}, \"title\": \"Return from America - Discourses\", \"tooltip_border_radius\": 0, \"tooltip_fancy_mode\": true, \"truncate_label\": null, \"truncate_legend\": null, \"width\": 800, \"x_label_rotation\": 70, \"x_labels\": [\"1872-73\", \"1874-75\", \"1876-77\", \"1878-79\", \"1880-81\", \"1882-83\", \"1884-85\", \"1886-87\", \"1888-89\", \"1890-91\", \"1892-93\", \"1894-95\", \"1896-97\", \"1898-99\", \"1900-01\", \"1902-03\", \"1904-05\", \"1906-07\", \"1908-09\", \"1910-11\", \"1912-13\", \"1914-15\", \"1916-17\", \"1918-19\", \"1920-21\", \"1922-23\", \"1924-25\", \"1926-27\", \"1928-29\", \"1930-31\", \"1932-33\", \"1934-35\", \"1936-37\", \"1938-39\", \"1940-41\", \"1942-43\", \"1944-45\", \"1946-47\", \"1948-49\"], \"x_labels_major\": null, \"x_labels_major_count\": null, \"x_labels_major_every\": null, \"x_title\": null, \"xrange\": null, \"y_label_rotation\": 0, \"y_labels\": null, \"y_labels_major\": null, \"y_labels_major_count\": null, \"y_labels_major_every\": null, \"y_title\": null, \"zero\": 0, \"legends\": [\"R=enhanced\", \"R=restricted\", \"R=useless\", \"Delusion\", \"R=benefit\", \"R=danger\", \"A=overburdened\", \"A=support\"]}</script><script type=\"text/javascript\" xlink:href=\"https://kozea.github.io/pygal.js/2.0.x/pygal-tooltips.min.js\"/></defs><title>Return from America - Discourses</title><g class=\"graph dot-graph vertical\"><rect x=\"0\" y=\"0\" width=\"800\" height=\"450\" class=\"background\"/><g transform=\"translate(114, 46)\" class=\"plot\"><rect x=\"0\" y=\"0\" width=\"666.0\" height=\"289.53290992699186\" class=\"background\"/><g class=\"axis y always_show\"><path d=\"M0.000000 289.532910 h666.000000\" class=\"line\"/><g class=\"guides\"><path d=\"M0.000000 22.967755 h666.000000\" class=\"guide line\"/><text x=\"-5\" y=\"26.46775487401618\" class=\"\">R=enhanced</text><title>7.5</title></g><g class=\"guides\"><path d=\"M0.000000 57.767383 h666.000000\" class=\"guide line\"/><text x=\"-5\" y=\"61.26738347101039\" class=\"\">R=restricted</text><title>6.5</title></g><g class=\"guides\"><path d=\"M0.000000 92.567012 h666.000000\" class=\"guide line\"/><text x=\"-5\" y=\"96.06701206800463\" class=\"\">R=useless</text><title>5.5</title></g><g class=\"guides\"><path d=\"M0.000000 127.366641 h666.000000\" class=\"guide line\"/><text x=\"-5\" y=\"130.86664066499884\" class=\"\">Delusion</text><title>4.5</title></g><g class=\"guides\"><path d=\"M0.000000 162.166269 h666.000000\" class=\"guide line\"/><text x=\"-5\" y=\"165.66626926199302\" class=\"\">R=benefit</text><title>3.5</title></g><g class=\"guides\"><path d=\"M0.000000 196.965898 h666.000000\" class=\"guide line\"/><text x=\"-5\" y=\"200.46589785898726\" class=\"\">R=danger</text><title>2.5</title></g><g class=\"guides\"><path d=\"M0.000000 231.765526 h666.000000\" class=\"guide line\"/><text x=\"-5\" y=\"235.26552645598147\" class=\"\">A=overburdened</text><title>1.5</title></g><g class=\"guides\"><path d=\"M0.000000 266.565155 h666.000000\" class=\"guide line\"/><text x=\"-5\" y=\"270.0651550529757\" class=\"\">A=support</text><title>0.5</title></g></g><g class=\"axis x\"><path d=\"M0.000000 0.000000 v289.532910\" class=\"line\"/><g class=\"guides\"><path d=\"M21.017751 0.000000 v289.532910\" class=\"guide line\"/><text x=\"21.01775147928994\" y=\"304.53290992699186\" class=\"\" transform=\"rotate(70 21.017751 304.532910)\">1872-73</text></g><g class=\"guides\"><path d=\"M37.437870 0.000000 v289.532910\" class=\"guide line\"/><text x=\"37.43786982248521\" y=\"304.53290992699186\" class=\"\" transform=\"rotate(70 37.437870 304.532910)\">1874-75</text></g><g class=\"guides\"><path d=\"M53.857988 0.000000 v289.532910\" class=\"guide line\"/><text x=\"53.85798816568047\" y=\"304.53290992699186\" class=\"\" transform=\"rotate(70 53.857988 304.532910)\">1876-77</text></g><g class=\"guides\"><path d=\"M70.278107 0.000000 v289.532910\" class=\"guide line\"/><text x=\"70.27810650887574\" y=\"304.53290992699186\" class=\"\" transform=\"rotate(70 70.278107 304.532910)\">1878-79</text></g><g class=\"guides\"><path d=\"M86.698225 0.000000 v289.532910\" class=\"guide line\"/><text x=\"86.69822485207101\" y=\"304.53290992699186\" class=\"\" transform=\"rotate(70 86.698225 304.532910)\">1880-81</text></g><g class=\"guides\"><path d=\"M103.118343 0.000000 v289.532910\" class=\"guide line\"/><text x=\"103.11834319526628\" y=\"304.53290992699186\" class=\"\" transform=\"rotate(70 103.118343 304.532910)\">1882-83</text></g><g class=\"guides\"><path d=\"M119.538462 0.000000 v289.532910\" class=\"guide line\"/><text x=\"119.53846153846155\" y=\"304.53290992699186\" class=\"\" transform=\"rotate(70 119.538462 304.532910)\">1884-85</text></g><g class=\"guides\"><path d=\"M135.958580 0.000000 v289.532910\" class=\"guide line\"/><text x=\"135.9585798816568\" y=\"304.53290992699186\" class=\"\" transform=\"rotate(70 135.958580 304.532910)\">1886-87</text></g><g class=\"guides\"><path d=\"M152.378698 0.000000 v289.532910\" class=\"guide line\"/><text x=\"152.37869822485206\" y=\"304.53290992699186\" class=\"\" transform=\"rotate(70 152.378698 304.532910)\">1888-89</text></g><g class=\"guides\"><path d=\"M168.798817 0.000000 v289.532910\" class=\"guide line\"/><text x=\"168.79881656804733\" y=\"304.53290992699186\" class=\"\" transform=\"rotate(70 168.798817 304.532910)\">1890-91</text></g><g class=\"guides\"><path d=\"M185.218935 0.000000 v289.532910\" class=\"guide line\"/><text x=\"185.21893491124257\" y=\"304.53290992699186\" class=\"\" transform=\"rotate(70 185.218935 304.532910)\">1892-93</text></g><g class=\"guides\"><path d=\"M201.639053 0.000000 v289.532910\" class=\"guide line\"/><text x=\"201.63905325443784\" y=\"304.53290992699186\" class=\"\" transform=\"rotate(70 201.639053 304.532910)\">1894-95</text></g><g class=\"guides\"><path d=\"M218.059172 0.000000 v289.532910\" class=\"guide line\"/><text x=\"218.0591715976331\" y=\"304.53290992699186\" class=\"\" transform=\"rotate(70 218.059172 304.532910)\">1896-97</text></g><g class=\"guides\"><path d=\"M234.479290 0.000000 v289.532910\" class=\"guide line\"/><text x=\"234.47928994082838\" y=\"304.53290992699186\" class=\"\" transform=\"rotate(70 234.479290 304.532910)\">1898-99</text></g><g class=\"guides\"><path d=\"M250.899408 0.000000 v289.532910\" class=\"guide line\"/><text x=\"250.89940828402365\" y=\"304.53290992699186\" class=\"\" transform=\"rotate(70 250.899408 304.532910)\">1900-01</text></g><g class=\"guides\"><path d=\"M267.319527 0.000000 v289.532910\" class=\"guide line\"/><text x=\"267.319526627219\" y=\"304.53290992699186\" class=\"\" transform=\"rotate(70 267.319527 304.532910)\">1902-03</text></g><g class=\"guides\"><path d=\"M283.739645 0.000000 v289.532910\" class=\"guide line\"/><text x=\"283.73964497041425\" y=\"304.53290992699186\" class=\"\" transform=\"rotate(70 283.739645 304.532910)\">1904-05</text></g><g class=\"guides\"><path d=\"M300.159763 0.000000 v289.532910\" class=\"guide line\"/><text x=\"300.15976331360946\" y=\"304.53290992699186\" class=\"\" transform=\"rotate(70 300.159763 304.532910)\">1906-07</text></g><g class=\"guides\"><path d=\"M316.579882 0.000000 v289.532910\" class=\"guide line\"/><text x=\"316.57988165680473\" y=\"304.53290992699186\" class=\"\" transform=\"rotate(70 316.579882 304.532910)\">1908-09</text></g><g class=\"guides\"><path d=\"M333.000000 0.000000 v289.532910\" class=\"guide line\"/><text x=\"333.0\" y=\"304.53290992699186\" class=\"\" transform=\"rotate(70 333.000000 304.532910)\">1910-11</text></g><g class=\"guides\"><path d=\"M349.420118 0.000000 v289.532910\" class=\"guide line\"/><text x=\"349.42011834319527\" y=\"304.53290992699186\" class=\"\" transform=\"rotate(70 349.420118 304.532910)\">1912-13</text></g><g class=\"guides\"><path d=\"M365.840237 0.000000 v289.532910\" class=\"guide line\"/><text x=\"365.84023668639054\" y=\"304.53290992699186\" class=\"\" transform=\"rotate(70 365.840237 304.532910)\">1914-15</text></g><g class=\"guides\"><path d=\"M382.260355 0.000000 v289.532910\" class=\"guide line\"/><text x=\"382.2603550295858\" y=\"304.53290992699186\" class=\"\" transform=\"rotate(70 382.260355 304.532910)\">1916-17</text></g><g class=\"guides\"><path d=\"M398.680473 0.000000 v289.532910\" class=\"guide line\"/><text x=\"398.6804733727811\" y=\"304.53290992699186\" class=\"\" transform=\"rotate(70 398.680473 304.532910)\">1918-19</text></g><g class=\"guides\"><path d=\"M415.100592 0.000000 v289.532910\" class=\"guide line\"/><text x=\"415.1005917159763\" y=\"304.53290992699186\" class=\"\" transform=\"rotate(70 415.100592 304.532910)\">1920-21</text></g><g class=\"guides\"><path d=\"M431.520710 0.000000 v289.532910\" class=\"guide line\"/><text x=\"431.52071005917156\" y=\"304.53290992699186\" class=\"\" transform=\"rotate(70 431.520710 304.532910)\">1922-23</text></g><g class=\"guides\"><path d=\"M447.940828 0.000000 v289.532910\" class=\"guide line\"/><text x=\"447.94082840236683\" y=\"304.53290992699186\" class=\"\" transform=\"rotate(70 447.940828 304.532910)\">1924-25</text></g><g class=\"guides\"><path d=\"M464.360947 0.000000 v289.532910\" class=\"guide line\"/><text x=\"464.3609467455621\" y=\"304.53290992699186\" class=\"\" transform=\"rotate(70 464.360947 304.532910)\">1926-27</text></g><g class=\"guides\"><path d=\"M480.781065 0.000000 v289.532910\" class=\"guide line\"/><text x=\"480.7810650887574\" y=\"304.53290992699186\" class=\"\" transform=\"rotate(70 480.781065 304.532910)\">1928-29</text></g><g class=\"guides\"><path d=\"M497.201183 0.000000 v289.532910\" class=\"guide line\"/><text x=\"497.20118343195264\" y=\"304.53290992699186\" class=\"\" transform=\"rotate(70 497.201183 304.532910)\">1930-31</text></g><g class=\"guides\"><path d=\"M513.621302 0.000000 v289.532910\" class=\"guide line\"/><text x=\"513.6213017751479\" y=\"304.53290992699186\" class=\"\" transform=\"rotate(70 513.621302 304.532910)\">1932-33</text></g><g class=\"guides\"><path d=\"M530.041420 0.000000 v289.532910\" class=\"guide line\"/><text x=\"530.0414201183431\" y=\"304.53290992699186\" class=\"\" transform=\"rotate(70 530.041420 304.532910)\">1934-35</text></g><g class=\"guides\"><path d=\"M546.461538 0.000000 v289.532910\" class=\"guide line\"/><text x=\"546.4615384615385\" y=\"304.53290992699186\" class=\"\" transform=\"rotate(70 546.461538 304.532910)\">1936-37</text></g><g class=\"guides\"><path d=\"M562.881657 0.000000 v289.532910\" class=\"guide line\"/><text x=\"562.8816568047337\" y=\"304.53290992699186\" class=\"\" transform=\"rotate(70 562.881657 304.532910)\">1938-39</text></g><g class=\"guides\"><path d=\"M579.301775 0.000000 v289.532910\" class=\"guide line\"/><text x=\"579.301775147929\" y=\"304.53290992699186\" class=\"\" transform=\"rotate(70 579.301775 304.532910)\">1940-41</text></g><g class=\"guides\"><path d=\"M595.721893 0.000000 v289.532910\" class=\"guide line\"/><text x=\"595.7218934911242\" y=\"304.53290992699186\" class=\"\" transform=\"rotate(70 595.721893 304.532910)\">1942-43</text></g><g class=\"guides\"><path d=\"M612.142012 0.000000 v289.532910\" class=\"guide line\"/><text x=\"612.1420118343195\" y=\"304.53290992699186\" class=\"\" transform=\"rotate(70 612.142012 304.532910)\">1944-45</text></g><g class=\"guides\"><path d=\"M628.562130 0.000000 v289.532910\" class=\"guide line\"/><text x=\"628.5621301775147\" y=\"304.53290992699186\" class=\"\" transform=\"rotate(70 628.562130 304.532910)\">1946-47</text></g><g class=\"guides\"><path d=\"M644.982249 0.000000 v289.532910\" class=\"guide line\"/><text x=\"644.98224852071\" y=\"304.53290992699186\" class=\"\" transform=\"rotate(70 644.982249 304.532910)\">1948-49</text></g></g><g class=\"series serie-0 color-0\"><g class=\"dots\"><circle cx=\"21.01775147928994\" cy=\"22.96775487401618\" r=\"0.0\" class=\"dot reactive tooltip-trigger\"/><desc class=\"value\">0</desc><desc class=\"x centered\">21.01775147928994</desc><desc class=\"y centered\">22.96775487401618</desc><desc class=\"x_label\">1872-73</desc></g><g class=\"dots\"><circle cx=\"37.43786982248521\" cy=\"22.96775487401618\" r=\"0.0\" class=\"dot reactive tooltip-trigger\"/><desc class=\"value\">0</desc><desc class=\"x centered\">37.43786982248521</desc><desc class=\"y centered\">22.96775487401618</desc><desc class=\"x_label\">1874-75</desc></g><g class=\"dots\"><circle cx=\"53.85798816568047\" cy=\"22.96775487401618\" r=\"0.0\" class=\"dot reactive tooltip-trigger\"/><desc class=\"value\">0</desc><desc class=\"x centered\">53.85798816568047</desc><desc class=\"y centered\">22.96775487401618</desc><desc class=\"x_label\">1876-77</desc></g><g class=\"dots\"><circle cx=\"70.27810650887574\" cy=\"22.96775487401618\" r=\"0.0\" class=\"dot reactive tooltip-trigger\"/><desc class=\"value\">0</desc><desc class=\"x centered\">70.27810650887574</desc><desc class=\"y centered\">22.96775487401618</desc><desc class=\"x_label\">1878-79</desc></g><g class=\"dots\"><circle cx=\"86.69822485207101\" cy=\"22.96775487401618\" r=\"0.5585074266392948\" class=\"dot reactive tooltip-trigger\"/><desc class=\"value\">1</desc><desc class=\"x centered\">86.69822485207101</desc><desc class=\"y centered\">22.96775487401618</desc><desc class=\"x_label\">1880-81</desc></g><g class=\"dots\"><circle cx=\"103.11834319526628\" cy=\"22.96775487401618\" r=\"0.0\" class=\"dot reactive tooltip-trigger\"/><desc class=\"value\">0</desc><desc class=\"x centered\">103.11834319526628</desc><desc class=\"y centered\">22.96775487401618</desc><desc class=\"x_label\">1882-83</desc></g><g class=\"dots\"><circle cx=\"119.53846153846155\" cy=\"22.96775487401618\" r=\"0.0\" class=\"dot reactive tooltip-trigger\"/><desc class=\"value\">0</desc><desc class=\"x centered\">119.53846153846155</desc><desc class=\"y centered\">22.96775487401618</desc><desc class=\"x_label\">1884-85</desc></g><g class=\"dots\"><circle cx=\"135.9585798816568\" cy=\"22.96775487401618\" r=\"0.5585074266392948\" class=\"dot reactive tooltip-trigger\"/><desc class=\"value\">1</desc><desc class=\"x centered\">135.9585798816568</desc><desc class=\"y centered\">22.96775487401618</desc><desc class=\"x_label\">1886-87</desc></g><g class=\"dots\"><circle cx=\"152.37869822485206\" cy=\"22.96775487401618\" r=\"0.5585074266392948\" class=\"dot reactive tooltip-trigger\"/><desc class=\"value\">1</desc><desc class=\"x centered\">152.37869822485206</desc><desc class=\"y centered\">22.96775487401618</desc><desc class=\"x_label\">1888-89</desc></g><g class=\"dots\"><circle cx=\"168.79881656804733\" cy=\"22.96775487401618\" r=\"0.0\" class=\"dot reactive tooltip-trigger\"/><desc class=\"value\">0</desc><desc class=\"x centered\">168.79881656804733</desc><desc class=\"y centered\">22.96775487401618</desc><desc class=\"x_label\">1890-91</desc></g><g class=\"dots\"><circle cx=\"185.21893491124257\" cy=\"22.96775487401618\" r=\"0.0\" class=\"dot reactive tooltip-trigger\"/><desc class=\"value\">0</desc><desc class=\"x centered\">185.21893491124257</desc><desc class=\"y centered\">22.96775487401618</desc><desc class=\"x_label\">1892-93</desc></g><g class=\"dots\"><circle cx=\"201.63905325443784\" cy=\"22.96775487401618\" r=\"0.0\" class=\"dot reactive tooltip-trigger\"/><desc class=\"value\">0</desc><desc class=\"x centered\">201.63905325443784</desc><desc class=\"y centered\">22.96775487401618</desc><desc class=\"x_label\">1894-95</desc></g><g class=\"dots\"><circle cx=\"218.0591715976331\" cy=\"22.96775487401618\" r=\"0.0\" class=\"dot reactive tooltip-trigger\"/><desc class=\"value\">0</desc><desc class=\"x centered\">218.0591715976331</desc><desc class=\"y centered\">22.96775487401618</desc><desc class=\"x_label\">1896-97</desc></g><g class=\"dots\"><circle cx=\"234.47928994082838\" cy=\"22.96775487401618\" r=\"0.0\" class=\"dot reactive tooltip-trigger\"/><desc class=\"value\">0</desc><desc class=\"x centered\">234.47928994082838</desc><desc class=\"y centered\">22.96775487401618</desc><desc class=\"x_label\">1898-99</desc></g><g class=\"dots\"><circle cx=\"250.89940828402365\" cy=\"22.96775487401618\" r=\"0.0\" class=\"dot reactive tooltip-trigger\"/><desc class=\"value\">0</desc><desc class=\"x centered\">250.89940828402365</desc><desc class=\"y centered\">22.96775487401618</desc><desc class=\"x_label\">1900-01</desc></g><g class=\"dots\"><circle cx=\"267.319526627219\" cy=\"22.96775487401618\" r=\"0.0\" class=\"dot reactive tooltip-trigger\"/><desc class=\"value\">0</desc><desc class=\"x centered\">267.319526627219</desc><desc class=\"y centered\">22.96775487401618</desc><desc class=\"x_label\">1902-03</desc></g><g class=\"dots\"><circle cx=\"283.73964497041425\" cy=\"22.96775487401618\" r=\"1.1170148532785895\" class=\"dot reactive tooltip-trigger\"/><desc class=\"value\">2</desc><desc class=\"x centered\">283.73964497041425</desc><desc class=\"y centered\">22.96775487401618</desc><desc class=\"x_label\">1904-05</desc></g><g class=\"dots\"><circle cx=\"300.15976331360946\" cy=\"22.96775487401618\" r=\"2.234029706557179\" class=\"dot reactive tooltip-trigger\"/><desc class=\"value\">4</desc><desc class=\"x centered\">300.15976331360946</desc><desc class=\"y centered\">22.96775487401618</desc><desc class=\"x_label\">1906-07</desc></g><g class=\"dots\"><circle cx=\"316.57988165680473\" cy=\"22.96775487401618\" r=\"0.0\" class=\"dot reactive tooltip-trigger\"/><desc class=\"value\">0</desc><desc class=\"x centered\">316.57988165680473</desc><desc class=\"y centered\">22.96775487401618</desc><desc class=\"x_label\">1908-09</desc></g><g class=\"dots\"><circle cx=\"333.0\" cy=\"22.96775487401618\" r=\"0.5585074266392948\" class=\"dot reactive tooltip-trigger\"/><desc class=\"value\">1</desc><desc class=\"x centered\">333.0</desc><desc class=\"y centered\">22.96775487401618</desc><desc class=\"x_label\">1910-11</desc></g><g class=\"dots\"><circle cx=\"349.42011834319527\" cy=\"22.96775487401618\" r=\"1.6755222799178842\" class=\"dot reactive tooltip-trigger\"/><desc class=\"value\">3</desc><desc class=\"x centered\">349.42011834319527</desc><desc class=\"y centered\">22.96775487401618</desc><desc class=\"x_label\">1912-13</desc></g><g class=\"dots\"><circle cx=\"365.84023668639054\" cy=\"22.96775487401618\" r=\"5.026566839753653\" class=\"dot reactive tooltip-trigger\"/><desc class=\"value\">9</desc><desc class=\"x centered\">365.84023668639054</desc><desc class=\"y centered\">22.96775487401618</desc><desc class=\"x_label\">1914-15</desc></g><g class=\"dots\"><circle cx=\"382.2603550295858\" cy=\"22.96775487401618\" r=\"3.9095519864750634\" class=\"dot reactive tooltip-trigger\"/><desc class=\"value\">7</desc><desc class=\"x centered\">382.2603550295858</desc><desc class=\"y centered\">22.96775487401618</desc><desc class=\"x_label\">1916-17</desc></g><g class=\"dots\"><circle cx=\"398.6804733727811\" cy=\"22.96775487401618\" r=\"1.1170148532785895\" class=\"dot reactive tooltip-trigger\"/><desc class=\"value\">2</desc><desc class=\"x centered\">398.6804733727811</desc><desc class=\"y centered\">22.96775487401618</desc><desc class=\"x_label\">1918-19</desc></g><g class=\"dots\"><circle cx=\"415.1005917159763\" cy=\"22.96775487401618\" r=\"0.0\" class=\"dot reactive tooltip-trigger\"/><desc class=\"value\">0</desc><desc class=\"x centered\">415.1005917159763</desc><desc class=\"y centered\">22.96775487401618</desc><desc class=\"x_label\">1920-21</desc></g><g class=\"dots\"><circle cx=\"431.52071005917156\" cy=\"22.96775487401618\" r=\"0.0\" class=\"dot reactive tooltip-trigger\"/><desc class=\"value\">0</desc><desc class=\"x centered\">431.52071005917156</desc><desc class=\"y centered\">22.96775487401618</desc><desc class=\"x_label\">1922-23</desc></g><g class=\"dots\"><circle cx=\"447.94082840236683\" cy=\"22.96775487401618\" r=\"0.5585074266392948\" class=\"dot reactive tooltip-trigger\"/><desc class=\"value\">1</desc><desc class=\"x centered\">447.94082840236683</desc><desc class=\"y centered\">22.96775487401618</desc><desc class=\"x_label\">1924-25</desc></g><g class=\"dots\"><circle cx=\"464.3609467455621\" cy=\"22.96775487401618\" r=\"0.0\" class=\"dot reactive tooltip-trigger\"/><desc class=\"value\">0</desc><desc class=\"x centered\">464.3609467455621</desc><desc class=\"y centered\">22.96775487401618</desc><desc class=\"x_label\">1926-27</desc></g><g class=\"dots\"><circle cx=\"480.7810650887574\" cy=\"22.96775487401618\" r=\"0.0\" class=\"dot reactive tooltip-trigger\"/><desc class=\"value\">0</desc><desc class=\"x centered\">480.7810650887574</desc><desc class=\"y centered\">22.96775487401618</desc><desc class=\"x_label\">1928-29</desc></g><g class=\"dots\"><circle cx=\"497.20118343195264\" cy=\"22.96775487401618\" r=\"0.0\" class=\"dot reactive tooltip-trigger\"/><desc class=\"value\">0</desc><desc class=\"x centered\">497.20118343195264</desc><desc class=\"y centered\">22.96775487401618</desc><desc class=\"x_label\">1930-31</desc></g><g class=\"dots\"><circle cx=\"513.6213017751479\" cy=\"22.96775487401618\" r=\"0.0\" class=\"dot reactive tooltip-trigger\"/><desc class=\"value\">0</desc><desc class=\"x centered\">513.6213017751479</desc><desc class=\"y centered\">22.96775487401618</desc><desc class=\"x_label\">1932-33</desc></g><g class=\"dots\"><circle cx=\"530.0414201183431\" cy=\"22.96775487401618\" r=\"0.0\" class=\"dot reactive tooltip-trigger\"/><desc class=\"value\">0</desc><desc class=\"x centered\">530.0414201183431</desc><desc class=\"y centered\">22.96775487401618</desc><desc class=\"x_label\">1934-35</desc></g><g class=\"dots\"><circle cx=\"546.4615384615385\" cy=\"22.96775487401618\" r=\"0.0\" class=\"dot reactive tooltip-trigger\"/><desc class=\"value\">0</desc><desc class=\"x centered\">546.4615384615385</desc><desc class=\"y centered\">22.96775487401618</desc><desc class=\"x_label\">1936-37</desc></g><g class=\"dots\"><circle cx=\"562.8816568047337\" cy=\"22.96775487401618\" r=\"0.5585074266392948\" class=\"dot reactive tooltip-trigger\"/><desc class=\"value\">1</desc><desc class=\"x centered\">562.8816568047337</desc><desc class=\"y centered\">22.96775487401618</desc><desc class=\"x_label\">1938-39</desc></g><g class=\"dots\"><circle cx=\"579.301775147929\" cy=\"22.96775487401618\" r=\"0.5585074266392948\" class=\"dot reactive tooltip-trigger\"/><desc class=\"value\">1</desc><desc class=\"x centered\">579.301775147929</desc><desc class=\"y centered\">22.96775487401618</desc><desc class=\"x_label\">1940-41</desc></g><g class=\"dots\"><circle cx=\"595.7218934911242\" cy=\"22.96775487401618\" r=\"3.3510445598357683\" class=\"dot reactive tooltip-trigger\"/><desc class=\"value\">6</desc><desc class=\"x centered\">595.7218934911242</desc><desc class=\"y centered\">22.96775487401618</desc><desc class=\"x_label\">1942-43</desc></g><g class=\"dots\"><circle cx=\"612.1420118343195\" cy=\"22.96775487401618\" r=\"0.5585074266392948\" class=\"dot reactive tooltip-trigger\"/><desc class=\"value\">1</desc><desc class=\"x centered\">612.1420118343195</desc><desc class=\"y centered\">22.96775487401618</desc><desc class=\"x_label\">1944-45</desc></g><g class=\"dots\"><circle cx=\"628.5621301775147\" cy=\"22.96775487401618\" r=\"2.234029706557179\" class=\"dot reactive tooltip-trigger\"/><desc class=\"value\">4</desc><desc class=\"x centered\">628.5621301775147</desc><desc class=\"y centered\">22.96775487401618</desc><desc class=\"x_label\">1946-47</desc></g></g><g class=\"series serie-1 color-1\"><g class=\"dots\"><circle cx=\"21.01775147928994\" cy=\"57.76738347101039\" r=\"0.0\" class=\"dot reactive tooltip-trigger\"/><desc class=\"value\">0</desc><desc class=\"x centered\">21.01775147928994</desc><desc class=\"y centered\">57.76738347101039</desc><desc class=\"x_label\">1872-73</desc></g><g class=\"dots\"><circle cx=\"37.43786982248521\" cy=\"57.76738347101039\" r=\"0.0\" class=\"dot reactive tooltip-trigger\"/><desc class=\"value\">0</desc><desc class=\"x centered\">37.43786982248521</desc><desc class=\"y centered\">57.76738347101039</desc><desc class=\"x_label\">1874-75</desc></g><g class=\"dots\"><circle cx=\"53.85798816568047\" cy=\"57.76738347101039\" r=\"0.0\" class=\"dot reactive tooltip-trigger\"/><desc class=\"value\">0</desc><desc class=\"x centered\">53.85798816568047</desc><desc class=\"y centered\">57.76738347101039</desc><desc class=\"x_label\">1876-77</desc></g><g class=\"dots\"><circle cx=\"70.27810650887574\" cy=\"57.76738347101039\" r=\"0.0\" class=\"dot reactive tooltip-trigger\"/><desc class=\"value\">0</desc><desc class=\"x centered\">70.27810650887574</desc><desc class=\"y centered\">57.76738347101039</desc><desc class=\"x_label\">1878-79</desc></g><g class=\"dots\"><circle cx=\"86.69822485207101\" cy=\"57.76738347101039\" r=\"0.0\" class=\"dot reactive tooltip-trigger\"/><desc class=\"value\">0</desc><desc class=\"x centered\">86.69822485207101</desc><desc class=\"y centered\">57.76738347101039</desc><desc class=\"x_label\">1880-81</desc></g><g class=\"dots\"><circle cx=\"103.11834319526628\" cy=\"57.76738347101039\" r=\"0.0\" class=\"dot reactive tooltip-trigger\"/><desc class=\"value\">0</desc><desc class=\"x centered\">103.11834319526628</desc><desc class=\"y centered\">57.76738347101039</desc><desc class=\"x_label\">1882-83</desc></g><g class=\"dots\"><circle cx=\"119.53846153846155\" cy=\"57.76738347101039\" r=\"0.0\" class=\"dot reactive tooltip-trigger\"/><desc class=\"value\">0</desc><desc class=\"x centered\">119.53846153846155</desc><desc class=\"y centered\">57.76738347101039</desc><desc class=\"x_label\">1884-85</desc></g><g class=\"dots\"><circle cx=\"135.9585798816568\" cy=\"57.76738347101039\" r=\"0.0\" class=\"dot reactive tooltip-trigger\"/><desc class=\"value\">0</desc><desc class=\"x centered\">135.9585798816568</desc><desc class=\"y centered\">57.76738347101039</desc><desc class=\"x_label\">1886-87</desc></g><g class=\"dots\"><circle cx=\"152.37869822485206\" cy=\"57.76738347101039\" r=\"0.0\" class=\"dot reactive tooltip-trigger\"/><desc class=\"value\">0</desc><desc class=\"x centered\">152.37869822485206</desc><desc class=\"y centered\">57.76738347101039</desc><desc class=\"x_label\">1888-89</desc></g><g class=\"dots\"><circle cx=\"168.79881656804733\" cy=\"57.76738347101039\" r=\"0.0\" class=\"dot reactive tooltip-trigger\"/><desc class=\"value\">0</desc><desc class=\"x centered\">168.79881656804733</desc><desc class=\"y centered\">57.76738347101039</desc><desc class=\"x_label\">1890-91</desc></g><g class=\"dots\"><circle cx=\"185.21893491124257\" cy=\"57.76738347101039\" r=\"0.5585074266392948\" class=\"dot reactive tooltip-trigger\"/><desc class=\"value\">1</desc><desc class=\"x centered\">185.21893491124257</desc><desc class=\"y centered\">57.76738347101039</desc><desc class=\"x_label\">1892-93</desc></g><g class=\"dots\"><circle cx=\"201.63905325443784\" cy=\"57.76738347101039\" r=\"0.5585074266392948\" class=\"dot reactive tooltip-trigger\"/><desc class=\"value\">1</desc><desc class=\"x centered\">201.63905325443784</desc><desc class=\"y centered\">57.76738347101039</desc><desc class=\"x_label\">1894-95</desc></g><g class=\"dots\"><circle cx=\"218.0591715976331\" cy=\"57.76738347101039\" r=\"0.0\" class=\"dot reactive tooltip-trigger\"/><desc class=\"value\">0</desc><desc class=\"x centered\">218.0591715976331</desc><desc class=\"y centered\">57.76738347101039</desc><desc class=\"x_label\">1896-97</desc></g><g class=\"dots\"><circle cx=\"234.47928994082838\" cy=\"57.76738347101039\" r=\"0.0\" class=\"dot reactive tooltip-trigger\"/><desc class=\"value\">0</desc><desc class=\"x centered\">234.47928994082838</desc><desc class=\"y centered\">57.76738347101039</desc><desc class=\"x_label\">1898-99</desc></g><g class=\"dots\"><circle cx=\"250.89940828402365\" cy=\"57.76738347101039\" r=\"0.0\" class=\"dot reactive tooltip-trigger\"/><desc class=\"value\">0</desc><desc class=\"x centered\">250.89940828402365</desc><desc class=\"y centered\">57.76738347101039</desc><desc class=\"x_label\">1900-01</desc></g><g class=\"dots\"><circle cx=\"267.319526627219\" cy=\"57.76738347101039\" r=\"0.0\" class=\"dot reactive tooltip-trigger\"/><desc class=\"value\">0</desc><desc class=\"x centered\">267.319526627219</desc><desc class=\"y centered\">57.76738347101039</desc><desc class=\"x_label\">1902-03</desc></g><g class=\"dots\"><circle cx=\"283.73964497041425\" cy=\"57.76738347101039\" r=\"0.0\" class=\"dot reactive tooltip-trigger\"/><desc class=\"value\">0</desc><desc class=\"x centered\">283.73964497041425</desc><desc class=\"y centered\">57.76738347101039</desc><desc class=\"x_label\">1904-05</desc></g><g class=\"dots\"><circle cx=\"300.15976331360946\" cy=\"57.76738347101039\" r=\"2.234029706557179\" class=\"dot reactive tooltip-trigger\"/><desc class=\"value\">4</desc><desc class=\"x centered\">300.15976331360946</desc><desc class=\"y centered\">57.76738347101039</desc><desc class=\"x_label\">1906-07</desc></g><g class=\"dots\"><circle cx=\"316.57988165680473\" cy=\"57.76738347101039\" r=\"0.5585074266392948\" class=\"dot reactive tooltip-trigger\"/><desc class=\"value\">1</desc><desc class=\"x centered\">316.57988165680473</desc><desc class=\"y centered\">57.76738347101039</desc><desc class=\"x_label\">1908-09</desc></g><g class=\"dots\"><circle cx=\"333.0\" cy=\"57.76738347101039\" r=\"0.0\" class=\"dot reactive tooltip-trigger\"/><desc class=\"value\">0</desc><desc class=\"x centered\">333.0</desc><desc class=\"y centered\">57.76738347101039</desc><desc class=\"x_label\">1910-11</desc></g><g class=\"dots\"><circle cx=\"349.42011834319527\" cy=\"57.76738347101039\" r=\"0.5585074266392948\" class=\"dot reactive tooltip-trigger\"/><desc class=\"value\">1</desc><desc class=\"x centered\">349.42011834319527</desc><desc class=\"y centered\">57.76738347101039</desc><desc class=\"x_label\">1912-13</desc></g><g class=\"dots\"><circle cx=\"365.84023668639054\" cy=\"57.76738347101039\" r=\"0.0\" class=\"dot reactive tooltip-trigger\"/><desc class=\"value\">0</desc><desc class=\"x centered\">365.84023668639054</desc><desc class=\"y centered\">57.76738347101039</desc><desc class=\"x_label\">1914-15</desc></g><g class=\"dots\"><circle cx=\"382.2603550295858\" cy=\"57.76738347101039\" r=\"0.0\" class=\"dot reactive tooltip-trigger\"/><desc class=\"value\">0</desc><desc class=\"x centered\">382.2603550295858</desc><desc class=\"y centered\">57.76738347101039</desc><desc class=\"x_label\">1916-17</desc></g><g class=\"dots\"><circle cx=\"398.6804733727811\" cy=\"57.76738347101039\" r=\"0.0\" class=\"dot reactive tooltip-trigger\"/><desc class=\"value\">0</desc><desc class=\"x centered\">398.6804733727811</desc><desc class=\"y centered\">57.76738347101039</desc><desc class=\"x_label\">1918-19</desc></g><g class=\"dots\"><circle cx=\"415.1005917159763\" cy=\"57.76738347101039\" r=\"0.5585074266392948\" class=\"dot reactive tooltip-trigger\"/><desc class=\"value\">1</desc><desc class=\"x centered\">415.1005917159763</desc><desc class=\"y centered\">57.76738347101039</desc><desc class=\"x_label\">1920-21</desc></g><g class=\"dots\"><circle cx=\"431.52071005917156\" cy=\"57.76738347101039\" r=\"0.0\" class=\"dot reactive tooltip-trigger\"/><desc class=\"value\">0</desc><desc class=\"x centered\">431.52071005917156</desc><desc class=\"y centered\">57.76738347101039</desc><desc class=\"x_label\">1922-23</desc></g><g class=\"dots\"><circle cx=\"447.94082840236683\" cy=\"57.76738347101039\" r=\"0.0\" class=\"dot reactive tooltip-trigger\"/><desc class=\"value\">0</desc><desc class=\"x centered\">447.94082840236683</desc><desc class=\"y centered\">57.76738347101039</desc><desc class=\"x_label\">1924-25</desc></g><g class=\"dots\"><circle cx=\"464.3609467455621\" cy=\"57.76738347101039\" r=\"0.0\" class=\"dot reactive tooltip-trigger\"/><desc class=\"value\">0</desc><desc class=\"x centered\">464.3609467455621</desc><desc class=\"y centered\">57.76738347101039</desc><desc class=\"x_label\">1926-27</desc></g><g class=\"dots\"><circle cx=\"480.7810650887574\" cy=\"57.76738347101039\" r=\"0.0\" class=\"dot reactive tooltip-trigger\"/><desc class=\"value\">0</desc><desc class=\"x centered\">480.7810650887574</desc><desc class=\"y centered\">57.76738347101039</desc><desc class=\"x_label\">1928-29</desc></g><g class=\"dots\"><circle cx=\"497.20118343195264\" cy=\"57.76738347101039\" r=\"0.0\" class=\"dot reactive tooltip-trigger\"/><desc class=\"value\">0</desc><desc class=\"x centered\">497.20118343195264</desc><desc class=\"y centered\">57.76738347101039</desc><desc class=\"x_label\">1930-31</desc></g><g class=\"dots\"><circle cx=\"513.6213017751479\" cy=\"57.76738347101039\" r=\"0.0\" class=\"dot reactive tooltip-trigger\"/><desc class=\"value\">0</desc><desc class=\"x centered\">513.6213017751479</desc><desc class=\"y centered\">57.76738347101039</desc><desc class=\"x_label\">1932-33</desc></g><g class=\"dots\"><circle cx=\"530.0414201183431\" cy=\"57.76738347101039\" r=\"0.0\" class=\"dot reactive tooltip-trigger\"/><desc class=\"value\">0</desc><desc class=\"x centered\">530.0414201183431</desc><desc class=\"y centered\">57.76738347101039</desc><desc class=\"x_label\">1934-35</desc></g><g class=\"dots\"><circle cx=\"546.4615384615385\" cy=\"57.76738347101039\" r=\"0.0\" class=\"dot reactive tooltip-trigger\"/><desc class=\"value\">0</desc><desc class=\"x centered\">546.4615384615385</desc><desc class=\"y centered\">57.76738347101039</desc><desc class=\"x_label\">1936-37</desc></g><g class=\"dots\"><circle cx=\"562.8816568047337\" cy=\"57.76738347101039\" r=\"0.0\" class=\"dot reactive tooltip-trigger\"/><desc class=\"value\">0</desc><desc class=\"x centered\">562.8816568047337</desc><desc class=\"y centered\">57.76738347101039</desc><desc class=\"x_label\">1938-39</desc></g></g><g class=\"series serie-2 color-2\"><g class=\"dots\"><circle cx=\"21.01775147928994\" cy=\"92.56701206800463\" r=\"0.0\" class=\"dot reactive tooltip-trigger\"/><desc class=\"value\">0</desc><desc class=\"x centered\">21.01775147928994</desc><desc class=\"y centered\">92.56701206800463</desc><desc class=\"x_label\">1872-73</desc></g><g class=\"dots\"><circle cx=\"37.43786982248521\" cy=\"92.56701206800463\" r=\"0.0\" class=\"dot reactive tooltip-trigger\"/><desc class=\"value\">0</desc><desc class=\"x centered\">37.43786982248521</desc><desc class=\"y centered\">92.56701206800463</desc><desc class=\"x_label\">1874-75</desc></g><g class=\"dots\"><circle cx=\"53.85798816568047\" cy=\"92.56701206800463\" r=\"0.0\" class=\"dot reactive tooltip-trigger\"/><desc class=\"value\">0</desc><desc class=\"x centered\">53.85798816568047</desc><desc class=\"y centered\">92.56701206800463</desc><desc class=\"x_label\">1876-77</desc></g><g class=\"dots\"><circle cx=\"70.27810650887574\" cy=\"92.56701206800463\" r=\"0.0\" class=\"dot reactive tooltip-trigger\"/><desc class=\"value\">0</desc><desc class=\"x centered\">70.27810650887574</desc><desc class=\"y centered\">92.56701206800463</desc><desc class=\"x_label\">1878-79</desc></g><g class=\"dots\"><circle cx=\"86.69822485207101\" cy=\"92.56701206800463\" r=\"0.0\" class=\"dot reactive tooltip-trigger\"/><desc class=\"value\">0</desc><desc class=\"x centered\">86.69822485207101</desc><desc class=\"y centered\">92.56701206800463</desc><desc class=\"x_label\">1880-81</desc></g><g class=\"dots\"><circle cx=\"103.11834319526628\" cy=\"92.56701206800463\" r=\"0.0\" class=\"dot reactive tooltip-trigger\"/><desc class=\"value\">0</desc><desc class=\"x centered\">103.11834319526628</desc><desc class=\"y centered\">92.56701206800463</desc><desc class=\"x_label\">1882-83</desc></g><g class=\"dots\"><circle cx=\"119.53846153846155\" cy=\"92.56701206800463\" r=\"0.0\" class=\"dot reactive tooltip-trigger\"/><desc class=\"value\">0</desc><desc class=\"x centered\">119.53846153846155</desc><desc class=\"y centered\">92.56701206800463</desc><desc class=\"x_label\">1884-85</desc></g><g class=\"dots\"><circle cx=\"135.9585798816568\" cy=\"92.56701206800463\" r=\"0.0\" class=\"dot reactive tooltip-trigger\"/><desc class=\"value\">0</desc><desc class=\"x centered\">135.9585798816568</desc><desc class=\"y centered\">92.56701206800463</desc><desc class=\"x_label\">1886-87</desc></g><g class=\"dots\"><circle cx=\"152.37869822485206\" cy=\"92.56701206800463\" r=\"0.0\" class=\"dot reactive tooltip-trigger\"/><desc class=\"value\">0</desc><desc class=\"x centered\">152.37869822485206</desc><desc class=\"y centered\">92.56701206800463</desc><desc class=\"x_label\">1888-89</desc></g><g class=\"dots\"><circle cx=\"168.79881656804733\" cy=\"92.56701206800463\" r=\"0.0\" class=\"dot reactive tooltip-trigger\"/><desc class=\"value\">0</desc><desc class=\"x centered\">168.79881656804733</desc><desc class=\"y centered\">92.56701206800463</desc><desc class=\"x_label\">1890-91</desc></g><g class=\"dots\"><circle cx=\"185.21893491124257\" cy=\"92.56701206800463\" r=\"0.0\" class=\"dot reactive tooltip-trigger\"/><desc class=\"value\">0</desc><desc class=\"x centered\">185.21893491124257</desc><desc class=\"y centered\">92.56701206800463</desc><desc class=\"x_label\">1892-93</desc></g><g class=\"dots\"><circle cx=\"201.63905325443784\" cy=\"92.56701206800463\" r=\"0.0\" class=\"dot reactive tooltip-trigger\"/><desc class=\"value\">0</desc><desc class=\"x centered\">201.63905325443784</desc><desc class=\"y centered\">92.56701206800463</desc><desc class=\"x_label\">1894-95</desc></g><g class=\"dots\"><circle cx=\"218.0591715976331\" cy=\"92.56701206800463\" r=\"0.0\" class=\"dot reactive tooltip-trigger\"/><desc class=\"value\">0</desc><desc class=\"x centered\">218.0591715976331</desc><desc class=\"y centered\">92.56701206800463</desc><desc class=\"x_label\">1896-97</desc></g><g class=\"dots\"><circle cx=\"234.47928994082838\" cy=\"92.56701206800463\" r=\"0.0\" class=\"dot reactive tooltip-trigger\"/><desc class=\"value\">0</desc><desc class=\"x centered\">234.47928994082838</desc><desc class=\"y centered\">92.56701206800463</desc><desc class=\"x_label\">1898-99</desc></g><g class=\"dots\"><circle cx=\"250.89940828402365\" cy=\"92.56701206800463\" r=\"0.0\" class=\"dot reactive tooltip-trigger\"/><desc class=\"value\">0</desc><desc class=\"x centered\">250.89940828402365</desc><desc class=\"y centered\">92.56701206800463</desc><desc class=\"x_label\">1900-01</desc></g><g class=\"dots\"><circle cx=\"267.319526627219\" cy=\"92.56701206800463\" r=\"0.0\" class=\"dot reactive tooltip-trigger\"/><desc class=\"value\">0</desc><desc class=\"x centered\">267.319526627219</desc><desc class=\"y centered\">92.56701206800463</desc><desc class=\"x_label\">1902-03</desc></g><g class=\"dots\"><circle cx=\"283.73964497041425\" cy=\"92.56701206800463\" r=\"0.0\" class=\"dot reactive tooltip-trigger\"/><desc class=\"value\">0</desc><desc class=\"x centered\">283.73964497041425</desc><desc class=\"y centered\">92.56701206800463</desc><desc class=\"x_label\">1904-05</desc></g><g class=\"dots\"><circle cx=\"300.15976331360946\" cy=\"92.56701206800463\" r=\"1.1170148532785895\" class=\"dot reactive tooltip-trigger\"/><desc class=\"value\">2</desc><desc class=\"x centered\">300.15976331360946</desc><desc class=\"y centered\">92.56701206800463</desc><desc class=\"x_label\">1906-07</desc></g><g class=\"dots\"><circle cx=\"316.57988165680473\" cy=\"92.56701206800463\" r=\"3.9095519864750634\" class=\"dot reactive tooltip-trigger\"/><desc class=\"value\">7</desc><desc class=\"x centered\">316.57988165680473</desc><desc class=\"y centered\">92.56701206800463</desc><desc class=\"x_label\">1908-09</desc></g><g class=\"dots\"><circle cx=\"333.0\" cy=\"92.56701206800463\" r=\"0.5585074266392948\" class=\"dot reactive tooltip-trigger\"/><desc class=\"value\">1</desc><desc class=\"x centered\">333.0</desc><desc class=\"y centered\">92.56701206800463</desc><desc class=\"x_label\">1910-11</desc></g><g class=\"dots\"><circle cx=\"349.42011834319527\" cy=\"92.56701206800463\" r=\"0.0\" class=\"dot reactive tooltip-trigger\"/><desc class=\"value\">0</desc><desc class=\"x centered\">349.42011834319527</desc><desc class=\"y centered\">92.56701206800463</desc><desc class=\"x_label\">1912-13</desc></g><g class=\"dots\"><circle cx=\"365.84023668639054\" cy=\"92.56701206800463\" r=\"0.0\" class=\"dot reactive tooltip-trigger\"/><desc class=\"value\">0</desc><desc class=\"x centered\">365.84023668639054</desc><desc class=\"y centered\">92.56701206800463</desc><desc class=\"x_label\">1914-15</desc></g><g class=\"dots\"><circle cx=\"382.2603550295858\" cy=\"92.56701206800463\" r=\"0.0\" class=\"dot reactive tooltip-trigger\"/><desc class=\"value\">0</desc><desc class=\"x centered\">382.2603550295858</desc><desc class=\"y centered\">92.56701206800463</desc><desc class=\"x_label\">1916-17</desc></g><g class=\"dots\"><circle cx=\"398.6804733727811\" cy=\"92.56701206800463\" r=\"0.0\" class=\"dot reactive tooltip-trigger\"/><desc class=\"value\">0</desc><desc class=\"x centered\">398.6804733727811</desc><desc class=\"y centered\">92.56701206800463</desc><desc class=\"x_label\">1918-19</desc></g><g class=\"dots\"><circle cx=\"415.1005917159763\" cy=\"92.56701206800463\" r=\"0.0\" class=\"dot reactive tooltip-trigger\"/><desc class=\"value\">0</desc><desc class=\"x centered\">415.1005917159763</desc><desc class=\"y centered\">92.56701206800463</desc><desc class=\"x_label\">1920-21</desc></g><g class=\"dots\"><circle cx=\"431.52071005917156\" cy=\"92.56701206800463\" r=\"0.0\" class=\"dot reactive tooltip-trigger\"/><desc class=\"value\">0</desc><desc class=\"x centered\">431.52071005917156</desc><desc class=\"y centered\">92.56701206800463</desc><desc class=\"x_label\">1922-23</desc></g><g class=\"dots\"><circle cx=\"447.94082840236683\" cy=\"92.56701206800463\" r=\"0.0\" class=\"dot reactive tooltip-trigger\"/><desc class=\"value\">0</desc><desc class=\"x centered\">447.94082840236683</desc><desc class=\"y centered\">92.56701206800463</desc><desc class=\"x_label\">1924-25</desc></g><g class=\"dots\"><circle cx=\"464.3609467455621\" cy=\"92.56701206800463\" r=\"0.0\" class=\"dot reactive tooltip-trigger\"/><desc class=\"value\">0</desc><desc class=\"x centered\">464.3609467455621</desc><desc class=\"y centered\">92.56701206800463</desc><desc class=\"x_label\">1926-27</desc></g><g class=\"dots\"><circle cx=\"480.7810650887574\" cy=\"92.56701206800463\" r=\"0.0\" class=\"dot reactive tooltip-trigger\"/><desc class=\"value\">0</desc><desc class=\"x centered\">480.7810650887574</desc><desc class=\"y centered\">92.56701206800463</desc><desc class=\"x_label\">1928-29</desc></g><g class=\"dots\"><circle cx=\"497.20118343195264\" cy=\"92.56701206800463\" r=\"0.0\" class=\"dot reactive tooltip-trigger\"/><desc class=\"value\">0</desc><desc class=\"x centered\">497.20118343195264</desc><desc class=\"y centered\">92.56701206800463</desc><desc class=\"x_label\">1930-31</desc></g><g class=\"dots\"><circle cx=\"513.6213017751479\" cy=\"92.56701206800463\" r=\"0.0\" class=\"dot reactive tooltip-trigger\"/><desc class=\"value\">0</desc><desc class=\"x centered\">513.6213017751479</desc><desc class=\"y centered\">92.56701206800463</desc><desc class=\"x_label\">1932-33</desc></g><g class=\"dots\"><circle cx=\"530.0414201183431\" cy=\"92.56701206800463\" r=\"0.0\" class=\"dot reactive tooltip-trigger\"/><desc class=\"value\">0</desc><desc class=\"x centered\">530.0414201183431</desc><desc class=\"y centered\">92.56701206800463</desc><desc class=\"x_label\">1934-35</desc></g><g class=\"dots\"><circle cx=\"546.4615384615385\" cy=\"92.56701206800463\" r=\"0.0\" class=\"dot reactive tooltip-trigger\"/><desc class=\"value\">0</desc><desc class=\"x centered\">546.4615384615385</desc><desc class=\"y centered\">92.56701206800463</desc><desc class=\"x_label\">1936-37</desc></g><g class=\"dots\"><circle cx=\"562.8816568047337\" cy=\"92.56701206800463\" r=\"0.0\" class=\"dot reactive tooltip-trigger\"/><desc class=\"value\">0</desc><desc class=\"x centered\">562.8816568047337</desc><desc class=\"y centered\">92.56701206800463</desc><desc class=\"x_label\">1938-39</desc></g><g class=\"dots\"><circle cx=\"579.301775147929\" cy=\"92.56701206800463\" r=\"0.0\" class=\"dot reactive tooltip-trigger\"/><desc class=\"value\">0</desc><desc class=\"x centered\">579.301775147929</desc><desc class=\"y centered\">92.56701206800463</desc><desc class=\"x_label\">1940-41</desc></g><g class=\"dots\"><circle cx=\"595.7218934911242\" cy=\"92.56701206800463\" r=\"0.0\" class=\"dot reactive tooltip-trigger\"/><desc class=\"value\">0</desc><desc class=\"x centered\">595.7218934911242</desc><desc class=\"y centered\">92.56701206800463</desc><desc class=\"x_label\">1942-43</desc></g><g class=\"dots\"><circle cx=\"612.1420118343195\" cy=\"92.56701206800463\" r=\"0.0\" class=\"dot reactive tooltip-trigger\"/><desc class=\"value\">0</desc><desc class=\"x centered\">612.1420118343195</desc><desc class=\"y centered\">92.56701206800463</desc><desc class=\"x_label\">1944-45</desc></g><g class=\"dots\"><circle cx=\"628.5621301775147\" cy=\"92.56701206800463\" r=\"0.0\" class=\"dot reactive tooltip-trigger\"/><desc class=\"value\">0</desc><desc class=\"x centered\">628.5621301775147</desc><desc class=\"y centered\">92.56701206800463</desc><desc class=\"x_label\">1946-47</desc></g></g><g class=\"series serie-3 color-3\"><g class=\"dots\"><circle cx=\"21.01775147928994\" cy=\"127.36664066499884\" r=\"2.234029706557179\" class=\"dot reactive tooltip-trigger\"/><desc class=\"value\">4</desc><desc class=\"x centered\">21.01775147928994</desc><desc class=\"y centered\">127.36664066499884</desc><desc class=\"x_label\">1872-73</desc></g><g class=\"dots\"><circle cx=\"37.43786982248521\" cy=\"127.36664066499884\" r=\"3.3510445598357683\" class=\"dot reactive tooltip-trigger\"/><desc class=\"value\">6</desc><desc class=\"x centered\">37.43786982248521</desc><desc class=\"y centered\">127.36664066499884</desc><desc class=\"x_label\">1874-75</desc></g><g class=\"dots\"><circle cx=\"53.85798816568047\" cy=\"127.36664066499884\" r=\"1.6755222799178842\" class=\"dot reactive tooltip-trigger\"/><desc class=\"value\">3</desc><desc class=\"x centered\">53.85798816568047</desc><desc class=\"y centered\">127.36664066499884</desc><desc class=\"x_label\">1876-77</desc></g><g class=\"dots\"><circle cx=\"70.27810650887574\" cy=\"127.36664066499884\" r=\"0.5585074266392948\" class=\"dot reactive tooltip-trigger\"/><desc class=\"value\">1</desc><desc class=\"x centered\">70.27810650887574</desc><desc class=\"y centered\">127.36664066499884</desc><desc class=\"x_label\">1878-79</desc></g><g class=\"dots\"><circle cx=\"86.69822485207101\" cy=\"127.36664066499884\" r=\"0.0\" class=\"dot reactive tooltip-trigger\"/><desc class=\"value\">0</desc><desc class=\"x centered\">86.69822485207101</desc><desc class=\"y centered\">127.36664066499884</desc><desc class=\"x_label\">1880-81</desc></g><g class=\"dots\"><circle cx=\"103.11834319526628\" cy=\"127.36664066499884\" r=\"0.0\" class=\"dot reactive tooltip-trigger\"/><desc class=\"value\">0</desc><desc class=\"x centered\">103.11834319526628</desc><desc class=\"y centered\">127.36664066499884</desc><desc class=\"x_label\">1882-83</desc></g><g class=\"dots\"><circle cx=\"119.53846153846155\" cy=\"127.36664066499884\" r=\"0.0\" class=\"dot reactive tooltip-trigger\"/><desc class=\"value\">0</desc><desc class=\"x centered\">119.53846153846155</desc><desc class=\"y centered\">127.36664066499884</desc><desc class=\"x_label\">1884-85</desc></g><g class=\"dots\"><circle cx=\"135.9585798816568\" cy=\"127.36664066499884\" r=\"0.0\" class=\"dot reactive tooltip-trigger\"/><desc class=\"value\">0</desc><desc class=\"x centered\">135.9585798816568</desc><desc class=\"y centered\">127.36664066499884</desc><desc class=\"x_label\">1886-87</desc></g><g class=\"dots\"><circle cx=\"152.37869822485206\" cy=\"127.36664066499884\" r=\"0.5585074266392948\" class=\"dot reactive tooltip-trigger\"/><desc class=\"value\">1</desc><desc class=\"x centered\">152.37869822485206</desc><desc class=\"y centered\">127.36664066499884</desc><desc class=\"x_label\">1888-89</desc></g><g class=\"dots\"><circle cx=\"168.79881656804733\" cy=\"127.36664066499884\" r=\"0.0\" class=\"dot reactive tooltip-trigger\"/><desc class=\"value\">0</desc><desc class=\"x centered\">168.79881656804733</desc><desc class=\"y centered\">127.36664066499884</desc><desc class=\"x_label\">1890-91</desc></g><g class=\"dots\"><circle cx=\"185.21893491124257\" cy=\"127.36664066499884\" r=\"2.792537133196474\" class=\"dot reactive tooltip-trigger\"/><desc class=\"value\">5</desc><desc class=\"x centered\">185.21893491124257</desc><desc class=\"y centered\">127.36664066499884</desc><desc class=\"x_label\">1892-93</desc></g><g class=\"dots\"><circle cx=\"201.63905325443784\" cy=\"127.36664066499884\" r=\"1.6755222799178842\" class=\"dot reactive tooltip-trigger\"/><desc class=\"value\">3</desc><desc class=\"x centered\">201.63905325443784</desc><desc class=\"y centered\">127.36664066499884</desc><desc class=\"x_label\">1894-95</desc></g><g class=\"dots\"><circle cx=\"218.0591715976331\" cy=\"127.36664066499884\" r=\"1.1170148532785895\" class=\"dot reactive tooltip-trigger\"/><desc class=\"value\">2</desc><desc class=\"x centered\">218.0591715976331</desc><desc class=\"y centered\">127.36664066499884</desc><desc class=\"x_label\">1896-97</desc></g><g class=\"dots\"><circle cx=\"234.47928994082838\" cy=\"127.36664066499884\" r=\"0.0\" class=\"dot reactive tooltip-trigger\"/><desc class=\"value\">0</desc><desc class=\"x centered\">234.47928994082838</desc><desc class=\"y centered\">127.36664066499884</desc><desc class=\"x_label\">1898-99</desc></g><g class=\"dots\"><circle cx=\"250.89940828402365\" cy=\"127.36664066499884\" r=\"0.0\" class=\"dot reactive tooltip-trigger\"/><desc class=\"value\">0</desc><desc class=\"x centered\">250.89940828402365</desc><desc class=\"y centered\">127.36664066499884</desc><desc class=\"x_label\">1900-01</desc></g><g class=\"dots\"><circle cx=\"267.319526627219\" cy=\"127.36664066499884\" r=\"0.0\" class=\"dot reactive tooltip-trigger\"/><desc class=\"value\">0</desc><desc class=\"x centered\">267.319526627219</desc><desc class=\"y centered\">127.36664066499884</desc><desc class=\"x_label\">1902-03</desc></g><g class=\"dots\"><circle cx=\"283.73964497041425\" cy=\"127.36664066499884\" r=\"1.1170148532785895\" class=\"dot reactive tooltip-trigger\"/><desc class=\"value\">2</desc><desc class=\"x centered\">283.73964497041425</desc><desc class=\"y centered\">127.36664066499884</desc><desc class=\"x_label\">1904-05</desc></g><g class=\"dots\"><circle cx=\"300.15976331360946\" cy=\"127.36664066499884\" r=\"0.5585074266392948\" class=\"dot reactive tooltip-trigger\"/><desc class=\"value\">1</desc><desc class=\"x centered\">300.15976331360946</desc><desc class=\"y centered\">127.36664066499884</desc><desc class=\"x_label\">1906-07</desc></g><g class=\"dots\"><circle cx=\"316.57988165680473\" cy=\"127.36664066499884\" r=\"0.0\" class=\"dot reactive tooltip-trigger\"/><desc class=\"value\">0</desc><desc class=\"x centered\">316.57988165680473</desc><desc class=\"y centered\">127.36664066499884</desc><desc class=\"x_label\">1908-09</desc></g><g class=\"dots\"><circle cx=\"333.0\" cy=\"127.36664066499884\" r=\"3.3510445598357683\" class=\"dot reactive tooltip-trigger\"/><desc class=\"value\">6</desc><desc class=\"x centered\">333.0</desc><desc class=\"y centered\">127.36664066499884</desc><desc class=\"x_label\">1910-11</desc></g><g class=\"dots\"><circle cx=\"349.42011834319527\" cy=\"127.36664066499884\" r=\"2.234029706557179\" class=\"dot reactive tooltip-trigger\"/><desc class=\"value\">4</desc><desc class=\"x centered\">349.42011834319527</desc><desc class=\"y centered\">127.36664066499884</desc><desc class=\"x_label\">1912-13</desc></g><g class=\"dots\"><circle cx=\"365.84023668639054\" cy=\"127.36664066499884\" r=\"0.5585074266392948\" class=\"dot reactive tooltip-trigger\"/><desc class=\"value\">1</desc><desc class=\"x centered\">365.84023668639054</desc><desc class=\"y centered\">127.36664066499884</desc><desc class=\"x_label\">1914-15</desc></g><g class=\"dots\"><circle cx=\"382.2603550295858\" cy=\"127.36664066499884\" r=\"0.0\" class=\"dot reactive tooltip-trigger\"/><desc class=\"value\">0</desc><desc class=\"x centered\">382.2603550295858</desc><desc class=\"y centered\">127.36664066499884</desc><desc class=\"x_label\">1916-17</desc></g><g class=\"dots\"><circle cx=\"398.6804733727811\" cy=\"127.36664066499884\" r=\"0.0\" class=\"dot reactive tooltip-trigger\"/><desc class=\"value\">0</desc><desc class=\"x centered\">398.6804733727811</desc><desc class=\"y centered\">127.36664066499884</desc><desc class=\"x_label\">1918-19</desc></g><g class=\"dots\"><circle cx=\"415.1005917159763\" cy=\"127.36664066499884\" r=\"1.1170148532785895\" class=\"dot reactive tooltip-trigger\"/><desc class=\"value\">2</desc><desc class=\"x centered\">415.1005917159763</desc><desc class=\"y centered\">127.36664066499884</desc><desc class=\"x_label\">1920-21</desc></g><g class=\"dots\"><circle cx=\"431.52071005917156\" cy=\"127.36664066499884\" r=\"0.0\" class=\"dot reactive tooltip-trigger\"/><desc class=\"value\">0</desc><desc class=\"x centered\">431.52071005917156</desc><desc class=\"y centered\">127.36664066499884</desc><desc class=\"x_label\">1922-23</desc></g><g class=\"dots\"><circle cx=\"447.94082840236683\" cy=\"127.36664066499884\" r=\"1.1170148532785895\" class=\"dot reactive tooltip-trigger\"/><desc class=\"value\">2</desc><desc class=\"x centered\">447.94082840236683</desc><desc class=\"y centered\">127.36664066499884</desc><desc class=\"x_label\">1924-25</desc></g><g class=\"dots\"><circle cx=\"464.3609467455621\" cy=\"127.36664066499884\" r=\"0.0\" class=\"dot reactive tooltip-trigger\"/><desc class=\"value\">0</desc><desc class=\"x centered\">464.3609467455621</desc><desc class=\"y centered\">127.36664066499884</desc><desc class=\"x_label\">1926-27</desc></g><g class=\"dots\"><circle cx=\"480.7810650887574\" cy=\"127.36664066499884\" r=\"0.0\" class=\"dot reactive tooltip-trigger\"/><desc class=\"value\">0</desc><desc class=\"x centered\">480.7810650887574</desc><desc class=\"y centered\">127.36664066499884</desc><desc class=\"x_label\">1928-29</desc></g><g class=\"dots\"><circle cx=\"497.20118343195264\" cy=\"127.36664066499884\" r=\"2.234029706557179\" class=\"dot reactive tooltip-trigger\"/><desc class=\"value\">4</desc><desc class=\"x centered\">497.20118343195264</desc><desc class=\"y centered\">127.36664066499884</desc><desc class=\"x_label\">1930-31</desc></g><g class=\"dots\"><circle cx=\"513.6213017751479\" cy=\"127.36664066499884\" r=\"0.0\" class=\"dot reactive tooltip-trigger\"/><desc class=\"value\">0</desc><desc class=\"x centered\">513.6213017751479</desc><desc class=\"y centered\">127.36664066499884</desc><desc class=\"x_label\">1932-33</desc></g><g class=\"dots\"><circle cx=\"530.0414201183431\" cy=\"127.36664066499884\" r=\"0.0\" class=\"dot reactive tooltip-trigger\"/><desc class=\"value\">0</desc><desc class=\"x centered\">530.0414201183431</desc><desc class=\"y centered\">127.36664066499884</desc><desc class=\"x_label\">1934-35</desc></g><g class=\"dots\"><circle cx=\"546.4615384615385\" cy=\"127.36664066499884\" r=\"0.0\" class=\"dot reactive tooltip-trigger\"/><desc class=\"value\">0</desc><desc class=\"x centered\">546.4615384615385</desc><desc class=\"y centered\">127.36664066499884</desc><desc class=\"x_label\">1936-37</desc></g><g class=\"dots\"><circle cx=\"562.8816568047337\" cy=\"127.36664066499884\" r=\"0.0\" class=\"dot reactive tooltip-trigger\"/><desc class=\"value\">0</desc><desc class=\"x centered\">562.8816568047337</desc><desc class=\"y centered\">127.36664066499884</desc><desc class=\"x_label\">1938-39</desc></g><g class=\"dots\"><circle cx=\"579.301775147929\" cy=\"127.36664066499884\" r=\"0.5585074266392948\" class=\"dot reactive tooltip-trigger\"/><desc class=\"value\">1</desc><desc class=\"x centered\">579.301775147929</desc><desc class=\"y centered\">127.36664066499884</desc><desc class=\"x_label\">1940-41</desc></g><g class=\"dots\"><circle cx=\"595.7218934911242\" cy=\"127.36664066499884\" r=\"0.0\" class=\"dot reactive tooltip-trigger\"/><desc class=\"value\">0</desc><desc class=\"x centered\">595.7218934911242</desc><desc class=\"y centered\">127.36664066499884</desc><desc class=\"x_label\">1942-43</desc></g><g class=\"dots\"><circle cx=\"612.1420118343195\" cy=\"127.36664066499884\" r=\"0.0\" class=\"dot reactive tooltip-trigger\"/><desc class=\"value\">0</desc><desc class=\"x centered\">612.1420118343195</desc><desc class=\"y centered\">127.36664066499884</desc><desc class=\"x_label\">1944-45</desc></g><g class=\"dots\"><circle cx=\"628.5621301775147\" cy=\"127.36664066499884\" r=\"0.0\" class=\"dot reactive tooltip-trigger\"/><desc class=\"value\">0</desc><desc class=\"x centered\">628.5621301775147</desc><desc class=\"y centered\">127.36664066499884</desc><desc class=\"x_label\">1946-47</desc></g></g><g class=\"series serie-4 color-4\"><g class=\"dots\"><circle cx=\"21.01775147928994\" cy=\"162.16626926199302\" r=\"0.5585074266392948\" class=\"dot reactive tooltip-trigger\"/><desc class=\"value\">1</desc><desc class=\"x centered\">21.01775147928994</desc><desc class=\"y centered\">162.16626926199302</desc><desc class=\"x_label\">1872-73</desc></g><g class=\"dots\"><circle cx=\"37.43786982248521\" cy=\"162.16626926199302\" r=\"0.5585074266392948\" class=\"dot reactive tooltip-trigger\"/><desc class=\"value\">1</desc><desc class=\"x centered\">37.43786982248521</desc><desc class=\"y centered\">162.16626926199302</desc><desc class=\"x_label\">1874-75</desc></g><g class=\"dots\"><circle cx=\"53.85798816568047\" cy=\"162.16626926199302\" r=\"0.0\" class=\"dot reactive tooltip-trigger\"/><desc class=\"value\">0</desc><desc class=\"x centered\">53.85798816568047</desc><desc class=\"y centered\">162.16626926199302</desc><desc class=\"x_label\">1876-77</desc></g><g class=\"dots\"><circle cx=\"70.27810650887574\" cy=\"162.16626926199302\" r=\"0.0\" class=\"dot reactive tooltip-trigger\"/><desc class=\"value\">0</desc><desc class=\"x centered\">70.27810650887574</desc><desc class=\"y centered\">162.16626926199302</desc><desc class=\"x_label\">1878-79</desc></g><g class=\"dots\"><circle cx=\"86.69822485207101\" cy=\"162.16626926199302\" r=\"0.5585074266392948\" class=\"dot reactive tooltip-trigger\"/><desc class=\"value\">1</desc><desc class=\"x centered\">86.69822485207101</desc><desc class=\"y centered\">162.16626926199302</desc><desc class=\"x_label\">1880-81</desc></g><g class=\"dots\"><circle cx=\"103.11834319526628\" cy=\"162.16626926199302\" r=\"0.0\" class=\"dot reactive tooltip-trigger\"/><desc class=\"value\">0</desc><desc class=\"x centered\">103.11834319526628</desc><desc class=\"y centered\">162.16626926199302</desc><desc class=\"x_label\">1882-83</desc></g><g class=\"dots\"><circle cx=\"119.53846153846155\" cy=\"162.16626926199302\" r=\"0.0\" class=\"dot reactive tooltip-trigger\"/><desc class=\"value\">0</desc><desc class=\"x centered\">119.53846153846155</desc><desc class=\"y centered\">162.16626926199302</desc><desc class=\"x_label\">1884-85</desc></g><g class=\"dots\"><circle cx=\"135.9585798816568\" cy=\"162.16626926199302\" r=\"0.0\" class=\"dot reactive tooltip-trigger\"/><desc class=\"value\">0</desc><desc class=\"x centered\">135.9585798816568</desc><desc class=\"y centered\">162.16626926199302</desc><desc class=\"x_label\">1886-87</desc></g><g class=\"dots\"><circle cx=\"152.37869822485206\" cy=\"162.16626926199302\" r=\"0.0\" class=\"dot reactive tooltip-trigger\"/><desc class=\"value\">0</desc><desc class=\"x centered\">152.37869822485206</desc><desc class=\"y centered\">162.16626926199302</desc><desc class=\"x_label\">1888-89</desc></g><g class=\"dots\"><circle cx=\"168.79881656804733\" cy=\"162.16626926199302\" r=\"0.0\" class=\"dot reactive tooltip-trigger\"/><desc class=\"value\">0</desc><desc class=\"x centered\">168.79881656804733</desc><desc class=\"y centered\">162.16626926199302</desc><desc class=\"x_label\">1890-91</desc></g><g class=\"dots\"><circle cx=\"185.21893491124257\" cy=\"162.16626926199302\" r=\"0.0\" class=\"dot reactive tooltip-trigger\"/><desc class=\"value\">0</desc><desc class=\"x centered\">185.21893491124257</desc><desc class=\"y centered\">162.16626926199302</desc><desc class=\"x_label\">1892-93</desc></g><g class=\"dots\"><circle cx=\"201.63905325443784\" cy=\"162.16626926199302\" r=\"0.0\" class=\"dot reactive tooltip-trigger\"/><desc class=\"value\">0</desc><desc class=\"x centered\">201.63905325443784</desc><desc class=\"y centered\">162.16626926199302</desc><desc class=\"x_label\">1894-95</desc></g><g class=\"dots\"><circle cx=\"218.0591715976331\" cy=\"162.16626926199302\" r=\"0.0\" class=\"dot reactive tooltip-trigger\"/><desc class=\"value\">0</desc><desc class=\"x centered\">218.0591715976331</desc><desc class=\"y centered\">162.16626926199302</desc><desc class=\"x_label\">1896-97</desc></g><g class=\"dots\"><circle cx=\"234.47928994082838\" cy=\"162.16626926199302\" r=\"0.0\" class=\"dot reactive tooltip-trigger\"/><desc class=\"value\">0</desc><desc class=\"x centered\">234.47928994082838</desc><desc class=\"y centered\">162.16626926199302</desc><desc class=\"x_label\">1898-99</desc></g><g class=\"dots\"><circle cx=\"250.89940828402365\" cy=\"162.16626926199302\" r=\"0.0\" class=\"dot reactive tooltip-trigger\"/><desc class=\"value\">0</desc><desc class=\"x centered\">250.89940828402365</desc><desc class=\"y centered\">162.16626926199302</desc><desc class=\"x_label\">1900-01</desc></g><g class=\"dots\"><circle cx=\"267.319526627219\" cy=\"162.16626926199302\" r=\"0.5585074266392948\" class=\"dot reactive tooltip-trigger\"/><desc class=\"value\">1</desc><desc class=\"x centered\">267.319526627219</desc><desc class=\"y centered\">162.16626926199302</desc><desc class=\"x_label\">1902-03</desc></g><g class=\"dots\"><circle cx=\"283.73964497041425\" cy=\"162.16626926199302\" r=\"0.5585074266392948\" class=\"dot reactive tooltip-trigger\"/><desc class=\"value\">1</desc><desc class=\"x centered\">283.73964497041425</desc><desc class=\"y centered\">162.16626926199302</desc><desc class=\"x_label\">1904-05</desc></g><g class=\"dots\"><circle cx=\"300.15976331360946\" cy=\"162.16626926199302\" r=\"0.5585074266392948\" class=\"dot reactive tooltip-trigger\"/><desc class=\"value\">1</desc><desc class=\"x centered\">300.15976331360946</desc><desc class=\"y centered\">162.16626926199302</desc><desc class=\"x_label\">1906-07</desc></g><g class=\"dots\"><circle cx=\"316.57988165680473\" cy=\"162.16626926199302\" r=\"7.260596546310833\" class=\"dot reactive tooltip-trigger\"/><desc class=\"value\">13</desc><desc class=\"x centered\">316.57988165680473</desc><desc class=\"y centered\">162.16626926199302</desc><desc class=\"x_label\">1908-09</desc></g><g class=\"dots\"><circle cx=\"333.0\" cy=\"162.16626926199302\" r=\"4.468059413114358\" class=\"dot reactive tooltip-trigger\"/><desc class=\"value\">8</desc><desc class=\"x centered\">333.0</desc><desc class=\"y centered\">162.16626926199302</desc><desc class=\"x_label\">1910-11</desc></g><g class=\"dots\"><circle cx=\"349.42011834319527\" cy=\"162.16626926199302\" r=\"3.3510445598357683\" class=\"dot reactive tooltip-trigger\"/><desc class=\"value\">6</desc><desc class=\"x centered\">349.42011834319527</desc><desc class=\"y centered\">162.16626926199302</desc><desc class=\"x_label\">1912-13</desc></g><g class=\"dots\"><circle cx=\"365.84023668639054\" cy=\"162.16626926199302\" r=\"0.5585074266392948\" class=\"dot reactive tooltip-trigger\"/><desc class=\"value\">1</desc><desc class=\"x centered\">365.84023668639054</desc><desc class=\"y centered\">162.16626926199302</desc><desc class=\"x_label\">1914-15</desc></g><g class=\"dots\"><circle cx=\"382.2603550295858\" cy=\"162.16626926199302\" r=\"5.026566839753653\" class=\"dot reactive tooltip-trigger\"/><desc class=\"value\">9</desc><desc class=\"x centered\">382.2603550295858</desc><desc class=\"y centered\">162.16626926199302</desc><desc class=\"x_label\">1916-17</desc></g><g class=\"dots\"><circle cx=\"398.6804733727811\" cy=\"162.16626926199302\" r=\"3.9095519864750634\" class=\"dot reactive tooltip-trigger\"/><desc class=\"value\">7</desc><desc class=\"x centered\">398.6804733727811</desc><desc class=\"y centered\">162.16626926199302</desc><desc class=\"x_label\">1918-19</desc></g><g class=\"dots\"><circle cx=\"415.1005917159763\" cy=\"162.16626926199302\" r=\"1.6755222799178842\" class=\"dot reactive tooltip-trigger\"/><desc class=\"value\">3</desc><desc class=\"x centered\">415.1005917159763</desc><desc class=\"y centered\">162.16626926199302</desc><desc class=\"x_label\">1920-21</desc></g><g class=\"dots\"><circle cx=\"431.52071005917156\" cy=\"162.16626926199302\" r=\"0.0\" class=\"dot reactive tooltip-trigger\"/><desc class=\"value\">0</desc><desc class=\"x centered\">431.52071005917156</desc><desc class=\"y centered\">162.16626926199302</desc><desc class=\"x_label\">1922-23</desc></g><g class=\"dots\"><circle cx=\"447.94082840236683\" cy=\"162.16626926199302\" r=\"0.0\" class=\"dot reactive tooltip-trigger\"/><desc class=\"value\">0</desc><desc class=\"x centered\">447.94082840236683</desc><desc class=\"y centered\">162.16626926199302</desc><desc class=\"x_label\">1924-25</desc></g><g class=\"dots\"><circle cx=\"464.3609467455621\" cy=\"162.16626926199302\" r=\"0.0\" class=\"dot reactive tooltip-trigger\"/><desc class=\"value\">0</desc><desc class=\"x centered\">464.3609467455621</desc><desc class=\"y centered\">162.16626926199302</desc><desc class=\"x_label\">1926-27</desc></g><g class=\"dots\"><circle cx=\"480.7810650887574\" cy=\"162.16626926199302\" r=\"0.0\" class=\"dot reactive tooltip-trigger\"/><desc class=\"value\">0</desc><desc class=\"x centered\">480.7810650887574</desc><desc class=\"y centered\">162.16626926199302</desc><desc class=\"x_label\">1928-29</desc></g><g class=\"dots\"><circle cx=\"497.20118343195264\" cy=\"162.16626926199302\" r=\"0.0\" class=\"dot reactive tooltip-trigger\"/><desc class=\"value\">0</desc><desc class=\"x centered\">497.20118343195264</desc><desc class=\"y centered\">162.16626926199302</desc><desc class=\"x_label\">1930-31</desc></g><g class=\"dots\"><circle cx=\"513.6213017751479\" cy=\"162.16626926199302\" r=\"0.0\" class=\"dot reactive tooltip-trigger\"/><desc class=\"value\">0</desc><desc class=\"x centered\">513.6213017751479</desc><desc class=\"y centered\">162.16626926199302</desc><desc class=\"x_label\">1932-33</desc></g><g class=\"dots\"><circle cx=\"530.0414201183431\" cy=\"162.16626926199302\" r=\"0.0\" class=\"dot reactive tooltip-trigger\"/><desc class=\"value\">0</desc><desc class=\"x centered\">530.0414201183431</desc><desc class=\"y centered\">162.16626926199302</desc><desc class=\"x_label\">1934-35</desc></g><g class=\"dots\"><circle cx=\"546.4615384615385\" cy=\"162.16626926199302\" r=\"0.5585074266392948\" class=\"dot reactive tooltip-trigger\"/><desc class=\"value\">1</desc><desc class=\"x centered\">546.4615384615385</desc><desc class=\"y centered\">162.16626926199302</desc><desc class=\"x_label\">1936-37</desc></g><g class=\"dots\"><circle cx=\"562.8816568047337\" cy=\"162.16626926199302\" r=\"3.9095519864750634\" class=\"dot reactive tooltip-trigger\"/><desc class=\"value\">7</desc><desc class=\"x centered\">562.8816568047337</desc><desc class=\"y centered\">162.16626926199302</desc><desc class=\"x_label\">1938-39</desc></g><g class=\"dots\"><circle cx=\"579.301775147929\" cy=\"162.16626926199302\" r=\"0.0\" class=\"dot reactive tooltip-trigger\"/><desc class=\"value\">0</desc><desc class=\"x centered\">579.301775147929</desc><desc class=\"y centered\">162.16626926199302</desc><desc class=\"x_label\">1940-41</desc></g><g class=\"dots\"><circle cx=\"595.7218934911242\" cy=\"162.16626926199302\" r=\"0.0\" class=\"dot reactive tooltip-trigger\"/><desc class=\"value\">0</desc><desc class=\"x centered\">595.7218934911242</desc><desc class=\"y centered\">162.16626926199302</desc><desc class=\"x_label\">1942-43</desc></g><g class=\"dots\"><circle cx=\"612.1420118343195\" cy=\"162.16626926199302\" r=\"0.5585074266392948\" class=\"dot reactive tooltip-trigger\"/><desc class=\"value\">1</desc><desc class=\"x centered\">612.1420118343195</desc><desc class=\"y centered\">162.16626926199302</desc><desc class=\"x_label\">1944-45</desc></g><g class=\"dots\"><circle cx=\"628.5621301775147\" cy=\"162.16626926199302\" r=\"0.0\" class=\"dot reactive tooltip-trigger\"/><desc class=\"value\">0</desc><desc class=\"x centered\">628.5621301775147</desc><desc class=\"y centered\">162.16626926199302</desc><desc class=\"x_label\">1946-47</desc></g></g><g class=\"series serie-5 color-5\"><g class=\"dots\"><circle cx=\"21.01775147928994\" cy=\"196.96589785898726\" r=\"0.0\" class=\"dot reactive tooltip-trigger\"/><desc class=\"value\">0</desc><desc class=\"x centered\">21.01775147928994</desc><desc class=\"y centered\">196.96589785898726</desc><desc class=\"x_label\">1872-73</desc></g><g class=\"dots\"><circle cx=\"37.43786982248521\" cy=\"196.96589785898726\" r=\"0.0\" class=\"dot reactive tooltip-trigger\"/><desc class=\"value\">0</desc><desc class=\"x centered\">37.43786982248521</desc><desc class=\"y centered\">196.96589785898726</desc><desc class=\"x_label\">1874-75</desc></g><g class=\"dots\"><circle cx=\"53.85798816568047\" cy=\"196.96589785898726\" r=\"0.0\" class=\"dot reactive tooltip-trigger\"/><desc class=\"value\">0</desc><desc class=\"x centered\">53.85798816568047</desc><desc class=\"y centered\">196.96589785898726</desc><desc class=\"x_label\">1876-77</desc></g><g class=\"dots\"><circle cx=\"70.27810650887574\" cy=\"196.96589785898726\" r=\"0.0\" class=\"dot reactive tooltip-trigger\"/><desc class=\"value\">0</desc><desc class=\"x centered\">70.27810650887574</desc><desc class=\"y centered\">196.96589785898726</desc><desc class=\"x_label\">1878-79</desc></g><g class=\"dots\"><circle cx=\"86.69822485207101\" cy=\"196.96589785898726\" r=\"0.0\" class=\"dot reactive tooltip-trigger\"/><desc class=\"value\">0</desc><desc class=\"x centered\">86.69822485207101</desc><desc class=\"y centered\">196.96589785898726</desc><desc class=\"x_label\">1880-81</desc></g><g class=\"dots\"><circle cx=\"103.11834319526628\" cy=\"196.96589785898726\" r=\"0.0\" class=\"dot reactive tooltip-trigger\"/><desc class=\"value\">0</desc><desc class=\"x centered\">103.11834319526628</desc><desc class=\"y centered\">196.96589785898726</desc><desc class=\"x_label\">1882-83</desc></g><g class=\"dots\"><circle cx=\"119.53846153846155\" cy=\"196.96589785898726\" r=\"0.0\" class=\"dot reactive tooltip-trigger\"/><desc class=\"value\">0</desc><desc class=\"x centered\">119.53846153846155</desc><desc class=\"y centered\">196.96589785898726</desc><desc class=\"x_label\">1884-85</desc></g><g class=\"dots\"><circle cx=\"135.9585798816568\" cy=\"196.96589785898726\" r=\"0.0\" class=\"dot reactive tooltip-trigger\"/><desc class=\"value\">0</desc><desc class=\"x centered\">135.9585798816568</desc><desc class=\"y centered\">196.96589785898726</desc><desc class=\"x_label\">1886-87</desc></g><g class=\"dots\"><circle cx=\"152.37869822485206\" cy=\"196.96589785898726\" r=\"0.0\" class=\"dot reactive tooltip-trigger\"/><desc class=\"value\">0</desc><desc class=\"x centered\">152.37869822485206</desc><desc class=\"y centered\">196.96589785898726</desc><desc class=\"x_label\">1888-89</desc></g><g class=\"dots\"><circle cx=\"168.79881656804733\" cy=\"196.96589785898726\" r=\"0.0\" class=\"dot reactive tooltip-trigger\"/><desc class=\"value\">0</desc><desc class=\"x centered\">168.79881656804733</desc><desc class=\"y centered\">196.96589785898726</desc><desc class=\"x_label\">1890-91</desc></g><g class=\"dots\"><circle cx=\"185.21893491124257\" cy=\"196.96589785898726\" r=\"0.5585074266392948\" class=\"dot reactive tooltip-trigger\"/><desc class=\"value\">1</desc><desc class=\"x centered\">185.21893491124257</desc><desc class=\"y centered\">196.96589785898726</desc><desc class=\"x_label\">1892-93</desc></g><g class=\"dots\"><circle cx=\"201.63905325443784\" cy=\"196.96589785898726\" r=\"1.1170148532785895\" class=\"dot reactive tooltip-trigger\"/><desc class=\"value\">2</desc><desc class=\"x centered\">201.63905325443784</desc><desc class=\"y centered\">196.96589785898726</desc><desc class=\"x_label\">1894-95</desc></g><g class=\"dots\"><circle cx=\"218.0591715976331\" cy=\"196.96589785898726\" r=\"0.0\" class=\"dot reactive tooltip-trigger\"/><desc class=\"value\">0</desc><desc class=\"x centered\">218.0591715976331</desc><desc class=\"y centered\">196.96589785898726</desc><desc class=\"x_label\">1896-97</desc></g><g class=\"dots\"><circle cx=\"234.47928994082838\" cy=\"196.96589785898726\" r=\"0.0\" class=\"dot reactive tooltip-trigger\"/><desc class=\"value\">0</desc><desc class=\"x centered\">234.47928994082838</desc><desc class=\"y centered\">196.96589785898726</desc><desc class=\"x_label\">1898-99</desc></g><g class=\"dots\"><circle cx=\"250.89940828402365\" cy=\"196.96589785898726\" r=\"0.0\" class=\"dot reactive tooltip-trigger\"/><desc class=\"value\">0</desc><desc class=\"x centered\">250.89940828402365</desc><desc class=\"y centered\">196.96589785898726</desc><desc class=\"x_label\">1900-01</desc></g><g class=\"dots\"><circle cx=\"267.319526627219\" cy=\"196.96589785898726\" r=\"0.0\" class=\"dot reactive tooltip-trigger\"/><desc class=\"value\">0</desc><desc class=\"x centered\">267.319526627219</desc><desc class=\"y centered\">196.96589785898726</desc><desc class=\"x_label\">1902-03</desc></g><g class=\"dots\"><circle cx=\"283.73964497041425\" cy=\"196.96589785898726\" r=\"0.5585074266392948\" class=\"dot reactive tooltip-trigger\"/><desc class=\"value\">1</desc><desc class=\"x centered\">283.73964497041425</desc><desc class=\"y centered\">196.96589785898726</desc><desc class=\"x_label\">1904-05</desc></g><g class=\"dots\"><circle cx=\"300.15976331360946\" cy=\"196.96589785898726\" r=\"6.702089119671537\" class=\"dot reactive tooltip-trigger\"/><desc class=\"value\">12</desc><desc class=\"x centered\">300.15976331360946</desc><desc class=\"y centered\">196.96589785898726</desc><desc class=\"x_label\">1906-07</desc></g><g class=\"dots\"><circle cx=\"316.57988165680473\" cy=\"196.96589785898726\" r=\"0.0\" class=\"dot reactive tooltip-trigger\"/><desc class=\"value\">0</desc><desc class=\"x centered\">316.57988165680473</desc><desc class=\"y centered\">196.96589785898726</desc><desc class=\"x_label\">1908-09</desc></g><g class=\"dots\"><circle cx=\"333.0\" cy=\"196.96589785898726\" r=\"2.234029706557179\" class=\"dot reactive tooltip-trigger\"/><desc class=\"value\">4</desc><desc class=\"x centered\">333.0</desc><desc class=\"y centered\">196.96589785898726</desc><desc class=\"x_label\">1910-11</desc></g><g class=\"dots\"><circle cx=\"349.42011834319527\" cy=\"196.96589785898726\" r=\"0.0\" class=\"dot reactive tooltip-trigger\"/><desc class=\"value\">0</desc><desc class=\"x centered\">349.42011834319527</desc><desc class=\"y centered\">196.96589785898726</desc><desc class=\"x_label\">1912-13</desc></g><g class=\"dots\"><circle cx=\"365.84023668639054\" cy=\"196.96589785898726\" r=\"0.0\" class=\"dot reactive tooltip-trigger\"/><desc class=\"value\">0</desc><desc class=\"x centered\">365.84023668639054</desc><desc class=\"y centered\">196.96589785898726</desc><desc class=\"x_label\">1914-15</desc></g><g class=\"dots\"><circle cx=\"382.2603550295858\" cy=\"196.96589785898726\" r=\"0.0\" class=\"dot reactive tooltip-trigger\"/><desc class=\"value\">0</desc><desc class=\"x centered\">382.2603550295858</desc><desc class=\"y centered\">196.96589785898726</desc><desc class=\"x_label\">1916-17</desc></g><g class=\"dots\"><circle cx=\"398.6804733727811\" cy=\"196.96589785898726\" r=\"0.0\" class=\"dot reactive tooltip-trigger\"/><desc class=\"value\">0</desc><desc class=\"x centered\">398.6804733727811</desc><desc class=\"y centered\">196.96589785898726</desc><desc class=\"x_label\">1918-19</desc></g><g class=\"dots\"><circle cx=\"415.1005917159763\" cy=\"196.96589785898726\" r=\"0.0\" class=\"dot reactive tooltip-trigger\"/><desc class=\"value\">0</desc><desc class=\"x centered\">415.1005917159763</desc><desc class=\"y centered\">196.96589785898726</desc><desc class=\"x_label\">1920-21</desc></g><g class=\"dots\"><circle cx=\"431.52071005917156\" cy=\"196.96589785898726\" r=\"0.0\" class=\"dot reactive tooltip-trigger\"/><desc class=\"value\">0</desc><desc class=\"x centered\">431.52071005917156</desc><desc class=\"y centered\">196.96589785898726</desc><desc class=\"x_label\">1922-23</desc></g><g class=\"dots\"><circle cx=\"447.94082840236683\" cy=\"196.96589785898726\" r=\"0.0\" class=\"dot reactive tooltip-trigger\"/><desc class=\"value\">0</desc><desc class=\"x centered\">447.94082840236683</desc><desc class=\"y centered\">196.96589785898726</desc><desc class=\"x_label\">1924-25</desc></g><g class=\"dots\"><circle cx=\"464.3609467455621\" cy=\"196.96589785898726\" r=\"0.0\" class=\"dot reactive tooltip-trigger\"/><desc class=\"value\">0</desc><desc class=\"x centered\">464.3609467455621</desc><desc class=\"y centered\">196.96589785898726</desc><desc class=\"x_label\">1926-27</desc></g><g class=\"dots\"><circle cx=\"480.7810650887574\" cy=\"196.96589785898726\" r=\"0.0\" class=\"dot reactive tooltip-trigger\"/><desc class=\"value\">0</desc><desc class=\"x centered\">480.7810650887574</desc><desc class=\"y centered\">196.96589785898726</desc><desc class=\"x_label\">1928-29</desc></g><g class=\"dots\"><circle cx=\"497.20118343195264\" cy=\"196.96589785898726\" r=\"0.0\" class=\"dot reactive tooltip-trigger\"/><desc class=\"value\">0</desc><desc class=\"x centered\">497.20118343195264</desc><desc class=\"y centered\">196.96589785898726</desc><desc class=\"x_label\">1930-31</desc></g><g class=\"dots\"><circle cx=\"513.6213017751479\" cy=\"196.96589785898726\" r=\"0.0\" class=\"dot reactive tooltip-trigger\"/><desc class=\"value\">0</desc><desc class=\"x centered\">513.6213017751479</desc><desc class=\"y centered\">196.96589785898726</desc><desc class=\"x_label\">1932-33</desc></g><g class=\"dots\"><circle cx=\"530.0414201183431\" cy=\"196.96589785898726\" r=\"0.0\" class=\"dot reactive tooltip-trigger\"/><desc class=\"value\">0</desc><desc class=\"x centered\">530.0414201183431</desc><desc class=\"y centered\">196.96589785898726</desc><desc class=\"x_label\">1934-35</desc></g><g class=\"dots\"><circle cx=\"546.4615384615385\" cy=\"196.96589785898726\" r=\"0.5585074266392948\" class=\"dot reactive tooltip-trigger\"/><desc class=\"value\">1</desc><desc class=\"x centered\">546.4615384615385</desc><desc class=\"y centered\">196.96589785898726</desc><desc class=\"x_label\">1936-37</desc></g><g class=\"dots\"><circle cx=\"562.8816568047337\" cy=\"196.96589785898726\" r=\"0.0\" class=\"dot reactive tooltip-trigger\"/><desc class=\"value\">0</desc><desc class=\"x centered\">562.8816568047337</desc><desc class=\"y centered\">196.96589785898726</desc><desc class=\"x_label\">1938-39</desc></g><g class=\"dots\"><circle cx=\"579.301775147929\" cy=\"196.96589785898726\" r=\"0.0\" class=\"dot reactive tooltip-trigger\"/><desc class=\"value\">0</desc><desc class=\"x centered\">579.301775147929</desc><desc class=\"y centered\">196.96589785898726</desc><desc class=\"x_label\">1940-41</desc></g><g class=\"dots\"><circle cx=\"595.7218934911242\" cy=\"196.96589785898726\" r=\"0.0\" class=\"dot reactive tooltip-trigger\"/><desc class=\"value\">0</desc><desc class=\"x centered\">595.7218934911242</desc><desc class=\"y centered\">196.96589785898726</desc><desc class=\"x_label\">1942-43</desc></g><g class=\"dots\"><circle cx=\"612.1420118343195\" cy=\"196.96589785898726\" r=\"0.0\" class=\"dot reactive tooltip-trigger\"/><desc class=\"value\">0</desc><desc class=\"x centered\">612.1420118343195</desc><desc class=\"y centered\">196.96589785898726</desc><desc class=\"x_label\">1944-45</desc></g><g class=\"dots\"><circle cx=\"628.5621301775147\" cy=\"196.96589785898726\" r=\"0.0\" class=\"dot reactive tooltip-trigger\"/><desc class=\"value\">0</desc><desc class=\"x centered\">628.5621301775147</desc><desc class=\"y centered\">196.96589785898726</desc><desc class=\"x_label\">1946-47</desc></g></g><g class=\"series serie-6 color-6\"><g class=\"dots\"><circle cx=\"21.01775147928994\" cy=\"231.76552645598147\" r=\"0.0\" class=\"dot reactive tooltip-trigger\"/><desc class=\"value\">0</desc><desc class=\"x centered\">21.01775147928994</desc><desc class=\"y centered\">231.76552645598147</desc><desc class=\"x_label\">1872-73</desc></g><g class=\"dots\"><circle cx=\"37.43786982248521\" cy=\"231.76552645598147\" r=\"0.0\" class=\"dot reactive tooltip-trigger\"/><desc class=\"value\">0</desc><desc class=\"x centered\">37.43786982248521</desc><desc class=\"y centered\">231.76552645598147</desc><desc class=\"x_label\">1874-75</desc></g><g class=\"dots\"><circle cx=\"53.85798816568047\" cy=\"231.76552645598147\" r=\"0.0\" class=\"dot reactive tooltip-trigger\"/><desc class=\"value\">0</desc><desc class=\"x centered\">53.85798816568047</desc><desc class=\"y centered\">231.76552645598147</desc><desc class=\"x_label\">1876-77</desc></g><g class=\"dots\"><circle cx=\"70.27810650887574\" cy=\"231.76552645598147\" r=\"0.0\" class=\"dot reactive tooltip-trigger\"/><desc class=\"value\">0</desc><desc class=\"x centered\">70.27810650887574</desc><desc class=\"y centered\">231.76552645598147</desc><desc class=\"x_label\">1878-79</desc></g><g class=\"dots\"><circle cx=\"86.69822485207101\" cy=\"231.76552645598147\" r=\"0.0\" class=\"dot reactive tooltip-trigger\"/><desc class=\"value\">0</desc><desc class=\"x centered\">86.69822485207101</desc><desc class=\"y centered\">231.76552645598147</desc><desc class=\"x_label\">1880-81</desc></g><g class=\"dots\"><circle cx=\"103.11834319526628\" cy=\"231.76552645598147\" r=\"0.0\" class=\"dot reactive tooltip-trigger\"/><desc class=\"value\">0</desc><desc class=\"x centered\">103.11834319526628</desc><desc class=\"y centered\">231.76552645598147</desc><desc class=\"x_label\">1882-83</desc></g><g class=\"dots\"><circle cx=\"119.53846153846155\" cy=\"231.76552645598147\" r=\"0.0\" class=\"dot reactive tooltip-trigger\"/><desc class=\"value\">0</desc><desc class=\"x centered\">119.53846153846155</desc><desc class=\"y centered\">231.76552645598147</desc><desc class=\"x_label\">1884-85</desc></g><g class=\"dots\"><circle cx=\"135.9585798816568\" cy=\"231.76552645598147\" r=\"0.0\" class=\"dot reactive tooltip-trigger\"/><desc class=\"value\">0</desc><desc class=\"x centered\">135.9585798816568</desc><desc class=\"y centered\">231.76552645598147</desc><desc class=\"x_label\">1886-87</desc></g><g class=\"dots\"><circle cx=\"152.37869822485206\" cy=\"231.76552645598147\" r=\"0.0\" class=\"dot reactive tooltip-trigger\"/><desc class=\"value\">0</desc><desc class=\"x centered\">152.37869822485206</desc><desc class=\"y centered\">231.76552645598147</desc><desc class=\"x_label\">1888-89</desc></g><g class=\"dots\"><circle cx=\"168.79881656804733\" cy=\"231.76552645598147\" r=\"0.0\" class=\"dot reactive tooltip-trigger\"/><desc class=\"value\">0</desc><desc class=\"x centered\">168.79881656804733</desc><desc class=\"y centered\">231.76552645598147</desc><desc class=\"x_label\">1890-91</desc></g><g class=\"dots\"><circle cx=\"185.21893491124257\" cy=\"231.76552645598147\" r=\"0.0\" class=\"dot reactive tooltip-trigger\"/><desc class=\"value\">0</desc><desc class=\"x centered\">185.21893491124257</desc><desc class=\"y centered\">231.76552645598147</desc><desc class=\"x_label\">1892-93</desc></g><g class=\"dots\"><circle cx=\"201.63905325443784\" cy=\"231.76552645598147\" r=\"1.1170148532785895\" class=\"dot reactive tooltip-trigger\"/><desc class=\"value\">2</desc><desc class=\"x centered\">201.63905325443784</desc><desc class=\"y centered\">231.76552645598147</desc><desc class=\"x_label\">1894-95</desc></g><g class=\"dots\"><circle cx=\"218.0591715976331\" cy=\"231.76552645598147\" r=\"0.0\" class=\"dot reactive tooltip-trigger\"/><desc class=\"value\">0</desc><desc class=\"x centered\">218.0591715976331</desc><desc class=\"y centered\">231.76552645598147</desc><desc class=\"x_label\">1896-97</desc></g><g class=\"dots\"><circle cx=\"234.47928994082838\" cy=\"231.76552645598147\" r=\"0.0\" class=\"dot reactive tooltip-trigger\"/><desc class=\"value\">0</desc><desc class=\"x centered\">234.47928994082838</desc><desc class=\"y centered\">231.76552645598147</desc><desc class=\"x_label\">1898-99</desc></g><g class=\"dots\"><circle cx=\"250.89940828402365\" cy=\"231.76552645598147\" r=\"0.0\" class=\"dot reactive tooltip-trigger\"/><desc class=\"value\">0</desc><desc class=\"x centered\">250.89940828402365</desc><desc class=\"y centered\">231.76552645598147</desc><desc class=\"x_label\">1900-01</desc></g><g class=\"dots\"><circle cx=\"267.319526627219\" cy=\"231.76552645598147\" r=\"0.0\" class=\"dot reactive tooltip-trigger\"/><desc class=\"value\">0</desc><desc class=\"x centered\">267.319526627219</desc><desc class=\"y centered\">231.76552645598147</desc><desc class=\"x_label\">1902-03</desc></g><g class=\"dots\"><circle cx=\"283.73964497041425\" cy=\"231.76552645598147\" r=\"0.0\" class=\"dot reactive tooltip-trigger\"/><desc class=\"value\">0</desc><desc class=\"x centered\">283.73964497041425</desc><desc class=\"y centered\">231.76552645598147</desc><desc class=\"x_label\">1904-05</desc></g><g class=\"dots\"><circle cx=\"300.15976331360946\" cy=\"231.76552645598147\" r=\"7.819103972950127\" class=\"dot reactive tooltip-trigger\"/><desc class=\"value\">14</desc><desc class=\"x centered\">300.15976331360946</desc><desc class=\"y centered\">231.76552645598147</desc><desc class=\"x_label\">1906-07</desc></g><g class=\"dots\"><circle cx=\"316.57988165680473\" cy=\"231.76552645598147\" r=\"0.0\" class=\"dot reactive tooltip-trigger\"/><desc class=\"value\">0</desc><desc class=\"x centered\">316.57988165680473</desc><desc class=\"y centered\">231.76552645598147</desc><desc class=\"x_label\">1908-09</desc></g><g class=\"dots\"><circle cx=\"333.0\" cy=\"231.76552645598147\" r=\"0.0\" class=\"dot reactive tooltip-trigger\"/><desc class=\"value\">0</desc><desc class=\"x centered\">333.0</desc><desc class=\"y centered\">231.76552645598147</desc><desc class=\"x_label\">1910-11</desc></g><g class=\"dots\"><circle cx=\"349.42011834319527\" cy=\"231.76552645598147\" r=\"0.0\" class=\"dot reactive tooltip-trigger\"/><desc class=\"value\">0</desc><desc class=\"x centered\">349.42011834319527</desc><desc class=\"y centered\">231.76552645598147</desc><desc class=\"x_label\">1912-13</desc></g><g class=\"dots\"><circle cx=\"365.84023668639054\" cy=\"231.76552645598147\" r=\"0.0\" class=\"dot reactive tooltip-trigger\"/><desc class=\"value\">0</desc><desc class=\"x centered\">365.84023668639054</desc><desc class=\"y centered\">231.76552645598147</desc><desc class=\"x_label\">1914-15</desc></g><g class=\"dots\"><circle cx=\"382.2603550295858\" cy=\"231.76552645598147\" r=\"0.0\" class=\"dot reactive tooltip-trigger\"/><desc class=\"value\">0</desc><desc class=\"x centered\">382.2603550295858</desc><desc class=\"y centered\">231.76552645598147</desc><desc class=\"x_label\">1916-17</desc></g><g class=\"dots\"><circle cx=\"398.6804733727811\" cy=\"231.76552645598147\" r=\"0.0\" class=\"dot reactive tooltip-trigger\"/><desc class=\"value\">0</desc><desc class=\"x centered\">398.6804733727811</desc><desc class=\"y centered\">231.76552645598147</desc><desc class=\"x_label\">1918-19</desc></g><g class=\"dots\"><circle cx=\"415.1005917159763\" cy=\"231.76552645598147\" r=\"0.0\" class=\"dot reactive tooltip-trigger\"/><desc class=\"value\">0</desc><desc class=\"x centered\">415.1005917159763</desc><desc class=\"y centered\">231.76552645598147</desc><desc class=\"x_label\">1920-21</desc></g><g class=\"dots\"><circle cx=\"431.52071005917156\" cy=\"231.76552645598147\" r=\"0.0\" class=\"dot reactive tooltip-trigger\"/><desc class=\"value\">0</desc><desc class=\"x centered\">431.52071005917156</desc><desc class=\"y centered\">231.76552645598147</desc><desc class=\"x_label\">1922-23</desc></g><g class=\"dots\"><circle cx=\"447.94082840236683\" cy=\"231.76552645598147\" r=\"0.0\" class=\"dot reactive tooltip-trigger\"/><desc class=\"value\">0</desc><desc class=\"x centered\">447.94082840236683</desc><desc class=\"y centered\">231.76552645598147</desc><desc class=\"x_label\">1924-25</desc></g><g class=\"dots\"><circle cx=\"464.3609467455621\" cy=\"231.76552645598147\" r=\"0.0\" class=\"dot reactive tooltip-trigger\"/><desc class=\"value\">0</desc><desc class=\"x centered\">464.3609467455621</desc><desc class=\"y centered\">231.76552645598147</desc><desc class=\"x_label\">1926-27</desc></g><g class=\"dots\"><circle cx=\"480.7810650887574\" cy=\"231.76552645598147\" r=\"0.0\" class=\"dot reactive tooltip-trigger\"/><desc class=\"value\">0</desc><desc class=\"x centered\">480.7810650887574</desc><desc class=\"y centered\">231.76552645598147</desc><desc class=\"x_label\">1928-29</desc></g><g class=\"dots\"><circle cx=\"497.20118343195264\" cy=\"231.76552645598147\" r=\"0.0\" class=\"dot reactive tooltip-trigger\"/><desc class=\"value\">0</desc><desc class=\"x centered\">497.20118343195264</desc><desc class=\"y centered\">231.76552645598147</desc><desc class=\"x_label\">1930-31</desc></g><g class=\"dots\"><circle cx=\"513.6213017751479\" cy=\"231.76552645598147\" r=\"0.0\" class=\"dot reactive tooltip-trigger\"/><desc class=\"value\">0</desc><desc class=\"x centered\">513.6213017751479</desc><desc class=\"y centered\">231.76552645598147</desc><desc class=\"x_label\">1932-33</desc></g><g class=\"dots\"><circle cx=\"530.0414201183431\" cy=\"231.76552645598147\" r=\"0.0\" class=\"dot reactive tooltip-trigger\"/><desc class=\"value\">0</desc><desc class=\"x centered\">530.0414201183431</desc><desc class=\"y centered\">231.76552645598147</desc><desc class=\"x_label\">1934-35</desc></g><g class=\"dots\"><circle cx=\"546.4615384615385\" cy=\"231.76552645598147\" r=\"0.0\" class=\"dot reactive tooltip-trigger\"/><desc class=\"value\">0</desc><desc class=\"x centered\">546.4615384615385</desc><desc class=\"y centered\">231.76552645598147</desc><desc class=\"x_label\">1936-37</desc></g><g class=\"dots\"><circle cx=\"562.8816568047337\" cy=\"231.76552645598147\" r=\"0.0\" class=\"dot reactive tooltip-trigger\"/><desc class=\"value\">0</desc><desc class=\"x centered\">562.8816568047337</desc><desc class=\"y centered\">231.76552645598147</desc><desc class=\"x_label\">1938-39</desc></g><g class=\"dots\"><circle cx=\"579.301775147929\" cy=\"231.76552645598147\" r=\"0.0\" class=\"dot reactive tooltip-trigger\"/><desc class=\"value\">0</desc><desc class=\"x centered\">579.301775147929</desc><desc class=\"y centered\">231.76552645598147</desc><desc class=\"x_label\">1940-41</desc></g><g class=\"dots\"><circle cx=\"595.7218934911242\" cy=\"231.76552645598147\" r=\"0.0\" class=\"dot reactive tooltip-trigger\"/><desc class=\"value\">0</desc><desc class=\"x centered\">595.7218934911242</desc><desc class=\"y centered\">231.76552645598147</desc><desc class=\"x_label\">1942-43</desc></g><g class=\"dots\"><circle cx=\"612.1420118343195\" cy=\"231.76552645598147\" r=\"0.0\" class=\"dot reactive tooltip-trigger\"/><desc class=\"value\">0</desc><desc class=\"x centered\">612.1420118343195</desc><desc class=\"y centered\">231.76552645598147</desc><desc class=\"x_label\">1944-45</desc></g><g class=\"dots\"><circle cx=\"628.5621301775147\" cy=\"231.76552645598147\" r=\"0.0\" class=\"dot reactive tooltip-trigger\"/><desc class=\"value\">0</desc><desc class=\"x centered\">628.5621301775147</desc><desc class=\"y centered\">231.76552645598147</desc><desc class=\"x_label\">1946-47</desc></g></g><g class=\"series serie-7 color-7\"><g class=\"dots\"><circle cx=\"21.01775147928994\" cy=\"266.5651550529757\" r=\"0.0\" class=\"dot reactive tooltip-trigger\"/><desc class=\"value\">0</desc><desc class=\"x centered\">21.01775147928994</desc><desc class=\"y centered\">266.5651550529757</desc><desc class=\"x_label\">1872-73</desc></g><g class=\"dots\"><circle cx=\"37.43786982248521\" cy=\"266.5651550529757\" r=\"0.0\" class=\"dot reactive tooltip-trigger\"/><desc class=\"value\">0</desc><desc class=\"x centered\">37.43786982248521</desc><desc class=\"y centered\">266.5651550529757</desc><desc class=\"x_label\">1874-75</desc></g><g class=\"dots\"><circle cx=\"53.85798816568047\" cy=\"266.5651550529757\" r=\"0.0\" class=\"dot reactive tooltip-trigger\"/><desc class=\"value\">0</desc><desc class=\"x centered\">53.85798816568047</desc><desc class=\"y centered\">266.5651550529757</desc><desc class=\"x_label\">1876-77</desc></g><g class=\"dots\"><circle cx=\"70.27810650887574\" cy=\"266.5651550529757\" r=\"0.0\" class=\"dot reactive tooltip-trigger\"/><desc class=\"value\">0</desc><desc class=\"x centered\">70.27810650887574</desc><desc class=\"y centered\">266.5651550529757</desc><desc class=\"x_label\">1878-79</desc></g><g class=\"dots\"><circle cx=\"86.69822485207101\" cy=\"266.5651550529757\" r=\"0.0\" class=\"dot reactive tooltip-trigger\"/><desc class=\"value\">0</desc><desc class=\"x centered\">86.69822485207101</desc><desc class=\"y centered\">266.5651550529757</desc><desc class=\"x_label\">1880-81</desc></g><g class=\"dots\"><circle cx=\"103.11834319526628\" cy=\"266.5651550529757\" r=\"0.0\" class=\"dot reactive tooltip-trigger\"/><desc class=\"value\">0</desc><desc class=\"x centered\">103.11834319526628</desc><desc class=\"y centered\">266.5651550529757</desc><desc class=\"x_label\">1882-83</desc></g><g class=\"dots\"><circle cx=\"119.53846153846155\" cy=\"266.5651550529757\" r=\"0.0\" class=\"dot reactive tooltip-trigger\"/><desc class=\"value\">0</desc><desc class=\"x centered\">119.53846153846155</desc><desc class=\"y centered\">266.5651550529757</desc><desc class=\"x_label\">1884-85</desc></g><g class=\"dots\"><circle cx=\"135.9585798816568\" cy=\"266.5651550529757\" r=\"0.0\" class=\"dot reactive tooltip-trigger\"/><desc class=\"value\">0</desc><desc class=\"x centered\">135.9585798816568</desc><desc class=\"y centered\">266.5651550529757</desc><desc class=\"x_label\">1886-87</desc></g><g class=\"dots\"><circle cx=\"152.37869822485206\" cy=\"266.5651550529757\" r=\"0.0\" class=\"dot reactive tooltip-trigger\"/><desc class=\"value\">0</desc><desc class=\"x centered\">152.37869822485206</desc><desc class=\"y centered\">266.5651550529757</desc><desc class=\"x_label\">1888-89</desc></g><g class=\"dots\"><circle cx=\"168.79881656804733\" cy=\"266.5651550529757\" r=\"0.0\" class=\"dot reactive tooltip-trigger\"/><desc class=\"value\">0</desc><desc class=\"x centered\">168.79881656804733</desc><desc class=\"y centered\">266.5651550529757</desc><desc class=\"x_label\">1890-91</desc></g><g class=\"dots\"><circle cx=\"185.21893491124257\" cy=\"266.5651550529757\" r=\"0.0\" class=\"dot reactive tooltip-trigger\"/><desc class=\"value\">0</desc><desc class=\"x centered\">185.21893491124257</desc><desc class=\"y centered\">266.5651550529757</desc><desc class=\"x_label\">1892-93</desc></g><g class=\"dots\"><circle cx=\"201.63905325443784\" cy=\"266.5651550529757\" r=\"0.0\" class=\"dot reactive tooltip-trigger\"/><desc class=\"value\">0</desc><desc class=\"x centered\">201.63905325443784</desc><desc class=\"y centered\">266.5651550529757</desc><desc class=\"x_label\">1894-95</desc></g><g class=\"dots\"><circle cx=\"218.0591715976331\" cy=\"266.5651550529757\" r=\"0.0\" class=\"dot reactive tooltip-trigger\"/><desc class=\"value\">0</desc><desc class=\"x centered\">218.0591715976331</desc><desc class=\"y centered\">266.5651550529757</desc><desc class=\"x_label\">1896-97</desc></g><g class=\"dots\"><circle cx=\"234.47928994082838\" cy=\"266.5651550529757\" r=\"0.0\" class=\"dot reactive tooltip-trigger\"/><desc class=\"value\">0</desc><desc class=\"x centered\">234.47928994082838</desc><desc class=\"y centered\">266.5651550529757</desc><desc class=\"x_label\">1898-99</desc></g><g class=\"dots\"><circle cx=\"250.89940828402365\" cy=\"266.5651550529757\" r=\"0.0\" class=\"dot reactive tooltip-trigger\"/><desc class=\"value\">0</desc><desc class=\"x centered\">250.89940828402365</desc><desc class=\"y centered\">266.5651550529757</desc><desc class=\"x_label\">1900-01</desc></g><g class=\"dots\"><circle cx=\"267.319526627219\" cy=\"266.5651550529757\" r=\"0.0\" class=\"dot reactive tooltip-trigger\"/><desc class=\"value\">0</desc><desc class=\"x centered\">267.319526627219</desc><desc class=\"y centered\">266.5651550529757</desc><desc class=\"x_label\">1902-03</desc></g><g class=\"dots\"><circle cx=\"283.73964497041425\" cy=\"266.5651550529757\" r=\"0.0\" class=\"dot reactive tooltip-trigger\"/><desc class=\"value\">0</desc><desc class=\"x centered\">283.73964497041425</desc><desc class=\"y centered\">266.5651550529757</desc><desc class=\"x_label\">1904-05</desc></g><g class=\"dots\"><circle cx=\"300.15976331360946\" cy=\"266.5651550529757\" r=\"4.468059413114358\" class=\"dot reactive tooltip-trigger\"/><desc class=\"value\">8</desc><desc class=\"x centered\">300.15976331360946</desc><desc class=\"y centered\">266.5651550529757</desc><desc class=\"x_label\">1906-07</desc></g><g class=\"dots\"><circle cx=\"316.57988165680473\" cy=\"266.5651550529757\" r=\"4.468059413114358\" class=\"dot reactive tooltip-trigger\"/><desc class=\"value\">8</desc><desc class=\"x centered\">316.57988165680473</desc><desc class=\"y centered\">266.5651550529757</desc><desc class=\"x_label\">1908-09</desc></g><g class=\"dots\"><circle cx=\"333.0\" cy=\"266.5651550529757\" r=\"0.5585074266392948\" class=\"dot reactive tooltip-trigger\"/><desc class=\"value\">1</desc><desc class=\"x centered\">333.0</desc><desc class=\"y centered\">266.5651550529757</desc><desc class=\"x_label\">1910-11</desc></g><g class=\"dots\"><circle cx=\"349.42011834319527\" cy=\"266.5651550529757\" r=\"1.1170148532785895\" class=\"dot reactive tooltip-trigger\"/><desc class=\"value\">2</desc><desc class=\"x centered\">349.42011834319527</desc><desc class=\"y centered\">266.5651550529757</desc><desc class=\"x_label\">1912-13</desc></g><g class=\"dots\"><circle cx=\"365.84023668639054\" cy=\"266.5651550529757\" r=\"3.9095519864750634\" class=\"dot reactive tooltip-trigger\"/><desc class=\"value\">7</desc><desc class=\"x centered\">365.84023668639054</desc><desc class=\"y centered\">266.5651550529757</desc><desc class=\"x_label\">1914-15</desc></g><g class=\"dots\"><circle cx=\"382.2603550295858\" cy=\"266.5651550529757\" r=\"3.9095519864750634\" class=\"dot reactive tooltip-trigger\"/><desc class=\"value\">7</desc><desc class=\"x centered\">382.2603550295858</desc><desc class=\"y centered\">266.5651550529757</desc><desc class=\"x_label\">1916-17</desc></g><g class=\"dots\"><circle cx=\"398.6804733727811\" cy=\"266.5651550529757\" r=\"0.5585074266392948\" class=\"dot reactive tooltip-trigger\"/><desc class=\"value\">1</desc><desc class=\"x centered\">398.6804733727811</desc><desc class=\"y centered\">266.5651550529757</desc><desc class=\"x_label\">1918-19</desc></g><g class=\"dots\"><circle cx=\"415.1005917159763\" cy=\"266.5651550529757\" r=\"1.6755222799178842\" class=\"dot reactive tooltip-trigger\"/><desc class=\"value\">3</desc><desc class=\"x centered\">415.1005917159763</desc><desc class=\"y centered\">266.5651550529757</desc><desc class=\"x_label\">1920-21</desc></g><g class=\"dots\"><circle cx=\"431.52071005917156\" cy=\"266.5651550529757\" r=\"0.0\" class=\"dot reactive tooltip-trigger\"/><desc class=\"value\">0</desc><desc class=\"x centered\">431.52071005917156</desc><desc class=\"y centered\">266.5651550529757</desc><desc class=\"x_label\">1922-23</desc></g><g class=\"dots\"><circle cx=\"447.94082840236683\" cy=\"266.5651550529757\" r=\"0.5585074266392948\" class=\"dot reactive tooltip-trigger\"/><desc class=\"value\">1</desc><desc class=\"x centered\">447.94082840236683</desc><desc class=\"y centered\">266.5651550529757</desc><desc class=\"x_label\">1924-25</desc></g><g class=\"dots\"><circle cx=\"464.3609467455621\" cy=\"266.5651550529757\" r=\"0.0\" class=\"dot reactive tooltip-trigger\"/><desc class=\"value\">0</desc><desc class=\"x centered\">464.3609467455621</desc><desc class=\"y centered\">266.5651550529757</desc><desc class=\"x_label\">1926-27</desc></g><g class=\"dots\"><circle cx=\"480.7810650887574\" cy=\"266.5651550529757\" r=\"0.0\" class=\"dot reactive tooltip-trigger\"/><desc class=\"value\">0</desc><desc class=\"x centered\">480.7810650887574</desc><desc class=\"y centered\">266.5651550529757</desc><desc class=\"x_label\">1928-29</desc></g><g class=\"dots\"><circle cx=\"497.20118343195264\" cy=\"266.5651550529757\" r=\"0.5585074266392948\" class=\"dot reactive tooltip-trigger\"/><desc class=\"value\">1</desc><desc class=\"x centered\">497.20118343195264</desc><desc class=\"y centered\">266.5651550529757</desc><desc class=\"x_label\">1930-31</desc></g><g class=\"dots\"><circle cx=\"513.6213017751479\" cy=\"266.5651550529757\" r=\"0.0\" class=\"dot reactive tooltip-trigger\"/><desc class=\"value\">0</desc><desc class=\"x centered\">513.6213017751479</desc><desc class=\"y centered\">266.5651550529757</desc><desc class=\"x_label\">1932-33</desc></g><g class=\"dots\"><circle cx=\"530.0414201183431\" cy=\"266.5651550529757\" r=\"0.0\" class=\"dot reactive tooltip-trigger\"/><desc class=\"value\">0</desc><desc class=\"x centered\">530.0414201183431</desc><desc class=\"y centered\">266.5651550529757</desc><desc class=\"x_label\">1934-35</desc></g><g class=\"dots\"><circle cx=\"546.4615384615385\" cy=\"266.5651550529757\" r=\"0.5585074266392948\" class=\"dot reactive tooltip-trigger\"/><desc class=\"value\">1</desc><desc class=\"x centered\">546.4615384615385</desc><desc class=\"y centered\">266.5651550529757</desc><desc class=\"x_label\">1936-37</desc></g><g class=\"dots\"><circle cx=\"562.8816568047337\" cy=\"266.5651550529757\" r=\"6.143581693032242\" class=\"dot reactive tooltip-trigger\"/><desc class=\"value\">11</desc><desc class=\"x centered\">562.8816568047337</desc><desc class=\"y centered\">266.5651550529757</desc><desc class=\"x_label\">1938-39</desc></g><g class=\"dots\"><circle cx=\"579.301775147929\" cy=\"266.5651550529757\" r=\"0.0\" class=\"dot reactive tooltip-trigger\"/><desc class=\"value\">0</desc><desc class=\"x centered\">579.301775147929</desc><desc class=\"y centered\">266.5651550529757</desc><desc class=\"x_label\">1940-41</desc></g><g class=\"dots\"><circle cx=\"595.7218934911242\" cy=\"266.5651550529757\" r=\"0.0\" class=\"dot reactive tooltip-trigger\"/><desc class=\"value\">0</desc><desc class=\"x centered\">595.7218934911242</desc><desc class=\"y centered\">266.5651550529757</desc><desc class=\"x_label\">1942-43</desc></g><g class=\"dots\"><circle cx=\"612.1420118343195\" cy=\"266.5651550529757\" r=\"0.0\" class=\"dot reactive tooltip-trigger\"/><desc class=\"value\">0</desc><desc class=\"x centered\">612.1420118343195</desc><desc class=\"y centered\">266.5651550529757</desc><desc class=\"x_label\">1944-45</desc></g><g class=\"dots\"><circle cx=\"628.5621301775147\" cy=\"266.5651550529757\" r=\"0.0\" class=\"dot reactive tooltip-trigger\"/><desc class=\"value\">0</desc><desc class=\"x centered\">628.5621301775147</desc><desc class=\"y centered\">266.5651550529757</desc><desc class=\"x_label\">1946-47</desc></g><g class=\"dots\"><circle cx=\"644.98224852071\" cy=\"266.5651550529757\" r=\"2.234029706557179\" class=\"dot reactive tooltip-trigger\"/><desc class=\"value\">4</desc><desc class=\"x centered\">644.98224852071</desc><desc class=\"y centered\">266.5651550529757</desc><desc class=\"x_label\">1948-49</desc></g></g></g><g class=\"titles\"><text x=\"400.0\" y=\"26\" class=\"title plot_title\">Return from America - Discourses</text></g><g transform=\"translate(114, 46)\" class=\"plot overlay\"><g class=\"series serie-0 color-0\"/><g class=\"series serie-1 color-1\"/><g class=\"series serie-2 color-2\"/><g class=\"series serie-3 color-3\"/><g class=\"series serie-4 color-4\"/><g class=\"series serie-5 color-5\"/><g class=\"series serie-6 color-6\"/><g class=\"series serie-7 color-7\"/></g><g transform=\"translate(114, 46)\" class=\"plot text-overlay\"><g class=\"series serie-0 color-0\"/><g class=\"series serie-1 color-1\"/><g class=\"series serie-2 color-2\"/><g class=\"series serie-3 color-3\"/><g class=\"series serie-4 color-4\"/><g class=\"series serie-5 color-5\"/><g class=\"series serie-6 color-6\"/><g class=\"series serie-7 color-7\"/></g><g transform=\"translate(114, 46)\" class=\"plot tooltip-overlay\"><g transform=\"translate(0 0)\" style=\"opacity: 0\" class=\"tooltip\"><rect rx=\"0\" ry=\"0\" width=\"0\" height=\"0\" class=\"tooltip-box\"/><g class=\"text\"/></g></g><g transform=\"translate(124, 395)\" class=\"legends\"><g id=\"activate-serie-0\" class=\"legend reactive activate-serie\"><rect x=\"0.0\" y=\"4.0\" width=\"6\" height=\"6\" class=\"color-0 reactive\"/><text x=\"11.0\" y=\"11.2\">R=enhanced</text></g><g id=\"activate-serie-1\" class=\"legend reactive activate-serie\"><rect x=\"166.5\" y=\"4.0\" width=\"6\" height=\"6\" class=\"color-1 reactive\"/><text x=\"177.5\" y=\"11.2\">R=restricted</text></g><g id=\"activate-serie-2\" class=\"legend reactive activate-serie\"><rect x=\"333.0\" y=\"4.0\" width=\"6\" height=\"6\" class=\"color-2 reactive\"/><text x=\"344.0\" y=\"11.2\">R=useless</text></g><g id=\"activate-serie-3\" class=\"legend reactive activate-serie\"><rect x=\"499.5\" y=\"4.0\" width=\"6\" height=\"6\" class=\"color-3 reactive\"/><text x=\"510.5\" y=\"11.2\">Delusion</text></g><g id=\"activate-serie-4\" class=\"legend reactive activate-serie\"><rect x=\"0.0\" y=\"25.0\" width=\"6\" height=\"6\" class=\"color-4 reactive\"/><text x=\"11.0\" y=\"32.2\">R=benefit</text></g><g id=\"activate-serie-5\" class=\"legend reactive activate-serie\"><rect x=\"166.5\" y=\"25.0\" width=\"6\" height=\"6\" class=\"color-5 reactive\"/><text x=\"177.5\" y=\"32.2\">R=danger</text></g><g id=\"activate-serie-6\" class=\"legend reactive activate-serie\"><rect x=\"333.0\" y=\"25.0\" width=\"6\" height=\"6\" class=\"color-6 reactive\"/><text x=\"344.0\" y=\"32.2\">A=overburdened</text></g><g id=\"activate-serie-7\" class=\"legend reactive activate-serie\"><rect x=\"499.5\" y=\"25.0\" width=\"6\" height=\"6\" class=\"color-7 reactive\"/><text x=\"510.5\" y=\"32.2\">A=support</text></g></g></g></svg>\n",
       "    </figure>\n",
       "  </body>\n",
       "</html>\n"
      ],
      "text/plain": [
       "<IPython.core.display.HTML object>"
      ]
     },
     "metadata": {},
     "output_type": "display_data"
    }
   ],
   "source": [
    "from IPython.display import SVG, HTML\n",
    "import pygal \n",
    "from pygal.style import DarkStyle\n",
    "base_html = \"\"\"\n",
    "<!DOCTYPE html>\n",
    "<html>\n",
    "  <head>\n",
    "  <script type=\"text/javascript\" src=\"http://kozea.github.com/pygal.js/javascripts/svg.jquery.js\"></script>\n",
    "  <script type=\"text/javascript\" src=\"https://kozea.github.io/pygal.js/2.0.x/pygal-tooltips.min.js\"\"></script>\n",
    "  </head>\n",
    "  <body>\n",
    "    <figure>\n",
    "      {rendered_chart}\n",
    "    </figure>\n",
    "  </body>\n",
    "</html>\n",
    "\"\"\"\n",
    "\n",
    "dot_chart = pygal.Dot(dot_size=700, legend_box_size=6, x_label_rotation=70, style=DarkStyle, height=450,legend_at_bottom=True, legend_at_bottom_columns=4)\n",
    "\n",
    "dot_chart.title = 'Return from America - Discourses'\n",
    "dot_chart.x_labels = ['1872-73', '1874-75', '1876-77', '1878-79','1880-81', '1882-83', '1884-85', '1886-87', '1888-89', '1890-91', '1892-93', '1894-95', '1896-97', '1898-99', '1900-01', '1902-03', '1904-05', '1906-07', '1908-09', '1910-11', '1912-13', '1914-15', '1916-17', '1918-19', '1920-21', '1922-23', '1924-25', '1926-27', '1928-29', '1930-31', '1932-33', '1934-35', '1936-37', '1938-39', '1940-41', '1942-43', '1944-45', '1946-47', '1948-49']\n",
    "dot_chart.add('R=enhanced',    [0, 0, 0, 0, 1, 0, 0, 1, 1, 0, 0, 0, 0, 0, 0, 0, 2, 4, 0, 1, 3, 9, 7, 2, 0, 0, 1, 0, 0, 0, 0, 0, 0, 1, 1, 6, 1, 4])\n",
    "dot_chart.add('R=restricted',  [0, 0, 0, 0, 0, 0, 0, 0, 0, 0, 1, 1, 0, 0, 0, 0, 0, 4, 1, 0, 1, 0, 0, 0, 1, 0, 0, 0, 0, 0, 0, 0, 0, 0])\n",
    "dot_chart.add('R=useless',      [0, 0, 0, 0, 0, 0, 0, 0, 0, 0, 0, 0, 0, 0, 0, 0, 0, 2, 7, 1, 0, 0, 0, 0, 0, 0, 0, 0, 0, 0, 0, 0, 0, 0, 0, 0, 0, 0])\n",
    "dot_chart.add('Delusion',   [4, 6, 3, 1, 0, 0, 0, 0, 1, 0, 5, 3, 2, 0, 0, 0, 2, 1, 0, 6, 4, 1, 0, 0, 2, 0, 2, 0, 0, 4, 0, 0, 0,0, 1, 0, 0, 0])\n",
    "dot_chart.add('R=benefit',       [1, 1, 0, 0, 1, 0, 0, 0, 0, 0, 0, 0, 0, 0, 0, 1, 1, 1, 13, 8, 6, 1, 9, 7, 3, 0, 0, 0, 0, 0, 0, 0, 1, 7, 0, 0, 1, 0])\n",
    "dot_chart.add('R=danger',       [0, 0, 0, 0, 0, 0, 0, 0, 0, 0, 1, 2, 0, 0, 0, 0, 1, 12, 0, 4, 0, 0, 0, 0, 0, 0, 0, 0, 0, 0, 0, 0, 1, 0, 0, 0, 0, 0])\n",
    "dot_chart.add('A=overburdened',   [0, 0, 0, 0, 0, 0, 0, 0, 0, 0, 0, 2, 0, 0, 0, 0, 0, 14, 0, 0, 0, 0, 0, 0, 0, 0, 0, 0, 0, 0, 0, 0, 0, 0, 0, 0, 0, 0])\n",
    "dot_chart.add('A=support',        [0, 0, 0, 0, 0, 0, 0, 0, 0, 0, 0, 0, 0, 0, 0, 0, 0, 8, 8, 1, 2, 7, 7, 1, 3, 0, 1, 0, 0, 1, 0, 0, 1, 11, 0, 0, 0, 0, 4])\n",
    "\n",
    "print('Figure 10: Dot chart of manual annotations on the sub-corpus (step 13)')\n",
    "display(HTML(base_html.format(rendered_chart=dot_chart.render(is_unicode=True))))\n"
   ]
  },
  {
   "cell_type": "markdown",
   "metadata": {
    "tags": [
     "hermeneutics"
    ]
   },
   "source": [
    "## Step 13: Quantification of annotations "
   ]
  },
  {
   "cell_type": "markdown",
   "metadata": {
    "tags": [
     "hermeneutics"
    ]
   },
   "source": [
    "Although qualitative analysis is often delimited from quantitative analysis, the mixing of quantitative and qualitative approaches is uncontestable <cite data-cite=\"6142573/DXVIWVKG\"></cite><cite data-cite=\"6142573/BEHFC5EB\"></cite>. Annotations resulting from qualitative analysis, for example, can allow for quantification and further visualization of results. For such a mixed method approach, the tags here were brought together with the years in which they occur. This made it possible to visualize the evolution of the identified discourses. for the visualization, the Python library *Pygal* was used to create an interactive data visualization.  "
   ]
  },
  {
   "cell_type": "markdown",
   "metadata": {},
   "source": [
    "2. **Return migration is a benefit vs. return migration is a danger for Austria (R=benefit; R=danger)**: Returnees could help or hurt the government of the country of origin, both economically and politically. A returnee could be someone who failed in the country to which they migrated or someone who brought back skills and capital to invest in the economy of the home country. The argument of danger was mainly used during the 'panic' of 1907  (financial crisis in America resulting in bankruptcy of banks and companies as well as mass remigration of European emigrants). In 1907, the newspaper *Mährisches Tagblatt* stated: 'The homeland has reluctantly let its sons go, now people are worried because they are returning home'. The main fears were economic consequences of mass return. As early as 1908, however, the discourse on the benefit of returnees dominated, especially because workers was desperately needed. Here, the argument that returnees bring large amounts of cash back to Austria was often used to support return migration."
   ]
  },
  {
   "cell_type": "markdown",
   "metadata": {},
   "source": [
    "3. **The argument of uselessness (R=useless)**: At the same time (1908), the argument of uselessness was quite prominent as well. This argument was based on the realisation that the repatriates were of no use to the labour market because they had brought a large sum of savings with them to Austria-Hungary and wanted to return to America when the crisis was over.  For example, the newspaper Die *Neue Zeitung* wrote 1908:  'On the side of the industrial giants, hopes were pinned on getting a whole army of workers who would be willing to do any kind of work. Instead, the 'poor' repatriates [...] exchanged considerable sums of money into Austrian money and the established employment agencies remained empty'."
   ]
  },
  {
   "cell_type": "markdown",
   "metadata": {},
   "source": [
    "4. **Motive of delusion and disappointment (Delusion)**: Motives of deception and disappointment consistently played an important role in the media portrayal of returnees from America. Negative experiences of return migrations were often used to avoid further emigration flows. The *Neues Wiener Journal*, for example, reported 1927: 'But the number of returnees is also increasing, and cases are becoming more regular where fleeing one's homeland has proven to be not a last chance, but a deceptive hope [...]'.  "
   ]
  },
  {
   "cell_type": "markdown",
   "metadata": {},
   "source": [
    "Discourses determine ways of thinking that are present in specific contexts and at specific times. They regulate how something is talked about and how something is not or may not be talked about. Also, discourses are filters for how something can be said and thus also for ways of thinking and acting. Finally, the significance of discourses is closely linked to the concept of power: power structures discourses and power legitimates itself through discourses (Shaper-Rinke, 2006). Analysing discourses in return migration news coverage, therefore, also reveals such power structures: Who was part of constructing reality, what guided the discourses on return migration and what was legitimised through discourse? "
   ]
  },
  {
   "cell_type": "markdown",
   "metadata": {},
   "source": [
    "## Conclusion"
   ]
  },
  {
   "cell_type": "markdown",
   "metadata": {},
   "source": [
    "Even though tailored to a specific research question, t​he corpus building process presented in this paper is adaptable for other research projects that deal with similar issues. However, the procedure depends on manual annotations and a good knowledge of the corpus under investigation, and therefore may not be very interesting for those looking for more universal, unsupervised solutions. For historians, corpus building often takes up a substantial part of their work. Creating and annotating a sample corpus of about 200 articles is undoubtedly a relatively small effort, considering that it can take up to months to create good quality corpora. Therefore, an important consideration when using machine learning to support corpus building is to improve representativeness of topic-specific corpora without spending too much time to clean and organize adequate datasets. While it is - at least at this point - not yet possible for machines to understand discourses or arguments, automated methods can support scholars from the humanities to create the datasets they need to continue investigating their research questions with their usuals, close reading and text interpretative methods."
   ]
  },
  {
   "cell_type": "markdown",
   "metadata": {},
   "source": [
    "Improved methods for corpus compilation therefore support research that bridges digital and traditional historiography. In academic writing the creation of specialised newspaper corpora with the help of digital methods currently receives little attention. One important reason for this lies in the still existing shortcomings of digitized historical newspapers and interfaces used to access those collections. E.g., only recently, article separation aroused the interest of researchers in the area of artificial intelligence as well as for digital libraries. However, many of the automated methods are still under development and not yet good enough to be applied to entire digital newspaper collections. Another issue are copyrights, which can make it difficult for researchers to export larger datasets from digital libraries, which is necessary if text mining methods should be applied. "
   ]
  },
  {
   "cell_type": "markdown",
   "metadata": {},
   "source": [
    "While none of the methods presented in this paper are new or groundbreaking (most of them have been used for decades), the way they have been applied here sets this paper apart from other similar research. Topic-specific corpus building and WSD have hardly been brought into relation with each other so far, and LDA in combination with JSD also plays a subordinate role in WSD approaches. Finally, the use of manually created labels to support classification into relevant as well as irrelevant articles in the form of feedback differentiates this paper from other papers on LDA and JSD. "
   ]
  },
  {
   "cell_type": "markdown",
   "metadata": {},
   "source": [
    "One of the challenges to use machine learning methods for corpus building still lies in the necessity for researchers from the humanities to have a  basic understanding of programming languages. They need to be able to adapt code for use with their own corpopra. Also, knowledge on debugging techniques are necessary to use text mining methods such as those presented in this paper. Interdisciplinary cooperation therefore often remains at the heart of successful application of computational method, as becomes evident in this paper. At the same time interfaces that facilitate the use of text mining methods, like <a href=\"https://voyant-tools.org/\" target=\"_blank\">Voyant Tools</a>, <a href=\"https://orangedatamining.com/\" target=\"_blank\">Orange Data Mining Suite</a> and coding environments like <a href=\"https://jupyter.org/\" target=\"_blank\">Jupyter notebooks</a> or executable environments for notebooks such as <a href=\"https://mybinder.org/\" target=\"_blank\">MyBinder</a> are becoming user friendlier all the time thus giving a glimpse into future use of digital methods also for historians and alike.  "
   ]
  },
  {
   "cell_type": "markdown",
   "metadata": {},
   "source": [
    "## References"
   ]
  },
  {
   "cell_type": "markdown",
   "metadata": {},
   "source": [
    "<div class=\"cite2c-biblio\"></div>"
   ]
  }
 ],
 "metadata": {
  "celltoolbar": "Tags",
  "cite2c": {
   "citations": {
    "6142573/2FLWKIR9": {
     "ISBN": "978-3-540-00532-2 978-3-540-36456-6",
     "URL": "http://link.springer.com/10.1007/3-540-36456-0_24",
     "accessed": {
      "day": 29,
      "month": 4,
      "year": 2021
     },
     "author": [
      {
       "family": "Patwardhan",
       "given": "Siddharth"
      },
      {
       "family": "Banerjee",
       "given": "Satanjeev"
      },
      {
       "family": "Pedersen",
       "given": "Ted"
      }
     ],
     "collection-editor": [
      {
       "family": "Goos",
       "given": "Gerhard"
      },
      {
       "family": "Hartmanis",
       "given": "Juris"
      },
      {
       "family": "van Leeuwen",
       "given": "Jan"
      }
     ],
     "container-title": "Computational Linguistics and Intelligent Text Processing",
     "editor": [
      {
       "family": "Gelbukh",
       "given": "Alexander"
      }
     ],
     "event-place": "Berlin, Heidelberg",
     "id": "6142573/2FLWKIR9",
     "issued": {
      "year": 2003
     },
     "note": "Series Title: Lecture Notes in Computer Science\nDOI: 10.1007/3-540-36456-0_24",
     "page": "241-257",
     "page-first": "241",
     "publisher": "Springer",
     "publisher-place": "Berlin, Heidelberg",
     "title": "Using Measures of Semantic Relatedness for Word Sense Disambiguation",
     "type": "chapter",
     "volume": "2588"
    },
    "6142573/3MAA8Z5M": {
     "DOI": "10.1016/j.eswa.2015.02.055",
     "URL": "https://linkinghub.elsevier.com/retrieve/pii/S0957417415001633",
     "accessed": {
      "day": 27,
      "month": 4,
      "year": 2021
     },
     "author": [
      {
       "family": "O’Callaghan",
       "given": "Derek"
      },
      {
       "family": "Greene",
       "given": "Derek"
      },
      {
       "family": "Carthy",
       "given": "Joe"
      },
      {
       "family": "Cunningham",
       "given": "Pádraig"
      }
     ],
     "container-title": "Expert Systems with Applications",
     "container-title-short": "Expert Systems with Applications",
     "id": "6142573/3MAA8Z5M",
     "issue": "13",
     "issued": {
      "year": 2015
     },
     "journalAbbreviation": "Expert Systems with Applications",
     "language": "en",
     "page": "5645-5657",
     "page-first": "5645",
     "title": "An analysis of the coherence of descriptors in topic modeling",
     "type": "article-journal",
     "volume": "42"
    },
    "6142573/3YMW54I3": {
     "ISBN": "978-84-9773-529-2",
     "URL": "https://wlv.openrepository.com/handle/2436/622560",
     "abstract": "We should always bear in mind that the assumption of representativeness ‘must be regarded largely as an act of faith’ (Leech 1991: 2), as at present we have no means of ensuring it, or even evaluating it objectively. (Tognini-Bonelli 2001: \n 57) Corpus Linguistics (CL) has not yet come of age. It does not make any difference whether we consider it a full-fledged linguistic discipline (Tognini-Bonelli 2000: 1) or, else, a set of analytical techniques that can be applied to any discipline (McEnery et al. 2006: 7). The truth is that CL is still striving to solve thorny, central issues such as optimum size, balance and representativeness of corpora (of the language as a whole or of some subset of the language). \nCorpus-driven/based studies rely on the quality and representativeness of each corpus as their true foundation for producing valid results. This entails deciding on valid external and internal criteria for corpus design and compilation. A basic tenet is that corpus representativeness determines the kinds of research questions that can be addressed and the generalizability of the results obtained (cf. Biber et al. 1988: 246). Unfortunately, faith and beliefs do not seem to ensure quality. \nIn this paper we will attempt to deal with these key questions. Firstly, we will give a brief description of the R&D projects which originally have served as the main framework for this research. Secondly, we will focus on the complex notion of corpus representativeness and ideal size, from both a theoretical and an applied perspective. Finally, we will describe a computer application which has been developed as part of the research. This software will be used to verify whether a sample bilingual comparable corpus could be deemed representative.",
     "accessed": {
      "day": 3,
      "month": 3,
      "year": 2021
     },
     "author": [
      {
       "family": "Corpas Pastor",
       "given": "Gloria"
      },
      {
       "family": "Seghiri Domínguez",
       "given": "Míriam"
      }
     ],
     "container-title": "Lengua, traducción, recepción en honor de Julio César Santoyo. León: Universidad de León Área de Publicaciones",
     "editor": [
      {
       "family": "Rabadán",
       "given": "Rosa"
      },
      {
       "family": "Fernández López",
       "given": "Marisa"
      },
      {
       "family": "Guzmán González",
       "given": "Trinidad"
      }
     ],
     "id": "6142573/3YMW54I3",
     "issued": {
      "day": 1,
      "month": 6,
      "year": 2010
     },
     "page": "111-145",
     "page-first": "111",
     "publisher": "Publicaciones Universidad de León",
     "title": "Size Matters: A Quantitative Approach to Corpus Representativeness",
     "type": "chapter"
    },
    "6142573/5FI5SV3F": {
     "author": [
      {
       "family": "Pfanzelter",
       "given": "Eva"
      }
     ],
     "collection-number": "3157",
     "collection-title": "UTB",
     "container-title": "Digitale Arbeitstechniken für Geistes- und Kulturwissenschaften",
     "editor": [
      {
       "family": "Gasteiner",
       "given": "Martin"
      },
      {
       "family": "Haber",
       "given": "Peter"
      }
     ],
     "event-place": "Stuttgart",
     "id": "6142573/5FI5SV3F",
     "issued": {
      "year": 2010
     },
     "page": "39-50",
     "page-first": "39",
     "publisher-place": "Stuttgart",
     "title": "Von der Quellenkritik zum kritischen Umgang mit digitalen Ressourcen",
     "type": "chapter"
    },
    "6142573/5ZGM8EKM": {
     "URL": "https://researchportal.helsinki.fi/en/publications/disappearing-discourses-avoiding-anachronisms-and-teleology-with-",
     "accessed": {
      "day": 11,
      "month": 1,
      "year": 2021
     },
     "author": [
      {
       "family": "Zosa",
       "given": "Elaine"
      },
      {
       "family": "Hengchen",
       "given": "Simon"
      },
      {
       "family": "Marjanen",
       "given": "Jani"
      },
      {
       "family": "Pivovarova",
       "given": "Lidia"
      },
      {
       "family": "Tolonen",
       "given": "Mikko"
      }
     ],
     "container-title": "Digital Humanities in the Nordic Countries DHN 2020",
     "event": "Digital Humanities in the Nordic Countries DHN 2020",
     "event-place": "Riga",
     "id": "6142573/5ZGM8EKM",
     "issued": {
      "year": 2020
     },
     "language": "English",
     "publisher": "Riga",
     "shortTitle": "Disappearing Discourses",
     "title": "Disappearing Discourses: Avoiding Anachronisms and Teleology with Data-Driven Methods in Studying Digital Newspaper Collections",
     "title-short": "Disappearing Discourses",
     "type": "paper-conference"
    },
    "6142573/6IFE7WQI": {
     "ISBN": "978-1-57181-522-4 978-1-84545-522-4",
     "author": [
      {
       "family": "Waine",
       "given": "Anthony Edward"
      }
     ],
     "call-number": "PT111 .W35 2007",
     "event-place": "New York",
     "id": "6142573/6IFE7WQI",
     "issued": {
      "year": 2007
     },
     "note": "OCLC: ocn156834470",
     "number-of-pages": "184",
     "publisher": "Berghahn Books",
     "publisher-place": "New York",
     "shortTitle": "Changing cultural tastes",
     "title": "Changing cultural tastes: writers and the popular in modern Germany",
     "title-short": "Changing cultural tastes",
     "type": "book"
    },
    "6142573/74BYZPVE": {
     "ISBN": "0-8014-2875-0",
     "author": [
      {
       "family": "Wyman",
       "given": "Mark"
      }
     ],
     "event-place": "Ithaca, N.Y.",
     "id": "6142573/74BYZPVE",
     "issued": {
      "year": 1993
     },
     "language": "English",
     "number-of-pages": "267",
     "publisher": "Cornell University Press",
     "publisher-place": "Ithaca, N.Y.",
     "title": "Round-trip to America: the immigrants return to Europe, 1880-1930",
     "type": "book"
    },
    "6142573/9DLPRG9V": {
     "ISBN": "978-3-938375-77-8",
     "call-number": "JV6217.5 .B55 2017",
     "collection-number": "Band 30",
     "collection-title": "Arco Wissenschaft",
     "editor": [
      {
       "family": "Prager",
       "given": "Katharina"
      },
      {
       "family": "Straub",
       "given": "Wolfgang"
      }
     ],
     "event-place": "Wuppertal",
     "id": "6142573/9DLPRG9V",
     "issued": {
      "year": 2017
     },
     "language": "ger eng",
     "note": "OCLC: ocn987202232",
     "number-of-pages": "388",
     "publisher": "Arco Verlag",
     "publisher-place": "Wuppertal",
     "shortTitle": "Bilderbuch-Heimkehr?",
     "title": "Bilderbuch-Heimkehr? Remigration im Kontext",
     "title-short": "Bilderbuch-Heimkehr?",
     "type": "book"
    },
    "6142573/9KTJU78H": {
     "DOI": "10.13140/RG.2.2.31214.43846",
     "URL": "http://rgdoi.net/10.13140/RG.2.2.31214.43846",
     "accessed": {
      "day": 3,
      "month": 3,
      "year": 2021
     },
     "author": [
      {
       "family": "Malone",
       "given": "Daniel"
      }
     ],
     "event": "Corpora and Discourse International Conference 2020",
     "id": "6142573/9KTJU78H",
     "issued": {
      "year": 2020
     },
     "language": "en",
     "publisher": "Unpublished",
     "shortTitle": "Developing a complex query to build a specialised corpus",
     "title": "Developing a complex query to build a specialised corpus: Reducing the issue of polysemous query terms.",
     "title-short": "Developing a complex query to build a specialised corpus",
     "type": "paper-conference"
    },
    "6142573/AXWYSSW3": {
     "URL": "https://www.deutsche-biographie.de/sfz50193.html",
     "abstract": "Biografische Information zu Lenau, Nikolaus, Biografienachweise, Quellen, Quellennachweise, Literatur, Literaturnachweise Portrait, Porträtnachweise, Objekte, Objektnachweise,    Verbindungen,    Orte , Niembsch Edler von Strehlenau, Nikolaus (eigentlich); Niembsch, Nikolaus (eigentlich, bis 1820); Niembsch von Strehlenau, Nikolaus (eigentlich); Strehlenau, Nikolaus Niembsch Edler von; Lenau, Nikolaus; Niembsch Edler von Strehlenau, Nikolaus (eigentlich); niembsch edler von strehlenau, nikolaus; Niembsch, Nikolaus (eigentlich, bis 1820); niembsch, nikolaus; Niembsch von Strehlenau, Nikolaus (eigentlich); niembsch von strehlenau, nikolaus; Strehlenau, Nikolaus Niembsch Edler von; Lenau, H.; Lenau, Miklós; Lenau, N.; Lenau, Nicolaus; Lenau, Nikolus; Lenau,̆ Nikalaus̆; Lenaŭ, Nikalaŭs; Len̄au, Nîqôlaus; Lēnau, Nîqôlaus; Niembsch von Strehlenau, Nicolaus; Niembsch von Strehlenau, Nicolaus Franz; Niembsch von Strehlenau, Nikolaus F.; Niembsch von Strehlenau, Nikolaus Franz; Niembsch, Nicolaus; Niembsch, Nikolaus F.; Niembsch, Nikolaus Franz, Edler von Strehlenau; Strehlenau, Nicolaus Franz Niembsch von; Strehlenau, Nicolaus Niembsch von; Strehlenau, Nikolaus F. von; Strehlenau, Nikolaus Franz Niembsch von; Strehlenau, Nikolaus Franz von; Strehlenau, Nikolaus Niembsch von; Von Strehlenau, Nikolaus Franz Niembsch",
     "accessed": {
      "day": 4,
      "month": 5,
      "year": 2021
     },
     "container-title": "Deutsche Biographie",
     "id": "6142573/AXWYSSW3",
     "language": "de",
     "note": "Publisher: Bayerische Staatsbibliothek",
     "title": "Lenau, Nikolaus - Deutsche Biographie",
     "type": "webpage"
    },
    "6142573/B353HSFG": {
     "DOI": "10.14765/ZZF.DOK.2.269.V1",
     "URL": "http://zeitgeschichte-digital.de/doks/269",
     "accessed": {
      "day": 9,
      "month": 7,
      "year": 2020
     },
     "author": [
      {
       "family": "Haber",
       "given": "Peter"
      }
     ],
     "container-title": "Docupedia-Zeitgeschichte",
     "id": "6142573/B353HSFG",
     "issued": {
      "year": 2012
     },
     "language": "ger",
     "title": "Zeitgeschichte und Digital HumanitiesZeitgeschichte und Digital Humanities",
     "type": "article-journal"
    },
    "6142573/B3YGSZTZ": {
     "DOI": "10.5121/ijctcm.2015.5301",
     "URL": "http://arxiv.org/abs/1508.01346",
     "abstract": "In this paper, we made a survey on Word Sense Disambiguation (WSD). Near about in all major languages around the world, research in WSD has been conducted upto different extents. In this paper, we have gone through a survey regarding the different approaches adopted in different research works, the State of the Art in the performance in this domain, recent works in different Indian languages and finally a survey in Bengali language. We have made a survey on different competitions in this field and the bench mark results, obtained from those competitions.",
     "accessed": {
      "day": 15,
      "month": 3,
      "year": 2021
     },
     "author": [
      {
       "family": "Pal",
       "given": "Alok Ranjan"
      },
      {
       "family": "Saha",
       "given": "Diganta"
      }
     ],
     "container-title": "arXiv:1508.01346 [cs]",
     "id": "6142573/B3YGSZTZ",
     "issued": {
      "day": 6,
      "month": 8,
      "year": 2015
     },
     "note": "arXiv: 1508.01346",
     "shortTitle": "Word sense disambiguation",
     "title": "Word sense disambiguation: a survey",
     "title-short": "Word sense disambiguation",
     "type": "article-journal"
    },
    "6142573/BEHFC5EB": {
     "DOI": "10.1177/1558689816651015",
     "URL": "https://doi.org/10.1177/1558689816651015",
     "abstract": "This article demonstrates how a digital environment offers new opportunities for transforming qualitative data into quantitative data in order to use data mining and information visualization for mixed methods research. The digital approach to mixed methods research is illustrated by a framework which combines qualitative methods of multimodal discourse analysis with quantitative methods of data mining and information visualization in a multilevel, contextual model that will result in an integrated, theoretically well-founded, and empirically evaluated technology for analyzing large data sets of multimodal texts. The framework is applicable to situations in which critical information needs to be extracted from geotagged public data: for example, in crisis informatics, where public reports of extreme events provide valuable data sources for disaster management.",
     "accessed": {
      "day": 28,
      "month": 12,
      "year": 2020
     },
     "author": [
      {
       "family": "O’Halloran",
       "given": "Kay L."
      },
      {
       "family": "Tan",
       "given": "Sabine"
      },
      {
       "family": "Pham",
       "given": "Duc-Son"
      },
      {
       "family": "Bateman",
       "given": "John"
      },
      {
       "family": "Vande Moere",
       "given": "Andrew"
      }
     ],
     "container-title": "Journal of Mixed Methods Research",
     "container-title-short": "Journal of Mixed Methods Research",
     "id": "6142573/BEHFC5EB",
     "issue": "1",
     "issued": {
      "day": 1,
      "month": 1,
      "year": 2018
     },
     "journalAbbreviation": "Journal of Mixed Methods Research",
     "page": "11-30",
     "page-first": "11",
     "shortTitle": "A Digital Mixed Methods Research Design",
     "title": "A Digital Mixed Methods Research Design: Integrating Multimodal Analysis With Data Mining and Information Visualization for Big Data Analytics",
     "title-short": "A Digital Mixed Methods Research Design",
     "type": "article-journal",
     "volume": "12"
    },
    "6142573/BMJS79M7": {
     "DOI": "10.1080/19312458.2018.1430754",
     "URL": "https://doi.org/10.1080/19312458.2018.1430754",
     "abstract": "Latent Dirichlet allocation (LDA) topic models are increasingly being used in communication research. Yet, questions regarding reliability and validity of the approach have received little attention thus far. In applying LDA to textual data, researchers need to tackle at least four major challenges that affect these criteria: (a) appropriate pre-processing of the text collection; (b) adequate selection of model parameters, including the number of topics to be generated; (c) evaluation of the model’s reliability; and (d) the process of validly interpreting the resulting topics. We review the research literature dealing with these questions and propose a methodology that approaches these challenges. Our overall goal is to make LDA topic modeling more accessible to communication researchers and to ensure compliance with disciplinary standards. Consequently, we develop a brief hands-on user guide for applying LDA topic modeling. We demonstrate the value of our approach with empirical data from an ongoing research project.",
     "accessed": {
      "day": 22,
      "month": 4,
      "year": 2021
     },
     "author": [
      {
       "family": "Maier",
       "given": "Daniel"
      },
      {
       "family": "Waldherr",
       "given": "A."
      },
      {
       "family": "Miltner",
       "given": "P."
      },
      {
       "family": "Wiedemann",
       "given": "G."
      },
      {
       "family": "Niekler",
       "given": "A."
      },
      {
       "family": "Keinert",
       "given": "A."
      },
      {
       "family": "Pfetsch",
       "given": "B."
      },
      {
       "family": "Heyer",
       "given": "G."
      },
      {
       "family": "Reber",
       "given": "U."
      },
      {
       "family": "Häussler",
       "given": "T."
      },
      {
       "family": "Schmid-Petri",
       "given": "H."
      },
      {
       "family": "Adam",
       "given": "S."
      }
     ],
     "container-title": "Communication Methods and Measures",
     "id": "6142573/BMJS79M7",
     "issue": "2-3",
     "issued": {
      "day": 3,
      "month": 4,
      "year": 2018
     },
     "note": "Publisher: Routledge\n_eprint: https://doi.org/10.1080/19312458.2018.1430754",
     "page": "93-118",
     "page-first": "93",
     "shortTitle": "Applying LDA Topic Modeling in Communication Research",
     "title": "Applying LDA Topic Modeling in Communication Research: Toward a Valid and Reliable Methodology",
     "title-short": "Applying LDA Topic Modeling in Communication Research",
     "type": "article-journal",
     "volume": "12"
    },
    "6142573/BXVFU4ZK": {
     "DOI": "10.1080/02619288.2001.9975006",
     "abstract": "This article locates the phenomenon of return migration within a broader history of European and American experiences. It argues that by studying return migration we can perhaps better understand some apparent contradictions in the broader themes of migration history. For example, by considering the patterns of, and motivations for, return migration from America to Europe, we are able to probe why some countries were severely damaged both economically and socially by high emigration and why others were not. In considering such issues, this article draws heavily, but not exclusively, on the Scandinavian countries. The discussion that follows hopes to reinforce the notion, apparent from the history of the 1880–1930 era in Europe and America, that return migration was among those major influences that challenged and jarred traditional societies and produced the modern world we all inhabit.",
     "author": [
      {
       "family": "Wyman",
       "given": "Mark"
      }
     ],
     "collection-title": "Historical Studies in Ethnicity, Migration and Diaspora",
     "container-title": "Immigrants & Minorities",
     "id": "6142573/BXVFU4ZK",
     "issue": "1",
     "issued": {
      "year": 2001
     },
     "language": "English",
     "page": "1–18",
     "page-first": "1",
     "title": "Return migration ‐ old story, new story",
     "type": "article-journal",
     "volume": "20"
    },
    "6142573/CHE86H2F": {
     "DOI": "10.1186/1471-2105-16-S13-S8",
     "URL": "https://www.ncbi.nlm.nih.gov/pmc/articles/PMC4597325/",
     "abstract": "Background\nTopic modelling is an active research field in machine learning. While mainly used to build models from unstructured textual data, it offers an effective means of data mining where samples represent documents, and different biological endpoints or omics data represent words. Latent Dirichlet Allocation (LDA) is the most commonly used topic modelling method across a wide number of technical fields. However, model development can be arduous and tedious, and requires burdensome and systematic sensitivity studies in order to find the best set of model parameters. Often, time-consuming subjective evaluations are needed to compare models. Currently, research has yielded no easy way to choose the proper number of topics in a model beyond a major iterative approach.\n\nMethods and results\nBased on analysis of variation of statistical perplexity during topic modelling, a heuristic approach is proposed in this study to estimate the most appropriate number of topics. Specifically, the rate of perplexity change (RPC) as a function of numbers of topics is proposed as a suitable selector. We test the stability and effectiveness of the proposed method for three markedly different types of grounded-truth datasets: Salmonella next generation sequencing, pharmacological side effects, and textual abstracts on computational biology and bioinformatics (TCBB) from PubMed.\n\nConclusion\nThe proposed RPC-based method is demonstrated to choose the best number of topics in three numerical experiments of widely different data types, and for databases of very different sizes. The work required was markedly less arduous than if full systematic sensitivity studies had been carried out with number of topics as a parameter. We understand that additional investigation is needed to substantiate the method's theoretical basis, and to establish its generalizability in terms of dataset characteristics.",
     "accessed": {
      "day": 23,
      "month": 4,
      "year": 2021
     },
     "author": [
      {
       "family": "Zhao",
       "given": "Weizhong"
      },
      {
       "family": "Chen",
       "given": "James J"
      },
      {
       "family": "Perkins",
       "given": "Roger"
      },
      {
       "family": "Liu",
       "given": "Zhichao"
      },
      {
       "family": "Ge",
       "given": "Weigong"
      },
      {
       "family": "Ding",
       "given": "Yijun"
      },
      {
       "family": "Zou",
       "given": "Wen"
      }
     ],
     "container-title": "BMC Bioinformatics",
     "container-title-short": "BMC Bioinformatics",
     "id": "6142573/CHE86H2F",
     "issue": "Suppl 13",
     "issued": {
      "day": 25,
      "month": 9,
      "year": 2015
     },
     "journalAbbreviation": "BMC Bioinformatics",
     "note": "PMID: 26424364\nPMCID: PMC4597325",
     "page": "S8",
     "page-first": "S8",
     "title": "A heuristic approach to determine an appropriate number of topics in topic modeling",
     "type": "article-journal",
     "volume": "16"
    },
    "6142573/CVSFNSE2": {
     "DOI": "10.1145/2133806.2133826",
     "URL": "https://doi.org/10.1145/2133806.2133826",
     "abstract": "Surveying a suite of algorithms that offer a solution to managing large document archives.",
     "accessed": {
      "day": 28,
      "month": 4,
      "year": 2021
     },
     "author": [
      {
       "family": "Blei",
       "given": "David M."
      }
     ],
     "container-title": "Communications of the ACM",
     "container-title-short": "Commun. ACM",
     "id": "6142573/CVSFNSE2",
     "issue": "4",
     "issued": {
      "day": 1,
      "month": 4,
      "year": 2012
     },
     "journalAbbreviation": "Commun. ACM",
     "page": "77–84",
     "page-first": "77",
     "title": "Probabilistic topic models",
     "type": "article-journal",
     "volume": "55"
    },
    "6142573/DHFC4A24": {
     "author": [
      {
       "family": "Pfanzelter",
       "given": "Eva"
      }
     ],
     "container-title": "Zeitschrift für das Archivwesen der Wirtschaft",
     "id": "6142573/DHFC4A24",
     "issue": "1",
     "issued": {
      "year": 2015
     },
     "language": "de",
     "page": "5-19",
     "page-first": "5",
     "title": "Die historische Quellenkritik und das Digitale",
     "type": "article-journal",
     "volume": "48"
    },
    "6142573/DXVIWVKG": {
     "ISBN": "978-1-4051-9473-0 978-1-4051-9843-1",
     "URL": "http://doi.wiley.com/10.1002/9781405198431.wbeal0974",
     "accessed": {
      "day": 4,
      "month": 5,
      "year": 2021
     },
     "author": [
      {
       "family": "Hasko",
       "given": "Victoria"
      }
     ],
     "container-title": "The Encyclopedia of Applied Linguistics",
     "editor": [
      {
       "family": "Chapelle",
       "given": "Carol A."
      }
     ],
     "event-place": "Oxford, UK",
     "id": "6142573/DXVIWVKG",
     "issued": {
      "day": 5,
      "month": 11,
      "year": 2012
     },
     "language": "en",
     "note": "DOI: 10.1002/9781405198431.wbeal0974",
     "page": "wbeal0974",
     "page-first": "wbeal0974",
     "publisher": "Blackwell Publishing Ltd",
     "publisher-place": "Oxford, UK",
     "title": "Qualitative Corpus Analysis",
     "type": "chapter"
    },
    "6142573/DZ5DRETR": {
     "URL": "http://journals.openedition.org/cognitextes/1311",
     "abstract": "Twentieth-century structuralist and generative linguists argued that the study of the language system (langue, competence) must be separated from the study of language use (parole, performance). For Saussure or Chomsky, no generalizations about language could be made based on the observation of patterns, regularities and rules of language performance. For Saussure, “Il n’y a donc rien de collectif dans la parole ; les manifestations en sont individuelles et momentanées. Ici il n’y a rien de p...",
     "accessed": {
      "day": 26,
      "month": 4,
      "year": 2021
     },
     "author": [
      {
       "family": "Raineri",
       "given": "Sophie"
      },
      {
       "family": "Debras",
       "given": "Camille"
      }
     ],
     "container-title": "CogniTextes. Revue de l’Association française de linguistique cognitive",
     "id": "6142573/DZ5DRETR",
     "issue": "Volume 19",
     "issued": {
      "day": 17,
      "month": 6,
      "year": 2019
     },
     "language": "en",
     "note": "Number: Volume 19\nPublisher: Association française de linguistique cognitive (AFLiCo)",
     "shortTitle": "Corpora and Representativeness",
     "title": "Corpora and Representativeness: Where to go from now?",
     "title-short": "Corpora and Representativeness",
     "type": "article-journal",
     "volume": "19"
    },
    "6142573/E7ZQHXY2": {
     "URL": "http://edoc.unibas.ch/diss/DissB_12621",
     "abstract": "Der Autor geht der Frage nach, wie sich die historische Quellenkritik durch die Verwendung von digitalen Objekten als Forschungsressource sowie digitalen Informations- und Kommunikationsmedien verändert. Da digitale Objekte neue und bisher nicht bekannte Eigenschaften aufweisen und sich von bisher bekannten Objekten unterscheiden, wird der gesamten Prozess der historisch-kritischen Methode und insbesondere die Quellenkritik als deren Hauptprozessschritt hinterfragt und angepasst. Dafür werden Methoden aus der Informationstechnik beigezogen, denn nur mit diesen lassen sich diese neuartigen Forschungsressourcen, die auch neue Quellentypen und -gattungen sowie Funktionen hervorbringen, vollständig untersuchen. Für die sich neu stellenden Probleme im Umgang mit digitalen Objekten werden Lösungsvorschläge präsentiert, die Anpassungen an der Arbeitsweise von (Geschichts-)Wissenschaftlern und die Schaffung von informationstechnischen Infrastrukturen betreffen.",
     "accessed": {
      "day": 10,
      "month": 12,
      "year": 2020
     },
     "author": [
      {
       "family": "Föhr",
       "given": "Pascal"
      }
     ],
     "genre": "Thesis",
     "issued": {
      "year": 2017
     },
     "language": "deu",
     "note": "DOI: 10.5451/unibas-006805169",
     "number-of-pages": "1 Online-Ressource (VIII, 339 Seiten)",
     "publisher": "University_of_Basel",
     "title": "Historische Quellenkritik im Digitalen Zeitalter",
     "type": "thesis"
    },
    "6142573/F3B5EV7L": {
     "ISBN": "0-7190-7071-6",
     "abstract": "Emigrant homecomings addresses the significant but neglected issue of return migration to Britain and Europe since 1600. While emigration studies have become prominent in both scholarly and popular circles in recent years, return migration has remained comparatively under-researched, despite evidence that in the nineteenth and twentieth centuries between a quarter and a third of all emigrants from many parts of Britain and Europe ultimately returned to their countries of origin. Emigrant homecomings analyses the motives, experiences and impact of these returning migrants in a wide range of locations over four hundred years, as well as examining the mechanisms and technologies which enabled their return.\n\nThe book examines the multiple identities that migrants adopted and the huge range and complexity of homecomers' motives and experiences. It also dissects migrants' perception of 'home' and the social, economic, cultural and political change that their return engendered.",
     "collection-title": "Studies in Imperialism MUP",
     "editor": [
      {
       "family": "Harper",
       "given": "Marjory"
      }
     ],
     "event-place": "Manchester",
     "id": "6142573/F3B5EV7L",
     "issued": {
      "year": 2012
     },
     "language": "Englisch",
     "number-of-pages": "288",
     "publisher": "Manchester University Press;",
     "publisher-place": "Manchester",
     "title": "Emigrant homecomings: The return movement of emigrants, 1600-2000",
     "type": "book"
    },
    "6142573/FRE6XIFV": {
     "URL": "https://zenodo.org/record/3895269",
     "abstract": "This short paper introduces the NewsEye project.",
     "accessed": {
      "day": 11,
      "month": 1,
      "year": 2021
     },
     "author": [
      {
       "family": "Doucet",
       "given": "Antoine"
      },
      {
       "family": "Gasteiner",
       "given": "Martin"
      },
      {
       "family": "Granroth-Wilding",
       "given": "Mark"
      },
      {
       "family": "Kaiser",
       "given": "Max"
      },
      {
       "family": "Kaukonen",
       "given": "Minna"
      },
      {
       "family": "Labahn",
       "given": "Roger"
      },
      {
       "family": "Moreux",
       "given": "Jean-Philippe"
      },
      {
       "family": "Muehlberger",
       "given": "Günter"
      },
      {
       "family": "Pfanzelter",
       "given": "Eva"
      },
      {
       "family": "Therenty",
       "given": "Marie-Eve"
      },
      {
       "family": "Toivonen",
       "given": "Hannu"
      },
      {
       "family": "Tolonen",
       "given": "Mikko"
      }
     ],
     "container-title": "Book of Abstracts",
     "event": "DH2020",
     "event-place": "Ottawa",
     "id": "6142573/FRE6XIFV",
     "issued": {
      "day": 23,
      "month": 7,
      "year": 2020
     },
     "language": "en",
     "publisher-place": "Ottawa",
     "shortTitle": "NewsEye",
     "title": "NewsEye: A digital investigator for historical newspapers",
     "title-short": "NewsEye",
     "type": "paper-conference"
    },
    "6142573/G3B3QXYX": {
     "DOI": "10.1145/3383583.3398627",
     "ISBN": "978-1-4503-7585-6",
     "URL": "https://doi.org/10.1145/3383583.3398627",
     "abstract": "The NewsEye project demonstrator is a proof of concept of a digital platform dedicated to historical newspapers, intended to show benefits for researchers and the general public. This platform presently hosts newspapers from partner libraries in four different languages (Finnish, Swedish, German and French) providing users with various analysis tools as well as allowing them to manage their research in an interactive way. The platform gives access to these enriched data sets, and additionally interfaces with analysis tools developed in the NewsEye project, letting users experiment with tools specifically developed for investigating historical newspapers.",
     "accessed": {
      "day": 19,
      "month": 11,
      "year": 2020
     },
     "author": [
      {
       "family": "Jean-Caurant",
       "given": "Axel"
      },
      {
       "family": "Doucet",
       "given": "Antoine"
      }
     ],
     "collection-title": "JCDL '20",
     "container-title": "Proceedings of the ACM/IEEE Joint Conference on Digital Libraries in 2020",
     "event-place": "New York, NY, USA",
     "id": "6142573/G3B3QXYX",
     "issued": {
      "day": 1,
      "month": 8,
      "year": 2020
     },
     "page": "531–532",
     "page-first": "531",
     "publisher": "Association for Computing Machinery",
     "publisher-place": "New York, NY, USA",
     "title": "Accessing and Investigating Large Collections of Historical Newspapers with the NewsEye Platform",
     "type": "paper-conference"
    },
    "6142573/GP9W87WP": {
     "author": [
      {
       "family": "Olivier",
       "given": "Claudia"
      }
     ],
     "container-title": "Transnationales Wissen und Soziale Arbeit",
     "editor": [
      {
       "family": "Bender",
       "given": "Désirée"
      },
      {
       "family": "Duscha",
       "given": "Annemarie"
      },
      {
       "family": "Huber",
       "given": "Lena"
      },
      {
       "family": "Klein-Zimmer",
       "given": "Kathrin"
      }
     ],
     "id": "6142573/GP9W87WP",
     "issued": {
      "year": 2013
     },
     "language": "German",
     "page": "181–205",
     "page-first": "181",
     "publisher": "Beltz Juventa",
     "title": "Brain Gain oder Brain Clash? Implizites transnationales Wissen im Kontext von Rückkehr-Migration",
     "type": "chapter"
    },
    "6142573/GRIVXPM6": {
     "ISBN": "978-3-8233-6295-1",
     "author": [
      {
       "family": "Steyer",
       "given": "Kathrin"
      },
      {
       "family": "Lauer",
       "given": "Meike"
      }
     ],
     "call-number": "PF3065 .S67 2007",
     "collection-number": "Bd. 40",
     "collection-title": "Studien zur deutschen Sprache",
     "container-title": "Sprach-Perspektiven: germanistische Linguistik und das Institut für Deutsche Sprache",
     "editor": [
      {
       "family": "Kämper",
       "given": "Heidrun"
      },
      {
       "family": "Eichinger",
       "given": "Ludwig M."
      }
     ],
     "event-place": "Tübingen",
     "id": "6142573/GRIVXPM6",
     "issued": {
      "year": 2007
     },
     "note": "OCLC: ocn122260172",
     "page": "493-509",
     "page-first": "493",
     "publisher": "G. Narr",
     "publisher-place": "Tübingen",
     "title": "„Corpus-Driven“: Linguistische Interpretation von Kookkurrenzbeziehungen",
     "type": "chapter"
    },
    "6142573/HP5RBUIN": {
     "abstract": "While Austro-Hungarian officials initially opposed emigration and considered it disloyal to leave the homeland, the massive growth of transatlantic labor migration, its economic benefits, and its potentially temporary duration prompted a change in governmental attitudes and policy at the turn of the twentieth century. Even as it continued to discourage and police the exit of emigrants, the Hungarian government, in particular, also became an active promoter of return migration. Using files from the Hungarian Prime Minister’s Office, the Hungarian Ministry of Agriculture, and the joint Austro-Hungarian Foreign Ministry, this article examines the Hungarian government’s attempts to encourage return migration to further its economic and nationalist goals. These initiatives emphasized the homecoming of desirable “patriotic” subjects, of Hungarian-speakers, and of farmers and skilled industrial workers to address the state’s perceived labor needs. Officials debated the risks of welcoming back migrants with undesirable social and political orientations and speakers of minority languages, as well as the risks of potential conflicts with the United States government.",
     "author": [
      {
       "family": "Poznan",
       "given": "Kristina E."
      }
     ],
     "container-title": "The Hungarian Historical Review",
     "id": "6142573/HP5RBUIN",
     "issue": "3",
     "issued": {
      "year": 2017
     },
     "language": "English",
     "page": "647–667",
     "page-first": "647",
     "title": "Return Migration to Austria-Hungary from the United States in Homeland Economic and Ethnic Politics and International Diplomacy",
     "type": "article-journal",
     "volume": "6"
    },
    "6142573/JETQF4X2": {
     "abstract": "Many approaches have been introduced to enable Latent Dirichlet Allocation (LDA) models to be updated in an online manner. This includes inferring new documents into the model, passing parameter priors to the inference algorithm or a mixture of both, leading to more complicated and computationally expensive models. We present a method to match and compare the resulting LDA topics of different models with light weight easy to use similarity measures. We address the on-line problem by keeping the model inference simple and matching topics solely by their high probability word lists.",
     "author": [
      {
       "family": "Niekler",
       "given": "Andreas"
      },
      {
       "family": "Jähnichen",
       "given": "Patrick"
      }
     ],
     "container-title": "Proceedings of ICCM 2012, 11th International Conference on Cognitive Modeling",
     "event": "11th International Conference on Cognitive Modeling",
     "id": "6142573/JETQF4X2",
     "issued": {
      "year": 2012
     },
     "page": "317-322",
     "page-first": "317",
     "publisher": "Universitätsverlag der TU Berlin",
     "title": "Matching Results of Latent Dirichlet Allocation for Text",
     "type": "paper-conference"
    },
    "6142573/JMD7CSSP": {
     "author": [
      {
       "family": "Oberbichler",
       "given": "Sarah"
      },
      {
       "family": "Pfanzelter",
       "given": "Eva"
      }
     ],
     "container-title": "Digitised Newspapers – A New Eldorado for Historians? Tools, Methodology, Epistemology, and the Changing Practices of Writing History in the Context of Historical Newspapers Mass Digitization",
     "id": "6142573/JMD7CSSP",
     "issued": {
      "year": 2021
     },
     "publisher": "De Gruyter",
     "title": "Tracing Discourses in Digital Newspaper Collections: A Contribution to Digital Hermeneutics while Investigating ’Return Migration’ in Historical Press Coverage",
     "type": "chapter"
    },
    "6142573/JMZAZWUX": {
     "URL": "https://www.c2dh.uni.lu/thinkering/digital-hermeneutics-history-theory-and-practice",
     "abstract": "On 25-26 October 2018, the Luxembourg Centre for Contemporary and Digital History (C²DH) organised the two day conference and workshop Digital Hermeneutics in History: Theory and Practice, on occasion of the official launch of the Ranke.2 teaching platform for Digital Source Criticism.",
     "accessed": {
      "day": 11,
      "month": 1,
      "year": 2021
     },
     "author": [
      {
       "family": "Fickers",
       "given": "Andreas"
      }
     ],
     "container-title": "C2DH | Luxembourg Centre for Contemporary and Digital History",
     "id": "6142573/JMZAZWUX",
     "issued": {
      "day": 22,
      "month": 2,
      "year": 2019
     },
     "language": "en",
     "shortTitle": "Digital Hermeneutics in History",
     "title": "Digital Hermeneutics in History: Theory and Practice",
     "title-short": "Digital Hermeneutics in History",
     "type": "webpage"
    },
    "6142573/K2RNGLST": {
     "abstract": "Regional mobility took many different forms. People moved shorter and longer distances, passed over administrative, geographical, or cultural borders, went back and forth between rural and urban areas, migrated to a neighboring country, or even crossed oceans. While some migrations consisted of a one-time move from one place of residence to another, other movements, even across national borders, were temporary, circular, or repeated.",
     "author": [
      {
       "family": "Steidl",
       "given": "Annemarie"
      }
     ],
     "container-title": "Migration in Austria",
     "editor": [
      {
       "family": "Rupnow",
       "given": "Dirk"
      },
      {
       "family": "Bischof",
       "given": "Günter"
      }
     ],
     "event-place": "New Orleans",
     "id": "6142573/K2RNGLST",
     "issued": {
      "year": 2017
     },
     "language": "English",
     "number-of-volumes": "26",
     "page": "69–88",
     "page-first": "69",
     "publisher": "University of New Orleans Press",
     "publisher-place": "New Orleans",
     "title": "Migration Patterns in the Late Habsburg Empire",
     "type": "chapter",
     "volume": "Contemproary Austrian Studies"
    },
    "6142573/KAFFLBWQ": {
     "ISBN": "978-3-11-020041-6 978-3-11-020937-2",
     "URL": "https://www.degruyter.com/document/doi/10.1515/9783110209372.6.407/html",
     "accessed": {
      "day": 27,
      "month": 4,
      "year": 2021
     },
     "author": [
      {
       "family": "Bubenhofer",
       "given": "Noah"
      }
     ],
     "collection-editor": [
      {
       "family": "Günthner",
       "given": "Susanne"
      },
      {
       "family": "Konerding",
       "given": "Klaus-Peter"
      },
      {
       "family": "Liebert",
       "given": "Wolf-Andreas"
      },
      {
       "family": "Roelcke",
       "given": "Thorsten"
      }
     ],
     "container-title": "Diskurse berechnen? Wege zu einer korpuslinguistischen Diskursanalyse",
     "editor": [
      {
       "family": "Warnke",
       "given": "Ingo H."
      },
      {
       "family": "Spitzmüller",
       "given": "Jürgen"
      }
     ],
     "event-place": "Berlin, New York",
     "id": "6142573/KAFFLBWQ",
     "issued": {
      "day": 19,
      "month": 8,
      "year": 2008
     },
     "language": "en",
     "note": "Series Title: Linguistik - Impulse & Tendenzen\nDOI: 10.1515/9783110209372.6.407",
     "page": "407-434",
     "page-first": "407",
     "publisher": "Walter de Gruyter",
     "publisher-place": "Berlin, New York",
     "title": "Methods of Discourse Linguistics",
     "type": "chapter",
     "volume": "31"
    },
    "6142573/LAF2DBJT": {
     "DOI": "10.1093/llc/fqy048",
     "URL": "https://academic.oup.com/dsh/article/34/2/368/5127711",
     "accessed": {
      "day": 3,
      "month": 12,
      "year": 2020
     },
     "author": [
      {
       "family": "Koolen",
       "given": "Marijn"
      },
      {
       "family": "van Gorp",
       "given": "Jasmijn"
      },
      {
       "family": "van Ossenbruggen",
       "given": "Jacco"
      }
     ],
     "container-title": "Digital Scholarship in the Humanities",
     "id": "6142573/LAF2DBJT",
     "issue": "2",
     "issued": {
      "day": 1,
      "month": 6,
      "year": 2019
     },
     "language": "en",
     "page": "368-385",
     "page-first": "368",
     "shortTitle": "Toward a model for digital tool criticism",
     "title": "Toward a model for digital tool criticism: Reflection as integrative practice",
     "title-short": "Toward a model for digital tool criticism",
     "type": "article-journal",
     "volume": "34"
    },
    "6142573/LM8L24CE": {
     "DOI": "10.1109/18.61115",
     "abstract": "A novel class of information-theoretic divergence measures based on the Shannon entropy is introduced. Unlike the well-known Kullback divergences, the new measures do not require the condition of absolute continuity to be satisfied by the probability distributions involved. More importantly, their close relationship with the variational distance and the probability of misclassification error are established in terms of bounds. These bounds are crucial in many applications of divergence measures. The measures are also well characterized by the properties of nonnegativity, finiteness, semiboundedness, and boundedness.<>",
     "author": [
      {
       "family": "Lin",
       "given": "J."
      }
     ],
     "container-title": "IEEE Transactions on Information Theory",
     "id": "6142573/LM8L24CE",
     "issue": "1",
     "issued": {
      "month": 1,
      "year": 1991
     },
     "note": "Conference Name: IEEE Transactions on Information Theory",
     "page": "145-151",
     "page-first": "145",
     "title": "Divergence measures based on the Shannon entropy",
     "type": "article-journal",
     "volume": "37"
    },
    "6142573/LVI27PCC": {
     "DOI": "10.1145/1459352.1459355",
     "URL": "https://dl.acm.org/doi/10.1145/1459352.1459355",
     "abstract": "Word sense disambiguation (WSD) is the ability to identify the meaning of words in context in a computational manner. WSD is considered an AI-complete problem, that is, a task whose solution is at least as hard as the most difficult problems in artificial intelligence. We introduce the reader to the motivations for solving the ambiguity of words and provide a description of the task. We overview supervised, unsupervised, and knowledge-based approaches. The assessment of WSD systems is discussed in the context of the Senseval/Semeval campaigns, aiming at the objective evaluation of systems participating in several different disambiguation tasks. Finally, applications, open problems, and future directions are discussed.",
     "accessed": {
      "day": 15,
      "month": 3,
      "year": 2021
     },
     "author": [
      {
       "family": "Navigli",
       "given": "Roberto"
      }
     ],
     "container-title": "ACM Computing Surveys",
     "container-title-short": "ACM Comput. Surv.",
     "id": "6142573/LVI27PCC",
     "issue": "2",
     "issued": {
      "year": 2009
     },
     "journalAbbreviation": "ACM Comput. Surv.",
     "language": "en",
     "page": "1-69",
     "page-first": "1",
     "shortTitle": "Word sense disambiguation",
     "title": "Word sense disambiguation: A survey",
     "title-short": "Word sense disambiguation",
     "type": "article-journal",
     "volume": "41"
    },
    "6142573/N6WP2ZUH": {
     "URL": "/paper/Understanding-Critical-Discourse-Analysis-in-Mogashoa/9f63601020213bdeb08053613d19d476d2009292",
     "abstract": "This article explores critical discourse analysis as a theory in qualitative research. The framework of analysis includes analysis of texts, interactions and social practices at the local, institutional and societal levels. It aims at revealing the motivation and politics involved in the arguing for or against a specific research method, statement, or value. It draws on the necessity for describing, interpreting, analysing, and critiquing social life reflected in text by using critical discourse analysis. The article recognises that Human subjects use texts to make sense of their world and to construct social actions and relations in the labour of everyday life while at the same time, texts position and construct individuals, making available various meanings, ideas and versions of the world (Lucke 1996:12). Drawing from literature, this study will explore programmes, various forms of critical discourse analysis, principles as well as advantages and disadvantages of using this theory in qualitative research.",
     "accessed": {
      "day": 4,
      "month": 5,
      "year": 2021
     },
     "author": [
      {
       "family": "Mogashoa",
       "given": "Tebogo"
      }
     ],
     "id": "6142573/N6WP2ZUH",
     "issued": {
      "year": 2014
     },
     "language": "en",
     "title": "Understanding Critical Discourse Analysis in Qualitative Research",
     "type": "webpage"
    },
    "6142573/NBV4BG2G": {
     "URL": "https://pro.europeana.eu/page/issue-11-generous-interfaces",
     "abstract": "EuropeanaTech Insight is a multimedia publication about R&amp;D developments by the EuropeanaTech Community",
     "accessed": {
      "day": 25,
      "month": 11,
      "year": 2020
     },
     "author": [
      {
       "family": "Oberbichler",
       "given": "Sarah"
      },
      {
       "family": "Pfanzelter",
       "given": "Eva"
      },
      {
       "family": "Hechl",
       "given": "Stefan"
      },
      {
       "family": "Marjanen",
       "given": "J."
      }
     ],
     "container-title": "EuropeanaTech Insight",
     "id": "6142573/NBV4BG2G",
     "issued": {
      "year": 2020
     },
     "language": "en-GB",
     "title": "Doing historical research with digital newspapers - perspectives of DH scholars",
     "type": "article-journal",
     "volume": "16: Newspapers"
    },
    "6142573/NY822LF2": {
     "DOI": "10.14765/ZZF.DOK-1765",
     "URL": "https://zeitgeschichte-digital.de/doks/1765",
     "abstract": "»[…] wenn ›die Quelle‹ die Reliquie historischen Arbeitens ist – nicht nur Überbleibsel, sondern auch Objekt wissenschaftlicher Verehrung –, dann wäre analog ›das Archiv‹ die Kirche der Geschichtswissenschaft, in der die heiligen Handlungen des Suchens, Findens, Entdeckens und Erforschens vollzogen werden.« Achim Landwehr wirft in seinem geschichtstheoretischen Essay den Historikern ihren »Quellenglauben« vor – diese Kritik ließe sich im digitalen Zeitalter leicht auf die Heilsversprechen der Apostel der »Big Data Revolution« übertragen. Zwar regen sich mittlerweile vermehrt Stimmen, die den »Wahnwitz« der digitalen Utopie in Frage stellen, doch wird der öffentliche Diskurs weiterhin von jener Revolutionsrhetorik dominiert, die standardmäßig als Begleitmusik neuer Technologien ertönt. Statt in der intellektuell wenig fruchtbaren Dichotomie von Gegnern und Befürwortern, »First Movers« und Ignoranten zu verharren, welche die Landschaft der »Digital Humanities« ein wenig überspitzt auch heute noch kennzeichnet, ist das Ziel dieses Beitrages eine praxeologische Reflexion, die den Einfluss von digitalen Infrastrukturen, digitalen Werkzeugen und digitalen »Quellen« auf die Praxis historischen Arbeitens zeigen möchte. Ausgehend von der These, dass ebenjene digitalen Infrastrukturen, Werkzeuge und »Quellen« heute einen zentralen Einfluss darauf haben, wie wir Geschichte denken, erforschen und erzählen, plädiert der Beitrag für ein »Update« der klassischen Hermeneutik in der Geschichtswissenschaft. Die kritische Reflexion über die konstitutive Rolle des Digitalen in der Konstruktion und Vermittlung historischen Wissens ist nicht nur eine Frage epistemologischer Dringlichkeit, sondern zentraler Bestandteil der Selbstverständigung eines Faches, dessen Anspruch als Wissenschaft sich auf die Methoden der Quellenkritik gründet.",
     "accessed": {
      "day": 9,
      "month": 7,
      "year": 2020
     },
     "author": [
      {
       "family": "Fickers",
       "given": "Andreas"
      }
     ],
     "container-title": "Zeithistorische Forschungen/Studies in Contemporary History",
     "id": "6142573/NY822LF2",
     "issue": "1",
     "issued": {
      "year": 2020
     },
     "language": "de",
     "page": "157-168",
     "page-first": "157",
     "title": "Update für die Hermeneutik. Geschichtswissenschaft auf dem Weg zur digitalen Forensik?",
     "type": "article-journal",
     "volume": "17"
    },
    "6142573/PBSKPE7S": {
     "author": [
      {
       "family": "Foucault",
       "given": "Michel"
      }
     ],
     "event-place": "London",
     "id": "6142573/PBSKPE7S",
     "issued": {
      "year": 1969
     },
     "publisher": "Routledge",
     "publisher-place": "London",
     "title": "The Archaeology of Knowledge",
     "type": "book"
    },
    "6142573/QA64ENM8": {
     "URL": "https://www.aclweb.org/anthology/L16-1042",
     "abstract": "Web corpora are often constructed automatically, and their contents are therefore often not well understood. One technique for assessing the composition of such a web corpus is to empirically measure its similarity to a reference corpus whose composition is known. In this paper we evaluate a number of measures of corpus similarity, including a method based on topic modelling which has not been previously evaluated for this task. To evaluate these methods we use known-similarity corpora that have been previously used for this purpose, as well as a number of newly-constructed known-similarity corpora targeting differences in genre, topic, time, and region. Our findings indicate that, overall, the topic modelling approach did not improve on a chi-square method that had previously been found to work well for measuring corpus similarity.",
     "accessed": {
      "day": 27,
      "month": 12,
      "year": 2020
     },
     "author": [
      {
       "family": "Fothergill",
       "given": "Richard"
      },
      {
       "family": "Cook",
       "given": "Paul"
      },
      {
       "family": "Baldwin",
       "given": "Timothy"
      }
     ],
     "container-title": "Proceedings of the Tenth International Conference on Language Resources and Evaluation (LREC'16)",
     "event": "LREC 2016",
     "event-place": "Portorož, Slovenia",
     "id": "6142573/QA64ENM8",
     "issued": {
      "month": 5,
      "year": 2016
     },
     "page": "273–279",
     "page-first": "273",
     "publisher": "European Language Resources Association (ELRA)",
     "publisher-place": "Portorož, Slovenia",
     "title": "Evaluating a Topic Modelling Approach to Measuring Corpus Similarity",
     "type": "paper-conference"
    },
    "6142573/QA8I2BAZ": {
     "abstract": "We describe a method for automatic word sense disambiguation using a text corpus and a machine-readable dictionary (MRD). The method is based on word similarity and context similarity measures. Words are considered similar if they appear in similar contexts; contexts are similar if they contain similar words. The circularity of this definition is resolved by an iterative, converging process, in which the system learns from the corpus a set of typical usages for each of the senses of the polysemous word listed in the MRD. A new instance of a polysemous word is assigned the sense associated with the typical usage most similar to its context. Experiments show that this method can learn even from very sparse training data, achieving over 92 % correct disambiguation performance. 1.",
     "author": [
      {
       "family": "Karov",
       "given": "Yael"
      },
      {
       "family": "Edelman",
       "given": "Shimon"
      }
     ],
     "container-title": "Computational Linguistics",
     "id": "6142573/QA8I2BAZ",
     "issued": {
      "year": 1998
     },
     "page": "41–59",
     "page-first": "41",
     "title": "Similarity-based word sense disambiguation",
     "type": "article-journal",
     "volume": "24"
    },
    "6142573/RWUWZF7D": {
     "ISBN": "978-3-205-00702-9",
     "author": [
      {
       "family": "Kürnberger",
       "given": "Ferdinand"
      }
     ],
     "collection-number": "3",
     "collection-title": "Österreichische Bibliothek",
     "event-place": "Wien",
     "id": "6142573/RWUWZF7D",
     "issued": {
      "year": 1985
     },
     "note": "OCLC: 246634489",
     "number-of-pages": "631",
     "publisher": "Böhlau",
     "publisher-place": "Wien",
     "shortTitle": "Der Amerikamüde",
     "title": "Der Amerikamüde",
     "title-short": "Der Amerikamüde",
     "type": "book"
    },
    "6142573/RZWYTHC7": {
     "ISBN": "978-1-85604-694-7",
     "abstract": "This textbook, for students of library and information studies undertaking courses in information retrieval, information organization, information use and knowledge-based systems, explains the theory, techniques and tools of traditional approaches to the organization and processing of information.",
     "author": [
      {
       "family": "Chowdhury",
       "given": "Gobinda G."
      }
     ],
     "id": "6142573/RZWYTHC7",
     "issued": {
      "year": 2010
     },
     "language": "en",
     "note": "Google-Books-ID: cN4qDgAAQBAJ",
     "number-of-pages": "529",
     "publisher": "Facet Publishing",
     "title": "Introduction to Modern Information Retrieval",
     "type": "book"
    },
    "6142573/SC642F4H": {
     "DOI": "10.5121/ijctcm.2015.5301",
     "URL": "http://www.airccse.org/journal/ijctcm/papers/5315ijctcm01.pdf",
     "accessed": {
      "day": 6,
      "month": 5,
      "year": 2021
     },
     "author": [
      {
       "family": "Ranjan Pal",
       "given": "Alok"
      },
      {
       "family": "Saha",
       "given": "Diganta"
      }
     ],
     "container-title": "International Journal of Control Theory and Computer Modeling",
     "container-title-short": "IJCTCM",
     "id": "6142573/SC642F4H",
     "issue": "3",
     "issued": {
      "day": 31,
      "month": 7,
      "year": 2015
     },
     "journalAbbreviation": "IJCTCM",
     "page": "1-16",
     "page-first": "1",
     "shortTitle": "Word Sense Disambiguation",
     "title": "Word Sense Disambiguation: A Survey",
     "title-short": "Word Sense Disambiguation",
     "type": "article-journal",
     "volume": "5"
    },
    "6142573/SCBME2FU": {
     "DOI": "10.26615/978-954-452-056-4_159",
     "URL": "https://www.aclweb.org/anthology/R19-1159",
     "abstract": "Dynamic topic models (DTMs) capture the evolution of topics and trends in time series data.Current DTMs are applicable only to monolingual datasets. In this paper we present the multilingual dynamic topic model (ML-DTM), a novel topic model that combines DTM with an existing multilingual topic modeling method to capture cross-lingual topics that evolve across time. We present results of this model on a parallel German-English corpus of news articles and a comparable corpus of Finnish and Swedish news articles. We demonstrate the capability of ML-DTM to track significant events related to a topic and show that it finds distinct topics and performs as well as existing multilingual topic models in aligning cross-lingual topics.",
     "accessed": {
      "day": 28,
      "month": 1,
      "year": 2021
     },
     "author": [
      {
       "family": "Zosa",
       "given": "Elaine"
      },
      {
       "family": "Granroth-Wilding",
       "given": "Mark"
      }
     ],
     "container-title": "Proceedings of the International Conference on Recent Advances in Natural Language Processing (RANLP 2019)",
     "event": "RANLP 2019",
     "event-place": "Varna, Bulgaria",
     "id": "6142573/SCBME2FU",
     "issued": {
      "month": 9,
      "year": 2019
     },
     "page": "1388–1396",
     "page-first": "1388",
     "publisher": "INCOMA Ltd.",
     "publisher-place": "Varna, Bulgaria",
     "title": "Multilingual Dynamic Topic Model",
     "type": "paper-conference"
    },
    "6142573/TTCX55K3": {
     "URL": "https://eprints.lancs.ac.uk/id/eprint/528/",
     "abstract": "This paper proposes an accessible measure of the relevance of additional terms to a given query, describes and comments on the steps leading to its develop-ment, and discusses its utility. The measure, termed relative query term rele-vance (RQTR), draws on techniques used in information retrieval, and can becombined with a technique used in creating corpora from the world wide web,namely keyword analysis. It is independent of reference corpora, and does notrequire knowledge of the number of (relevant) documents in the database. Although it does not make use of user/expert judgements of document relevance,it does allow for subjective decisions. However, subjective decisions are triangu-lated against two objective indicators: keyness and, mainly, RQTR.",
     "accessed": {
      "day": 19,
      "month": 11,
      "year": 2020
     },
     "author": [
      {
       "family": "Gabrielatos",
       "given": "Costas"
      }
     ],
     "container-title": "ICAME Journal",
     "id": "6142573/TTCX55K3",
     "issued": {
      "month": 4,
      "year": 2007
     },
     "language": "en",
     "page": "5-44",
     "page-first": "5",
     "title": "Selecting query terms to build a specialised corpus from a restricted-access database.",
     "type": "article-journal",
     "volume": "31"
    },
    "6142573/U48CR9BT": {
     "DOI": "10.1016/j.artint.2019.103215",
     "URL": "https://www.sciencedirect.com/science/article/pii/S0004370218307021",
     "abstract": "Word Sense Disambiguation (WSD) is the task of associating the correct meaning with a word in a given context. WSD provides explicit semantic information that is beneficial to several downstream applications, such as question answering, semantic parsing and hypernym extraction. Unfortunately, WSD suffers from the well-known knowledge acquisition bottleneck problem: it is very expensive, in terms of both time and money, to acquire semantic annotations for a large number of sentences. To address this blocking issue we present Train-O-Matic, a knowledge-based and language-independent approach that is able to provide millions of training instances annotated automatically with word meanings. The approach is fully automatic, i.e., no human intervention is required, and the only type of human knowledge used is a task-independent WordNet-like resource. Moreover, as the sense distribution in the training set is pivotal to boosting the performance of WSD systems, we also present two unsupervised and language-independent methods that automatically induce a sense distribution when given a simple corpus of sentences. We show that, when the learned distributions are taken into account for generating the training sets, the performance of supervised methods is further enhanced. Experiments have proven that Train-O-Matic on its own, and also coupled with word sense distribution learning methods, lead a supervised system to achieve state-of-the-art performance consistently across gold standard datasets and languages. Importantly, we show how our sense distribution learning techniques aid Train-O-Matic to scale well over domains, without any extra human effort. To encourage future research, we release all the training sets in 5 different languages and the sense distributions for each domain of SemEval-13 and SemEval-15 at http://trainomatic.org.",
     "accessed": {
      "day": 3,
      "month": 4,
      "year": 2021
     },
     "author": [
      {
       "family": "Pasini",
       "given": "Tommaso"
      },
      {
       "family": "Navigli",
       "given": "Roberto"
      }
     ],
     "container-title": "Artificial Intelligence",
     "container-title-short": "Artificial Intelligence",
     "id": "6142573/U48CR9BT",
     "issued": {
      "day": 1,
      "month": 2,
      "year": 2020
     },
     "journalAbbreviation": "Artificial Intelligence",
     "language": "en",
     "page": "103215",
     "page-first": "103215",
     "shortTitle": "Train-O-Matic",
     "title": "Train-O-Matic: Supervised Word Sense Disambiguation with no (manual) effort",
     "title-short": "Train-O-Matic",
     "type": "article-journal",
     "volume": "279"
    },
    "6142573/VJ7HSBUL": {
     "ISBN": "978-3-7728-0676-6",
     "author": [
      {
       "family": "Leyh",
       "given": "Peter"
      }
     ],
     "event-place": "Stuttgart-Bad Cannstatt",
     "id": "6142573/VJ7HSBUL",
     "issued": {
      "year": 1977
     },
     "language": "de",
     "note": "OCLC: 256305642",
     "number-of-pages": "532",
     "publisher-place": "Stuttgart-Bad Cannstatt",
     "shortTitle": "Historik. Bd. 1",
     "title": "Johann Gustav Droysen: Historik. Bd. 1: Rekonstruktion der ersten vollständigen Fassung der Vorlesungen (1857). Grundriß der Historik in der ersten handschriftlichen (1857/58) und in der letzten gedruckten Fassung (1882)",
     "title-short": "Historik. Bd. 1",
     "type": "book"
    },
    "6142573/VJZ89VCM": {
     "URL": "http://arxiv.org/abs/2011.10428",
     "abstract": "This paper addresses methodological issues in diachronic data analysis for historical research. We apply two families of topic models (LDA and DTM) on a relatively large set of historical newspapers, with the aim of capturing and understanding discourse dynamics. Our case study focuses on newspapers and periodicals published in Finland between 1854 and 1917, but our method can easily be transposed to any diachronic data. Our main contributions are a) a combined sampling, training and inference procedure for applying topic models to huge and imbalanced diachronic text collections; b) a discussion on the differences between two topic models for this type of data; c) quantifying topic prominence for a period and thus a generalization of document-wise topic assignment to a discourse level; and d) a discussion of the role of humanistic interpretation with regard to analysing discourse dynamics through topic models.",
     "accessed": {
      "day": 28,
      "month": 4,
      "year": 2021
     },
     "author": [
      {
       "family": "Marjanen",
       "given": "Jani"
      },
      {
       "family": "Zosa",
       "given": "Elaine"
      },
      {
       "family": "Hengchen",
       "given": "Simon"
      },
      {
       "family": "Pivovarova",
       "given": "Lidia"
      },
      {
       "family": "Tolonen",
       "given": "Mikko"
      }
     ],
     "container-title": "arXiv:2011.10428 [cs]",
     "id": "6142573/VJZ89VCM",
     "issued": {
      "day": 20,
      "month": 11,
      "year": 2020
     },
     "note": "arXiv: 2011.10428",
     "title": "Topic modelling discourse dynamics in historical newspapers",
     "type": "article-journal"
    },
    "6142573/VPCBKFBD": {
     "abstract": "We describe latent Dirichlet allocation (LDA), a generative probabilistic model for collections of discrete data such as text corpora. LDA is a three-level hierarchical Bayesian model, in which each item of a collection is modeled as a finite mixture over an underlying set of topics. Each topic is, in turn, modeled as an infinite mixture over an underlying set of topic probabilities. In the context of text modeling, the topic probabilities provide an explicit representation of a document. We present efficient approximate inference techniques based on variational methods and an EM algorithm for empirical Bayes parameter estimation. We report results in document modeling, text classification, and collaborative filtering, comparing to a mixture of unigrams model and the probabilistic LSI model.",
     "author": [
      {
       "family": "Blei",
       "given": "David M."
      },
      {
       "family": "Ng",
       "given": "Andrew Y."
      },
      {
       "family": "Jordan",
       "given": "Michael I."
      }
     ],
     "container-title": "The Journal of Machine Learning Research",
     "container-title-short": "J. Mach. Learn. Res.",
     "id": "6142573/VPCBKFBD",
     "issued": {
      "day": 1,
      "month": 3,
      "year": 2003
     },
     "journalAbbreviation": "J. Mach. Learn. Res.",
     "page": "993–1022",
     "page-first": "993",
     "title": "Latent dirichlet allocation",
     "type": "article-journal",
     "volume": "3"
    },
    "6142573/WLBLU3DX": {
     "URL": "https://www.aclweb.org/anthology/D07-1109",
     "accessed": {
      "day": 28,
      "month": 4,
      "year": 2021
     },
     "author": [
      {
       "family": "Boyd-Graber",
       "given": "Jordan"
      },
      {
       "family": "Blei",
       "given": "David"
      },
      {
       "family": "Zhu",
       "given": "Xiaojin"
      }
     ],
     "container-title": "Proceedings of the 2007 Joint Conference on Empirical Methods in Natural Language Processing and Computational Natural Language Learning (EMNLP-CoNLL)",
     "event": "CoNLL-EMNLP 2007",
     "event-place": "Prague, Czech Republic",
     "id": "6142573/WLBLU3DX",
     "issued": {
      "month": 6,
      "year": 2007
     },
     "page": "1024–1033",
     "page-first": "1024",
     "publisher": "Association for Computational Linguistics",
     "publisher-place": "Prague, Czech Republic",
     "title": "A Topic Model for Word Sense Disambiguation",
     "type": "paper-conference"
    },
    "6142573/WSN56ZDB": {
     "DOI": "10.3115/979617.979625",
     "URL": "http://portal.acm.org/citation.cfm?doid=979617.979625",
     "accessed": {
      "day": 29,
      "month": 4,
      "year": 2021
     },
     "author": [
      {
       "family": "Dagan",
       "given": "Ido"
      },
      {
       "family": "Lee",
       "given": "Lillian"
      },
      {
       "family": "Pereira",
       "given": "Fernando"
      }
     ],
     "container-title": "Proceedings of the eighth conference on European chapter of the Association for Computational Linguistics",
     "event": "the eighth conference",
     "event-place": "Madrid, Spain",
     "id": "6142573/WSN56ZDB",
     "issued": {
      "year": 1997
     },
     "language": "en",
     "page": "56-63",
     "page-first": "56",
     "publisher": "Association for Computational Linguistics",
     "publisher-place": "Madrid, Spain",
     "title": "Similarity-based methods for word sense disambiguation",
     "type": "paper-conference"
    },
    "6142573/X8HTUPMY": {
     "ISBN": "978-3-8467-4432-1 978-3-7705-4432-5",
     "URL": "https://www.fink.de/view/book/edcoll/9783846744321/B9783846744321-s009.xml",
     "accessed": {
      "day": 2,
      "month": 12,
      "year": 2020
     },
     "author": [
      {
       "family": "Busse",
       "given": "Dietrich"
      }
     ],
     "container-title": "Diskurse der Personalität",
     "editor": [
      {
       "family": "Plotnikov",
       "given": "Nikolaj"
      },
      {
       "family": "Haardt",
       "given": "Alexander"
      }
     ],
     "id": "6142573/X8HTUPMY",
     "issued": {
      "day": 1,
      "month": 1,
      "year": 2008
     },
     "note": "DOI: 10.30965/9783846744321_009",
     "page": "115-142",
     "page-first": "115",
     "publisher": "Wilhelm Fink Verlag",
     "title": "Begriffsgeschichte – Diskursgeschichte – Linguistische Epistemologie. Bemerkungen zu den theoretischen und methodischen Grundlagen einer Historischen Semantik in philosophischem Interesse anlässlich einer Philosophie der ‚Person‘",
     "type": "chapter"
    },
    "6142573/Y4CJJ4XN": {
     "DOI": "10.1023/A:1007537716579",
     "URL": "https://doi.org/10.1023/A:1007537716579",
     "abstract": "In many applications of natural language processing (NLP) it is necessary to determine the likelihood of a given word combination. For example, a speech recognizer may need to determine which of the two word combinations “eat a peach” and ”eat a beach” is more likely. Statistical NLP methods determine the likelihood of a word combination from its frequency in a training corpus. However, the nature of language is such that many word combinations are infrequent and do not occur in any given corpus. In this work we propose a method for estimating the probability of such previously unseen word combinations using available information on “most similar” words.",
     "accessed": {
      "day": 29,
      "month": 4,
      "year": 2021
     },
     "author": [
      {
       "family": "Dagan",
       "given": "Ido"
      },
      {
       "family": "Lee",
       "given": "Lillian"
      },
      {
       "family": "Pereira",
       "given": "Fernando C. N."
      }
     ],
     "container-title": "Machine Learning",
     "container-title-short": "Machine Learning",
     "id": "6142573/Y4CJJ4XN",
     "issue": "1",
     "issued": {
      "day": 1,
      "month": 2,
      "year": 1999
     },
     "journalAbbreviation": "Machine Learning",
     "language": "en",
     "page": "43-69",
     "page-first": "43",
     "title": "Similarity-Based Models of Word Cooccurrence Probabilities",
     "type": "article-journal",
     "volume": "34"
    },
    "6142573/YGUFHGJK": {
     "ISBN": "978-1-315-83436-8 978-1-4058-5822-9 978-1-317-86465-3",
     "URL": "http://dx.doi.org/10.4324/9781315834368",
     "accessed": {
      "day": 7,
      "month": 12,
      "year": 2020
     },
     "author": [
      {
       "family": "Fairclough",
       "given": "Norman"
      }
     ],
     "edition": "Second Editon",
     "event-place": "New York",
     "id": "6142573/YGUFHGJK",
     "issued": {
      "year": 2013
     },
     "language": "English",
     "note": "OCLC: 1167313756",
     "publisher": "Routledge",
     "publisher-place": "New York",
     "shortTitle": "Critical discourse analysis",
     "title": "Critical discourse analysis: the critical study of language",
     "title-short": "Critical discourse analysis",
     "type": "book"
    },
    "6142573/YJ6WDMIM": {
     "abstract": "Corpus comparison techniques are often used to compare different types of online media, for example social media posts and news articles. Most corpus comparison algorithms operate at a word-level and results are shown as lists of individual discriminating words which makes identifying larger underlying differences between corpora challenging. Most corpus comparison techniques also work on pairs of corpora and do need easily extend to multiple corpora. To counter these issues, we introduce Multi-corpus Topic-based Corpus Comparison (MTCC) a corpus comparison approach that works at a topic level and that can compare multiple corpora at once. Experiments on multiple real-world datasets are carried demonstrate the effectiveness of MTCC and compare the usefulness of different statistical discrimination metrics - the χ2 and Jensen-Shannon Divergence metrics are shown to work well. Finally we demonstrate the usefulness of reporting corpus comparison results via topics rather than individual words. Overall we show that the topic-level MTCC approach can capture the difference between multiple corpora, and show the results in a more meaningful and interpretable way than approaches that operate at a word-level.",
     "author": [
      {
       "family": "Lu",
       "given": "Jinghui"
      },
      {
       "family": "Henchion",
       "given": "Maeve"
      },
      {
       "family": "Namee",
       "given": "Brian Mac"
      }
     ],
     "container-title": "Proceedings for the 27th AIAI Irish Conference on Artificial Intelligence and Cognitive Science",
     "event": "28th Irish Conference on Artificial Intelligence and Cognitive Science",
     "event-place": "Galway",
     "id": "6142573/YJ6WDMIM",
     "issued": {
      "year": 2019
     },
     "language": "en",
     "page": "64-75",
     "page-first": "64",
     "publisher": "CEUR-WS.org",
     "title": "A Topic-Based Approach to Multiple Corpus Comparison",
     "type": "article-journal"
    },
    "6142573/YKNUBLK6": {
     "abstract": "'Die Entwicklung von Theorien und Typisierungen zum Thema Rückkehrmigration spiegeln die historischen Entwicklungen im vergangenen Jahrhundert wider. Lange Zeit nicht auf der wissenschaftlichen Agenda, setzte in Deutschland eine intensive Beschäftigung mit dem Thema erst in den 1970er Jahren ein. Geographische, soziologische, politikwissenschaftliche und volkswirtschaftliche Ansätze setzen dabei unterschiedliche Schwerpunkte. Neben der Frage nach den Motiven für oder gegen eine Rückkehr sowie der Frage nach dem (optimalen) Zeitpunkt können die Reintegration der Rückkehrer oder deren Einflüsse auf das Heimatland im Mittelpunkt der Analyse stehen. Die folgende Systematisierung dient zum einem dem Ziel, einen Überblick über die Entwicklung der Theorieansätze zu geben. Zum anderen soll herausgearbeitet werden, in welchem Umfang die verschiedenen Ansätze den unterschiedlichen Remigrantentypen sowie den relevanten Forschungsfragen gerecht werden können.' (Autorenreferat)",
     "author": [
      {
       "family": "Currle",
       "given": "Edda"
      }
     ],
     "container-title": "Sozialwissenschaftlicher Fachinformationsdienst",
     "id": "6142573/YKNUBLK6",
     "issue": "2",
     "issued": {
      "year": 2006
     },
     "language": "de",
     "note": "Series Title: Migration und ethnische Minderheiten",
     "page": "7-23",
     "page-first": "7",
     "title": "Theorieansätze zur Erklärung von Rückkehr und Remigration",
     "type": "article-journal"
    },
    "6142573/YQFJLI5C": {
     "URL": "https://github.com/soberbichler/Text_classification_of_newspaper_clippings",
     "abstract": "Text classification for topic-specific newspaper collections",
     "accessed": {
      "day": 3,
      "month": 5,
      "year": 2021
     },
     "author": [
      {
       "family": "Oberbichler",
       "given": "Sarah"
      }
     ],
     "id": "6142573/YQFJLI5C",
     "issued": {
      "day": 22,
      "month": 4,
      "year": 2021
     },
     "note": "original-date: 2020-07-05T16:55:27Z",
     "title": "Text classification of newspaper clippings",
     "type": "book"
    },
    "undefined": {
     "URL": "http://edoc.unibas.ch/diss/DissB_12621",
     "abstract": "Der Autor geht der Frage nach, wie sich die historische Quellenkritik durch die Verwendung von digitalen Objekten als Forschungsressource sowie digitalen Informations- und Kommunikationsmedien verändert. Da digitale Objekte neue und bisher nicht bekannte Eigenschaften aufweisen und sich von bisher bekannten Objekten unterscheiden, wird der gesamten Prozess der historisch-kritischen Methode und insbesondere die Quellenkritik als deren Hauptprozessschritt hinterfragt und angepasst. Dafür werden Methoden aus der Informationstechnik beigezogen, denn nur mit diesen lassen sich diese neuartigen Forschungsressourcen, die auch neue Quellentypen und -gattungen sowie Funktionen hervorbringen, vollständig untersuchen. Für die sich neu stellenden Probleme im Umgang mit digitalen Objekten werden Lösungsvorschläge präsentiert, die Anpassungen an der Arbeitsweise von (Geschichts-)Wissenschaftlern und die Schaffung von informationstechnischen Infrastrukturen betreffen.",
     "accessed": {
      "day": 10,
      "month": 12,
      "year": 2020
     },
     "author": [
      {
       "family": "Föhr",
       "given": "Pascal"
      }
     ],
     "genre": "Thesis",
     "id": "undefined",
     "issued": {
      "year": 2017
     },
     "language": "deu",
     "note": "DOI: 10.5451/unibas-006805169",
     "number-of-pages": "1 Online-Ressource (VIII, 339 Seiten)",
     "publisher": "University of Basel",
     "title": "Historische Quellenkritik im Digitalen Zeitalter",
     "type": "thesis"
    }
   }
  },
  "kernelspec": {
   "display_name": "Python 3",
   "language": "python",
   "name": "python3"
  },
  "language_info": {
   "codemirror_mode": {
    "name": "ipython",
    "version": 3
   },
   "file_extension": ".py",
   "mimetype": "text/x-python",
   "name": "python",
   "nbconvert_exporter": "python",
   "pygments_lexer": "ipython3",
   "version": "3.7.4"
  }
 },
 "nbformat": 4,
 "nbformat_minor": 2
}
